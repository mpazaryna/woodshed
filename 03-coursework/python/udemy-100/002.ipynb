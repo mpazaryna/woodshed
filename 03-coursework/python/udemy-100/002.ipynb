{
 "cells": [
  {
   "cell_type": "markdown",
   "metadata": {},
   "source": [
    "# Remaining days, weeks and months calculator"
   ]
  },
  {
   "cell_type": "code",
   "execution_count": null,
   "metadata": {},
   "outputs": [],
   "source": [
    "age = input(\"What is your current age? \")\n",
    "remain = 85 - int(age)\n",
    "print(\n",
    "    f\"You have {remain * 365} days, {remain * 52} weeks, and {remain * 12} months left.\"\n",
    ")"
   ]
  },
  {
   "cell_type": "code",
   "execution_count": 4,
   "metadata": {},
   "outputs": [],
   "source": [
    "# based on having a life that spans 90 years:\n",
    "def life_in_weeks(age):\n",
    "    age_as_int = int(age)\n",
    "    years_remaining = 90 - age_as_int\n",
    "    days_remaining = years_remaining * 365\n",
    "    weeks_remaining = years_remaining * 52\n",
    "    months_remaining = years_remaining * 12\n",
    "    return [years_remaining, days_remaining, weeks_remaining, months_remaining]"
   ]
  },
  {
   "cell_type": "code",
   "execution_count": null,
   "metadata": {},
   "outputs": [],
   "source": [
    "age = input(\"What is your current age? \")\n",
    "z = life_in_weeks(age)\n",
    "print(f\"You have {z[0]} years, {z[1]} days, {z[2]} weeks, and {z[3]} months left.\")\n",
    "\n"
   ]
  },
  {
   "cell_type": "code",
   "execution_count": null,
   "metadata": {},
   "outputs": [],
   "source": [
    "# Tip calculator original\n",
    "\n",
    "total_bill = input(\"Total bill: \")\n",
    "tip = input(\"What is the tip percentage 10, 12 or 15? \")\n",
    "customers = input(\"What is the number of people? \")\n",
    "\n",
    "bill = float(total_bill)\n",
    "tip_percent = float(tip) / 100\n",
    "people = int(customers)\n",
    "amount_per_person = (bill + bill * tip_percent) / people\n",
    "final_amount = \"{:.2f}\".format(amount_per_person)\n",
    "\n",
    "print(f\"Each person should pay: ${final_amount}\")"
   ]
  },
  {
   "cell_type": "markdown",
   "metadata": {},
   "source": [
    "# Tip calculator refactored"
   ]
  },
  {
   "cell_type": "code",
   "execution_count": null,
   "metadata": {},
   "outputs": [],
   "source": [
    "def calculate_amount_per_person(total_bill, tip_percentage, num_of_people):\n",
    "    bill = float(total_bill)\n",
    "    tip_percent = float(tip_percentage) / 100\n",
    "    people = int(num_of_people)\n",
    "    amount_per_person = (bill + bill * tip_percent) / people\n",
    "    final_amount = \"{:.2f}\".format(amount_per_person)\n",
    "    return final_amount\n",
    "\n",
    "def main():\n",
    "    total_bill = input(\"Total bill: \")\n",
    "    tip_percentage = input(\"What is the tip percentage 10, 12 or 15? \")\n",
    "    num_of_people = input(\"What is the number of people? \")\n",
    "\n",
    "    final_amount = calculate_amount_per_person(\n",
    "        total_bill, tip_percentage, num_of_people\n",
    "    )\n",
    "\n",
    "    print(f\"Each person should pay: ${final_amount}\")\n",
    "\n",
    "if __name__ == \"__main__\":\n",
    "    main()"
   ]
  }
 ],
 "metadata": {
  "kernelspec": {
   "display_name": "Python 3",
   "language": "python",
   "name": "python3"
  },
  "language_info": {
   "codemirror_mode": {
    "name": "ipython",
    "version": 3
   },
   "file_extension": ".py",
   "mimetype": "text/x-python",
   "name": "python",
   "nbconvert_exporter": "python",
   "pygments_lexer": "ipython3",
   "version": "3.11.3"
  },
  "orig_nbformat": 4
 },
 "nbformat": 4,
 "nbformat_minor": 2
}
