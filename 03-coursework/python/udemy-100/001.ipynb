{
 "cells": [
  {
   "cell_type": "code",
   "execution_count": null,
   "metadata": {},
   "outputs": [],
   "source": [
    "def greet():\n",
    "    \"\"\"Prints multiple hello messages.\"\"\"\n",
    "    print(\"hello, world\\nhello\\nhello to you too\")\n",
    "\n",
    "\n",
    "def concatenate_hello():\n",
    "    \"\"\"Concatenates and prints \"hello\" and \"world\".\"\"\"\n",
    "    print(\"hello\" + \" \" + \"world\")\n",
    "\n",
    "\n",
    "def get_name():\n",
    "    \"\"\"Asks user for their name and returns it.\"\"\"\n",
    "    x = input(\"Enter your name: \")\n",
    "    return x\n",
    "\n",
    "\n",
    "def greet_user(name):\n",
    "    \"\"\"Greets the user with their name.\"\"\"\n",
    "    print(\"Hello, \" + name)\n",
    "\n",
    "\n",
    "def name_length(name):\n",
    "    \"\"\"Prints the number of characters in the user's name.\"\"\"\n",
    "    y = len(name)\n",
    "    print(\"Your name has \" + str(y) + \" characters\")\n",
    "\n",
    "\n",
    "def main():\n",
    "    \"\"\"Main function to execute all other functions.\"\"\"\n",
    "    greet()\n",
    "    concatenate_hello()\n",
    "    name = get_name()\n",
    "    greet_user(name)\n",
    "    name_length(name)\n",
    "\n",
    "\n",
    "# Call the main function to execute the code.\n",
    "if __name__ == \"__main__\":\n",
    "    main()\n"
   ]
  },
  {
   "cell_type": "markdown",
   "metadata": {},
   "source": [
    "## Band Name Generator\n",
    "\n",
    "1. Create a greeting for your program.\n",
    "2. Ask the user for the city that they grew up in.\n",
    "3. Ask the user for the name of a pet.\n",
    "4. Combine the name of their city and pet and show them their band name.\n",
    "5. Make sure the input cursor shows on a new line"
   ]
  },
  {
   "cell_type": "code",
   "execution_count": null,
   "metadata": {},
   "outputs": [],
   "source": [
    "# Get the city\n",
    "def get_city():\n",
    "    city = input(\"\\nPlease enter the city you grew up in: \")\n",
    "    return city\n",
    "\n",
    "# Get the pet name\n",
    "def get_pet():\n",
    "    pet = input(\"Please enter the name of a pet: \")\n",
    "    return pet\n",
    "\n",
    "# Combine the city and pet name to generate a band name.\n",
    "def generate_band_name(city, pet):\n",
    "    return city + \" \" + pet\n",
    "\n",
    "print(\"Welcome to the Band Name Generator!\")\n",
    "\n",
    "# Get the city and pet name.\n",
    "city = get_city()\n",
    "pet = get_pet()\n",
    "\n",
    "# Generate and print the band name.\n",
    "band_name = generate_band_name(city, pet)\n",
    "print(f\"\\nYour band name is: {band_name}\")"
   ]
  }
 ],
 "metadata": {
  "kernelspec": {
   "display_name": "Python 3",
   "language": "python",
   "name": "python3"
  },
  "language_info": {
   "codemirror_mode": {
    "name": "ipython",
    "version": 3
   },
   "file_extension": ".py",
   "mimetype": "text/x-python",
   "name": "python",
   "nbconvert_exporter": "python",
   "pygments_lexer": "ipython3",
   "version": "3.11.3"
  },
  "orig_nbformat": 4
 },
 "nbformat": 4,
 "nbformat_minor": 2
}
