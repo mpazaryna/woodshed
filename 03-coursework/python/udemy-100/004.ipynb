{
 "cells": [
  {
   "cell_type": "markdown",
   "metadata": {},
   "source": [
    "# Randomization and Python Lists\n",
    "\n",
    "## Randomization\n",
    "\n",
    "In Python, the `random` module provides various functions that enable you to generate random numbers. This is particularly useful in various applications such as simulations, games, and more. For instance, `random.randint(a, b)` returns a random integer between \\(a\\) and \\(b\\) (inclusive), and `random.choice(list)` selects a random item from the given list. To use these functions, you first need to import the `random` module.\n",
    "\n",
    "## Python Lists\n",
    "\n",
    "Lists are one of Python's built-in data structures used to store multiple items in a single variable. Lists are ordered, changeable, and allow duplicate items. They are created by placing all the items (elements) inside square brackets `[]`, separated by commas. For instance, `fruits = [\"apple\", \"banana\", \"cherry\"]` creates a list of fruits. Lists support various methods like `append()`, `remove()`, and `pop()` to manipulate the data. They can also be indexed, sliced, and looped through using loops.\n",
    "\n",
    "## Combining Randomization and Lists\n",
    "\n",
    "When combined, randomization and lists can be powerful. For example, you can shuffle a list using `random.shuffle(list)`, or select a random item from a list as mentioned before. This combination is commonly seen in applications like card games where you might want to shuffle a deck or select a random card. By understanding and mastering these two concepts, you can add a lot of variability and dynamism to your Python programs.\n"
   ]
  },
  {
   "cell_type": "code",
   "execution_count": null,
   "metadata": {},
   "outputs": [],
   "source": [
    "import random\n",
    "\n",
    "random_integer = random.randint(1, 10)\n",
    "print(random_integer)\n"
   ]
  },
  {
   "cell_type": "code",
   "execution_count": null,
   "metadata": {},
   "outputs": [],
   "source": [
    "import random\n",
    "\n",
    "random_float = random.random()\n",
    "print(random_float)\n"
   ]
  },
  {
   "cell_type": "code",
   "execution_count": null,
   "metadata": {},
   "outputs": [],
   "source": [
    "# virtual toin coss\n",
    "\n",
    "import random\n",
    "random_side = random.randint(0, 1)\n",
    "if random_side == 1:\n",
    "  print(\"Heads\")\n",
    "else:\n",
    "    print(\"Tails\")"
   ]
  },
  {
   "cell_type": "markdown",
   "metadata": {},
   "source": [
    "# Python List\n",
    "\n",
    "A python list is a data structure, a way of organizing and storing grouped data. For example, all the names of the states in the US, or all of the countries in the EU.\n",
    "\n",
    "```py\n",
    "fruits = [item1, item2]\n",
    "```"
   ]
  },
  {
   "cell_type": "code",
   "execution_count": null,
   "metadata": {},
   "outputs": [],
   "source": [
    "states_of_america = [\"Delaware\", \"Alaska\", \"New York\", \"Texas\", \"California\", \"Florida\", \"Hawaii\"]\n",
    "print(states_of_america)\n",
    "print(states_of_america[0])\n",
    "print(states_of_america[-1])\n",
    "print(states_of_america[-2])\n",
    "states_of_america[1] = \"Alaskaland\"\n",
    "states_of_america.append(\"Pazland\")\n",
    "states_of_america.extend([\"Angelland\", \"Jackland\"])\n",
    "print(states_of_america[1])\n",
    "print(states_of_america)\n"
   ]
  },
  {
   "cell_type": "markdown",
   "metadata": {},
   "source": [
    "Selecting a random name from a user supplied list\n",
    "\n",
    "Robert, Glenn, Howard, Jim, Rand, Paz, Aaron, Mark, Lib"
   ]
  },
  {
   "cell_type": "code",
   "execution_count": 7,
   "metadata": {},
   "outputs": [
    {
     "name": "stdout",
     "output_type": "stream",
     "text": [
      "Aaron is going to buy the meal today!\n"
     ]
    }
   ],
   "source": [
    "\n",
    "import random\n",
    "\n",
    "\n",
    "names_string = input(\"Give me everybody's names, separated by a comma. \")\n",
    "names = names_string.split(\", \")\n",
    "names_length = len(names)\n",
    "random_name = random.randint(0, names_length - 1)\n",
    "v = (names[random_name])\n",
    "print(f\"{v} is going to buy the meal today!\")\n"
   ]
  },
  {
   "cell_type": "code",
   "execution_count": null,
   "metadata": {},
   "outputs": [],
   "source": [
    "fruits = [\"Strawberries\", \"Nectarines\", \"Apples\", \"Grapes\", \"Peaches\", \"Cherries\", \"Pears\"]\n",
    "vegetables = [\"Spinach\", \"Kale\", \"Tomatoes\", \"Celery\", \"Potatoes\"]\n",
    "\n",
    "dirty_dozen = [fruits, vegetables]\n",
    "print(dirty_dozen[1][1])\n",
    "print(dirty_dozen)"
   ]
  },
  {
   "cell_type": "code",
   "execution_count": null,
   "metadata": {},
   "outputs": [],
   "source": [
    "# Treasure Map  \n",
    "line1 = [\"⬜️\",\"️⬜️\",\"️⬜️\"]\n",
    "line2 = [\"⬜️\",\"️⬜️\",\"️⬜️\"]\n",
    "line3 = [\"⬜️\",\"️⬜️\",\"️⬜️\"]\n",
    "map = [line1, line2, line3]\n",
    "print(f\"{line1}\\n{line2}\\n{line3}\")\n",
    "position = input(\"Where do you want to put the treasure? \")\n",
    "# your code below   \n",
    "letter = position[0].lower()\n",
    "abc = [\"a\", \"b\", \"c\"]\n",
    "letter_index = abc.index(letter)\n",
    "number_index = int(position[1]) - 1\n",
    "map[number_index][letter_index] = \"x\"\n",
    "print(f\"{line1}\\n{line2}\\n{line3}\")\n"
   ]
  },
  {
   "cell_type": "code",
   "execution_count": 17,
   "metadata": {},
   "outputs": [
    {
     "name": "stdout",
     "output_type": "stream",
     "text": [
      "\n",
      "    _______\n",
      "---'   ____)\n",
      "      (_____)\n",
      "      (_____)\n",
      "      (____)\n",
      "---.__(___)\n",
      "\n",
      "Computer chose\n",
      "\n",
      "    _______\n",
      "---'   ____)____\n",
      "          ______)\n",
      "       __________)\n",
      "      (____)\n",
      "---.__(___)\n",
      "\n",
      "You win\n"
     ]
    }
   ],
   "source": [
    "# rock paper scissors\n",
    "\n",
    "rock = '''\n",
    "    _______\n",
    "---'   ____)\n",
    "      (_____)\n",
    "      (_____)\n",
    "      (____)\n",
    "---.__(___)\n",
    "'''\n",
    "\n",
    "paper = '''\n",
    "    _______\n",
    "---'   ____)____\n",
    "          ______)\n",
    "          _______)\n",
    "         _______)\n",
    "---.__________)\n",
    "'''\n",
    "\n",
    "scissors = '''\n",
    "    _______\n",
    "---'   ____)____\n",
    "          ______)\n",
    "       __________)\n",
    "      (____)\n",
    "---.__(___)\n",
    "'''\n",
    "\n",
    "import random\n",
    "game_images = [rock, paper, scissors]\n",
    "\n",
    "user_choice = int(input(\"what do you choose? Type 0 for Rock, 1 for Paper or 2 for Scissors.\\n\"))\n",
    "print(game_images[user_choice])\n",
    "\n",
    "computer_choice = random.randint(0, 2)\n",
    "\n",
    "print(\"Computer chose\")\n",
    "print(game_images[computer_choice])\n",
    "\n",
    "if user_choice >= 3 or user_choice < 0:\n",
    "    print(\"you typed an invalid number, you lose\")\n",
    "elif user_choice == 0 and computer_choice == 2:\n",
    "    print(\"You win\")\n",
    "elif computer_choice == 0 and user_choice == 2:\n",
    "    print(\"You lose\")\n",
    "elif computer_choice > user_choice:\n",
    "  print(\"You lose\")\n",
    "elif user_choice == computer_choice:\n",
    "  print(\"its a draw\")\n",
    "elif user_choice > computer_choice:\n",
    "    print(\"You win\")\n",
    "    \n",
    "\n",
    "\n",
    "\n",
    "\n"
   ]
  }
 ],
 "metadata": {
  "kernelspec": {
   "display_name": "Python 3",
   "language": "python",
   "name": "python3"
  },
  "language_info": {
   "codemirror_mode": {
    "name": "ipython",
    "version": 3
   },
   "file_extension": ".py",
   "mimetype": "text/x-python",
   "name": "python",
   "nbconvert_exporter": "python",
   "pygments_lexer": "ipython3",
   "version": "3.11.3"
  },
  "orig_nbformat": 4
 },
 "nbformat": 4,
 "nbformat_minor": 2
}
