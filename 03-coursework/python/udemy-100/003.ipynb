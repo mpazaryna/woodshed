{
 "cells": [
  {
   "cell_type": "markdown",
   "metadata": {},
   "source": [
    "# Elif Operator\n",
    "\n",
    "The elif keyword in Python is a contraction of \"else if\". It's used in conditional statements, specifically within the context of the if...elif...else construct. This construct allows you to check multiple conditions sequentially and execute code blocks based on the first condition that evaluates to True.\n",
    "\n",
    "Here's a basic structure of the if...elif...else construct:\n",
    "\n",
    "```py\n",
    "if condition_1:\n",
    "    # code to execute if condition_1 is True\n",
    "elif condition_2:\n",
    "    # code to execute if condition_2 is True (and condition_1 was False)\n",
    "elif condition_3:\n",
    "    # code to execute if condition_3 is True (and both condition_1 and condition_2 were False)\n",
    "else:\n",
    "    # code to execute if none of the above conditions were True\n",
    "```\n",
    "\n",
    "Note:\n",
    "\n",
    "- The elif and else parts are optional. You can have an if statement without them.\n",
    "- You can have multiple elif conditions, but there can only be one else at the end.\n",
    "- The code stops checking conditions once it encounters the first True condition.\n"
   ]
  },
  {
   "cell_type": "code",
   "execution_count": null,
   "metadata": {},
   "outputs": [],
   "source": [
    "# if / elif / else operator\n",
    "print(\"welcome to the age classifier\")\n",
    "age = int(input(\"what is your age\"))\n",
    "if age  < 18:\n",
    "    print(\"You are a child\")\n",
    "elif age < 65:\n",
    "    print(\"You are an adult\")\n",
    "else:\n",
    "    print(\"You are a senior\")"
   ]
  },
  {
   "cell_type": "code",
   "execution_count": null,
   "metadata": {},
   "outputs": [],
   "source": [
    "year = int(input(\"Which year do you want to check? \"))\n",
    "\n",
    "# To determine a leap year, follow these steps:\n",
    "# on every year that is evenly divisible by 4\n",
    "#   except every year that is evenly divisible by 100\n",
    "#     unless the year is also evenly divisible by 400\n",
    "\n",
    "val1 = year % 4\n",
    "val2 = year % 100\n",
    "val3 = year % 400\n",
    "\n",
    "if val1 == 0:\n",
    "    if val2 == 0:\n",
    "        if val3 == 0:\n",
    "            print(\"Leap year.\")\n",
    "        else:\n",
    "            print(\"Not leap year.\")\n",
    "    else:\n",
    "        print(\"Leap year.\")\n",
    "else:\n",
    "    print(\"Not leap year.\")\n"
   ]
  },
  {
   "cell_type": "code",
   "execution_count": null,
   "metadata": {},
   "outputs": [],
   "source": [
    "# modulo operator\n",
    "number = int(input(\"Which number do you want to check? \"))\n",
    "\n",
    "if number % 2 == 0:\n",
    "    print(\"number is even\")\n",
    "else:\n",
    "    print(\"number is odd\")"
   ]
  },
  {
   "cell_type": "code",
   "execution_count": null,
   "metadata": {},
   "outputs": [],
   "source": [
    "# 🚨 Don't change the code below 👇\n",
    "print(\"Welcome to Python Pizza Deliveries!\")\n",
    "size = input(\"What size pizza do you want? S, M, or L \")\n",
    "add_pepperoni = input(\"Do you want pepperoni? Y or N \")\n",
    "extra_cheese = input(\"Do you want extra cheese? Y or N \")\n",
    "# 🚨 Don't change the code above 👆\n",
    "\n",
    "# Write your code below this line 👇\n",
    "\n",
    "bill = 0\n",
    "if size == \"S\":\n",
    "    bill = 15\n",
    "if size == \"M\":\n",
    "    bill = 20\n",
    "if size == \"L\":\n",
    "    bill = 25\n",
    "if add_pepperoni == \"Y\":\n",
    "    if size == \"S\":\n",
    "        bill += 2\n",
    "    else:\n",
    "        bill += 3\n",
    "if extra_cheese == \"Y\":\n",
    "    bill += 1\n",
    "\n",
    "print(f\"Your final bill is: ${bill}\")\n"
   ]
  },
  {
   "cell_type": "markdown",
   "metadata": {},
   "source": [
    "## Logical Operators\n",
    "\n"
   ]
  },
  {
   "cell_type": "code",
   "execution_count": null,
   "metadata": {},
   "outputs": [],
   "source": [
    "a = 15\n",
    "b = 23\n",
    "\n",
    "val = a > b\n",
    "print(val)\n",
    "\n",
    "val2 = a > 10 and a < 20\n",
    "print(val2)"
   ]
  },
  {
   "cell_type": "markdown",
   "metadata": {},
   "source": [
    "## The Love Calculator\n",
    "\n",
    "To test the compatability of people, based on their names. You are going to write a program that tests the compatibility between two people.\n",
    "\n",
    "To work out the love score between two people:\n",
    "\n",
    "Take both people's names and check for the number of times the letters in the word TRUE occurs. \n",
    "Then check for the number of times the letters in the word LOVE occurs. Then combine these numbers to make a 2 digit number.\n",
    "\n",
    "For Love Scores less than 10 or greater than 90, the message should be:\n",
    "\"Your score is **x**, you go together like coke and mentos.\"\n",
    "\n",
    "For Love Scores between 40 and 50, the message should be:\n",
    "\"Your score is **y**, you are alright together.\"\n",
    "\n",
    "Otherwise, the message will just be their score."
   ]
  },
  {
   "cell_type": "code",
   "execution_count": null,
   "metadata": {},
   "outputs": [],
   "source": [
    "print(\"Welcome to the Love Calculator!\")\n",
    "name1 = input(\"What is your name? \\n\").lower()\n",
    "name2 = input(\"What is their name? \\n\").lower()\n",
    "\n",
    "combined_string = name1 + name2\n",
    "t = combined_string.count(\"t\")\n",
    "r = combined_string.count(\"r\")\n",
    "u = combined_string.count(\"u\")\n",
    "e = combined_string.count(\"e\")\n",
    "true = t + r + u + e\n",
    "print(true)\n",
    "l = combined_string.count(\"l\")\n",
    "o = combined_string.count(\"o\")\n",
    "v = combined_string.count(\"v\")\n",
    "e = combined_string.count(\"e\")\n",
    "love = l + o + v + e\n",
    "love_score = int(str(true) + str(love))\n",
    "\n",
    "if (love_score < 10) or (love_score > 90):\n",
    "    print(f\"Your score is {love_score}, you go together like coke and mentos.\")\n",
    "elif (love_score >= 40) and (love_score <= 50):\n",
    "    print(f\"Your score is {love_score}, you are alright together.\")\n",
    "else:\n",
    "    print(f\"Your score is {love_score}.\")"
   ]
  },
  {
   "cell_type": "markdown",
   "metadata": {},
   "source": [
    "# Treasure Island\n",
    "\n",
    "Using conditionals\n",
    "\n",
    "Find additional ascii art here: https://ascii.co.uk/art\n"
   ]
  },
  {
   "cell_type": "code",
   "execution_count": null,
   "metadata": {},
   "outputs": [],
   "source": [
    "def printBox():\n",
    "    print('''\n",
    "*******************************************************************************\n",
    "          |                   |                  |                     |\n",
    " _________|________________.=\"\"_;=.______________|_____________________|_______\n",
    "|                   |  ,-\"_,=\"\"     `\"=.|                  |\n",
    "|___________________|__\"=._o`\"-._        `\"=.______________|___________________\n",
    "          |                `\"=._o`\"=._      _`\"=._                     |\n",
    " _________|_____________________:=._o \"=._.\"_.-=\"'\"=.__________________|_______\n",
    "|                   |    __.--\" , ; `\"=._o.\" ,-\"\"\"-._ \".   |\n",
    "|___________________|_._\"  ,. .` ` `` ,  `\"-._\"-._   \". '__|___________________\n",
    "          |           |o`\"=._` , \"` `; .\". ,  \"-._\"-._; ;              |\n",
    " _________|___________| ;`-.o`\"=._; .\" ` '`.\"\\` . \"-._ /_______________|_______\n",
    "|                   | |o;    `\"-.o`\"=._``  '` \" ,__.--o;   |\n",
    "|___________________|_| ;     (#) `-.o `\"=.`_.--\"_o.-; ;___|___________________\n",
    "____/______/______/___|o;._    \"      `\".o|o_.--\"    ;o;____/______/______/____\n",
    "/______/______/______/_\"=._o--._        ; | ;        ; ;/______/______/______/_\n",
    "____/______/______/______/__\"=._o--._   ;o|o;     _._;o;____/______/______/____\n",
    "/______/______/______/______/____\"=._o._; | ;_.--\"o.--\"_/______/______/______/_\n",
    "____/______/______/______/______/_____\"=.o|o_.--\"\"___/______/______/______/____\n",
    "/______/______/______/______/______/______/______/______/______/______/_____ /\n",
    "*******************************************************************************\n",
    "''')\n",
    "    \n",
    "print(\"Welcome to Treasure Island.\")\n",
    "print(\"Your mission is to find the treasure.\") \n",
    "\n",
    "choice1 = input('You\\'re at a crossroads, where do you want to go ? Type \"left\", \"right\" or \"straight\"').lower()\n",
    "if choice1 == \"left\":\n",
    "    choice2 = input('You\\'ve come to a lake. There is an island in the middle.  Type \"swim\" to cross now or \"wait\" for the boat').lower()\n",
    "    if choice2 == \"wait\":\n",
    "        choice3 = input('You arrive at the island.  There is a house with three doors.  One red, one yellow and one blue.  Which color do you choose?').lower()\n",
    "        if choice3 == \"red\":\n",
    "            print(\"Burned by fire. Game over\")\n",
    "        elif choice3 == \"yellow\":\n",
    "            printBox()\n",
    "        elif choice3 == \"blue\":\n",
    "            print(\"Eaten by beasts. Game over\")\n",
    "        else:\n",
    "            print(\"Game over\")\n",
    "    else:\n",
    "        print(\"Game over\")\n",
    "\n"
   ]
  }
 ],
 "metadata": {
  "kernelspec": {
   "display_name": "Python 3",
   "language": "python",
   "name": "python3"
  },
  "language_info": {
   "codemirror_mode": {
    "name": "ipython",
    "version": 3
   },
   "file_extension": ".py",
   "mimetype": "text/x-python",
   "name": "python",
   "nbconvert_exporter": "python",
   "pygments_lexer": "ipython3",
   "version": "3.10.8"
  },
  "orig_nbformat": 4
 },
 "nbformat": 4,
 "nbformat_minor": 2
}
