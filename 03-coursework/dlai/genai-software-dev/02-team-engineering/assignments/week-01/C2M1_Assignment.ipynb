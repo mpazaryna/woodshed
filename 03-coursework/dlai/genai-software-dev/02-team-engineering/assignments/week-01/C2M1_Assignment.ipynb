{
 "cells": [
  {
   "cell_type": "markdown",
   "metadata": {
    "id": "YfknStK6Y1QM"
   },
   "source": [
    "# Assignment 1 - Identifying and Fixing Bugs in Code Using an LLM\n",
    "\n",
    "Welcome to the first assignment in the Generative AI for Software Development - Team Software Engineering course. In this assignment, you'll see several pieces of code containing bugs or issues. Your task is to identify and correct these errors. While it might be possible to debug each problem yourself, you'll find that using a large language model will help you tackle these challenges more efficiently, and might even bring up solutions you hadn't considered. This approach not only enhances your debugging skills but also introduces you to the practical applications of LLMs in software development. Get ready to sharpen your problem-solving abilities and delve into the world of code correction with an AI assistant by your side."
   ]
  },
  {
   "cell_type": "markdown",
   "metadata": {},
   "source": [
    "## 1 - Instructions\n",
    "\n",
    "For each exercise, you will be provided with a function/class that is intended to work correctly, except for the last exercise, which will be discussed in due course. However, each function will contain a bug or inconsistency. Your task is to write a new function that performs the same task as the original one but with all identified bugs or issues resolved. You may ask an LLM to build unittests for you or even ask it to help you solving the exercise, it is up to you! Remember that you can also use the `unittests.py` file to debug what is going on and even using an LLM to help you in this task.\n",
    "\n",
    "Each exercise comes with a set of constraints that you must adhere to. Failure to follow these guidelines will result in not passing the respective exercise.\n",
    "\n",
    "The format is as follows:\n",
    "\n",
    "The function or class requiring correction will be named, for example, `function_1`. You must write its improved version in the designated solution block, naming it `function_1_fixed`. **Do NOT** alter the function's parameters or name, as doing so will break autograder, resulting in a failure to pass the exercise.\n",
    "\n",
    "**FINAL INSTRUCTIONS**\n",
    "\n",
    "- If you have doubts, you can prompt the LLM how to run your test cases\n",
    "- If you face runtime errors, you can prompt the LLM on how to fix the errors.\n",
    "- If you are failing in the unittests, you can open the unittests.py file and ask an LLM to explain to you the tests that are being performed."
   ]
  },
  {
   "cell_type": "code",
   "execution_count": 1,
   "metadata": {},
   "outputs": [],
   "source": [
    "import unittests"
   ]
  },
  {
   "cell_type": "markdown",
   "metadata": {
    "id": "8s_Bm9ZPbNwj"
   },
   "source": [
    "### Exercise 1 - Check if a Sentence is a Palindrome\n",
    "\n",
    "Your task in this exercise is to debug and correct the given function that checks whether a sentence is a palindrome.\n",
    "\n",
    "**Constraints**: The use of external libraries is **prohibited**."
   ]
  },
  {
   "cell_type": "code",
   "execution_count": 3,
   "metadata": {
    "id": "lcFebKlCawf_"
   },
   "outputs": [],
   "source": [
    "def is_palindrome(sentence):\n",
    "    # Compare characters from both ends\n",
    "    left, right = 0, len(sentence)-1\n",
    "    while left <= right:\n",
    "        if sentence[left] != sentence[right]:\n",
    "            return False\n",
    "        left += 1\n",
    "        right -= 1\n",
    "    return True"
   ]
  },
  {
   "cell_type": "code",
   "execution_count": 3,
   "metadata": {
    "colab": {
     "base_uri": "https://localhost:8080/"
    },
    "id": "q9UZKfMSh6Fv",
    "outputId": "948c73f7-503b-432e-8e29-a231c95f9da2",
    "tags": [
     "graded"
    ]
   },
   "outputs": [],
   "source": [
    "# Exercise block. Do not change the function input parameters.\n",
    "\n",
    "def is_palindrome_fixed(sentence):\n",
    "    # Convert to lowercase and filter out non-alphanumeric characters\n",
    "    cleaned = ''.join(char.lower() for char in sentence if char.isalnum())\n",
    "    \n",
    "    # Compare characters from both ends\n",
    "    left, right = 0, len(cleaned)-1\n",
    "    while left < right:\n",
    "        if cleaned[left] != cleaned[right]:\n",
    "            return False\n",
    "        left += 1\n",
    "        right -= 1\n",
    "    \n",
    "    return True"
   ]
  },
  {
   "cell_type": "code",
   "execution_count": null,
   "metadata": {},
   "outputs": [],
   "source": [
    "unittests.test_is_palindrome_fixed(is_palindrome_fixed)"
   ]
  },
  {
   "cell_type": "markdown",
   "metadata": {
    "id": "z2qbEBCedkPn"
   },
   "source": [
    "### Exercise 2 - Implementing Dijkstra's Algorithm\n",
    "\n",
    "This exercise involves debugging a function that implements Dijkstra's algorithm to calculate the shortest path from node 0 to every other node in a graph and outputs a dictionary with every node and its distance from 0 as well as a boolean saying whether all nodes are reachable or not. The function reads a `graph.json` file from the local directory to obtain the graph, which is **not** provided. The graph is expected to consist of exactly `20` nodes.\n",
    "\n",
    "**Instructions**: \n",
    "- The function's output must remain consistent, retaining the same order.\n",
    "\n",
    "**Constraints**: \n",
    "- Only libraries that are already imported in the exercise block may be used.\n",
    "\n",
    "**Hints**:\n",
    "- A helper function exists for deserializing a `graph.json`. You can request an LLM to outline the structure of the graph in the .json file, ensuring it can be correctly loaded by this function, and to generate some example files for testing.\n",
    "- Knowing the graph's structure allows you to ask an LLM to create some graphs fitting this structure, enabling you to test your code with various graphs.\n",
    "- Before identifying potential bugs, consider asking an LLM to explain the function's workings."
   ]
  },
  {
   "cell_type": "code",
   "execution_count": 5,
   "metadata": {},
   "outputs": [],
   "source": [
    "from collections import defaultdict\n",
    "import json\n",
    "## Helper function - Do NOT edit or overwrite it in the solution block.\n",
    "\n",
    "# Deserialize graph from JSON\n",
    "# The graph has 20 nodes, numbered 0-19\n",
    "def deserialize_graph(filename):\n",
    "    with open(filename, 'r') as f:\n",
    "        data = json.load(f)\n",
    "    return defaultdict(list, {int(k): v for k, v in data.items()})"
   ]
  },
  {
   "cell_type": "code",
   "execution_count": 6,
   "metadata": {
    "colab": {
     "base_uri": "https://localhost:8080/"
    },
    "id": "r--D9XYydjwE",
    "outputId": "e64cda2e-05d4-476a-b599-39671032adcb"
   },
   "outputs": [],
   "source": [
    "import heapq\n",
    "\n",
    "def dijkstra(graph, start):\n",
    "    distances = {node: float('infinity') for node in range(20)}\n",
    "    distances[start] = 0\n",
    "    pq = [(0, start)]\n",
    "    visited = set()\n",
    "\n",
    "    while pq:\n",
    "        current_distance, current_node = heapq.heappop(pq)\n",
    "\n",
    "        if current_node in visited:\n",
    "            continue\n",
    "\n",
    "        visited.add(current_node)\n",
    "\n",
    "        for neighbor, weight in graph[current_node]:\n",
    "            distance = current_distance + weight\n",
    "            if distance < distances[neighbor]:\n",
    "                distances[neighbor] = distance\n",
    "                heapq.heappush(pq, (distance, neighbor))\n",
    "    all_nodes_visited = len(distances) == 20\n",
    "    \n",
    "    return distances, all_nodes_visited"
   ]
  },
  {
   "cell_type": "code",
   "execution_count": 8,
   "metadata": {
    "colab": {
     "base_uri": "https://localhost:8080/"
    },
    "id": "Y-Lr9GwWmYsh",
    "outputId": "777cba5b-ce35-4af2-ff98-0e4c17ac34c7",
    "tags": [
     "graded"
    ]
   },
   "outputs": [],
   "source": [
    "# Exercise block. Do not add or remove any library and do not add/remove any argument in the function.\n",
    "import heapq\n",
    "\n",
    "def dijkstra_fixed(graph, start):\n",
    "    # Initialize distances for all 20 nodes\n",
    "    distances = {node: float('infinity') for node in range(20)}\n",
    "    distances[start] = 0\n",
    "    \n",
    "    # Initialize priority queue with starting node\n",
    "    pq = [(0, start)]\n",
    "    \n",
    "    # Track visited nodes\n",
    "    visited = set()\n",
    "    \n",
    "    while pq:\n",
    "        # Get node with smallest current distance\n",
    "        current_distance, current_node = heapq.heappop(pq)\n",
    "        \n",
    "        # Skip if already processed\n",
    "        if current_node in visited:\n",
    "            continue\n",
    "            \n",
    "        visited.add(current_node)\n",
    "        \n",
    "        # Process all neighbors\n",
    "        for neighbor, weight in graph[current_node]:\n",
    "            if neighbor not in visited:\n",
    "                # Calculate new distance\n",
    "                distance = current_distance + weight\n",
    "                \n",
    "                # Update if new distance is shorter\n",
    "                if distance < distances[neighbor]:\n",
    "                    distances[neighbor] = distance\n",
    "                    heapq.heappush(pq, (distance, neighbor))\n",
    "    \n",
    "    # Check if all nodes are reachable (distance less than infinity)\n",
    "    all_reachable = all(distances[node] < float('infinity') for node in range(20))\n",
    "    \n",
    "    return distances, all_reachable"
   ]
  },
  {
   "cell_type": "code",
   "execution_count": null,
   "metadata": {},
   "outputs": [],
   "source": [
    "unittests.test_dijkstra_fixed(dijkstra_fixed)"
   ]
  },
  {
   "cell_type": "markdown",
   "metadata": {
    "id": "LBAGRh1QnF29"
   },
   "source": [
    "### Exercise 3 - Debugging a Stack Implementation\n",
    "\n",
    "In this exercise, you are provided with a stack implementation that harbors an inconsistency. Your task is to pinpoint and rectify this inconsistency. It's crucial that this stack functions similarly to a Python list. Therefore, if there is a method common to both the stack and a Python list, they should operate identically. This information is key to identifying the inconsistency.\n",
    "\n",
    "**Instructions**: Ensure that the corrected class includes all the methods found in the original, buggy class, with the inconsistency addressed.\n",
    "\n",
    "**Constraints**: You are not allowed to import any libraries.\n",
    "\n",
    "**Hints**:\n",
    "- Consider asking an LLM for a detailed explanation of how this stack functions and the intended purpose of its methods.\n",
    "- You might also request example cases from an LLM to better understand and test the functionality of the stack."
   ]
  },
  {
   "cell_type": "code",
   "execution_count": 10,
   "metadata": {},
   "outputs": [],
   "source": [
    "class Stack:\n",
    "    def __init__(self):\n",
    "        self.items = []\n",
    "\n",
    "    def push(self, item):\n",
    "        self.items.append(item)\n",
    "\n",
    "    def pop(self):\n",
    "        if self.items:\n",
    "            return self.items.pop()\n",
    "        else:\n",
    "            return None  \n",
    "\n",
    "    def peek(self):\n",
    "        if self.items:\n",
    "            return self.items[-1]\n",
    "        else:\n",
    "            return None  \n",
    "\n",
    "    def is_empty(self):\n",
    "        return len(self.items) == 0\n",
    "\n",
    "    def size(self):\n",
    "        return len(self.items)"
   ]
  },
  {
   "cell_type": "code",
   "execution_count": 11,
   "metadata": {
    "id": "lEjXlLg9lYEU",
    "tags": [
     "graded"
    ]
   },
   "outputs": [],
   "source": [
    "# Exercise block. Do not change any method/constructor call from the original class.\n",
    "class StackFixed:\n",
    "    def __init__(self):\n",
    "        self.items = []\n",
    "\n",
    "    def __str__(self):\n",
    "        return str(self.items)\n",
    "\n",
    "    def push(self, item):\n",
    "        \"\"\"Add an item to the top of the stack.\"\"\"\n",
    "        self.items.append(item)\n",
    "\n",
    "    def pop(self):\n",
    "        \"\"\"Remove and return the top item from the stack.\n",
    "        Raises IndexError if stack is empty.\"\"\"\n",
    "        return self.items.pop()  # Will raise IndexError if empty\n",
    "\n",
    "    def peek(self):\n",
    "        \"\"\"Return the top item without removing it.\n",
    "        Raises IndexError if stack is empty.\"\"\"\n",
    "        return self.items[-1]  # Will raise IndexError if empty\n",
    "\n",
    "    def is_empty(self):\n",
    "        \"\"\"Return True if stack is empty, False otherwise.\"\"\"\n",
    "        return len(self.items) == 0\n",
    "\n",
    "    def size(self):\n",
    "        \"\"\"Return the number of items in the stack.\"\"\"\n",
    "        return len(self.items)"
   ]
  },
  {
   "cell_type": "code",
   "execution_count": null,
   "metadata": {},
   "outputs": [],
   "source": [
    "unittests.test_StackFixed(StackFixed)"
   ]
  },
  {
   "cell_type": "markdown",
   "metadata": {
    "id": "iGU_mvSK7JE2"
   },
   "source": [
    "### Exercise 4 - Buggy linked List\n",
    "\n",
    "In this exercise, a `Node` and a `Doubly Linked List` class is provided. You must find the bug in one method of `Doubly Linked List` class and fix it. The `Node` class is fixed and you **must not** edit it.\n",
    "\n",
    "**Instructions**: The fixed class must have every method that the buggy class has, but with the bug fixed.\n",
    "\n",
    "**Constraints**: No library can be imported.\n",
    "\n",
    "**Hints**: \n",
    "- You may ask an LLM to explain the classes for you.\n",
    "- You may also ask an LLM to make some example cases for you."
   ]
  },
  {
   "cell_type": "code",
   "execution_count": 9,
   "metadata": {
    "tags": [
     "graded"
    ]
   },
   "outputs": [],
   "source": [
    "## Do NOT modify this class.\n",
    "class Node:\n",
    "\tdef __init__(self, data):\n",
    "\t\tself.data = data\n",
    "\t\tself.prev = None\n",
    "\t\tself.next = None"
   ]
  },
  {
   "cell_type": "code",
   "execution_count": 10,
   "metadata": {
    "id": "Tfe2Ztiu7IVO"
   },
   "outputs": [],
   "source": [
    "class DoublyLinkedList:\n",
    "\tdef __init__(self):\n",
    "\t\tself.head = None\n",
    "\t\tself.tail = None\n",
    "\n",
    "\tdef add_node(self, data):\n",
    "\t\tnew_node = Node(data)\n",
    "\t\tif not self.head:\n",
    "\t\t\tself.head = new_node\n",
    "\t\t\tself.tail = new_node\n",
    "\t\telse:\n",
    "\t\t\tself.tail.next = new_node\n",
    "\t\t\tnew_node.prev = self.tail\n",
    "\t\t\tself.tail = new_node\n",
    "\t\treturn new_node\n",
    "\n",
    "\tdef link_nodes(self, node1, node2):\n",
    "\t\tnode1.next = node2\n",
    "\t\tnode2.prev = node1\n",
    "\n",
    "\tdef traverse(self):\n",
    "\t\tvisited = []\n",
    "\t\tcurrent = self.head\n",
    "\t\twhile current:\n",
    "\t\t\tvisited.append(current)\n",
    "\t\t\tcurrent = current.next\n",
    "\t\treturn visited"
   ]
  },
  {
   "cell_type": "code",
   "execution_count": 23,
   "metadata": {
    "tags": [
     "graded"
    ]
   },
   "outputs": [],
   "source": [
    "# Graded block. Do not change the input of any method/constructor already implemented.\n",
    "# This class should be defined at module level (not inside a function)\n",
    "class DoublyLinkedListFixed:\n",
    "    def __init__(self):\n",
    "        self.head = None\n",
    "        self.tail = None\n",
    "\n",
    "    def add_node(self, data):\n",
    "        new_node = Node(data)\n",
    "        if not self.head:\n",
    "            self.head = new_node\n",
    "            self.tail = new_node\n",
    "        else:\n",
    "            self.tail.next = new_node\n",
    "            new_node.prev = self.tail\n",
    "            self.tail = new_node\n",
    "        return new_node\n",
    "\n",
    "    def link_nodes(self, node1, node2):\n",
    "        node1.next = node2\n",
    "        node2.prev = node1\n",
    "\n",
    "    def traverse(self):\n",
    "        visited = []\n",
    "        current = self.head\n",
    "        while current:\n",
    "            if current in visited:  # Cycle detection\n",
    "                break\n",
    "            visited.append(current)\n",
    "            current = current.next\n",
    "        return visited"
   ]
  },
  {
   "cell_type": "code",
   "execution_count": 24,
   "metadata": {},
   "outputs": [
    {
     "ename": "AttributeError",
     "evalue": "Can't pickle local object 'test_DoublyLinkedListFixed.<locals>.g.<locals>.helper'",
     "output_type": "error",
     "traceback": [
      "\u001b[0;31m---------------------------------------------------------------------------\u001b[0m",
      "\u001b[0;31mAttributeError\u001b[0m                            Traceback (most recent call last)",
      "Cell \u001b[0;32mIn[24], line 1\u001b[0m\n\u001b[0;32m----> 1\u001b[0m \u001b[43munittests\u001b[49m\u001b[38;5;241;43m.\u001b[39;49m\u001b[43mtest_DoublyLinkedListFixed\u001b[49m\u001b[43m(\u001b[49m\u001b[43mDoublyLinkedListFixed\u001b[49m\u001b[43m)\u001b[49m\n",
      "File \u001b[0;32m~/workspace/genai-software-dev/team-software-engineering/assignments/unittests.py:230\u001b[0m, in \u001b[0;36mtest_DoublyLinkedListFixed\u001b[0;34m(learner_func)\u001b[0m\n\u001b[1;32m    228\u001b[0m     cases\u001b[38;5;241m.\u001b[39mappend(t)\n\u001b[1;32m    229\u001b[0m     \u001b[38;5;28;01mreturn\u001b[39;00m cases\n\u001b[0;32m--> 230\u001b[0m cases \u001b[38;5;241m=\u001b[39m \u001b[43mg\u001b[49m\u001b[43m(\u001b[49m\u001b[43m)\u001b[49m\n\u001b[1;32m    231\u001b[0m print_feedback(cases)\n",
      "File \u001b[0;32m~/workspace/genai-software-dev/team-software-engineering/assignments/unittests.py:213\u001b[0m, in \u001b[0;36mtest_DoublyLinkedListFixed.<locals>.g\u001b[0;34m()\u001b[0m\n\u001b[1;32m    211\u001b[0m q \u001b[38;5;241m=\u001b[39m multiprocessing\u001b[38;5;241m.\u001b[39mQueue()\n\u001b[1;32m    212\u001b[0m p \u001b[38;5;241m=\u001b[39m multiprocessing\u001b[38;5;241m.\u001b[39mProcess(target\u001b[38;5;241m=\u001b[39mhelper, name\u001b[38;5;241m=\u001b[39m\u001b[38;5;124m\"\u001b[39m\u001b[38;5;124mtraverse\u001b[39m\u001b[38;5;124m\"\u001b[39m, args\u001b[38;5;241m=\u001b[39m(q,s\u001b[38;5;241m.\u001b[39mtraverse))\n\u001b[0;32m--> 213\u001b[0m \u001b[43mp\u001b[49m\u001b[38;5;241;43m.\u001b[39;49m\u001b[43mstart\u001b[49m\u001b[43m(\u001b[49m\u001b[43m)\u001b[49m\n\u001b[1;32m    214\u001b[0m time\u001b[38;5;241m.\u001b[39msleep(time_limit)\n\u001b[1;32m    215\u001b[0m \u001b[38;5;28;01mif\u001b[39;00m p\u001b[38;5;241m.\u001b[39mis_alive():\n",
      "File \u001b[0;32m/opt/anaconda3/envs/woodshed/lib/python3.11/multiprocessing/process.py:121\u001b[0m, in \u001b[0;36mBaseProcess.start\u001b[0;34m(self)\u001b[0m\n\u001b[1;32m    118\u001b[0m \u001b[38;5;28;01massert\u001b[39;00m \u001b[38;5;129;01mnot\u001b[39;00m _current_process\u001b[38;5;241m.\u001b[39m_config\u001b[38;5;241m.\u001b[39mget(\u001b[38;5;124m'\u001b[39m\u001b[38;5;124mdaemon\u001b[39m\u001b[38;5;124m'\u001b[39m), \\\n\u001b[1;32m    119\u001b[0m        \u001b[38;5;124m'\u001b[39m\u001b[38;5;124mdaemonic processes are not allowed to have children\u001b[39m\u001b[38;5;124m'\u001b[39m\n\u001b[1;32m    120\u001b[0m _cleanup()\n\u001b[0;32m--> 121\u001b[0m \u001b[38;5;28mself\u001b[39m\u001b[38;5;241m.\u001b[39m_popen \u001b[38;5;241m=\u001b[39m \u001b[38;5;28;43mself\u001b[39;49m\u001b[38;5;241;43m.\u001b[39;49m\u001b[43m_Popen\u001b[49m\u001b[43m(\u001b[49m\u001b[38;5;28;43mself\u001b[39;49m\u001b[43m)\u001b[49m\n\u001b[1;32m    122\u001b[0m \u001b[38;5;28mself\u001b[39m\u001b[38;5;241m.\u001b[39m_sentinel \u001b[38;5;241m=\u001b[39m \u001b[38;5;28mself\u001b[39m\u001b[38;5;241m.\u001b[39m_popen\u001b[38;5;241m.\u001b[39msentinel\n\u001b[1;32m    123\u001b[0m \u001b[38;5;66;03m# Avoid a refcycle if the target function holds an indirect\u001b[39;00m\n\u001b[1;32m    124\u001b[0m \u001b[38;5;66;03m# reference to the process object (see bpo-30775)\u001b[39;00m\n",
      "File \u001b[0;32m/opt/anaconda3/envs/woodshed/lib/python3.11/multiprocessing/context.py:224\u001b[0m, in \u001b[0;36mProcess._Popen\u001b[0;34m(process_obj)\u001b[0m\n\u001b[1;32m    222\u001b[0m \u001b[38;5;129m@staticmethod\u001b[39m\n\u001b[1;32m    223\u001b[0m \u001b[38;5;28;01mdef\u001b[39;00m \u001b[38;5;21m_Popen\u001b[39m(process_obj):\n\u001b[0;32m--> 224\u001b[0m     \u001b[38;5;28;01mreturn\u001b[39;00m \u001b[43m_default_context\u001b[49m\u001b[38;5;241;43m.\u001b[39;49m\u001b[43mget_context\u001b[49m\u001b[43m(\u001b[49m\u001b[43m)\u001b[49m\u001b[38;5;241;43m.\u001b[39;49m\u001b[43mProcess\u001b[49m\u001b[38;5;241;43m.\u001b[39;49m\u001b[43m_Popen\u001b[49m\u001b[43m(\u001b[49m\u001b[43mprocess_obj\u001b[49m\u001b[43m)\u001b[49m\n",
      "File \u001b[0;32m/opt/anaconda3/envs/woodshed/lib/python3.11/multiprocessing/context.py:288\u001b[0m, in \u001b[0;36mSpawnProcess._Popen\u001b[0;34m(process_obj)\u001b[0m\n\u001b[1;32m    285\u001b[0m \u001b[38;5;129m@staticmethod\u001b[39m\n\u001b[1;32m    286\u001b[0m \u001b[38;5;28;01mdef\u001b[39;00m \u001b[38;5;21m_Popen\u001b[39m(process_obj):\n\u001b[1;32m    287\u001b[0m     \u001b[38;5;28;01mfrom\u001b[39;00m \u001b[38;5;21;01m.\u001b[39;00m\u001b[38;5;21;01mpopen_spawn_posix\u001b[39;00m \u001b[38;5;28;01mimport\u001b[39;00m Popen\n\u001b[0;32m--> 288\u001b[0m     \u001b[38;5;28;01mreturn\u001b[39;00m \u001b[43mPopen\u001b[49m\u001b[43m(\u001b[49m\u001b[43mprocess_obj\u001b[49m\u001b[43m)\u001b[49m\n",
      "File \u001b[0;32m/opt/anaconda3/envs/woodshed/lib/python3.11/multiprocessing/popen_spawn_posix.py:32\u001b[0m, in \u001b[0;36mPopen.__init__\u001b[0;34m(self, process_obj)\u001b[0m\n\u001b[1;32m     30\u001b[0m \u001b[38;5;28;01mdef\u001b[39;00m \u001b[38;5;21m__init__\u001b[39m(\u001b[38;5;28mself\u001b[39m, process_obj):\n\u001b[1;32m     31\u001b[0m     \u001b[38;5;28mself\u001b[39m\u001b[38;5;241m.\u001b[39m_fds \u001b[38;5;241m=\u001b[39m []\n\u001b[0;32m---> 32\u001b[0m     \u001b[38;5;28;43msuper\u001b[39;49m\u001b[43m(\u001b[49m\u001b[43m)\u001b[49m\u001b[38;5;241;43m.\u001b[39;49m\u001b[38;5;21;43m__init__\u001b[39;49m\u001b[43m(\u001b[49m\u001b[43mprocess_obj\u001b[49m\u001b[43m)\u001b[49m\n",
      "File \u001b[0;32m/opt/anaconda3/envs/woodshed/lib/python3.11/multiprocessing/popen_fork.py:19\u001b[0m, in \u001b[0;36mPopen.__init__\u001b[0;34m(self, process_obj)\u001b[0m\n\u001b[1;32m     17\u001b[0m \u001b[38;5;28mself\u001b[39m\u001b[38;5;241m.\u001b[39mreturncode \u001b[38;5;241m=\u001b[39m \u001b[38;5;28;01mNone\u001b[39;00m\n\u001b[1;32m     18\u001b[0m \u001b[38;5;28mself\u001b[39m\u001b[38;5;241m.\u001b[39mfinalizer \u001b[38;5;241m=\u001b[39m \u001b[38;5;28;01mNone\u001b[39;00m\n\u001b[0;32m---> 19\u001b[0m \u001b[38;5;28;43mself\u001b[39;49m\u001b[38;5;241;43m.\u001b[39;49m\u001b[43m_launch\u001b[49m\u001b[43m(\u001b[49m\u001b[43mprocess_obj\u001b[49m\u001b[43m)\u001b[49m\n",
      "File \u001b[0;32m/opt/anaconda3/envs/woodshed/lib/python3.11/multiprocessing/popen_spawn_posix.py:47\u001b[0m, in \u001b[0;36mPopen._launch\u001b[0;34m(self, process_obj)\u001b[0m\n\u001b[1;32m     45\u001b[0m \u001b[38;5;28;01mtry\u001b[39;00m:\n\u001b[1;32m     46\u001b[0m     reduction\u001b[38;5;241m.\u001b[39mdump(prep_data, fp)\n\u001b[0;32m---> 47\u001b[0m     \u001b[43mreduction\u001b[49m\u001b[38;5;241;43m.\u001b[39;49m\u001b[43mdump\u001b[49m\u001b[43m(\u001b[49m\u001b[43mprocess_obj\u001b[49m\u001b[43m,\u001b[49m\u001b[43m \u001b[49m\u001b[43mfp\u001b[49m\u001b[43m)\u001b[49m\n\u001b[1;32m     48\u001b[0m \u001b[38;5;28;01mfinally\u001b[39;00m:\n\u001b[1;32m     49\u001b[0m     set_spawning_popen(\u001b[38;5;28;01mNone\u001b[39;00m)\n",
      "File \u001b[0;32m/opt/anaconda3/envs/woodshed/lib/python3.11/multiprocessing/reduction.py:60\u001b[0m, in \u001b[0;36mdump\u001b[0;34m(obj, file, protocol)\u001b[0m\n\u001b[1;32m     58\u001b[0m \u001b[38;5;28;01mdef\u001b[39;00m \u001b[38;5;21mdump\u001b[39m(obj, file, protocol\u001b[38;5;241m=\u001b[39m\u001b[38;5;28;01mNone\u001b[39;00m):\n\u001b[1;32m     59\u001b[0m \u001b[38;5;250m    \u001b[39m\u001b[38;5;124;03m'''Replacement for pickle.dump() using ForkingPickler.'''\u001b[39;00m\n\u001b[0;32m---> 60\u001b[0m     \u001b[43mForkingPickler\u001b[49m\u001b[43m(\u001b[49m\u001b[43mfile\u001b[49m\u001b[43m,\u001b[49m\u001b[43m \u001b[49m\u001b[43mprotocol\u001b[49m\u001b[43m)\u001b[49m\u001b[38;5;241;43m.\u001b[39;49m\u001b[43mdump\u001b[49m\u001b[43m(\u001b[49m\u001b[43mobj\u001b[49m\u001b[43m)\u001b[49m\n",
      "\u001b[0;31mAttributeError\u001b[0m: Can't pickle local object 'test_DoublyLinkedListFixed.<locals>.g.<locals>.helper'"
     ]
    }
   ],
   "source": [
    "unittests.test_DoublyLinkedListFixed(DoublyLinkedListFixed)"
   ]
  },
  {
   "cell_type": "markdown",
   "metadata": {},
   "source": [
    "Congratulations! You've completed the first assignment in the Generative AI for Software Development - Team Software Engineering course. Keep up the good work!"
   ]
  }
 ],
 "metadata": {
  "colab": {
   "provenance": []
  },
  "grader_version": "1",
  "kernelspec": {
   "display_name": "Python 3",
   "name": "python3"
  },
  "language_info": {
   "codemirror_mode": {
    "name": "ipython",
    "version": 3
   },
   "file_extension": ".py",
   "mimetype": "text/x-python",
   "name": "python",
   "nbconvert_exporter": "python",
   "pygments_lexer": "ipython3",
   "version": "3.11.4"
  }
 },
 "nbformat": 4,
 "nbformat_minor": 0
}
