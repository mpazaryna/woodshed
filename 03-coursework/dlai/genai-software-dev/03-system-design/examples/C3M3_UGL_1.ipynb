{
 "cells": [
  {
   "cell_type": "markdown",
   "metadata": {},
   "source": [
    "# Ungraded Lab 1 - Company Data\n",
    "\n",
    "This ungraded lab guides you through Laurence's interaction with the LLM in Module 3."
   ]
  },
  {
   "cell_type": "markdown",
   "metadata": {
    "id": "jxyx8I35itd_"
   },
   "source": [
    "## Code from lecture Factory Patterns - Created by Laurence\n",
    "\n",
    "The code below is in the lecture Factory Patterns, after the following prompt:\n",
    "\n",
    "Enhance the following code to use the Factory gang-of-four pattern. Strictly follow the common conventions for the pattern. Start by explaining the conventions for the Factory pattern and why it makes sense to use it here. Then describe how the code modifications you made strictly follow the conventions of the pattern. \n",
    "\n",
    "There is also **One Self-paced exercise** in the end of this lab."
   ]
  },
  {
   "cell_type": "code",
   "execution_count": 1,
   "metadata": {},
   "outputs": [],
   "source": [
    "## Code for singleton, you must run this cell\n",
    "\n",
    "import sqlite3\n",
    "import pandas as pd\n",
    "import numpy as np\n",
    "\n",
    "# Singleton Pattern for Database Connection\n",
    "class DatabaseConnection:\n",
    "    _instance = None\n",
    "\n",
    "    def __new__(cls, db_path):\n",
    "        if cls._instance is None:\n",
    "            cls._instance = super(DatabaseConnection, cls).__new__(cls)\n",
    "            cls._instance.connection = sqlite3.connect(db_path)\n",
    "        return cls._instance\n",
    "\n",
    "    @staticmethod\n",
    "    def get_connection():\n",
    "        if DatabaseConnection._instance is None:\n",
    "            raise Exception(\"DatabaseConnection has not been initialized. Call DatabaseConnection(db_path) first.\")\n",
    "        return DatabaseConnection._instance.connection"
   ]
  },
  {
   "cell_type": "code",
   "execution_count": 2,
   "metadata": {},
   "outputs": [
    {
     "name": "stdout",
     "output_type": "stream",
     "text": [
      "Company: Apple Inc. (AAPL)\n",
      "Grade: B\n",
      "Time Series Data:\n",
      "         date   value\n",
      "95 2023-04-06  126.61\n",
      "96 2023-04-07  167.88\n",
      "97 2023-04-08  439.16\n",
      "98 2023-04-09  384.38\n",
      "99 2023-04-10  397.76\n",
      "Moving Average:\n",
      "95    271.0705\n",
      "96    256.0275\n",
      "97    257.4295\n",
      "98    256.7370\n",
      "99    254.4520\n",
      "Name: value, dtype: float64\n",
      "High Bollinger Band:\n",
      "95    519.169173\n",
      "96    489.728042\n",
      "97    495.346003\n",
      "98    493.002820\n",
      "99    483.899798\n",
      "Name: value, dtype: float64\n",
      "Low Bollinger Band:\n",
      "95    22.971827\n",
      "96    22.326958\n",
      "97    19.512997\n",
      "98    20.471180\n",
      "99    25.004202\n",
      "Name: value, dtype: float64\n",
      "Foreign company not found\n"
     ]
    }
   ],
   "source": [
    "# Code for Factory Patterns\n",
    "\n",
    "# Define the Bollinger Band width as a global variable\n",
    "bollinger_width = 2\n",
    "\n",
    "# Define the Window Size for Moving Average\n",
    "window_size = 20\n",
    "\n",
    "class Company:\n",
    "    def __init__(self, company_id, ticker, name):\n",
    "        self.company_id = company_id\n",
    "        self.ticker = ticker\n",
    "        self.name = name\n",
    "        self.time_series = None\n",
    "        self.high_bollinger = None\n",
    "        self.low_bollinger = None\n",
    "        self.moving_average = None\n",
    "        self.grade = None\n",
    "\n",
    "    def load_time_series(self, conn):\n",
    "        query = '''\n",
    "        SELECT date, value\n",
    "        FROM TimeSeries\n",
    "        WHERE company_id = ?\n",
    "        ORDER BY date\n",
    "        '''\n",
    "        self.time_series = pd.read_sql_query(query, conn, params=(self.company_id,))\n",
    "        self.time_series['date'] = pd.to_datetime(self.time_series['date'])\n",
    "\n",
    "    def calculate_bollinger_bands(self):\n",
    "        rolling_mean = self.time_series['value'].rolling(window_size).mean()\n",
    "        rolling_std = self.time_series['value'].rolling(window_size).std()\n",
    "        self.moving_average = rolling_mean\n",
    "        self.high_bollinger = rolling_mean + (rolling_std * bollinger_width)\n",
    "        self.low_bollinger = rolling_mean - (rolling_std * bollinger_width)\n",
    "\n",
    "    def assign_grade(self, strategy):\n",
    "        strategy.assign_grade(self)\n",
    "\n",
    "    def display(self):\n",
    "        print(f'Company: {self.name} ({self.ticker})')\n",
    "        print(f'Grade: {self.grade}')\n",
    "        print('Time Series Data:')\n",
    "        print(self.time_series.tail())\n",
    "        print('Moving Average:')\n",
    "        print(self.moving_average.tail())\n",
    "        print('High Bollinger Band:')\n",
    "        print(self.high_bollinger.tail())\n",
    "        print('Low Bollinger Band:')\n",
    "        print(self.low_bollinger.tail())\n",
    "\n",
    "class DomesticCompany(Company):\n",
    "    def __init__(self, company_id, ticker, name):\n",
    "        super().__init__(company_id, ticker, name)\n",
    "        self.company_type = 'Domestic'\n",
    "\n",
    "class ForeignCompany(Company):\n",
    "    def __init__(self, company_id, ticker, name):\n",
    "        super().__init__(company_id, ticker, name)\n",
    "        self.company_type = 'Foreign'\n",
    "\n",
    "class CompanyFactory:\n",
    "    @staticmethod\n",
    "    def get_company(identifier, conn):\n",
    "        cursor = conn.cursor()\n",
    "\n",
    "        if isinstance(identifier, str):\n",
    "            query = 'SELECT id, ticker, name FROM companies WHERE ticker = ?'\n",
    "            cursor.execute(query, (identifier,))\n",
    "            row = cursor.fetchone()\n",
    "            if row:\n",
    "                return DomesticCompany(row[0], row[1], row[2])\n",
    "        else:\n",
    "            query = 'SELECT id, ticker, name FROM companies WHERE id = ?'\n",
    "            cursor.execute(query, (identifier,))\n",
    "            row = cursor.fetchone()\n",
    "            if row:\n",
    "                # If ticker is equal to ZZZZ, it's a foreign company\n",
    "                if row[1] == 'ZZZZ':\n",
    "                    return ForeignCompany(row[0], row[1], row[2])\n",
    "                else:\n",
    "                    return DomesticCompany(row[0], row[1], row[2])\n",
    "\n",
    "class GradingStrategy:\n",
    "    def assign_grade(self, company):\n",
    "        raise NotImplementedError\n",
    "\n",
    "class BollingerBandGradingStrategy(GradingStrategy):\n",
    "    def assign_grade(self, company):\n",
    "        latest_value = company.time_series['value'].iloc[-1]\n",
    "        if latest_value > company.high_bollinger.iloc[-1]:\n",
    "            company.grade = 'A'\n",
    "        elif latest_value < company.low_bollinger.iloc[-1]:\n",
    "            company.grade = 'C'\n",
    "        else:\n",
    "            company.grade = 'B'\n",
    "\n",
    "# Adding error handling to the main code to catch any potential issues\n",
    "\n",
    "# Example usage:\n",
    "db_connection = DatabaseConnection('company_database.db')\n",
    "conn = DatabaseConnection.get_connection()\n",
    "\n",
    "# Get domestic company by ticker\n",
    "try:\n",
    "    domestic_company = CompanyFactory.get_company('AAPL', conn)\n",
    "    if domestic_company:\n",
    "        domestic_company.load_time_series(conn)\n",
    "        domestic_company.calculate_bollinger_bands()\n",
    "        grading_strategy = BollingerBandGradingStrategy()\n",
    "        domestic_company.assign_grade(grading_strategy)\n",
    "        domestic_company.display()\n",
    "    else:\n",
    "        print(\"Domestic company not found\")\n",
    "except Exception as e:\n",
    "    print(f\"Error processing domestic company: {e}\")\n",
    "\n",
    "# Get foreign company by ID\n",
    "try:\n",
    "    foreign_company = CompanyFactory.get_company(1001, conn)\n",
    "    if foreign_company:\n",
    "        foreign_company.load_time_series(conn)\n",
    "        foreign_company.calculate_bollinger_bands()\n",
    "        grading_strategy = BollingerBandGradingStrategy()\n",
    "        foreign_company.assign_grade(grading_strategy)\n",
    "        foreign_company.display()\n",
    "    else:\n",
    "        print(\"Foreign company not found\")\n",
    "except Exception as e:\n",
    "    print(f\"Error processing foreign company: {e}\")\n",
    "\n",
    "# Commenting out this line so you can run this cell more than once.\n",
    "# conn.close()"
   ]
  },
  {
   "cell_type": "markdown",
   "metadata": {},
   "source": [
    "## Self-paced Exercise\n",
    "\n",
    "You now may use an LLM to do the following:\n",
    "\n",
    "Implement a third kind of company - a **crypto currency**\n",
    "- Traded 24 hours, so has no daily “closing” price\n",
    "\n",
    "Question to think about with the LLM:\n",
    "\n",
    "- Can you use the current TimeSeries database, or do you need a new one?\n",
    "- Can you modify the code to calculate Bollinger bands, moving average etc. for these companies?"
   ]
  },
  {
   "cell_type": "markdown",
   "metadata": {
    "jp-MarkdownHeadingCollapsed": true
   },
   "source": [
    "# Suggested solution (it is advised to try it yourself before checking it)"
   ]
  },
  {
   "cell_type": "code",
   "execution_count": null,
   "metadata": {
    "jupyter": {
     "source_hidden": true
    }
   },
   "outputs": [],
   "source": [
    "class CryptoCompany(Company):\n",
    "    def __init__(self, company_id, ticker, name):\n",
    "        super().__init__(company_id, ticker, name)\n",
    "        self.company_type = 'Crypto'\n",
    "\n",
    "## Using a special ticker pattern for Crypto Currency - X. Redefining the CompanyFactory\n",
    "class CompanyFactory:\n",
    "    @staticmethod\n",
    "    def get_company(identifier, conn):\n",
    "        cursor = conn.cursor()\n",
    "\n",
    "        if isinstance(identifier, str):\n",
    "            query = 'SELECT id, ticker, name FROM companies WHERE ticker = ?'\n",
    "            cursor.execute(query, (identifier,))\n",
    "            row = cursor.fetchone()\n",
    "            if row:\n",
    "                # Check if the ticker indicates a cryptocurrency\n",
    "                if row[1].startswith('X'):\n",
    "                    return CryptoCompany(row[0], row[1], row[2])\n",
    "                else:\n",
    "                    return DomesticCompany(row[0], row[1], row[2])\n",
    "        else:\n",
    "            query = 'SELECT id, ticker, name FROM companies WHERE id = ?'\n",
    "            cursor.execute(query, (identifier,))\n",
    "            row = cursor.fetchone()\n",
    "            if row:\n",
    "                # If ticker is equal to ZZZZ, it's a foreign company\n",
    "                if row[1] == 'ZZZZ':\n",
    "                    return ForeignCompany(row[0], row[1], row[2])\n",
    "                elif row[1].startswith('X'):\n",
    "                    return CryptoCompany(row[0], row[1], row[2])\n",
    "                else:\n",
    "                    return DomesticCompany(row[0], row[1], row[2])"
   ]
  },
  {
   "cell_type": "code",
   "execution_count": null,
   "metadata": {
    "jupyter": {
     "source_hidden": true
    }
   },
   "outputs": [],
   "source": [
    "# Inserting examples\n",
    "\n",
    "def insert_crypto_companies_and_data():\n",
    "    conn = DatabaseConnection.get_connection()  # Retrieve the database connection\n",
    "    cursor = conn.cursor()\n",
    "\n",
    "    # Insert cryptocurrency companies\n",
    "    companies_insert_query = '''\n",
    "    INSERT INTO companies (id, ticker, name) VALUES (?, ?, ?)\n",
    "    '''\n",
    "    crypto_companies_data = [\n",
    "        (2001, 'XBTC', 'Bitcoin'),\n",
    "        (2002, 'XETH', 'Ethereum')\n",
    "    ]\n",
    "    cursor.executemany(companies_insert_query, crypto_companies_data)\n",
    "\n",
    "    # Insert time series data for the cryptocurrency companies\n",
    "    time_series_insert_query = '''\n",
    "    INSERT INTO TimeSeries (company_id, date, value) VALUES (?, ?, ?)\n",
    "    '''\n",
    "    time_series_data = [\n",
    "        (2001, '2024-09-20', 43000.00),\n",
    "        (2001, '2024-09-21', 43500.50),\n",
    "        (2002, '2024-09-20', 3000.00),\n",
    "        (2002, '2024-09-21', 3050.75)\n",
    "    ]\n",
    "    cursor.executemany(time_series_insert_query, time_series_data)\n",
    "\n",
    "    conn.commit()  # Commit the transactions\n",
    "\n",
    "# Example usage\n",
    "db_connection = DatabaseConnection('company_database.db')  # Initialize the database connection\n",
    "insert_crypto_companies_and_data()  # Insert the data"
   ]
  },
  {
   "cell_type": "code",
   "execution_count": null,
   "metadata": {
    "jupyter": {
     "source_hidden": true
    }
   },
   "outputs": [],
   "source": [
    "## Retrieving the data\n",
    "\n",
    "# Retrieve and display data for Bitcoin (XBTC)\n",
    "try:\n",
    "    crypto_company = CompanyFactory.get_company('XBTC', DatabaseConnection.get_connection())\n",
    "    if crypto_company:\n",
    "        crypto_company.load_time_series(DatabaseConnection.get_connection())\n",
    "        crypto_company.calculate_bollinger_bands()\n",
    "        grading_strategy = BollingerBandGradingStrategy()\n",
    "        crypto_company.assign_grade(grading_strategy)\n",
    "        crypto_company.display()\n",
    "    else:\n",
    "        print(\"Crypto company not found\")\n",
    "except Exception as e:\n",
    "    print(f\"Error processing crypto company: {e}\")"
   ]
  },
  {
   "cell_type": "code",
   "execution_count": null,
   "metadata": {
    "jupyter": {
     "source_hidden": true
    }
   },
   "outputs": [],
   "source": [
    "# Adding more data\n",
    "\n",
    "import datetime\n",
    "\n",
    "def insert_additional_crypto_data(conn, company_id, start_date, start_value):\n",
    "    cursor = conn.cursor()\n",
    "    \n",
    "    # Generate 20 days of data\n",
    "    for i in range(20):\n",
    "        date = start_date + datetime.timedelta(days=i)\n",
    "        value = start_value + (i * 100)  # Increment the value by 100 each day for simplicity\n",
    "        \n",
    "        cursor.execute('''\n",
    "            INSERT INTO TimeSeries (company_id, date, value) VALUES (?, ?, ?)\n",
    "        ''', (company_id, date.strftime('%Y-%m-%d'), value))\n",
    "    \n",
    "    conn.commit()\n",
    "\n",
    "# Assuming you have a function to get your database connection\n",
    "conn = DatabaseConnection.get_connection()\n",
    "\n",
    "# Inserting additional data starting from the last known values\n",
    "insert_additional_crypto_data(conn, 2001, datetime.date(2024, 9, 22), 43500.5)  # For Bitcoin\n",
    "insert_additional_crypto_data(conn, 2002, datetime.date(2024, 9, 22), 3050.75)  # For Ethereum"
   ]
  },
  {
   "cell_type": "code",
   "execution_count": null,
   "metadata": {
    "jupyter": {
     "source_hidden": true
    }
   },
   "outputs": [],
   "source": [
    "## Retrieving the data again\n",
    "\n",
    "# Retrieve and display data for Bitcoin (XBTC)\n",
    "try:\n",
    "    crypto_company = CompanyFactory.get_company('XBTC', DatabaseConnection.get_connection())\n",
    "    if crypto_company:\n",
    "        crypto_company.load_time_series(DatabaseConnection.get_connection())\n",
    "        crypto_company.calculate_bollinger_bands()\n",
    "        grading_strategy = BollingerBandGradingStrategy()\n",
    "        crypto_company.assign_grade(grading_strategy)\n",
    "        crypto_company.display()\n",
    "    else:\n",
    "        print(\"Crypto company not found\")\n",
    "except Exception as e:\n",
    "    print(f\"Error processing crypto company: {e}\")"
   ]
  },
  {
   "cell_type": "markdown",
   "metadata": {
    "jp-MarkdownHeadingCollapsed": true
   },
   "source": [
    "# LLM prompts and outputs (it is advised to only check it after trying it yourself)"
   ]
  }
 ],
 "metadata": {
  "colab": {
   "provenance": []
  },
  "kernelspec": {
   "display_name": "Python 3 (ipykernel)",
   "language": "python",
   "name": "python3"
  },
  "language_info": {
   "codemirror_mode": {
    "name": "ipython",
    "version": 3
   },
   "file_extension": ".py",
   "mimetype": "text/x-python",
   "name": "python",
   "nbconvert_exporter": "python",
   "pygments_lexer": "ipython3",
   "version": "3.11.4"
  }
 },
 "nbformat": 4,
 "nbformat_minor": 4
}
