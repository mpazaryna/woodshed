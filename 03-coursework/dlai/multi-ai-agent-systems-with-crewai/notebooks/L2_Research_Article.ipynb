{
 "cells": [
  {
   "cell_type": "markdown",
   "metadata": {},
   "source": [
    "You can download the `requirements.txt` for this course from the workspace of this lab. `File --> Open...`"
   ]
  },
  {
   "cell_type": "markdown",
   "metadata": {},
   "source": [
    "# L2: Create Agents to Research and Write an Article\n",
    "\n",
    "In this lesson, you will be introduced to the foundational concepts of multi-agent systems and get an overview of the crewAI framework."
   ]
  },
  {
   "cell_type": "markdown",
   "metadata": {},
   "source": [
    "The libraries are already installed in the classroom. If you're running this notebook on your own machine, you can install the following:\n",
    "```Python\n",
    "!pip install crewai==0.28.8 crewai_tools==0.1.6 langchain_community==0.0.29\n",
    "```"
   ]
  },
  {
   "cell_type": "code",
   "execution_count": 7,
   "metadata": {
    "height": 64
   },
   "outputs": [],
   "source": [
    "# Warning control\n",
    "import warnings\n",
    "warnings.filterwarnings('ignore')"
   ]
  },
  {
   "cell_type": "markdown",
   "metadata": {},
   "source": [
    "- Import from the crewAI libray."
   ]
  },
  {
   "cell_type": "code",
   "execution_count": 8,
   "metadata": {
    "height": 30
   },
   "outputs": [],
   "source": [
    "from crewai import Agent, Task, Crew"
   ]
  },
  {
   "cell_type": "markdown",
   "metadata": {},
   "source": [
    "- As a LLM for your agents, you'll be using OpenAI's `gpt-3.5-turbo`.\n",
    "\n",
    "**Optional Note:** crewAI also allow other popular models to be used as a LLM for your Agents. You can see some of the examples at the [bottom of the notebook](#1)."
   ]
  },
  {
   "cell_type": "code",
   "execution_count": 9,
   "metadata": {
    "height": 98
   },
   "outputs": [],
   "source": [
    "import os\n",
    "from utils import get_openai_api_key\n",
    "\n",
    "openai_api_key = get_openai_api_key()\n",
    "os.environ[\"OPENAI_MODEL_NAME\"] = 'gpt-3.5-turbo'"
   ]
  },
  {
   "cell_type": "markdown",
   "metadata": {},
   "source": [
    "## Creating Agents\n",
    "\n",
    "- Define your Agents, and provide them a `role`, `goal` and `backstory`.\n",
    "- It has been seen that LLMs perform better when they are role playing."
   ]
  },
  {
   "cell_type": "markdown",
   "metadata": {},
   "source": [
    "### Agent: Planner\n",
    "\n",
    "**Note**: The benefit of using _multiple strings_ :\n",
    "```Python\n",
    "varname = \"line 1 of text\"\n",
    "          \"line 2 of text\"\n",
    "```\n",
    "\n",
    "versus the _triple quote docstring_:\n",
    "```Python\n",
    "varname = \"\"\"line 1 of text\n",
    "             line 2 of text\n",
    "          \"\"\"\n",
    "```\n",
    "is that it can avoid adding those whitespaces and newline characters, making it better formatted to be passed to the LLM."
   ]
  },
  {
   "cell_type": "code",
   "execution_count": 10,
   "metadata": {
    "height": 234
   },
   "outputs": [],
   "source": [
    "planner = Agent(\n",
    "    role=\"Content Planner\",\n",
    "    goal=\"Plan engaging and factually accurate content on {topic}\",\n",
    "    backstory=\"You're working on planning a blog article \"\n",
    "              \"about the topic: {topic}.\"\n",
    "              \"You collect information that helps the \"\n",
    "              \"audience learn something \"\n",
    "              \"and make informed decisions. \"\n",
    "              \"Your work is the basis for \"\n",
    "              \"the Content Writer to write an article on this topic.\",\n",
    "    allow_delegation=False,\n",
    "\tverbose=True\n",
    ")"
   ]
  },
  {
   "cell_type": "markdown",
   "metadata": {},
   "source": [
    "### Agent: Writer"
   ]
  },
  {
   "cell_type": "code",
   "execution_count": 11,
   "metadata": {
    "height": 370
   },
   "outputs": [],
   "source": [
    "writer = Agent(\n",
    "    role=\"Content Writer\",\n",
    "    goal=\"Write insightful and factually accurate \"\n",
    "         \"opinion piece about the topic: {topic}\",\n",
    "    backstory=\"You're working on a writing \"\n",
    "              \"a new opinion piece about the topic: {topic}. \"\n",
    "              \"You base your writing on the work of \"\n",
    "              \"the Content Planner, who provides an outline \"\n",
    "              \"and relevant context about the topic. \"\n",
    "              \"You follow the main objectives and \"\n",
    "              \"direction of the outline, \"\n",
    "              \"as provide by the Content Planner. \"\n",
    "              \"You also provide objective and impartial insights \"\n",
    "              \"and back them up with information \"\n",
    "              \"provide by the Content Planner. \"\n",
    "              \"You acknowledge in your opinion piece \"\n",
    "              \"when your statements are opinions \"\n",
    "              \"as opposed to objective statements.\",\n",
    "    allow_delegation=False,\n",
    "    verbose=True\n",
    ")"
   ]
  },
  {
   "cell_type": "markdown",
   "metadata": {},
   "source": [
    "### Agent: Editor"
   ]
  },
  {
   "cell_type": "code",
   "execution_count": 12,
   "metadata": {
    "height": 268
   },
   "outputs": [],
   "source": [
    "editor = Agent(\n",
    "    role=\"Editor\",\n",
    "    goal=\"Edit a given blog post to align with \"\n",
    "         \"the writing style of the organization. \",\n",
    "    backstory=\"You are an editor who receives a blog post \"\n",
    "              \"from the Content Writer. \"\n",
    "              \"Your goal is to review the blog post \"\n",
    "              \"to ensure that it follows journalistic best practices,\"\n",
    "              \"provides balanced viewpoints \"\n",
    "              \"when providing opinions or assertions, \"\n",
    "              \"and also avoids major controversial topics \"\n",
    "              \"or opinions when possible.\",\n",
    "    allow_delegation=False,\n",
    "    verbose=True\n",
    ")"
   ]
  },
  {
   "cell_type": "markdown",
   "metadata": {},
   "source": [
    "## Creating Tasks\n",
    "\n",
    "- Define your Tasks, and provide them a `description`, `expected_output` and `agent`."
   ]
  },
  {
   "cell_type": "markdown",
   "metadata": {},
   "source": [
    "### Task: Plan"
   ]
  },
  {
   "cell_type": "code",
   "execution_count": 13,
   "metadata": {
    "height": 268
   },
   "outputs": [],
   "source": [
    "plan = Task(\n",
    "    description=(\n",
    "        \"1. Prioritize the latest trends, key players, \"\n",
    "            \"and noteworthy news on {topic}.\\n\"\n",
    "        \"2. Identify the target audience, considering \"\n",
    "            \"their interests and pain points.\\n\"\n",
    "        \"3. Develop a detailed content outline including \"\n",
    "            \"an introduction, key points, and a call to action.\\n\"\n",
    "        \"4. Include SEO keywords and relevant data or sources.\"\n",
    "    ),\n",
    "    expected_output=\"A comprehensive content plan document \"\n",
    "        \"with an outline, audience analysis, \"\n",
    "        \"SEO keywords, and resources.\",\n",
    "    agent=planner\n",
    ")"
   ]
  },
  {
   "cell_type": "markdown",
   "metadata": {},
   "source": [
    "### Task: Write"
   ]
  },
  {
   "cell_type": "code",
   "execution_count": 14,
   "metadata": {
    "height": 319
   },
   "outputs": [],
   "source": [
    "write = Task(\n",
    "    description=(\n",
    "        \"1. Use the content plan to craft a compelling \"\n",
    "            \"blog post on {topic}.\\n\"\n",
    "        \"2. Incorporate SEO keywords naturally.\\n\"\n",
    "\t\t\"3. Sections/Subtitles are properly named \"\n",
    "            \"in an engaging manner.\\n\"\n",
    "        \"4. Ensure the post is structured with an \"\n",
    "            \"engaging introduction, insightful body, \"\n",
    "            \"and a summarizing conclusion.\\n\"\n",
    "        \"5. Proofread for grammatical errors and \"\n",
    "            \"alignment with the brand's voice.\\n\"\n",
    "    ),\n",
    "    expected_output=\"A well-written blog post \"\n",
    "        \"in markdown format, ready for publication, \"\n",
    "        \"each section should have 2 or 3 paragraphs.\",\n",
    "    agent=writer,\n",
    ")"
   ]
  },
  {
   "cell_type": "markdown",
   "metadata": {},
   "source": [
    "### Task: Edit"
   ]
  },
  {
   "cell_type": "code",
   "execution_count": 15,
   "metadata": {
    "height": 166
   },
   "outputs": [],
   "source": [
    "edit = Task(\n",
    "    description=(\"Proofread the given blog post for \"\n",
    "                 \"grammatical errors and \"\n",
    "                 \"alignment with the brand's voice.\"),\n",
    "    expected_output=\"A well-written blog post in markdown format, \"\n",
    "                    \"ready for publication, \"\n",
    "                    \"each section should have 2 or 3 paragraphs.\",\n",
    "    agent=editor\n",
    ")"
   ]
  },
  {
   "cell_type": "markdown",
   "metadata": {},
   "source": [
    "## Creating the Crew\n",
    "\n",
    "- Create your crew of Agents\n",
    "- Pass the tasks to be performed by those agents.\n",
    "    - **Note**: *For this simple example*, the tasks will be performed sequentially (i.e they are dependent on each other), so the _order_ of the task in the list _matters_.\n",
    "- `verbose=2` allows you to see all the logs of the execution. "
   ]
  },
  {
   "cell_type": "code",
   "execution_count": 16,
   "metadata": {
    "height": 98
   },
   "outputs": [],
   "source": [
    "crew = Crew(\n",
    "    agents=[planner, writer, editor],\n",
    "    tasks=[plan, write, edit],\n",
    "    verbose=2\n",
    ")"
   ]
  },
  {
   "cell_type": "markdown",
   "metadata": {},
   "source": [
    "## Running the Crew"
   ]
  },
  {
   "cell_type": "markdown",
   "metadata": {},
   "source": [
    "**Note**: LLMs can provide different outputs for they same input, so what you get might be different than what you see in the video."
   ]
  },
  {
   "cell_type": "code",
   "execution_count": 17,
   "metadata": {
    "height": 30
   },
   "outputs": [
    {
     "name": "stdout",
     "output_type": "stream",
     "text": [
      "\u001b[1m\u001b[95m [DEBUG]: == Working Agent: Content Planner\u001b[00m\n",
      "\u001b[1m\u001b[95m [INFO]: == Starting Task: 1. Prioritize the latest trends, key players, and noteworthy news on Artificial Intelligence.\n",
      "2. Identify the target audience, considering their interests and pain points.\n",
      "3. Develop a detailed content outline including an introduction, key points, and a call to action.\n",
      "4. Include SEO keywords and relevant data or sources.\u001b[00m\n",
      "\n",
      "\n",
      "\u001b[1m> Entering new CrewAgentExecutor chain...\u001b[0m\n",
      "\u001b[32;1m\u001b[1;3mI now can give a great answer\n",
      "\n",
      "Final Answer: \n",
      "\n",
      "Content Plan: \n",
      "\n",
      "Title: The Latest Trends and Key Players in Artificial Intelligence\n",
      "\n",
      "Introduction:\n",
      "- Brief overview of artificial intelligence and its impact on various industries\n",
      "- Mention of the rapid advancements and innovations in AI technology\n",
      "\n",
      "Key Points:\n",
      "1. Latest Trends in Artificial Intelligence:\n",
      "- Deep learning and neural networks\n",
      "- Natural language processing and sentiment analysis\n",
      "- Autonomous vehicles and robotics\n",
      "- Healthcare applications such as medical imaging and predictive analytics\n",
      "- AI ethics and bias mitigation\n",
      "\n",
      "2. Key Players in the AI Industry:\n",
      "- Google (Google Brain, DeepMind)\n",
      "- IBM (Watson)\n",
      "- Microsoft (Azure AI)\n",
      "- Amazon (Alexa)\n",
      "- Tesla (Autopilot)\n",
      "- Facebook (FAIR)\n",
      "- OpenAI\n",
      "- NVIDIA\n",
      "\n",
      "3. Noteworthy News in Artificial Intelligence:\n",
      "- Recent breakthroughs in AI research\n",
      "- Acquisitions and partnerships in the AI industry\n",
      "- Impact of AI on job market and workforce\n",
      "- Ethical concerns and regulations surrounding AI technology\n",
      "\n",
      "Audience Analysis:\n",
      "Target Audience: \n",
      "- Tech enthusiasts\n",
      "- Business professionals\n",
      "- Students and researchers\n",
      "- Anyone interested in the future of technology and AI\n",
      "\n",
      "Interests:\n",
      "- Stay updated on the latest trends and developments in AI\n",
      "- Learn about key players in the AI industry and their contributions\n",
      "- Understand the impact of AI on society and various sectors\n",
      "- Stay informed about ethical considerations and challenges in AI technology\n",
      "\n",
      "Pain Points:\n",
      "- Lack of understanding of complex AI concepts\n",
      "- Difficulty in keeping up with the fast-paced advancements in AI technology\n",
      "- Concerns about job displacement due to automation\n",
      "- Questions about ethical implications of AI technology\n",
      "\n",
      "Call to Action:\n",
      "- Encourage readers to explore further resources and articles on AI trends\n",
      "- Prompt readers to engage in discussions about AI ethics and regulations\n",
      "- Invite readers to share their thoughts and experiences with AI technology\n",
      "\n",
      "SEO Keywords:\n",
      "- Artificial Intelligence trends\n",
      "- AI industry players\n",
      "- Latest news in AI\n",
      "- Ethical AI technology\n",
      "- Impact of AI on society\n",
      "\n",
      "Resources:\n",
      "1. \"The AI Revolution: The Road to Superintelligence\" by Tim Urban (Wait But Why)\n",
      "2. \"Artificial Intelligence: A Guide for Thinking Humans\" by Melanie Mitchell\n",
      "3. \"Ethics of Artificial Intelligence and Robotics\" by Vincent C. Müller\n",
      "4. Forbes AI section\n",
      "5. MIT Technology Review AI articles\n",
      "\n",
      "Overall, this content plan aims to provide a comprehensive overview of the latest trends and key players in the artificial intelligence industry, catering to a diverse audience with varying levels of interest and knowledge in AI technology. By incorporating SEO keywords and relevant resources, the blog article will serve as an informative and engaging piece for readers seeking to stay informed about the rapidly evolving field of artificial intelligence.\u001b[0m\n",
      "\n",
      "\u001b[1m> Finished chain.\u001b[0m\n",
      "\u001b[1m\u001b[92m [DEBUG]: == [Content Planner] Task output: Content Plan: \n",
      "\n",
      "Title: The Latest Trends and Key Players in Artificial Intelligence\n",
      "\n",
      "Introduction:\n",
      "- Brief overview of artificial intelligence and its impact on various industries\n",
      "- Mention of the rapid advancements and innovations in AI technology\n",
      "\n",
      "Key Points:\n",
      "1. Latest Trends in Artificial Intelligence:\n",
      "- Deep learning and neural networks\n",
      "- Natural language processing and sentiment analysis\n",
      "- Autonomous vehicles and robotics\n",
      "- Healthcare applications such as medical imaging and predictive analytics\n",
      "- AI ethics and bias mitigation\n",
      "\n",
      "2. Key Players in the AI Industry:\n",
      "- Google (Google Brain, DeepMind)\n",
      "- IBM (Watson)\n",
      "- Microsoft (Azure AI)\n",
      "- Amazon (Alexa)\n",
      "- Tesla (Autopilot)\n",
      "- Facebook (FAIR)\n",
      "- OpenAI\n",
      "- NVIDIA\n",
      "\n",
      "3. Noteworthy News in Artificial Intelligence:\n",
      "- Recent breakthroughs in AI research\n",
      "- Acquisitions and partnerships in the AI industry\n",
      "- Impact of AI on job market and workforce\n",
      "- Ethical concerns and regulations surrounding AI technology\n",
      "\n",
      "Audience Analysis:\n",
      "Target Audience: \n",
      "- Tech enthusiasts\n",
      "- Business professionals\n",
      "- Students and researchers\n",
      "- Anyone interested in the future of technology and AI\n",
      "\n",
      "Interests:\n",
      "- Stay updated on the latest trends and developments in AI\n",
      "- Learn about key players in the AI industry and their contributions\n",
      "- Understand the impact of AI on society and various sectors\n",
      "- Stay informed about ethical considerations and challenges in AI technology\n",
      "\n",
      "Pain Points:\n",
      "- Lack of understanding of complex AI concepts\n",
      "- Difficulty in keeping up with the fast-paced advancements in AI technology\n",
      "- Concerns about job displacement due to automation\n",
      "- Questions about ethical implications of AI technology\n",
      "\n",
      "Call to Action:\n",
      "- Encourage readers to explore further resources and articles on AI trends\n",
      "- Prompt readers to engage in discussions about AI ethics and regulations\n",
      "- Invite readers to share their thoughts and experiences with AI technology\n",
      "\n",
      "SEO Keywords:\n",
      "- Artificial Intelligence trends\n",
      "- AI industry players\n",
      "- Latest news in AI\n",
      "- Ethical AI technology\n",
      "- Impact of AI on society\n",
      "\n",
      "Resources:\n",
      "1. \"The AI Revolution: The Road to Superintelligence\" by Tim Urban (Wait But Why)\n",
      "2. \"Artificial Intelligence: A Guide for Thinking Humans\" by Melanie Mitchell\n",
      "3. \"Ethics of Artificial Intelligence and Robotics\" by Vincent C. Müller\n",
      "4. Forbes AI section\n",
      "5. MIT Technology Review AI articles\n",
      "\n",
      "Overall, this content plan aims to provide a comprehensive overview of the latest trends and key players in the artificial intelligence industry, catering to a diverse audience with varying levels of interest and knowledge in AI technology. By incorporating SEO keywords and relevant resources, the blog article will serve as an informative and engaging piece for readers seeking to stay informed about the rapidly evolving field of artificial intelligence.\n",
      "\n",
      "\u001b[00m\n",
      "\u001b[1m\u001b[95m [DEBUG]: == Working Agent: Content Writer\u001b[00m\n",
      "\u001b[1m\u001b[95m [INFO]: == Starting Task: 1. Use the content plan to craft a compelling blog post on Artificial Intelligence.\n",
      "2. Incorporate SEO keywords naturally.\n",
      "3. Sections/Subtitles are properly named in an engaging manner.\n",
      "4. Ensure the post is structured with an engaging introduction, insightful body, and a summarizing conclusion.\n",
      "5. Proofread for grammatical errors and alignment with the brand's voice.\n",
      "\u001b[00m\n",
      "\n",
      "\n",
      "\u001b[1m> Entering new CrewAgentExecutor chain...\u001b[0m\n",
      "\u001b[32;1m\u001b[1;3mI now can give a great answer\n",
      "\n",
      "Final Answer:\n",
      "\n",
      "# The Latest Trends and Key Players in Artificial Intelligence\n",
      "\n",
      "## Introduction\n",
      "\n",
      "Artificial intelligence (AI) has become a transformative force across various industries, revolutionizing the way we live and work. The rapid advancements in AI technology have led to exciting developments that are reshaping the future of society. From deep learning and neural networks to natural language processing and autonomous vehicles, AI is at the forefront of innovation. In this blog post, we will explore the latest trends and key players in the AI industry, shedding light on the impact of AI on society and the ethical considerations surrounding this technology.\n",
      "\n",
      "## Latest Trends in Artificial Intelligence\n",
      "\n",
      "### Deep Learning and Neural Networks\n",
      "Deep learning has emerged as a powerful subset of machine learning, enabling computers to learn from data and make decisions without human intervention. Neural networks, inspired by the human brain, are at the core of deep learning algorithms, driving advancements in image and speech recognition, natural language processing, and more.\n",
      "\n",
      "### Natural Language Processing and Sentiment Analysis\n",
      "Natural language processing (NLP) allows computers to understand and generate human language, leading to applications like chatbots, language translation, and sentiment analysis. Sentiment analysis, in particular, helps businesses gauge public opinion and customer feedback, making it a valuable tool for market research.\n",
      "\n",
      "### Autonomous Vehicles and Robotics\n",
      "AI is revolutionizing the transportation industry with the development of autonomous vehicles and drones. Self-driving cars equipped with AI technology are poised to enhance road safety, reduce traffic congestion, and transform the way we commute. Robotics, powered by AI, are also making significant strides in manufacturing, healthcare, and other sectors.\n",
      "\n",
      "### Healthcare Applications\n",
      "In the healthcare sector, AI is being leveraged for medical imaging, predictive analytics, and personalized medicine. AI-powered tools can analyze medical images with precision, predict patient outcomes, and recommend personalized treatment plans, improving healthcare delivery and patient outcomes.\n",
      "\n",
      "### AI Ethics and Bias Mitigation\n",
      "As AI technology becomes more pervasive, concerns about ethics and bias have come to the forefront. Ensuring that AI systems are fair, transparent, and accountable is crucial to building trust and mitigating potential harm. Ethical considerations, such as data privacy, algorithmic bias, and the impact of AI on job displacement, are key areas of focus for policymakers and industry stakeholders.\n",
      "\n",
      "## Key Players in the AI Industry\n",
      "\n",
      "The AI industry is populated by key players who are driving innovation and shaping the future of AI technology. Companies like Google, IBM, Microsoft, Amazon, Tesla, Facebook, OpenAI, and NVIDIA are at the forefront of AI research and development. Google's research division, Google Brain, and its subsidiary DeepMind are leading the way in AI breakthroughs. IBM's Watson platform is revolutionizing industries with its cognitive computing capabilities. Microsoft's Azure AI services are empowering businesses with AI solutions. Amazon's Alexa has become a household name for voice-activated AI assistants. Tesla's Autopilot feature is paving the way for autonomous driving. Facebook's AI Research (FAIR) lab is pushing the boundaries of AI research. OpenAI is dedicated to ensuring that AI benefits all of humanity. NVIDIA's GPUs are powering AI applications across industries, from gaming to healthcare.\n",
      "\n",
      "## Noteworthy News in Artificial Intelligence\n",
      "\n",
      "### Recent Breakthroughs in AI Research\n",
      "AI research has seen significant breakthroughs in recent years, from AlphaGo's victory over human Go champions to GPT-3's language generation capabilities. These advancements are pushing the boundaries of AI capabilities and opening up new possibilities for AI applications.\n",
      "\n",
      "### Acquisitions and Partnerships in the AI Industry\n",
      "Mergers and acquisitions are reshaping the AI landscape, as companies seek to bolster their AI capabilities through strategic partnerships. From tech giants acquiring AI startups to industry collaborations, the AI industry is witnessing a wave of consolidation and collaboration.\n",
      "\n",
      "### Impact of AI on Job Market and Workforce\n",
      "The rise of AI technology has sparked debates about its impact on the job market and the future of work. While AI has the potential to automate repetitive tasks and enhance productivity, there are concerns about job displacement and the need for upskilling and reskilling to adapt to a changing workforce landscape.\n",
      "\n",
      "### Ethical Concerns and Regulations Surrounding AI Technology\n",
      "Ethical considerations are paramount in the development and deployment of AI technology. Issues like data privacy, algorithmic bias, transparency, and accountability are central to ensuring that AI systems are fair and beneficial for society. Policymakers and industry leaders are grappling with the need for regulations to govern the ethical use of AI.\n",
      "\n",
      "## Conclusion\n",
      "\n",
      "In conclusion, artificial intelligence is a dynamic field that is reshaping industries and societies worldwide. The latest trends in AI, from deep learning to autonomous vehicles, are driving innovation and transforming the way we live and work. Key players in the AI industry, such as Google, IBM, Microsoft, and Amazon, are at the forefront of AI research and development. Noteworthy news in AI, including breakthroughs in research, acquisitions, and ethical concerns, are shaping the future of AI technology. As we navigate the complexities of AI ethics and regulations, it is essential to stay informed and engaged in discussions about the impact of AI on society. By exploring further resources and articles on AI trends and sharing our thoughts and experiences with AI technology, we can shape a future where AI benefits all of humanity.\u001b[0m\n",
      "\n",
      "\u001b[1m> Finished chain.\u001b[0m\n",
      "\u001b[1m\u001b[92m [DEBUG]: == [Content Writer] Task output: # The Latest Trends and Key Players in Artificial Intelligence\n",
      "\n",
      "## Introduction\n",
      "\n",
      "Artificial intelligence (AI) has become a transformative force across various industries, revolutionizing the way we live and work. The rapid advancements in AI technology have led to exciting developments that are reshaping the future of society. From deep learning and neural networks to natural language processing and autonomous vehicles, AI is at the forefront of innovation. In this blog post, we will explore the latest trends and key players in the AI industry, shedding light on the impact of AI on society and the ethical considerations surrounding this technology.\n",
      "\n",
      "## Latest Trends in Artificial Intelligence\n",
      "\n",
      "### Deep Learning and Neural Networks\n",
      "Deep learning has emerged as a powerful subset of machine learning, enabling computers to learn from data and make decisions without human intervention. Neural networks, inspired by the human brain, are at the core of deep learning algorithms, driving advancements in image and speech recognition, natural language processing, and more.\n",
      "\n",
      "### Natural Language Processing and Sentiment Analysis\n",
      "Natural language processing (NLP) allows computers to understand and generate human language, leading to applications like chatbots, language translation, and sentiment analysis. Sentiment analysis, in particular, helps businesses gauge public opinion and customer feedback, making it a valuable tool for market research.\n",
      "\n",
      "### Autonomous Vehicles and Robotics\n",
      "AI is revolutionizing the transportation industry with the development of autonomous vehicles and drones. Self-driving cars equipped with AI technology are poised to enhance road safety, reduce traffic congestion, and transform the way we commute. Robotics, powered by AI, are also making significant strides in manufacturing, healthcare, and other sectors.\n",
      "\n",
      "### Healthcare Applications\n",
      "In the healthcare sector, AI is being leveraged for medical imaging, predictive analytics, and personalized medicine. AI-powered tools can analyze medical images with precision, predict patient outcomes, and recommend personalized treatment plans, improving healthcare delivery and patient outcomes.\n",
      "\n",
      "### AI Ethics and Bias Mitigation\n",
      "As AI technology becomes more pervasive, concerns about ethics and bias have come to the forefront. Ensuring that AI systems are fair, transparent, and accountable is crucial to building trust and mitigating potential harm. Ethical considerations, such as data privacy, algorithmic bias, and the impact of AI on job displacement, are key areas of focus for policymakers and industry stakeholders.\n",
      "\n",
      "## Key Players in the AI Industry\n",
      "\n",
      "The AI industry is populated by key players who are driving innovation and shaping the future of AI technology. Companies like Google, IBM, Microsoft, Amazon, Tesla, Facebook, OpenAI, and NVIDIA are at the forefront of AI research and development. Google's research division, Google Brain, and its subsidiary DeepMind are leading the way in AI breakthroughs. IBM's Watson platform is revolutionizing industries with its cognitive computing capabilities. Microsoft's Azure AI services are empowering businesses with AI solutions. Amazon's Alexa has become a household name for voice-activated AI assistants. Tesla's Autopilot feature is paving the way for autonomous driving. Facebook's AI Research (FAIR) lab is pushing the boundaries of AI research. OpenAI is dedicated to ensuring that AI benefits all of humanity. NVIDIA's GPUs are powering AI applications across industries, from gaming to healthcare.\n",
      "\n",
      "## Noteworthy News in Artificial Intelligence\n",
      "\n",
      "### Recent Breakthroughs in AI Research\n",
      "AI research has seen significant breakthroughs in recent years, from AlphaGo's victory over human Go champions to GPT-3's language generation capabilities. These advancements are pushing the boundaries of AI capabilities and opening up new possibilities for AI applications.\n",
      "\n",
      "### Acquisitions and Partnerships in the AI Industry\n",
      "Mergers and acquisitions are reshaping the AI landscape, as companies seek to bolster their AI capabilities through strategic partnerships. From tech giants acquiring AI startups to industry collaborations, the AI industry is witnessing a wave of consolidation and collaboration.\n",
      "\n",
      "### Impact of AI on Job Market and Workforce\n",
      "The rise of AI technology has sparked debates about its impact on the job market and the future of work. While AI has the potential to automate repetitive tasks and enhance productivity, there are concerns about job displacement and the need for upskilling and reskilling to adapt to a changing workforce landscape.\n",
      "\n",
      "### Ethical Concerns and Regulations Surrounding AI Technology\n",
      "Ethical considerations are paramount in the development and deployment of AI technology. Issues like data privacy, algorithmic bias, transparency, and accountability are central to ensuring that AI systems are fair and beneficial for society. Policymakers and industry leaders are grappling with the need for regulations to govern the ethical use of AI.\n",
      "\n",
      "## Conclusion\n",
      "\n",
      "In conclusion, artificial intelligence is a dynamic field that is reshaping industries and societies worldwide. The latest trends in AI, from deep learning to autonomous vehicles, are driving innovation and transforming the way we live and work. Key players in the AI industry, such as Google, IBM, Microsoft, and Amazon, are at the forefront of AI research and development. Noteworthy news in AI, including breakthroughs in research, acquisitions, and ethical concerns, are shaping the future of AI technology. As we navigate the complexities of AI ethics and regulations, it is essential to stay informed and engaged in discussions about the impact of AI on society. By exploring further resources and articles on AI trends and sharing our thoughts and experiences with AI technology, we can shape a future where AI benefits all of humanity.\n",
      "\n",
      "\u001b[00m\n",
      "\u001b[1m\u001b[95m [DEBUG]: == Working Agent: Editor\u001b[00m\n",
      "\u001b[1m\u001b[95m [INFO]: == Starting Task: Proofread the given blog post for grammatical errors and alignment with the brand's voice.\u001b[00m\n",
      "\n",
      "\n",
      "\u001b[1m> Entering new CrewAgentExecutor chain...\u001b[0m\n",
      "\u001b[32;1m\u001b[1;3mI now can give a great answer\n",
      "\n",
      "Final Answer:\n",
      "# The Latest Trends and Key Players in Artificial Intelligence\n",
      "\n",
      "## Introduction\n",
      "\n",
      "Artificial intelligence (AI) has become a transformative force across various industries, revolutionizing the way we live and work. The rapid advancements in AI technology have led to exciting developments that are reshaping the future of society. From deep learning and neural networks to natural language processing and autonomous vehicles, AI is at the forefront of innovation. In this blog post, we will explore the latest trends and key players in the AI industry, shedding light on the impact of AI on society and the ethical considerations surrounding this technology.\n",
      "\n",
      "## Latest Trends in Artificial Intelligence\n",
      "\n",
      "### Deep Learning and Neural Networks\n",
      "Deep learning has emerged as a powerful subset of machine learning, enabling computers to learn from data and make decisions without human intervention. Neural networks, inspired by the human brain, are at the core of deep learning algorithms, driving advancements in image and speech recognition, natural language processing, and more.\n",
      "\n",
      "### Natural Language Processing and Sentiment Analysis\n",
      "Natural language processing (NLP) allows computers to understand and generate human language, leading to applications like chatbots, language translation, and sentiment analysis. Sentiment analysis, in particular, helps businesses gauge public opinion and customer feedback, making it a valuable tool for market research.\n",
      "\n",
      "### Autonomous Vehicles and Robotics\n",
      "AI is revolutionizing the transportation industry with the development of autonomous vehicles and drones. Self-driving cars equipped with AI technology are poised to enhance road safety, reduce traffic congestion, and transform the way we commute. Robotics, powered by AI, are also making significant strides in manufacturing, healthcare, and other sectors.\n",
      "\n",
      "### Healthcare Applications\n",
      "In the healthcare sector, AI is being leveraged for medical imaging, predictive analytics, and personalized medicine. AI-powered tools can analyze medical images with precision, predict patient outcomes, and recommend personalized treatment plans, improving healthcare delivery and patient outcomes.\n",
      "\n",
      "### AI Ethics and Bias Mitigation\n",
      "As AI technology becomes more pervasive, concerns about ethics and bias have come to the forefront. Ensuring that AI systems are fair, transparent, and accountable is crucial to building trust and mitigating potential harm. Ethical considerations, such as data privacy, algorithmic bias, and the impact of AI on job displacement, are key areas of focus for policymakers and industry stakeholders.\n",
      "\n",
      "## Key Players in the AI Industry\n",
      "\n",
      "The AI industry is populated by key players who are driving innovation and shaping the future of AI technology. Companies like Google, IBM, Microsoft, Amazon, Tesla, Facebook, OpenAI, and NVIDIA are at the forefront of AI research and development. Google's research division, Google Brain, and its subsidiary DeepMind are leading the way in AI breakthroughs. IBM's Watson platform is revolutionizing industries with its cognitive computing capabilities. Microsoft's Azure AI services are empowering businesses with AI solutions. Amazon's Alexa has become a household name for voice-activated AI assistants. Tesla's Autopilot feature is paving the way for autonomous driving. Facebook's AI Research (FAIR) lab is pushing the boundaries of AI research. OpenAI is dedicated to ensuring that AI benefits all of humanity. NVIDIA's GPUs are powering AI applications across industries, from gaming to healthcare.\n",
      "\n",
      "## Noteworthy News in Artificial Intelligence\n",
      "\n",
      "### Recent Breakthroughs in AI Research\n",
      "AI research has seen significant breakthroughs in recent years, from AlphaGo's victory over human Go champions to GPT-3's language generation capabilities. These advancements are pushing the boundaries of AI capabilities and opening up new possibilities for AI applications.\n",
      "\n",
      "### Acquisitions and Partnerships in the AI Industry\n",
      "Mergers and acquisitions are reshaping the AI landscape, as companies seek to bolster their AI capabilities through strategic partnerships. From tech giants acquiring AI startups to industry collaborations, the AI industry is witnessing a wave of consolidation and collaboration.\n",
      "\n",
      "### Impact of AI on Job Market and Workforce\n",
      "The rise of AI technology has sparked debates about its impact on the job market and the future of work. While AI has the potential to automate repetitive tasks and enhance productivity, there are concerns about job displacement and the need for upskilling and reskilling to adapt to a changing workforce landscape.\n",
      "\n",
      "### Ethical Concerns and Regulations Surrounding AI Technology\n",
      "Ethical considerations are paramount in the development and deployment of AI technology. Issues like data privacy, algorithmic bias, transparency, and accountability are central to ensuring that AI systems are fair and beneficial for society. Policymakers and industry leaders are grappling with the need for regulations to govern the ethical use of AI.\n",
      "\n",
      "## Conclusion\n",
      "\n",
      "In conclusion, artificial intelligence is a dynamic field that is reshaping industries and societies worldwide. The latest trends in AI, from deep learning to autonomous vehicles, are driving innovation and transforming the way we live and work. Key players in the AI industry, such as Google, IBM, Microsoft, and Amazon, are at the forefront of AI research and development. Noteworthy news in AI, including breakthroughs in research, acquisitions, and ethical concerns, are shaping the future of AI technology. As we navigate the complexities of AI ethics and regulations, it is essential to stay informed and engaged in discussions about the impact of AI on society. By exploring further resources and articles on AI trends and sharing our thoughts and experiences with AI technology, we can shape a future where AI benefits all of humanity.\u001b[0m\n",
      "\n",
      "\u001b[1m> Finished chain.\u001b[0m\n",
      "\u001b[1m\u001b[92m [DEBUG]: == [Editor] Task output: # The Latest Trends and Key Players in Artificial Intelligence\n",
      "\n",
      "## Introduction\n",
      "\n",
      "Artificial intelligence (AI) has become a transformative force across various industries, revolutionizing the way we live and work. The rapid advancements in AI technology have led to exciting developments that are reshaping the future of society. From deep learning and neural networks to natural language processing and autonomous vehicles, AI is at the forefront of innovation. In this blog post, we will explore the latest trends and key players in the AI industry, shedding light on the impact of AI on society and the ethical considerations surrounding this technology.\n",
      "\n",
      "## Latest Trends in Artificial Intelligence\n",
      "\n",
      "### Deep Learning and Neural Networks\n",
      "Deep learning has emerged as a powerful subset of machine learning, enabling computers to learn from data and make decisions without human intervention. Neural networks, inspired by the human brain, are at the core of deep learning algorithms, driving advancements in image and speech recognition, natural language processing, and more.\n",
      "\n",
      "### Natural Language Processing and Sentiment Analysis\n",
      "Natural language processing (NLP) allows computers to understand and generate human language, leading to applications like chatbots, language translation, and sentiment analysis. Sentiment analysis, in particular, helps businesses gauge public opinion and customer feedback, making it a valuable tool for market research.\n",
      "\n",
      "### Autonomous Vehicles and Robotics\n",
      "AI is revolutionizing the transportation industry with the development of autonomous vehicles and drones. Self-driving cars equipped with AI technology are poised to enhance road safety, reduce traffic congestion, and transform the way we commute. Robotics, powered by AI, are also making significant strides in manufacturing, healthcare, and other sectors.\n",
      "\n",
      "### Healthcare Applications\n",
      "In the healthcare sector, AI is being leveraged for medical imaging, predictive analytics, and personalized medicine. AI-powered tools can analyze medical images with precision, predict patient outcomes, and recommend personalized treatment plans, improving healthcare delivery and patient outcomes.\n",
      "\n",
      "### AI Ethics and Bias Mitigation\n",
      "As AI technology becomes more pervasive, concerns about ethics and bias have come to the forefront. Ensuring that AI systems are fair, transparent, and accountable is crucial to building trust and mitigating potential harm. Ethical considerations, such as data privacy, algorithmic bias, and the impact of AI on job displacement, are key areas of focus for policymakers and industry stakeholders.\n",
      "\n",
      "## Key Players in the AI Industry\n",
      "\n",
      "The AI industry is populated by key players who are driving innovation and shaping the future of AI technology. Companies like Google, IBM, Microsoft, Amazon, Tesla, Facebook, OpenAI, and NVIDIA are at the forefront of AI research and development. Google's research division, Google Brain, and its subsidiary DeepMind are leading the way in AI breakthroughs. IBM's Watson platform is revolutionizing industries with its cognitive computing capabilities. Microsoft's Azure AI services are empowering businesses with AI solutions. Amazon's Alexa has become a household name for voice-activated AI assistants. Tesla's Autopilot feature is paving the way for autonomous driving. Facebook's AI Research (FAIR) lab is pushing the boundaries of AI research. OpenAI is dedicated to ensuring that AI benefits all of humanity. NVIDIA's GPUs are powering AI applications across industries, from gaming to healthcare.\n",
      "\n",
      "## Noteworthy News in Artificial Intelligence\n",
      "\n",
      "### Recent Breakthroughs in AI Research\n",
      "AI research has seen significant breakthroughs in recent years, from AlphaGo's victory over human Go champions to GPT-3's language generation capabilities. These advancements are pushing the boundaries of AI capabilities and opening up new possibilities for AI applications.\n",
      "\n",
      "### Acquisitions and Partnerships in the AI Industry\n",
      "Mergers and acquisitions are reshaping the AI landscape, as companies seek to bolster their AI capabilities through strategic partnerships. From tech giants acquiring AI startups to industry collaborations, the AI industry is witnessing a wave of consolidation and collaboration.\n",
      "\n",
      "### Impact of AI on Job Market and Workforce\n",
      "The rise of AI technology has sparked debates about its impact on the job market and the future of work. While AI has the potential to automate repetitive tasks and enhance productivity, there are concerns about job displacement and the need for upskilling and reskilling to adapt to a changing workforce landscape.\n",
      "\n",
      "### Ethical Concerns and Regulations Surrounding AI Technology\n",
      "Ethical considerations are paramount in the development and deployment of AI technology. Issues like data privacy, algorithmic bias, transparency, and accountability are central to ensuring that AI systems are fair and beneficial for society. Policymakers and industry leaders are grappling with the need for regulations to govern the ethical use of AI.\n",
      "\n",
      "## Conclusion\n",
      "\n",
      "In conclusion, artificial intelligence is a dynamic field that is reshaping industries and societies worldwide. The latest trends in AI, from deep learning to autonomous vehicles, are driving innovation and transforming the way we live and work. Key players in the AI industry, such as Google, IBM, Microsoft, and Amazon, are at the forefront of AI research and development. Noteworthy news in AI, including breakthroughs in research, acquisitions, and ethical concerns, are shaping the future of AI technology. As we navigate the complexities of AI ethics and regulations, it is essential to stay informed and engaged in discussions about the impact of AI on society. By exploring further resources and articles on AI trends and sharing our thoughts and experiences with AI technology, we can shape a future where AI benefits all of humanity.\n",
      "\n",
      "\u001b[00m\n"
     ]
    }
   ],
   "source": [
    "result = crew.kickoff(inputs={\"topic\": \"Artificial Intelligence\"})"
   ]
  },
  {
   "cell_type": "markdown",
   "metadata": {},
   "source": [
    "- Display the results of your execution as markdown in the notebook."
   ]
  },
  {
   "cell_type": "code",
   "execution_count": 18,
   "metadata": {
    "height": 47
   },
   "outputs": [
    {
     "data": {
      "text/markdown": [
       "# The Latest Trends and Key Players in Artificial Intelligence\n",
       "\n",
       "## Introduction\n",
       "\n",
       "Artificial intelligence (AI) has become a transformative force across various industries, revolutionizing the way we live and work. The rapid advancements in AI technology have led to exciting developments that are reshaping the future of society. From deep learning and neural networks to natural language processing and autonomous vehicles, AI is at the forefront of innovation. In this blog post, we will explore the latest trends and key players in the AI industry, shedding light on the impact of AI on society and the ethical considerations surrounding this technology.\n",
       "\n",
       "## Latest Trends in Artificial Intelligence\n",
       "\n",
       "### Deep Learning and Neural Networks\n",
       "Deep learning has emerged as a powerful subset of machine learning, enabling computers to learn from data and make decisions without human intervention. Neural networks, inspired by the human brain, are at the core of deep learning algorithms, driving advancements in image and speech recognition, natural language processing, and more.\n",
       "\n",
       "### Natural Language Processing and Sentiment Analysis\n",
       "Natural language processing (NLP) allows computers to understand and generate human language, leading to applications like chatbots, language translation, and sentiment analysis. Sentiment analysis, in particular, helps businesses gauge public opinion and customer feedback, making it a valuable tool for market research.\n",
       "\n",
       "### Autonomous Vehicles and Robotics\n",
       "AI is revolutionizing the transportation industry with the development of autonomous vehicles and drones. Self-driving cars equipped with AI technology are poised to enhance road safety, reduce traffic congestion, and transform the way we commute. Robotics, powered by AI, are also making significant strides in manufacturing, healthcare, and other sectors.\n",
       "\n",
       "### Healthcare Applications\n",
       "In the healthcare sector, AI is being leveraged for medical imaging, predictive analytics, and personalized medicine. AI-powered tools can analyze medical images with precision, predict patient outcomes, and recommend personalized treatment plans, improving healthcare delivery and patient outcomes.\n",
       "\n",
       "### AI Ethics and Bias Mitigation\n",
       "As AI technology becomes more pervasive, concerns about ethics and bias have come to the forefront. Ensuring that AI systems are fair, transparent, and accountable is crucial to building trust and mitigating potential harm. Ethical considerations, such as data privacy, algorithmic bias, and the impact of AI on job displacement, are key areas of focus for policymakers and industry stakeholders.\n",
       "\n",
       "## Key Players in the AI Industry\n",
       "\n",
       "The AI industry is populated by key players who are driving innovation and shaping the future of AI technology. Companies like Google, IBM, Microsoft, Amazon, Tesla, Facebook, OpenAI, and NVIDIA are at the forefront of AI research and development. Google's research division, Google Brain, and its subsidiary DeepMind are leading the way in AI breakthroughs. IBM's Watson platform is revolutionizing industries with its cognitive computing capabilities. Microsoft's Azure AI services are empowering businesses with AI solutions. Amazon's Alexa has become a household name for voice-activated AI assistants. Tesla's Autopilot feature is paving the way for autonomous driving. Facebook's AI Research (FAIR) lab is pushing the boundaries of AI research. OpenAI is dedicated to ensuring that AI benefits all of humanity. NVIDIA's GPUs are powering AI applications across industries, from gaming to healthcare.\n",
       "\n",
       "## Noteworthy News in Artificial Intelligence\n",
       "\n",
       "### Recent Breakthroughs in AI Research\n",
       "AI research has seen significant breakthroughs in recent years, from AlphaGo's victory over human Go champions to GPT-3's language generation capabilities. These advancements are pushing the boundaries of AI capabilities and opening up new possibilities for AI applications.\n",
       "\n",
       "### Acquisitions and Partnerships in the AI Industry\n",
       "Mergers and acquisitions are reshaping the AI landscape, as companies seek to bolster their AI capabilities through strategic partnerships. From tech giants acquiring AI startups to industry collaborations, the AI industry is witnessing a wave of consolidation and collaboration.\n",
       "\n",
       "### Impact of AI on Job Market and Workforce\n",
       "The rise of AI technology has sparked debates about its impact on the job market and the future of work. While AI has the potential to automate repetitive tasks and enhance productivity, there are concerns about job displacement and the need for upskilling and reskilling to adapt to a changing workforce landscape.\n",
       "\n",
       "### Ethical Concerns and Regulations Surrounding AI Technology\n",
       "Ethical considerations are paramount in the development and deployment of AI technology. Issues like data privacy, algorithmic bias, transparency, and accountability are central to ensuring that AI systems are fair and beneficial for society. Policymakers and industry leaders are grappling with the need for regulations to govern the ethical use of AI.\n",
       "\n",
       "## Conclusion\n",
       "\n",
       "In conclusion, artificial intelligence is a dynamic field that is reshaping industries and societies worldwide. The latest trends in AI, from deep learning to autonomous vehicles, are driving innovation and transforming the way we live and work. Key players in the AI industry, such as Google, IBM, Microsoft, and Amazon, are at the forefront of AI research and development. Noteworthy news in AI, including breakthroughs in research, acquisitions, and ethical concerns, are shaping the future of AI technology. As we navigate the complexities of AI ethics and regulations, it is essential to stay informed and engaged in discussions about the impact of AI on society. By exploring further resources and articles on AI trends and sharing our thoughts and experiences with AI technology, we can shape a future where AI benefits all of humanity."
      ],
      "text/plain": [
       "<IPython.core.display.Markdown object>"
      ]
     },
     "execution_count": 18,
     "metadata": {},
     "output_type": "execute_result"
    }
   ],
   "source": [
    "from IPython.display import Markdown\n",
    "Markdown(result)"
   ]
  }
 ],
 "metadata": {
  "colab": {
   "gpuType": "T4",
   "provenance": []
  },
  "kernelspec": {
   "display_name": "Python 3 (ipykernel)",
   "language": "python",
   "name": "python3"
  },
  "language_info": {
   "codemirror_mode": {
    "name": "ipython",
    "version": 3
   },
   "file_extension": ".py",
   "mimetype": "text/x-python",
   "name": "python",
   "nbconvert_exporter": "python",
   "pygments_lexer": "ipython3",
   "version": "3.11.8"
  }
 },
 "nbformat": 4,
 "nbformat_minor": 4
}
