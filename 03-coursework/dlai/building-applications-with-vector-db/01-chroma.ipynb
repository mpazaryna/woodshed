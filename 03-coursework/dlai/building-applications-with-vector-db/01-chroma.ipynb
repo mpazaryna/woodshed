{
 "cells": [
  {
   "cell_type": "code",
   "execution_count": 1,
   "metadata": {},
   "outputs": [],
   "source": [
    "import chromadb\n",
    "client = chromadb.Client()\n",
    "\n",
    "collection = client.get_or_create_collection(\"test\")"
   ]
  },
  {
   "cell_type": "code",
   "execution_count": 2,
   "metadata": {},
   "outputs": [
    {
     "name": "stdout",
     "output_type": "stream",
     "text": [
      "{'ids': [['id5', 'id1'], ['id2', 'id4']], 'distances': [[0.0, 0.0], [11.959999084472656, 11.959999084472656]], 'metadatas': [[{'style': 'style1', 'uri': 'img5.png'}, {'style': 'style1', 'uri': 'img1.png'}], [{'style': 'style2', 'uri': 'img2.png'}, {'style': 'style1', 'uri': 'img4.png'}]], 'embeddings': None, 'documents': [['doc5', 'doc1'], ['doc2', 'doc4']], 'uris': None, 'data': None}\n"
     ]
    }
   ],
   "source": [
    "collection.add(\n",
    "    embeddings=[\n",
    "        [1.1, 2.3, 3.2],\n",
    "        [4.5, 6.9, 4.4],\n",
    "        [1.1, 2.3, 3.2],\n",
    "        [4.5, 6.9, 4.4],\n",
    "        [1.1, 2.3, 3.2],\n",
    "        [4.5, 6.9, 4.4],\n",
    "        [1.1, 2.3, 3.2],\n",
    "        [4.5, 6.9, 4.4],\n",
    "    ],\n",
    "    metadatas=[\n",
    "        {\"uri\": \"img1.png\", \"style\": \"style1\"},\n",
    "        {\"uri\": \"img2.png\", \"style\": \"style2\"},\n",
    "        {\"uri\": \"img3.png\", \"style\": \"style1\"},\n",
    "        {\"uri\": \"img4.png\", \"style\": \"style1\"},\n",
    "        {\"uri\": \"img5.png\", \"style\": \"style1\"},\n",
    "        {\"uri\": \"img6.png\", \"style\": \"style1\"},\n",
    "        {\"uri\": \"img7.png\", \"style\": \"style1\"},\n",
    "        {\"uri\": \"img8.png\", \"style\": \"style1\"},\n",
    "    ],\n",
    "    documents=[\"doc1\", \"doc2\", \"doc3\", \"doc4\", \"doc5\", \"doc6\", \"doc7\", \"doc8\"],\n",
    "    ids=[\"id1\", \"id2\", \"id3\", \"id4\", \"id5\", \"id6\", \"id7\", \"id8\"],\n",
    ")\n",
    "\n",
    "query_result = collection.query(\n",
    "        query_embeddings=[[1.1, 2.3, 3.2], [5.1, 4.3, 2.2]],\n",
    "        n_results=2,\n",
    "    )\n",
    "\n",
    "print(query_result)\n"
   ]
  },
  {
   "cell_type": "code",
   "execution_count": 3,
   "metadata": {},
   "outputs": [],
   "source": [
    "import warnings\n",
    "warnings.filterwarnings('ignore')"
   ]
  },
  {
   "cell_type": "code",
   "execution_count": 4,
   "metadata": {},
   "outputs": [
    {
     "ename": "ModuleNotFoundError",
     "evalue": "No module named 'pinecone'",
     "output_type": "error",
     "traceback": [
      "\u001b[0;31m---------------------------------------------------------------------------\u001b[0m",
      "\u001b[0;31mModuleNotFoundError\u001b[0m                       Traceback (most recent call last)",
      "Cell \u001b[0;32mIn[4], line 3\u001b[0m\n\u001b[1;32m      1\u001b[0m \u001b[38;5;28;01mfrom\u001b[39;00m \u001b[38;5;21;01mdatasets\u001b[39;00m \u001b[38;5;28;01mimport\u001b[39;00m load_dataset\n\u001b[1;32m      2\u001b[0m \u001b[38;5;28;01mfrom\u001b[39;00m \u001b[38;5;21;01msentence_transformers\u001b[39;00m \u001b[38;5;28;01mimport\u001b[39;00m SentenceTransformer\n\u001b[0;32m----> 3\u001b[0m \u001b[38;5;28;01mfrom\u001b[39;00m \u001b[38;5;21;01mpinecone\u001b[39;00m \u001b[38;5;28;01mimport\u001b[39;00m Pinecone, ServerlessSpec\n\u001b[1;32m      4\u001b[0m \u001b[38;5;28;01mfrom\u001b[39;00m \u001b[38;5;21;01mDLAIUtils\u001b[39;00m \u001b[38;5;28;01mimport\u001b[39;00m Utils\n\u001b[1;32m      5\u001b[0m \u001b[38;5;28;01mimport\u001b[39;00m \u001b[38;5;21;01mDLAIUtils\u001b[39;00m\n",
      "\u001b[0;31mModuleNotFoundError\u001b[0m: No module named 'pinecone'"
     ]
    }
   ],
   "source": [
    "from datasets import load_dataset\n",
    "from sentence_transformers import SentenceTransformer\n",
    "from pinecone import Pinecone, ServerlessSpec\n",
    "from DLAIUtils import Utils\n",
    "import DLAIUtils\n",
    "\n",
    "import os\n",
    "import time\n",
    "import torch"
   ]
  },
  {
   "cell_type": "code",
   "execution_count": null,
   "metadata": {},
   "outputs": [],
   "source": [
    "from tqdm.auto import tqdm"
   ]
  },
  {
   "cell_type": "code",
   "execution_count": null,
   "metadata": {},
   "outputs": [],
   "source": [
    "dataset = load_dataset('quora', split='train[240000:290000]')"
   ]
  }
 ],
 "metadata": {
  "kernelspec": {
   "display_name": "Python 3",
   "language": "python",
   "name": "python3"
  },
  "language_info": {
   "codemirror_mode": {
    "name": "ipython",
    "version": 3
   },
   "file_extension": ".py",
   "mimetype": "text/x-python",
   "name": "python",
   "nbconvert_exporter": "python",
   "pygments_lexer": "ipython3",
   "version": "3.11.8"
  }
 },
 "nbformat": 4,
 "nbformat_minor": 2
}
