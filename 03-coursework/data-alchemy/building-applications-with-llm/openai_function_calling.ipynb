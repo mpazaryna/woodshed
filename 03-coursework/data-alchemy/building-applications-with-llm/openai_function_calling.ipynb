{
 "cells": [
  {
   "cell_type": "markdown",
   "metadata": {},
   "source": [
    "# Building Applications with LLMs\n",
    "\n",
    "- [Skool Link](https://www.skool.com/data-alchemy/classroom/a455582e?md=cffccd9c21af41e0bc3669610ce3bc39)\n",
    "- [YouTube](https://www.youtube.com/watch?time_continue=1783&v=NYSWn1ipbgg&embeds_referring_euri=https%3A%2F%2Fwww.skool.com%2F&embeds_referring_origin=https%3A%2F%2Fwww.skool.com&source_ve_path=Mjg2NjY&feature=emb_logo)\n",
    "- [LangChain Experiments](https://github.com/daveebbelaar/langchain-experiments)"
   ]
  },
  {
   "cell_type": "code",
   "execution_count": 1,
   "metadata": {},
   "outputs": [
    {
     "data": {
      "text/plain": [
       "True"
      ]
     },
     "execution_count": 1,
     "metadata": {},
     "output_type": "execute_result"
    }
   ],
   "source": [
    "import os\n",
    "import dotenv\n",
    "\n",
    "dotenv_path = dotenv.find_dotenv()\n",
    "dotenv.load_dotenv(dotenv_path)"
   ]
  },
  {
   "cell_type": "code",
   "execution_count": 2,
   "metadata": {},
   "outputs": [],
   "source": [
    "# --------------------------------------------------------------\n",
    "# Import Modules\n",
    "# --------------------------------------------------------------\n",
    "\n",
    "import os\n",
    "import json\n",
    "import openai\n",
    "from datetime import datetime, timedelta\n",
    "from dotenv import load_dotenv\n",
    "from langchain.chat_models import ChatOpenAI\n",
    "from langchain.schema import HumanMessage, AIMessage, ChatMessage"
   ]
  },
  {
   "cell_type": "code",
   "execution_count": 5,
   "metadata": {},
   "outputs": [
    {
     "name": "stdout",
     "output_type": "stream",
     "text": [
      "I'm sorry, but as an AI, I do not have real-time information on flight schedules. It's best to check with airlines or online flight booking platforms to get the most accurate and up-to-date information about flight schedules.\n"
     ]
    }
   ],
   "source": [
    "# --------------------------------------------------------------\n",
    "# Ask ChatGPT a Question\n",
    "# --------------------------------------------------------------\n",
    "\n",
    "completion = openai.chat.completions.create(\n",
    "    model=\"gpt-3.5-turbo-0613\",\n",
    "    messages=[\n",
    "        {\n",
    "            \"role\": \"user\",\n",
    "            \"content\": \"When's the next flight from Amsterdam to New York?\",\n",
    "        },\n",
    "    ],\n",
    ")\n",
    "\n",
    "output = completion.choices[0].message.content\n",
    "print(output)"
   ]
  },
  {
   "cell_type": "code",
   "execution_count": 6,
   "metadata": {},
   "outputs": [],
   "source": [
    "# --------------------------------------------------------------\n",
    "# Use OpenAI’s Function Calling Feature\n",
    "# --------------------------------------------------------------\n",
    "\n",
    "function_descriptions = [\n",
    "    {\n",
    "        \"name\": \"get_flight_info\",\n",
    "        \"description\": \"Get flight information between two locations\",\n",
    "        \"parameters\": {\n",
    "            \"type\": \"object\",\n",
    "            \"properties\": {\n",
    "                \"loc_origin\": {\n",
    "                    \"type\": \"string\",\n",
    "                    \"description\": \"The departure airport, e.g. DUS\",\n",
    "                },\n",
    "                \"loc_destination\": {\n",
    "                    \"type\": \"string\",\n",
    "                    \"description\": \"The destination airport, e.g. HAM\",\n",
    "                },\n",
    "            },\n",
    "            \"required\": [\"loc_origin\", \"loc_destination\"],\n",
    "        },\n",
    "    }\n",
    "]\n",
    "\n",
    "user_prompt = \"When's the next flight from Amsterdam to New York?\""
   ]
  },
  {
   "cell_type": "code",
   "execution_count": 7,
   "metadata": {},
   "outputs": [],
   "source": [
    "completion = openai.chat.completions.create(\n",
    "    model=\"gpt-3.5-turbo-0613\",\n",
    "    messages=[{\"role\": \"user\", \"content\": user_prompt}],\n",
    "    # Add function calling\n",
    "    functions=function_descriptions,\n",
    "    function_call=\"auto\",  # specify the function call\n",
    ")"
   ]
  },
  {
   "cell_type": "code",
   "execution_count": 8,
   "metadata": {},
   "outputs": [
    {
     "name": "stdout",
     "output_type": "stream",
     "text": [
      "ChatCompletionMessage(content=None, role='assistant', function_call=FunctionCall(arguments='{\\n  \"loc_origin\": \"AMS\",\\n  \"loc_destination\": \"JFK\"\\n}', name='get_flight_info'), tool_calls=None)\n"
     ]
    }
   ],
   "source": [
    "# It automatically fills the arguments with correct info based on the prompt\n",
    "# Note: the function does not exist yet\n",
    "\n",
    "output = completion.choices[0].message\n",
    "print(output)\n"
   ]
  },
  {
   "cell_type": "code",
   "execution_count": 9,
   "metadata": {},
   "outputs": [],
   "source": [
    "# --------------------------------------------------------------\n",
    "# Add a Function\n",
    "# --------------------------------------------------------------\n",
    "\n",
    "\n",
    "def get_flight_info(loc_origin, loc_destination):\n",
    "    \"\"\"Get flight information between two locations.\"\"\"\n",
    "\n",
    "    # Example output returned from an API or database\n",
    "    flight_info = {\n",
    "        \"loc_origin\": loc_origin,\n",
    "        \"loc_destination\": loc_destination,\n",
    "        \"datetime\": str(datetime.now() + timedelta(hours=2)),\n",
    "        \"airline\": \"KLM\",\n",
    "        \"flight\": \"KL643\",\n",
    "    }\n",
    "\n",
    "    return json.dumps(flight_info)\n"
   ]
  },
  {
   "cell_type": "code",
   "execution_count": 10,
   "metadata": {},
   "outputs": [
    {
     "name": "stdout",
     "output_type": "stream",
     "text": [
      "AMS\n",
      "JFK\n",
      "{'loc_origin': 'AMS', 'loc_destination': 'JFK'}\n",
      "{\"loc_origin\": \"AMS\", \"loc_destination\": \"JFK\", \"datetime\": \"2024-03-27 13:00:48.891729\", \"airline\": \"KLM\", \"flight\": \"KL643\"}\n"
     ]
    }
   ],
   "source": [
    "# Use the LLM output to manually call the function\n",
    "# The json.loads function converts the string to a Python object\n",
    "\n",
    "origin = json.loads(output.function_call.arguments).get(\"loc_origin\")\n",
    "destination = json.loads(output.function_call.arguments).get(\"loc_destination\")\n",
    "params = json.loads(output.function_call.arguments)\n",
    "type(params)\n",
    "\n",
    "print(origin)\n",
    "print(destination)\n",
    "print(params)\n",
    "\n",
    "# Call the function with arguments\n",
    "\n",
    "chosen_function = eval(output.function_call.name)\n",
    "flight = chosen_function(**params)\n",
    "\n",
    "print(flight)"
   ]
  },
  {
   "cell_type": "code",
   "execution_count": 11,
   "metadata": {},
   "outputs": [
    {
     "name": "stdout",
     "output_type": "stream",
     "text": [
      "The next flight from Amsterdam (AMS) to New York (JFK) is on March 27, 2024, at 13:00. The flight is operated by KLM (flight KL643).\n"
     ]
    }
   ],
   "source": [
    "# --------------------------------------------------------------\n",
    "# Add function result to the prompt for a final answer\n",
    "# --------------------------------------------------------------\n",
    "\n",
    "# The key is to add the function output back to the messages with role: function\n",
    "second_completion = openai.chat.completions.create(\n",
    "    model=\"gpt-3.5-turbo-0613\",\n",
    "    messages=[\n",
    "        {\"role\": \"user\", \"content\": user_prompt},\n",
    "        {\"role\": \"function\", \"name\": output.function_call.name, \"content\": flight},\n",
    "    ],\n",
    "    functions=function_descriptions,\n",
    ")\n",
    "response = second_completion.choices[0].message.content\n",
    "print(response)"
   ]
  },
  {
   "cell_type": "code",
   "execution_count": 12,
   "metadata": {},
   "outputs": [
    {
     "name": "stdout",
     "output_type": "stream",
     "text": [
      "[{'name': 'get_flight_info', 'description': 'Get flight information between two locations', 'parameters': {'type': 'object', 'properties': {'loc_origin': {'type': 'string', 'description': 'The departure airport, e.g. DUS'}, 'loc_destination': {'type': 'string', 'description': 'The destination airport, e.g. HAM'}}, 'required': ['loc_origin', 'loc_destination']}}, {'name': 'book_flight', 'description': 'Book a flight based on flight information', 'parameters': {'type': 'object', 'properties': {'loc_origin': {'type': 'string', 'description': 'The departure airport, e.g. DUS'}, 'loc_destination': {'type': 'string', 'description': 'The destination airport, e.g. HAM'}, 'datetime': {'type': 'string', 'description': 'The date and time of the flight, e.g. 2023-01-01 01:01'}, 'airline': {'type': 'string', 'description': 'The service airline, e.g. Lufthansa'}}, 'required': ['loc_origin', 'loc_destination', 'datetime', 'airline']}}, {'name': 'file_complaint', 'description': 'File a complaint as a customer', 'parameters': {'type': 'object', 'properties': {'name': {'type': 'string', 'description': 'The name of the user, e.g. John Doe'}, 'email': {'type': 'string', 'description': 'The email address of the user, e.g. john@doe.com'}, 'text': {'type': 'string', 'description': 'Description of issue'}}, 'required': ['name', 'email', 'text']}}]\n"
     ]
    }
   ],
   "source": [
    "# --------------------------------------------------------------\n",
    "# Include Multiple Functions\n",
    "# --------------------------------------------------------------\n",
    "\n",
    "# Expand on function descriptions (3 functions)\n",
    "\n",
    "function_descriptions_multiple = [\n",
    "    {\n",
    "        \"name\": \"get_flight_info\",\n",
    "        \"description\": \"Get flight information between two locations\",\n",
    "        \"parameters\": {\n",
    "            \"type\": \"object\",\n",
    "            \"properties\": {\n",
    "                \"loc_origin\": {\n",
    "                    \"type\": \"string\",\n",
    "                    \"description\": \"The departure airport, e.g. DUS\",\n",
    "                },\n",
    "                \"loc_destination\": {\n",
    "                    \"type\": \"string\",\n",
    "                    \"description\": \"The destination airport, e.g. HAM\",\n",
    "                },\n",
    "            },\n",
    "            \"required\": [\"loc_origin\", \"loc_destination\"],\n",
    "        },\n",
    "    },\n",
    "    {\n",
    "        \"name\": \"book_flight\",\n",
    "        \"description\": \"Book a flight based on flight information\",\n",
    "        \"parameters\": {\n",
    "            \"type\": \"object\",\n",
    "            \"properties\": {\n",
    "                \"loc_origin\": {\n",
    "                    \"type\": \"string\",\n",
    "                    \"description\": \"The departure airport, e.g. DUS\",\n",
    "                },\n",
    "                \"loc_destination\": {\n",
    "                    \"type\": \"string\",\n",
    "                    \"description\": \"The destination airport, e.g. HAM\",\n",
    "                },\n",
    "                \"datetime\": {\n",
    "                    \"type\": \"string\",\n",
    "                    \"description\": \"The date and time of the flight, e.g. 2023-01-01 01:01\",\n",
    "                },\n",
    "                \"airline\": {\n",
    "                    \"type\": \"string\",\n",
    "                    \"description\": \"The service airline, e.g. Lufthansa\",\n",
    "                },\n",
    "            },\n",
    "            \"required\": [\"loc_origin\", \"loc_destination\", \"datetime\", \"airline\"],\n",
    "        },\n",
    "    },\n",
    "    {\n",
    "        \"name\": \"file_complaint\",\n",
    "        \"description\": \"File a complaint as a customer\",\n",
    "        \"parameters\": {\n",
    "            \"type\": \"object\",\n",
    "            \"properties\": {\n",
    "                \"name\": {\n",
    "                    \"type\": \"string\",\n",
    "                    \"description\": \"The name of the user, e.g. John Doe\",\n",
    "                },\n",
    "                \"email\": {\n",
    "                    \"type\": \"string\",\n",
    "                    \"description\": \"The email address of the user, e.g. john@doe.com\",\n",
    "                },\n",
    "                \"text\": {\n",
    "                    \"type\": \"string\",\n",
    "                    \"description\": \"Description of issue\",\n",
    "                },\n",
    "            },\n",
    "            \"required\": [\"name\", \"email\", \"text\"],\n",
    "        },\n",
    "    },\n",
    "]\n",
    "\n",
    "print(function_descriptions_multiple)"
   ]
  },
  {
   "cell_type": "code",
   "execution_count": 17,
   "metadata": {},
   "outputs": [],
   "source": [
    "def ask_and_reply(prompt):\n",
    "    \"\"\"Give LLM a given prompt and get an answer.\"\"\"\n",
    "\n",
    "    completion = openai.chat.completions.create(\n",
    "        model=\"gpt-3.5-turbo-0613\",\n",
    "        messages=[{\"role\": \"user\", \"content\": prompt}],\n",
    "        # add function calling\n",
    "        functions=function_descriptions_multiple,\n",
    "        function_call=\"auto\",  # specify the function call\n",
    "    )\n",
    "\n",
    "    output = completion.choices[0].message\n",
    "    return output"
   ]
  },
  {
   "cell_type": "code",
   "execution_count": 18,
   "metadata": {},
   "outputs": [
    {
     "name": "stdout",
     "output_type": "stream",
     "text": [
      "ChatCompletionMessage(content=None, role='assistant', function_call=FunctionCall(arguments='{\\n  \"loc_origin\": \"AMS\",\\n  \"loc_destination\": \"JFK\"\\n}', name='get_flight_info'), tool_calls=None)\n",
      "AMS\n",
      "JFK\n",
      "{\"loc_origin\": \"AMS\", \"loc_destination\": \"JFK\", \"datetime\": \"2024-03-27 13:10:16.057369\", \"airline\": \"KLM\", \"flight\": \"KL643\"}\n",
      "2024-03-27 13:10:16.057369\n",
      "KLM\n"
     ]
    }
   ],
   "source": [
    "# Scenario 1: Check flight details\n",
    "\n",
    "user_prompt = \"When's the next flight from Amsterdam to New York?\"\n",
    "print(ask_and_reply(user_prompt))\n",
    "\n",
    "# Get info for the next prompt\n",
    "\n",
    "origin = json.loads(output.function_call.arguments).get(\"loc_origin\")\n",
    "destination = json.loads(output.function_call.arguments).get(\"loc_destination\")\n",
    "chosen_function = eval(output.function_call.name)\n",
    "flight = chosen_function(origin, destination)\n",
    "\n",
    "print(origin)\n",
    "print(destination)\n",
    "print(flight)\n",
    "\n",
    "flight_datetime = json.loads(flight).get(\"datetime\")\n",
    "flight_airline = json.loads(flight).get(\"airline\")\n",
    "\n",
    "print(flight_datetime)\n",
    "print(flight_airline)"
   ]
  },
  {
   "cell_type": "code",
   "execution_count": 19,
   "metadata": {},
   "outputs": [
    {
     "name": "stdout",
     "output_type": "stream",
     "text": [
      "ChatCompletionMessage(content=None, role='assistant', function_call=FunctionCall(arguments='{\\n  \"loc_origin\": \"AMS\",\\n  \"loc_destination\": \"JFK\",\\n  \"datetime\": \"2024-03-27 13:10:16.057369\",\\n  \"airline\": \"KLM\"\\n}', name='book_flight'), tool_calls=None)\n",
      "ChatCompletionMessage(content=None, role='assistant', function_call=FunctionCall(arguments='{\\n  \"name\": \"John Doe\",\\n  \"email\": \"john@doe.com\",\\n  \"text\": \"I would like to file a complaint about my missed flight. It was an unpleasant surprise.\"\\n}', name='file_complaint'), tool_calls=None)\n"
     ]
    }
   ],
   "source": [
    "# Scenario 2: Book a new flight\n",
    "\n",
    "user_prompt = f\"I want to book a flight from {origin} to {destination} on {flight_datetime} with {flight_airline}\"\n",
    "print(ask_and_reply(user_prompt))\n",
    "\n",
    "# Scenario 3: File a complaint\n",
    "\n",
    "user_prompt = \"This is John Doe. I want to file a complaint about my missed flight. It was an unpleasant surprise. Email me a copy of the complaint to john@doe.com.\"\n",
    "print(ask_and_reply(user_prompt))\n"
   ]
  },
  {
   "cell_type": "code",
   "execution_count": 20,
   "metadata": {},
   "outputs": [
    {
     "name": "stderr",
     "output_type": "stream",
     "text": [
      "/Users/mpaz/Library/Caches/pypoetry/virtualenvs/poetry-030-oHjfFdrQ-py3.11/lib/python3.11/site-packages/langchain_core/_api/deprecation.py:117: LangChainDeprecationWarning: The class `langchain_community.chat_models.openai.ChatOpenAI` was deprecated in langchain-community 0.0.10 and will be removed in 0.2.0. An updated version of the class exists in the langchain-openai package and should be used instead. To use it run `pip install -U langchain-openai` and import as `from langchain_openai import ChatOpenAI`.\n",
      "  warn_deprecated(\n"
     ]
    }
   ],
   "source": [
    "# --------------------------------------------------------------\n",
    "# Make It Conversational With Langchain\n",
    "# --------------------------------------------------------------\n",
    "\n",
    "llm = ChatOpenAI(model=\"gpt-3.5-turbo-0613\", temperature=0)\n",
    "\n",
    "# Start a conversation with multiple requests\n",
    "\n",
    "user_prompt = \"\"\"\n",
    "This is Jane Harris. I am an unhappy customer that wants you to do several things.\n",
    "First, I neeed to know when's the next flight from Amsterdam to New York.\n",
    "Please proceed to book that flight for me.\n",
    "Also, I want to file a complaint about my missed flight. It was an unpleasant surprise. \n",
    "Email me a copy of the complaint to jane@harris.com.\n",
    "Please give me a confirmation after all of these are done.\n",
    "\"\"\"\n",
    "\n",
    "# Returns the function of the first request (get_flight_info)"
   ]
  },
  {
   "cell_type": "code",
   "execution_count": 21,
   "metadata": {},
   "outputs": [
    {
     "name": "stderr",
     "output_type": "stream",
     "text": [
      "/Users/mpaz/Library/Caches/pypoetry/virtualenvs/poetry-030-oHjfFdrQ-py3.11/lib/python3.11/site-packages/langchain_core/_api/deprecation.py:117: LangChainDeprecationWarning: The function `predict_messages` was deprecated in LangChain 0.1.7 and will be removed in 0.2.0. Use invoke instead.\n",
      "  warn_deprecated(\n"
     ]
    },
    {
     "name": "stdout",
     "output_type": "stream",
     "text": [
      "content='' additional_kwargs={'function_call': {'arguments': '{\\n  \"loc_origin\": \"AMS\",\\n  \"loc_destination\": \"JFK\"\\n}', 'name': 'get_flight_info'}} response_metadata={'token_usage': {'completion_tokens': 26, 'prompt_tokens': 332, 'total_tokens': 358}, 'model_name': 'gpt-3.5-turbo-0613', 'system_fingerprint': None, 'finish_reason': 'function_call', 'logprobs': None}\n"
     ]
    }
   ],
   "source": [
    "# Returns the function of the first request (get_flight_info)\n",
    "\n",
    "first_response = llm.predict_messages(\n",
    "    [HumanMessage(content=user_prompt)], functions=function_descriptions_multiple\n",
    ")\n",
    "\n",
    "print(first_response)"
   ]
  },
  {
   "cell_type": "code",
   "execution_count": 22,
   "metadata": {},
   "outputs": [
    {
     "name": "stdout",
     "output_type": "stream",
     "text": [
      "content='' additional_kwargs={'function_call': {'arguments': '{\\n  \"loc_origin\": \"AMS\",\\n  \"loc_destination\": \"JFK\"\\n}', 'name': 'get_flight_info'}} response_metadata={'token_usage': {'completion_tokens': 26, 'prompt_tokens': 387, 'total_tokens': 413}, 'model_name': 'gpt-3.5-turbo-0613', 'system_fingerprint': None, 'finish_reason': 'function_call', 'logprobs': None}\n"
     ]
    }
   ],
   "source": [
    "# Returns the function of the second request (book_flight)\n",
    "# It takes all the arguments from the prompt but not the returned information\n",
    "\n",
    "second_response = llm.predict_messages(\n",
    "    [\n",
    "        HumanMessage(content=user_prompt),\n",
    "        AIMessage(content=str(first_response.additional_kwargs)),\n",
    "        AIMessage(\n",
    "            role=\"function\",\n",
    "            additional_kwargs={\n",
    "                \"name\": first_response.additional_kwargs[\"function_call\"][\"name\"]\n",
    "            },\n",
    "            content=f\"Completed function {first_response.additional_kwargs['function_call']['name']}\",\n",
    "        ),\n",
    "    ],\n",
    "    functions=function_descriptions_multiple,\n",
    ")\n",
    "\n",
    "print(second_response)\n"
   ]
  },
  {
   "cell_type": "code",
   "execution_count": 23,
   "metadata": {},
   "outputs": [
    {
     "name": "stdout",
     "output_type": "stream",
     "text": [
      "content='' additional_kwargs={'function_call': {'arguments': '{\\n  \"loc_origin\": \"AMS\",\\n  \"loc_destination\": \"JFK\"\\n}', 'name': 'get_flight_info'}} response_metadata={'token_usage': {'completion_tokens': 26, 'prompt_tokens': 430, 'total_tokens': 456}, 'model_name': 'gpt-3.5-turbo-0613', 'system_fingerprint': None, 'finish_reason': 'function_call', 'logprobs': None}\n"
     ]
    }
   ],
   "source": [
    "# Returns the function of the third request (file_complaint)\n",
    "\n",
    "third_response = llm.predict_messages(\n",
    "    [\n",
    "        HumanMessage(content=user_prompt),\n",
    "        AIMessage(content=str(first_response.additional_kwargs)),\n",
    "        AIMessage(content=str(second_response.additional_kwargs)),\n",
    "        AIMessage(\n",
    "            role=\"function\",\n",
    "            additional_kwargs={\n",
    "                \"name\": second_response.additional_kwargs[\"function_call\"][\"name\"]\n",
    "            },\n",
    "            content=f\"Completed function {second_response.additional_kwargs['function_call']['name']}\",\n",
    "        ),\n",
    "    ],\n",
    "    functions=function_descriptions_multiple,\n",
    ")\n",
    "\n",
    "print(third_response)\n"
   ]
  },
  {
   "cell_type": "code",
   "execution_count": 24,
   "metadata": {},
   "outputs": [
    {
     "name": "stdout",
     "output_type": "stream",
     "text": [
      "content='' additional_kwargs={'function_call': {'arguments': '{\\n  \"loc_origin\": \"AMS\",\\n  \"loc_destination\": \"JFK\"\\n}', 'name': 'get_flight_info'}} response_metadata={'token_usage': {'completion_tokens': 26, 'prompt_tokens': 473, 'total_tokens': 499}, 'model_name': 'gpt-3.5-turbo-0613', 'system_fingerprint': None, 'finish_reason': 'function_call', 'logprobs': None}\n"
     ]
    }
   ],
   "source": [
    "# Conversational reply at the end of requests\n",
    "\n",
    "fourth_response = llm.predict_messages(\n",
    "    [\n",
    "        HumanMessage(content=user_prompt),\n",
    "        AIMessage(content=str(first_response.additional_kwargs)),\n",
    "        AIMessage(content=str(second_response.additional_kwargs)),\n",
    "        AIMessage(content=str(third_response.additional_kwargs)),\n",
    "        AIMessage(\n",
    "            role=\"function\",\n",
    "            additional_kwargs={\n",
    "                \"name\": third_response.additional_kwargs[\"function_call\"][\"name\"]\n",
    "            },\n",
    "            content=f\"Completed function {third_response.additional_kwargs['function_call']['name']}\",\n",
    "        ),\n",
    "    ],\n",
    "    functions=function_descriptions_multiple,\n",
    ")\n",
    "\n",
    "print(fourth_response)"
   ]
  }
 ],
 "metadata": {
  "kernelspec": {
   "display_name": "poetry-030-oHjfFdrQ-py3.11",
   "language": "python",
   "name": "python3"
  },
  "language_info": {
   "codemirror_mode": {
    "name": "ipython",
    "version": 3
   },
   "file_extension": ".py",
   "mimetype": "text/x-python",
   "name": "python",
   "nbconvert_exporter": "python",
   "pygments_lexer": "ipython3",
   "version": "3.11.3"
  }
 },
 "nbformat": 4,
 "nbformat_minor": 2
}
