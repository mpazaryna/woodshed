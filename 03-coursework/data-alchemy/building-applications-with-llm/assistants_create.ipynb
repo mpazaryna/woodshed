{
 "cells": [
  {
   "cell_type": "markdown",
   "metadata": {},
   "source": [
    "# Creating an agent\n"
   ]
  },
  {
   "cell_type": "code",
   "execution_count": 1,
   "metadata": {},
   "outputs": [
    {
     "data": {
      "text/plain": [
       "True"
      ]
     },
     "execution_count": 1,
     "metadata": {},
     "output_type": "execute_result"
    }
   ],
   "source": [
    "import os\n",
    "import dotenv\n",
    "import shelve\n",
    "import time\n",
    "\n",
    "dotenv_path = dotenv.find_dotenv()\n",
    "dotenv.load_dotenv(dotenv_path)"
   ]
  },
  {
   "cell_type": "code",
   "execution_count": 2,
   "metadata": {},
   "outputs": [],
   "source": [
    "from openai import OpenAI\n",
    "client = OpenAI()"
   ]
  },
  {
   "cell_type": "code",
   "execution_count": 3,
   "metadata": {},
   "outputs": [],
   "source": [
    "# --------------------------------------------------------------\n",
    "# Upload file\n",
    "# --------------------------------------------------------------\n",
    "def upload_file(path):\n",
    "    # Upload a file with an \"assistants\" purpose\n",
    "    file = client.files.create(file=open(path, \"rb\"), purpose=\"assistants\")\n",
    "    return file\n"
   ]
  },
  {
   "cell_type": "code",
   "execution_count": 4,
   "metadata": {},
   "outputs": [],
   "source": [
    "\n",
    "\n",
    "file = upload_file(\"../data/airbnb-faq.pdf\")"
   ]
  },
  {
   "cell_type": "code",
   "execution_count": 5,
   "metadata": {},
   "outputs": [],
   "source": [
    "# --------------------------------------------------------------\n",
    "# Create assistant\n",
    "# --------------------------------------------------------------\n",
    "def create_assistant(file):\n",
    "    \"\"\"\n",
    "    You currently cannot set the temperature for Assistant via the API.\n",
    "    \"\"\"\n",
    "    assistant = client.beta.assistants.create(\n",
    "        name=\"WhatsApp AirBnb Assistant 002\",\n",
    "        instructions=\"You're a helpful WhatsApp assistant that can assist guests that are staying in our Paris AirBnb. Use your knowledge base to best respond to customer queries. If you don't know the answer, say simply that you cannot help with question and advice to contact the host directly. Be friendly and funny.\",\n",
    "        tools=[{\"type\": \"retrieval\"}],\n",
    "        model=\"gpt-4-1106-preview\",\n",
    "        file_ids=[file.id],\n",
    "    )\n",
    "    return assistant"
   ]
  },
  {
   "cell_type": "code",
   "execution_count": 6,
   "metadata": {},
   "outputs": [
    {
     "name": "stdout",
     "output_type": "stream",
     "text": [
      "Assistant(id='asst_708HmSTssQcO2SM3bXwPZf7W', created_at=1711564404, description=None, file_ids=['file-zGFssalKpVCaQn2EmcdGR9en'], instructions=\"You're a helpful WhatsApp assistant that can assist guests that are staying in our Paris AirBnb. Use your knowledge base to best respond to customer queries. If you don't know the answer, say simply that you cannot help with question and advice to contact the host directly. Be friendly and funny.\", metadata={}, model='gpt-4-1106-preview', name='WhatsApp AirBnb Assistant 002', object='assistant', tools=[ToolRetrieval(type='retrieval')])\n"
     ]
    }
   ],
   "source": [
    "assistant = create_assistant(file)\n",
    "print(assistant)"
   ]
  },
  {
   "cell_type": "code",
   "execution_count": 8,
   "metadata": {},
   "outputs": [
    {
     "ename": "NameError",
     "evalue": "name 'delete' is not defined",
     "output_type": "error",
     "traceback": [
      "\u001b[0;31m---------------------------------------------------------------------------\u001b[0m",
      "\u001b[0;31mNameError\u001b[0m                                 Traceback (most recent call last)",
      "Cell \u001b[0;32mIn[8], line 1\u001b[0m\n\u001b[0;32m----> 1\u001b[0m z \u001b[38;5;241m=\u001b[39m \u001b[43mdelete\u001b[49m(assistant\u001b[38;5;241m.\u001b[39mid)\n",
      "\u001b[0;31mNameError\u001b[0m: name 'delete' is not defined"
     ]
    }
   ],
   "source": [
    "z = delete(assistant.id)"
   ]
  }
 ],
 "metadata": {
  "kernelspec": {
   "display_name": "poetry-030-oHjfFdrQ-py3.11",
   "language": "python",
   "name": "python3"
  },
  "language_info": {
   "codemirror_mode": {
    "name": "ipython",
    "version": 3
   },
   "file_extension": ".py",
   "mimetype": "text/x-python",
   "name": "python",
   "nbconvert_exporter": "python",
   "pygments_lexer": "ipython3",
   "version": "3.11.3"
  }
 },
 "nbformat": 4,
 "nbformat_minor": 2
}
