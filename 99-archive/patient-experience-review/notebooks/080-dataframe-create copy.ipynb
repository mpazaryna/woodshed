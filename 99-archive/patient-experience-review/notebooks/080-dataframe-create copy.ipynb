{
  "cells": [
    {
      "cell_type": "markdown",
      "metadata": {
        "id": "ij3rJt9z9LHp"
      },
      "source": [
        "This is the best code\n"
      ]
    },
    {
      "cell_type": "code",
      "execution_count": 1,
      "metadata": {
        "id": "XXCxyYXj757Z"
      },
      "outputs": [],
      "source": [
        "import re\n",
        "\n",
        "def parse_markdown_corrected(md_content):\n",
        "    \"\"\"\n",
        "    Parse the markdown content to extract relevant data, with corrected handling for price conversion.\n",
        "    \"\"\"\n",
        "    # Extracting different sections using regular expressions\n",
        "    manufacturer = re.search(r'# Manufacturer: (.+)', md_content)\n",
        "    product = re.search(r'## Product: (.+)', md_content)\n",
        "    features = re.findall(r'- Feature \\d+: (.+)', md_content)\n",
        "    description = re.search(r'\\*\\*Description:\\*\\*\\n(.+)', md_content)\n",
        "    specifications = re.findall(r'- (.+): (.+)', md_content)\n",
        "    benefits = re.findall(r'- Benefit \\d+: (.+)', md_content)\n",
        "    price = re.search(r'\\*\\*Price:\\*\\*\\n\\$(.+)', md_content)\n",
        "\n",
        "    # Extracting data and handling missing data\n",
        "    data = {\n",
        "        'Manufacturer': manufacturer.group(1) if manufacturer else None,\n",
        "        'Product': product.group(1) if product else None,\n",
        "        'Features': ', '.join(features) if features else None,\n",
        "        'Description': description.group(1).strip() if description else None,\n",
        "        'Specifications': dict(specifications) if specifications else None,\n",
        "        'Benefits': ', '.join(benefits) if benefits else None,\n",
        "        'Price': float(price.group(1).replace(',', '')) if price else None\n",
        "    }\n",
        "    return data\n"
      ]
    },
    {
      "cell_type": "code",
      "execution_count": 2,
      "metadata": {
        "id": "2pFmqRWu8CY-"
      },
      "outputs": [],
      "source": [
        "import os\n",
        "import pandas as pd\n",
        "\n",
        "# Directory containing markdown files\n",
        "directory = \"../data/sample\"\n",
        "\n",
        "# List to store data from each file\n",
        "all_data = []\n",
        "\n",
        "# Iterate over each file in the directory\n",
        "for filename in os.listdir(directory):\n",
        "    if filename.endswith(\".md\"):\n",
        "        file_path = os.path.join(directory, filename)\n",
        "\n",
        "        # Read the content of the file\n",
        "        with open(file_path, 'r') as file:\n",
        "            content = file.read()\n",
        "\n",
        "        # Parse the content and add to the list\n",
        "        parsed_data = parse_markdown_corrected(content)\n",
        "        all_data.append(parsed_data)\n",
        "\n",
        "# Creating a DataFrame from the list\n",
        "df = pd.DataFrame(all_data)"
      ]
    },
    {
      "cell_type": "code",
      "execution_count": 3,
      "metadata": {
        "colab": {
          "base_uri": "https://localhost:8080/",
          "height": 133
        },
        "id": "cl6TsgTU81JR",
        "outputId": "756ce06f-2462-4458-ec12-7b9be779d7ff"
      },
      "outputs": [
        {
          "data": {
            "text/html": [
              "<div>\n",
              "<style scoped>\n",
              "    .dataframe tbody tr th:only-of-type {\n",
              "        vertical-align: middle;\n",
              "    }\n",
              "\n",
              "    .dataframe tbody tr th {\n",
              "        vertical-align: top;\n",
              "    }\n",
              "\n",
              "    .dataframe thead th {\n",
              "        text-align: right;\n",
              "    }\n",
              "</style>\n",
              "<table border=\"1\" class=\"dataframe\">\n",
              "  <thead>\n",
              "    <tr style=\"text-align: right;\">\n",
              "      <th></th>\n",
              "      <th>Manufacturer</th>\n",
              "      <th>Product</th>\n",
              "      <th>Features</th>\n",
              "      <th>Description</th>\n",
              "      <th>Specifications</th>\n",
              "      <th>Benefits</th>\n",
              "      <th>Price</th>\n",
              "    </tr>\n",
              "  </thead>\n",
              "  <tbody>\n",
              "    <tr>\n",
              "      <th>0</th>\n",
              "      <td>XYZ Medical Devices</td>\n",
              "      <td>pcare room-server</td>\n",
              "      <td>High-resolution display, Touchscreen interface...</td>\n",
              "      <td>This is a description of the pcare room-server...</td>\n",
              "      <td>{'Feature 1': 'High-resolution display', 'Feat...</td>\n",
              "      <td>Improved patient care, Ease of use</td>\n",
              "      <td>1999.99</td>\n",
              "    </tr>\n",
              "    <tr>\n",
              "      <th>1</th>\n",
              "      <td>eVideon</td>\n",
              "      <td>evideon bright light</td>\n",
              "      <td>High-resolution display, Touchscreen interface...</td>\n",
              "      <td>This is a description of the pcare room-server...</td>\n",
              "      <td>{'Feature 1': 'High-resolution display', 'Feat...</td>\n",
              "      <td>Improved patient care, Ease of use</td>\n",
              "      <td>1999.99</td>\n",
              "    </tr>\n",
              "  </tbody>\n",
              "</table>\n",
              "</div>"
            ],
            "text/plain": [
              "          Manufacturer               Product  \\\n",
              "0  XYZ Medical Devices     pcare room-server   \n",
              "1              eVideon  evideon bright light   \n",
              "\n",
              "                                            Features  \\\n",
              "0  High-resolution display, Touchscreen interface...   \n",
              "1  High-resolution display, Touchscreen interface...   \n",
              "\n",
              "                                         Description  \\\n",
              "0  This is a description of the pcare room-server...   \n",
              "1  This is a description of the pcare room-server...   \n",
              "\n",
              "                                      Specifications  \\\n",
              "0  {'Feature 1': 'High-resolution display', 'Feat...   \n",
              "1  {'Feature 1': 'High-resolution display', 'Feat...   \n",
              "\n",
              "                             Benefits    Price  \n",
              "0  Improved patient care, Ease of use  1999.99  \n",
              "1  Improved patient care, Ease of use  1999.99  "
            ]
          },
          "execution_count": 3,
          "metadata": {},
          "output_type": "execute_result"
        }
      ],
      "source": [
        "# Display rows of the DataFrame\n",
        "df.head(2)"
      ]
    },
    {
      "cell_type": "code",
      "execution_count": 4,
      "metadata": {
        "id": "hQloyBMd9-en"
      },
      "outputs": [],
      "source": [
        "from datasets import Dataset\n",
        "import tqdm as notebook_tqdm\n",
        "\n",
        "# Assuming 'df' is your Pandas DataFrame\n",
        "hf_dataset = Dataset.from_pandas(df)"
      ]
    },
    {
      "cell_type": "code",
      "execution_count": 5,
      "metadata": {
        "colab": {
          "base_uri": "https://localhost:8080/"
        },
        "id": "gJMLXNbB-nJN",
        "outputId": "79629c95-0c55-4f05-d412-f0b5fe069736"
      },
      "outputs": [
        {
          "name": "stdout",
          "output_type": "stream",
          "text": [
            "{'Manufacturer': 'XYZ Medical Devices', 'Product': 'pcare room-server', 'Features': 'High-resolution display, Touchscreen interface, Compatibility with medical equipment, Personalized Content Recommendations: Receive tailored content suggestions., Ambient Lighting Control: Adjust room lighting for a relaxing atmosphere., Bedside Control Panel: Conveniently control the system from the bedside., Video Conferencing Capability: Stay connected with loved ones and healthcare providers., Multilingual Support: Enjoy content and interface options in multiple languages.', 'Description': 'This is a description of the pcare room-server product.', 'Specifications': {'Benefit 1': 'Improved patient care', 'Benefit 2': 'Ease of use', 'Dimensions': '10\" x 12\" x 3\"', 'Feature 1': 'High-resolution display', 'Feature 2': 'Touchscreen interface', 'Feature 3': 'Compatibility with medical equipment', 'Feature 4': None, 'Feature 5: Medical Information Display': None, 'Feature 5: Personalized Content Recommendations': 'Receive tailored content suggestions.', 'Feature 6: Ambient Lighting Control': 'Adjust room lighting for a relaxing atmosphere.', 'Feature 6: Sleep Mode': None, 'Feature 7: Bedside Control Panel': 'Conveniently control the system from the bedside.', 'Feature 7: In-Room Education': None, 'Feature 8: Nurse Call Integration': None, 'Feature 8: Video Conferencing Capability': 'Stay connected with loved ones and healthcare providers.', 'Feature 9: Multilingual Support': 'Enjoy content and interface options in multiple languages.', 'Feature 9: Privacy Mode': None, 'Weight': '5 kg'}, 'Benefits': 'Improved patient care, Ease of use', 'Price': 1999.99}\n"
          ]
        }
      ],
      "source": [
        "# Assuming 'hf_dataset' is your Hugging Face Dataset\n",
        "first_row = hf_dataset[0]\n",
        "\n",
        "# Display the first row\n",
        "print(first_row)"
      ]
    },
    {
      "cell_type": "code",
      "execution_count": 7,
      "metadata": {
        "id": "MuInlst2FfU-"
      },
      "outputs": [],
      "source": [
        "# Write DataFrame to JSONL\n",
        "df.to_json('../data/huggingface/patient-experience-solutions.jsonl', orient='records', lines=True)"
      ]
    }
  ],
  "metadata": {
    "colab": {
      "provenance": []
    },
    "kernelspec": {
      "display_name": "Python 3",
      "name": "python3"
    },
    "language_info": {
      "codemirror_mode": {
        "name": "ipython",
        "version": 3
      },
      "file_extension": ".py",
      "mimetype": "text/x-python",
      "name": "python",
      "nbconvert_exporter": "python",
      "pygments_lexer": "ipython3",
      "version": "3.11.3"
    }
  },
  "nbformat": 4,
  "nbformat_minor": 0
}
