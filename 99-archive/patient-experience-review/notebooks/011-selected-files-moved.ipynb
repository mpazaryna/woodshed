{
 "cells": [
  {
   "cell_type": "markdown",
   "metadata": {},
   "source": [
    "# Select and move\n",
    "\n",
    "Copy files based on what's found inside the files_to_move.txt file.\n",
    "\n",
    "Before you move the files update the folder name in the /raw directory to get rid of the www"
   ]
  },
  {
   "cell_type": "code",
   "execution_count": 5,
   "metadata": {},
   "outputs": [
    {
     "name": "stdout",
     "output_type": "stream",
     "text": [
      "Directory renamed from '../data/raw/www.sonifi.com' to '../data/raw/sonifi.com'\n",
      "Directory renamed from '../data/raw/www.evideon.com' to '../data/raw/evideon.com'\n",
      "Directory renamed from '../data/raw/www.hci-tv.com' to '../data/raw/hci-tv.com'\n"
     ]
    }
   ],
   "source": [
    "import os\n",
    "\n",
    "# List of tuples containing the old and new directory names\n",
    "directories_to_rename = [\n",
    "    ('../data/raw/www.sonifi.com', '../data/raw/sonifi.com'),\n",
    "    ('../data/raw/www.evideon.com', '../data/raw/evideon.com'),\n",
    "    ('../data/raw/www.hci-tv.com', '../data/raw/hci-tv.com')\n",
    "]\n",
    "\n",
    "# Iterate over the list and rename directories\n",
    "for old_directory, new_directory in directories_to_rename:\n",
    "    if os.path.exists(old_directory):\n",
    "        os.rename(old_directory, new_directory)\n",
    "        print(f\"Directory renamed from '{old_directory}' to '{new_directory}'\")\n",
    "    else:\n",
    "        print(f\"The directory '{old_directory}' does not exist.\")\n"
   ]
  },
  {
   "cell_type": "code",
   "execution_count": 6,
   "metadata": {},
   "outputs": [
    {
     "name": "stdout",
     "output_type": "stream",
     "text": [
      "Copied ../data/raw/pcare.com/about-us.md to ../data/selected/pcare_about-us.md\n",
      "Copied ../data/raw/pcare.com/truthpoint.md to ../data/selected/pcare_truthpoint.md\n",
      "Copied ../data/raw/evideon.com/aware.md to ../data/selected/evideon_aware.md\n",
      "Copied ../data/raw/hci-tv.com/patient-tv.md to ../data/selected/hci-tv_patient-tv.md\n",
      "Copied ../data/raw/sonifi.com/interactive-solutions.md to ../data/selected/sonifi_interactive-solutions.md\n"
     ]
    }
   ],
   "source": [
    "import os\n",
    "import shutil\n",
    "\n",
    "def copy_file(src_file, dest_folder):\n",
    "    # Extract the folder name from the source file path and remove '.com'\n",
    "    folder_name = os.path.basename(os.path.dirname(src_file)).split('.')[0]\n",
    "\n",
    "    # Create destination folder if it doesn't exist\n",
    "    if not os.path.exists(dest_folder):\n",
    "        os.makedirs(dest_folder)\n",
    "\n",
    "    # Modify the destination file name to include the folder name\n",
    "    new_filename = f\"{folder_name}_{os.path.basename(src_file)}\"\n",
    "    dest_file = os.path.join(dest_folder, new_filename)\n",
    "\n",
    "    # Copy the file\n",
    "    shutil.copy(src_file, dest_file)\n",
    "    print(f\"Copied {src_file} to {dest_file}\")\n",
    "\n",
    "# Destination folder path\n",
    "dest_folder = '../data/selected'\n",
    "\n",
    "# Path to the 'files_to_move.txt' file\n",
    "files_to_move_path = '../files_to_move.txt'\n",
    "\n",
    "# Read the list of files to copy from the external text file\n",
    "with open(files_to_move_path, 'r') as file:\n",
    "    for line in file:\n",
    "        file_path = line.strip()  # Remove any leading/trailing whitespace\n",
    "        if file_path:\n",
    "            # Full path for the source file (assuming they are relative to 'data/raw')\n",
    "            full_src_path = os.path.join('../data/raw', file_path)\n",
    "            copy_file(full_src_path, dest_folder)\n",
    "\n"
   ]
  }
 ],
 "metadata": {
  "kernelspec": {
   "display_name": "venv",
   "language": "python",
   "name": "python3"
  },
  "language_info": {
   "codemirror_mode": {
    "name": "ipython",
    "version": 3
   },
   "file_extension": ".py",
   "mimetype": "text/x-python",
   "name": "python",
   "nbconvert_exporter": "python",
   "pygments_lexer": "ipython3",
   "version": "3.11.3"
  }
 },
 "nbformat": 4,
 "nbformat_minor": 2
}
