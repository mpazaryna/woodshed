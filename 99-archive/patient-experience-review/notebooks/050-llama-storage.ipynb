{
 "cells": [
  {
   "cell_type": "code",
   "execution_count": 2,
   "metadata": {},
   "outputs": [],
   "source": [
    "import logging\n",
    "import sys\n",
    "import os.path\n",
    "from IPython.display import Markdown, display\n",
    "\n",
    "import os\n",
    "\n",
    "# Define the paths to the data directories\n",
    "selected_data_dir = \"../data/selected\"\n",
    "storage_data_dir = \"../data/store\"\n",
    "\n",
    "from llama_index import (\n",
    "    VectorStoreIndex,\n",
    "    SimpleDirectoryReader,\n",
    "    StorageContext,\n",
    "    load_index_from_storage,\n",
    ")"
   ]
  },
  {
   "cell_type": "code",
   "execution_count": 3,
   "metadata": {},
   "outputs": [],
   "source": [
    "logging.basicConfig(stream=sys.stdout, level=logging.INFO)\n",
    "logging.getLogger().addHandler(logging.StreamHandler(stream=sys.stdout))"
   ]
  },
  {
   "cell_type": "code",
   "execution_count": 4,
   "metadata": {},
   "outputs": [
    {
     "name": "stdout",
     "output_type": "stream",
     "text": [
      "INFO:llama_index.indices.loading:Loading all indices.\n",
      "Loading all indices.\n"
     ]
    }
   ],
   "source": [
    "# Check if the selected data directory exists\n",
    "if not os.path.exists(selected_data_dir):\n",
    "    print(f\"The directory '{selected_data_dir}' does not exist.\")\n",
    "else:\n",
    "    # Check if the storage directory already exists\n",
    "    if not os.path.exists(storage_data_dir):\n",
    "        # Load the documents from the selected data directory\n",
    "        documents = SimpleDirectoryReader(selected_data_dir).load_data()\n",
    "        \n",
    "        # Create the index from the loaded documents\n",
    "        index = VectorStoreIndex.from_documents(documents)\n",
    "        \n",
    "        # Create the storage directory if it doesn't exist\n",
    "        os.makedirs(storage_data_dir)\n",
    "        \n",
    "        # Store the index for later\n",
    "        index.storage_context.persist(storage_data_dir)\n",
    "    else:\n",
    "        # Load the existing index from the storage directory\n",
    "        storage_context = StorageContext.from_defaults(persist_dir=storage_data_dir)\n",
    "        index = load_index_from_storage(storage_context)\n",
    "\n",
    "# either way we can now query the index\n",
    "query_engine = index.as_query_engine()\n"
   ]
  },
  {
   "cell_type": "code",
   "execution_count": 5,
   "metadata": {},
   "outputs": [
    {
     "name": "stdout",
     "output_type": "stream",
     "text": [
      "INFO:httpx:HTTP Request: POST https://api.openai.com/v1/embeddings \"HTTP/1.1 200 OK\"\n",
      "HTTP Request: POST https://api.openai.com/v1/embeddings \"HTTP/1.1 200 OK\"\n",
      "INFO:httpx:HTTP Request: POST https://api.openai.com/v1/chat/completions \"HTTP/1.1 200 OK\"\n",
      "HTTP Request: POST https://api.openai.com/v1/chat/completions \"HTTP/1.1 200 OK\"\n"
     ]
    },
    {
     "data": {
      "text/markdown": [
       "<b>pCare is a company that specializes in interactive patient experience solutions. They work closely with their clients to design, implement, and support personalized solutions that meet the unique needs of each system, hospital, and clinic. With a focus on timing, features, and funding options, pCare aims to provide the right solution that can scale when needed. They have a strong track record of client retention and pride themselves on their trusted approach. pCare's leadership team has extensive experience in healthcare technology and innovation. They collaborate with top-tier industry leaders to bring patients the best in engagement, education, and entertainment. In addition, pCare offers TruthPoint, a digital patient rounding tool that saves time and improves outcomes. This platform integrates with EHR and communications systems, streamlining cross-team and patient-provider communications. TruthPoint also collects real-time feedback from patients, providing valuable insights for high-impact improvements.</b>"
      ],
      "text/plain": [
       "<IPython.core.display.Markdown object>"
      ]
     },
     "metadata": {},
     "output_type": "display_data"
    }
   ],
   "source": [
    "q = \"summarize pCare\"\n",
    "response = query_engine.query(q)\n",
    "display(Markdown(f\"<b>{response}</b>\"))"
   ]
  }
 ],
 "metadata": {
  "kernelspec": {
   "display_name": "venv",
   "language": "python",
   "name": "python3"
  },
  "language_info": {
   "codemirror_mode": {
    "name": "ipython",
    "version": 3
   },
   "file_extension": ".py",
   "mimetype": "text/x-python",
   "name": "python",
   "nbconvert_exporter": "python",
   "pygments_lexer": "ipython3",
   "version": "3.11.3"
  }
 },
 "nbformat": 4,
 "nbformat_minor": 2
}
