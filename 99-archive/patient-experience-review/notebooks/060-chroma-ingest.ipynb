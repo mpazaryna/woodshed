{
  "cells": [
    {
      "cell_type": "code",
      "execution_count": 4,
      "metadata": {
        "id": "iFogq_cqQurm"
      },
      "outputs": [],
      "source": [
        "from langchain.vectorstores import Chroma\n",
        "from langchain.embeddings import OpenAIEmbeddings\n",
        "from langchain.text_splitter import RecursiveCharacterTextSplitter\n",
        "from langchain.llms import OpenAI\n",
        "from langchain.chains import RetrievalQA\n",
        "from langchain.document_loaders import TextLoader\n",
        "from langchain.document_loaders import DirectoryLoader"
      ]
    },
    {
      "cell_type": "code",
      "execution_count": 5,
      "metadata": {
        "id": "Y7ywBn1oQ9-I"
      },
      "outputs": [],
      "source": [
        "# load and process the text files\n",
        "loader = DirectoryLoader('../data/selected', glob=\"./*.md\", loader_cls=TextLoader)\n",
        "documents = loader.load()\n",
        "\n",
        "# split text\n",
        "text_splitter = RecursiveCharacterTextSplitter(chunk_size=1000, chunk_overlap=20)\n",
        "texts = text_splitter.split_documents(documents)\n",
        "len(texts)\n",
        "texts[3]\n",
        "\n",
        "persist_directory = '../data/chromadb'\n",
        "embedding = OpenAIEmbeddings()\n",
        "vectordb = Chroma.from_documents(documents=texts,\n",
        "                                 embedding=embedding,\n",
        "                                 persist_directory=persist_directory)\n",
        "\n",
        "# persist the db to disk\n",
        "vectordb.persist\n",
        "vectordb = None\n",
        "\n",
        "vectordb = Chroma(persist_directory=persist_directory, embedding_function=embedding)"
      ]
    },
    {
      "cell_type": "code",
      "execution_count": 6,
      "metadata": {
        "colab": {
          "base_uri": "https://localhost:8080/"
        },
        "id": "--HPR0XYTxWC",
        "outputId": "4278183c-3ff1-4e36-f56c-3feea928f40a"
      },
      "outputs": [
        {
          "name": "stdout",
          "output_type": "stream",
          "text": [
            " pCare is a company that specializes in patient engagement solutions and collaborates with industry leaders to provide patients with education, entertainment, and engagement. They are located in Lake Success, NY and use cookies on their website to enhance user experience.\n",
            "\n",
            "\n",
            "Sources:\n",
            "../data/selected/pcare_about-us.md\n",
            "../data/selected/pcare_about-us.md\n",
            "../data/selected/pcare_about-us.md\n",
            "../data/selected/pcare_about-us.md\n"
          ]
        }
      ],
      "source": [
        "retriever = vectordb.as_retriever()\n",
        "\n",
        "# create the chain to answer questions\n",
        "qa_chain = RetrievalQA.from_chain_type(llm=OpenAI(),\n",
        "                                  chain_type=\"stuff\",\n",
        "                                  retriever=retriever,\n",
        "                                  return_source_documents=True)\n",
        "\n",
        "## Cite sources\n",
        "def process_llm_response(llm_response):\n",
        "    print(llm_response['result'])\n",
        "    print('\\n\\nSources:')\n",
        "    for source in llm_response[\"source_documents\"]:\n",
        "        print(source.metadata['source'])\n",
        "        \n",
        "        \n",
        "retriever = vectordb.as_retriever()\n",
        "\n",
        "# full example\n",
        "query = \"What is pcare?\"\n",
        "llm_response = qa_chain(query)\n",
        "process_llm_response(llm_response)"
      ]
    }
  ],
  "metadata": {
    "colab": {
      "provenance": []
    },
    "kernelspec": {
      "display_name": "Python 3 (ipykernel)",
      "language": "python",
      "name": "python3"
    },
    "language_info": {
      "codemirror_mode": {
        "name": "ipython",
        "version": 3
      },
      "file_extension": ".py",
      "mimetype": "text/x-python",
      "name": "python",
      "nbconvert_exporter": "python",
      "pygments_lexer": "ipython3",
      "version": "3.11.3"
    }
  },
  "nbformat": 4,
  "nbformat_minor": 0
}
