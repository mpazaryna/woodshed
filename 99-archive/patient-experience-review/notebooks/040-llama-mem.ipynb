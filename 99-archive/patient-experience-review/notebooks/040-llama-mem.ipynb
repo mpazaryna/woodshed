{
 "cells": [
  {
   "cell_type": "code",
   "execution_count": 2,
   "metadata": {},
   "outputs": [],
   "source": [
    "import logging\n",
    "import sys\n",
    "\n",
    "logging.basicConfig(stream=sys.stdout, level=logging.INFO, format='%(asctime)s %(levelname)s %(message)s')\n",
    "logging.getLogger().addHandler(logging.StreamHandler(stream=sys.stdout))\n",
    "\n",
    "from llama_index.text_splitter import TokenTextSplitter\n",
    "from llama_index import SimpleDirectoryReader, Document\n",
    "\n",
    "from llama_index import SummaryIndex, SimpleDirectoryReader\n",
    "from IPython.display import Markdown, display"
   ]
  },
  {
   "cell_type": "code",
   "execution_count": 3,
   "metadata": {},
   "outputs": [],
   "source": [
    "document = SimpleDirectoryReader(\"../data/selected\").load_data()[0]\n",
    "text_splitter = TokenTextSplitter(separator=\" \", chunk_size=2048, chunk_overlap=20)\n",
    "text_chunks = text_splitter.split_text(document.text)\n",
    "doc_chunks = [Document(text=t) for t in text_chunks]\n",
    "\n",
    "# initialize blank summary index\n",
    "index = SummaryIndex([])\n",
    "\n",
    "# insert new document chunks\n",
    "for doc_chunk in doc_chunks:\n",
    "    index.insert(doc_chunk)"
   ]
  },
  {
   "cell_type": "code",
   "execution_count": 4,
   "metadata": {},
   "outputs": [
    {
     "name": "stdout",
     "output_type": "stream",
     "text": [
      "2024-01-12 13:53:35,616 INFO HTTP Request: POST https://api.openai.com/v1/chat/completions \"HTTP/1.1 200 OK\"\n",
      "HTTP Request: POST https://api.openai.com/v1/chat/completions \"HTTP/1.1 200 OK\"\n",
      "HTTP Request: POST https://api.openai.com/v1/chat/completions \"HTTP/1.1 200 OK\"\n"
     ]
    }
   ],
   "source": [
    "# query\n",
    "query_engine = index.as_query_engine()\n",
    "response = query_engine.query(\"What are the keys to improving the patient experience\")"
   ]
  },
  {
   "cell_type": "code",
   "execution_count": 5,
   "metadata": {},
   "outputs": [
    {
     "data": {
      "text/markdown": [
       "<b>Improving the patient experience in healthcare involves several key factors. One important aspect is the use of technology to deliver accurate and reliable information to the right people at the right time. This can help prevent costly mistakes and improve care coordination. Additionally, customizable interfaces and displays can be used to communicate important information to patients, staff, and visitors. High reliability in work systems and a commitment to error prevention are also crucial in enhancing the patient experience.</b>"
      ],
      "text/plain": [
       "<IPython.core.display.Markdown object>"
      ]
     },
     "metadata": {},
     "output_type": "display_data"
    }
   ],
   "source": [
    "display(Markdown(f\"<b>{response}</b>\"))"
   ]
  }
 ],
 "metadata": {
  "kernelspec": {
   "display_name": "venv",
   "language": "python",
   "name": "python3"
  },
  "language_info": {
   "codemirror_mode": {
    "name": "ipython",
    "version": 3
   },
   "file_extension": ".py",
   "mimetype": "text/x-python",
   "name": "python",
   "nbconvert_exporter": "python",
   "pygments_lexer": "ipython3",
   "version": "3.11.3"
  }
 },
 "nbformat": 4,
 "nbformat_minor": 2
}
