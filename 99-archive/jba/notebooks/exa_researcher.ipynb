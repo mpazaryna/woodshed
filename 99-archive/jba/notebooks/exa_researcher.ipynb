{
 "cells": [
  {
   "cell_type": "code",
   "execution_count": 1,
   "metadata": {},
   "outputs": [],
   "source": [
    "import os\n",
    "\n",
    "from exa_py import Exa\n",
    "from openai import OpenAI\n",
    "import json\n",
    "\n",
    "EXA_API_KEY= os.environ.get(\"EXA_API_KEY\")\n",
    "OPENAI_API_KEY = os.environ.get(\"OPENAI_API_KEY\")\n",
    "\n",
    "exa = Exa(api_key = EXA_API_KEY)\n",
    "client = OpenAI(api_key = OPENAI_API_KEY)\n",
    "model = 'gpt-4-turbo'"
   ]
  },
  {
   "cell_type": "code",
   "execution_count": 2,
   "metadata": {},
   "outputs": [
    {
     "data": {
      "text/plain": [
       "\"As of March 2023, the digital print woven fabric industry continues to evolve, driven by advancements in technology and shifts in consumer preferences towards customization and sustainability. A key player in this sector, Spoonflower Inc., has been at the forefront of integrating eco-friendly practices into digital fabric printing. Spoonflower's approach not only emphasizes the reduction of water and dye use but also focuses on using 100% natural fibers, which are crucial for reducing the environmental footprint. Their recent developments have been geared towards enhancing the color vividness and wash durability of digitally printed fabrics, which remain significant concerns for consumers and manufacturers alike (Smith, J., Textile Magazine, March 2023).\\n\\nAnother significant development in the digital print woven fabric market is the adoption of advanced digital printing technologies by manufacturers such as Epson and Kornit Digital. These companies have introduced high-speed digital printers that are specifically optimized for fabric printing, offering greater efficiency and precision. For instance, Epson’s Monna Lisa Evo Tre series, launched in January 2023, has set a new benchmark in the industry by significantly reducing the time required for printing without compromising on quality. This series uses advanced PrecisionCore printhead technology, which ensures consistent print quality and operational durability, crucial for large-scale production environments (Brown, R., Industry Tech Insights, February 2023).\\n\\nLooking ahead, the market trends suggest a growing inclination towards the use of AI and machine learning algorithms to further enhance the efficiency of digital printing processes. These technologies are expected to improve pattern accuracy and color matching, which are pivotal for achieving high-quality prints. Moreover, the integration of AI can facilitate more personalized and on-demand production models, which are increasingly popular among consumers seeking unique and customized fabric designs. As the digital print woven fabric industry continues to expand, these technological advancements are poised to transform production methodologies, thereby fostering growth and innovation in the sector (Johnson, L., Global Textile News, March 2023).\""
      ]
     },
     "execution_count": 2,
     "metadata": {},
     "output_type": "execute_result"
    }
   ],
   "source": [
    "example_topic = 'The latest news on manufacturers for Digital Print Woven Fabric.'\n",
    "\n",
    "def generate_report_without_exa(topic):\n",
    "  content = f\"Write a comprehensive and professional three paragraph research report about {topic}. Include citations with source, month, and year.\"\n",
    "  completion = client.chat.completions.create(\n",
    "      model = model,\n",
    "      messages=[\n",
    "          {\"role\": \"user\", \"content\": content},\n",
    "      ],\n",
    "      temperature = 0\n",
    "      )\n",
    "  return completion.choices[0].message.content\n",
    "\n",
    "\n",
    "report = generate_report_without_exa(example_topic)\n",
    "report"
   ]
  },
  {
   "cell_type": "code",
   "execution_count": 3,
   "metadata": {},
   "outputs": [
    {
     "data": {
      "text/plain": [
       "\"Inman Mills, an iconic name in the American textile industry, has a rich history that dates back to its establishment in 1901 in Inman, South Carolina. Founded by James A. Chapman, the mill was initially set up to capitalize on the booming textile industry in the Southern United States during the early 20th century. Over the years, Inman Mills has evolved, adapting to changes in technology and market demands. The company has been recognized for its commitment to quality and innovation in the production of yarns and fabrics. It specializes in manufacturing a variety of products, including denim, knits, and specialty woven fabrics, which are used in a range of applications from fashion to industrial materials (Smith, Textile Industry Historical Society, July 2021).\\n\\nThroughout the 20th century, Inman Mills thrived by continually upgrading its technology and expanding its product line. The introduction of synthetic fibers and the adoption of modern manufacturing processes in the 1960s and 1970s allowed the company to maintain a competitive edge in a challenging market. Despite the decline of the textile industry in the U.S. due to globalization and the outsourcing of manufacturing jobs, Inman Mills managed to sustain its operations by focusing on niche markets and maintaining high standards of quality. This strategic focus has enabled the company to preserve its place in the industry despite significant shifts in global manufacturing practices (Johnson, American Textile Review, March 2022).\\n\\nLooking towards the future, Inman Mills is investing in sustainable and eco-friendly manufacturing practices. This includes the use of recycled materials and the implementation of energy-efficient technologies. The company's recent initiatives aim to reduce its carbon footprint and appeal to a growing market of environmentally conscious consumers. These efforts not only demonstrate Inman Mills' commitment to environmental stewardship but also align with global trends towards sustainability in manufacturing. The ongoing adaptation and forward-thinking approach suggest that Inman Mills will continue to be a significant player in the textile industry for years to come (Williams, Sustainable Textile Innovations, October 2023).\""
      ]
     },
     "execution_count": 3,
     "metadata": {},
     "output_type": "execute_result"
    }
   ],
   "source": [
    "example_topic = \"Inman Mills\"\n",
    "\n",
    "def generate_report_without_exa(topic):\n",
    "  content = f\"Write a comprehensive and professional three paragraph research report about {topic}. Include citations with source, month, and year.\"\n",
    "  completion = client.chat.completions.create(\n",
    "      model = model,\n",
    "      messages=[\n",
    "          {\"role\": \"user\", \"content\": content},\n",
    "      ],\n",
    "      temperature = 0\n",
    "      )\n",
    "  return completion.choices[0].message.content\n",
    "\n",
    "\n",
    "report = generate_report_without_exa(example_topic)\n",
    "report"
   ]
  },
  {
   "cell_type": "code",
   "execution_count": 2,
   "metadata": {},
   "outputs": [],
   "source": [
    "# Exa searches each subtopic\n",
    "def exa_search_each_subquery(subqueries):\n",
    "  list_of_query_exa_pairs = []\n",
    "  for query in subqueries:\n",
    "    search_response = exa.search_and_contents(\n",
    "      query,\n",
    "      num_results=5,\n",
    "      use_autoprompt=True,\n",
    "      start_published_date=\"2023-06-01\", # To give us only recent information post-June 2023\n",
    "      highlights={\"num_sentences\": 5},\n",
    "    )\n",
    "    query_object = {\n",
    "        'subquery': query,\n",
    "        'results': search_response.results\n",
    "    }\n",
    "    list_of_query_exa_pairs.append(query_object)\n",
    "  return list_of_query_exa_pairs\n",
    "\n"
   ]
  },
  {
   "cell_type": "code",
   "execution_count": 3,
   "metadata": {},
   "outputs": [],
   "source": [
    "# Reformat Exa results into a string\n",
    "def format_exa_results_for_llm(list_of_query_exa_pairs, content_slice=750):\n",
    "    formatted_string = \"\"\n",
    "    for i in list_of_query_exa_pairs:\n",
    "      formatted_string += f\"[{i['subquery']}]:\\n\"\n",
    "      for result in i['results']:\n",
    "        content = result.text if result.text else \" \".join(result.highlights)\n",
    "        publish_date = result.published_date\n",
    "        formatted_string += f\"URL: {result.url}\\nContent: {content}\\nPublish Date: {publish_date}\\n\"\n",
    "      formatted_string += \"\\n\"\n",
    "\n",
    "    return formatted_string\n",
    "\n",
    "#example\n",
    "#print(format_exa_results_for_llm(example_list_of_query_exa_pairs))"
   ]
  },
  {
   "cell_type": "code",
   "execution_count": 4,
   "metadata": {},
   "outputs": [],
   "source": [
    "def generate_report_from_exa_results(topic, list_of_query_exa_pairs):\n",
    "  formatted_exa_content = format_exa_results_for_llm(list_of_query_exa_pairs)\n",
    "  content = f\"Write a comprehensive and professional three paragraph research report about {topic} based on the provided information. Include citations in the text using footnote notation ([citation #]), for example [2]. First provide the report, followed by a single `References` section that only lists the URLs (and their published date) used, in the format [#] <url>. For the published date, only include the month and year. Reset the citations index and ignore the order of citations in the provided information. Here is the information: {formatted_exa_content}.\"\n",
    "\n",
    "  completion = client.chat.completions.create(\n",
    "      model=model,\n",
    "      messages=[\n",
    "          {\"role\": \"user\", \"content\": content},\n",
    "      ],\n",
    "  )\n",
    "\n",
    "  return completion.choices[0].message.content"
   ]
  },
  {
   "cell_type": "code",
   "execution_count": 5,
   "metadata": {},
   "outputs": [],
   "source": [
    "def create_custom_function(num_subqueries):\n",
    "    properties = {}\n",
    "    for i in range(1, num_subqueries + 1):\n",
    "        key = f'subquery_{i}'\n",
    "        properties[key] = {\n",
    "            'type': 'string',\n",
    "            'description': 'Search queries that would be useful for generating a report on my main topic'\n",
    "        }\n",
    "\n",
    "    custom_function = {\n",
    "        'name': 'generate_exa_search_queries',\n",
    "        'description': 'Generates Exa search queries to investigate the main topic',\n",
    "        'parameters': {\n",
    "            'type': 'object',\n",
    "            'properties': properties\n",
    "        }\n",
    "    }\n",
    "\n",
    "    return [custom_function]"
   ]
  },
  {
   "cell_type": "code",
   "execution_count": 6,
   "metadata": {},
   "outputs": [],
   "source": [
    "def generate_subqueries_from_topic(topic, num_subqueries=6):\n",
    "    content =  f\"I'm going to give you a topic I want to research. I want you to generate {num_subqueries} interesting, diverse search queries that would be useful for generating a report on my main topic. Here is the main topic: {topic}.\"\n",
    "    custom_functions = create_custom_function(num_subqueries)\n",
    "    completion = client.chat.completions.create(\n",
    "        model = model,\n",
    "        messages=[\n",
    "            {\"role\": \"user\", \"content\": content},\n",
    "        ],\n",
    "        temperature=0,\n",
    "        functions = custom_functions,\n",
    "        function_call = 'auto',\n",
    "    )\n",
    "\n",
    "    json_response = json.loads(completion.choices[0].message.function_call.arguments)\n",
    "    return list(json_response.values())\n"
   ]
  },
  {
   "cell_type": "code",
   "execution_count": 8,
   "metadata": {},
   "outputs": [
    {
     "name": "stdout",
     "output_type": "stream",
     "text": [
      "Recent developments at Schneider Mills in Taylorsville, NC, underscore the broader challenges currently faced by the furniture industry. As detailed in multiple news sources, Schneider Mills, particularly operating under the Mitchell Gold + Bob Williams brand, has been forced to initiate a shutdown due to financial strains directly attributed to the inability to secure necessary financing to continue operations. This unfortunate turn of events leads to the employment termination of its dedicated workforce with the last operational day being marked as October 25, 2023 [1][2]. This scenario highlights a significant economic downturn within the sector, largely influenced by current economic hardships.\n",
      "\n",
      "In response to these developments, the economic impact of Schneider Mills’ cessation on the local community is quite substantial. Given that the furniture sector is one of the primary employers in the region, the abrupt halting of Schneider Mills' operations results in significant job losses, thus impacting local economic stability and workers' livelihoods. The company’s failure to secure operating capital in a timely manner, thereby causing an abrupt cessation, raises concerns about the long-term economic vibrancy of Taylorsville, a town already grappling with similar industry-related challenges [3][4].\n",
      "\n",
      "In the arena of sustainability, Schneider Mills has focused intensely on advancing its practices, aiming to reduce its carbon footprint significantly. The corporation has taken considerable strides towards achieving net-zero emissions in its operations while working closely with partners to maintain high social, governance, and ethical standards throughout its supply chain. Noteworthy is their reduction of carbon emissions by 25%, demonstrating a committed shift towards greener operational modalities. This progression not only positions Schneider Mills as a leader in industrial sustainability but also aligns with broader environmental objectives gaining traction in global manufacturing practices [5][6].\n",
      "\n",
      "### References\n",
      "[1] https://www.taylorsvilletimes.com/2023/08/30/mitchell-gold-bob-williams-plants-abruptly-close/\n",
      "[2] https://www.furnituretoday.com/financial/mitchell-gold-bob-williams-latest-north-carolina-furniture-maker-to-shutdown-abruptly/\n",
      "[3] https://www.wsoctv.com/news/local/all-employees-laid-off-taylorsville-home-furnishing-company-shuts-down-operations/XF3JXDETHVB2VJLWM3NJYMNN4E/\n",
      "[4] https://fred.stlouisfed.org/series/SMU37000002000000003\n",
      "[5] https://www.se.com/ww/en/about-us/newsroom/news/press-releases/schneider-electric-outperforms-2023-sustainability-targets-and-maintains-its-leadership-in-esg-ratings-65cc89b3ade55370f80f3013\n",
      "[6] https://www.se.com/ww/en/about-us/sustainability/\n"
     ]
    }
   ],
   "source": [
    "topic = 'The latest about Schneider Mills in Taylorsville, NC 28681'\n",
    "\n",
    "def generate_report(topic):\n",
    "  subqueries = generate_subqueries_from_topic(topic)\n",
    "  list_of_query_exa_pairs = exa_search_each_subquery(subqueries)\n",
    "  report = generate_report_from_exa_results(topic, list_of_query_exa_pairs)\n",
    "  return report\n",
    "\n",
    "example_report = generate_report(topic)\n",
    "print(example_report)"
   ]
  },
  {
   "cell_type": "code",
   "execution_count": 12,
   "metadata": {},
   "outputs": [
    {
     "name": "stdout",
     "output_type": "stream",
     "text": [
      "Wavepaths has demonstrated significant advancements in the integration of generative music within psychedelic-assisted therapies, emphasizing how continuous and variable-length sounds can enhance the therapeutic experience. The development of cutting-edge Deep Generative Models (DGMs) which struggle with expressing continuous sounds, especially those mimicking natural movements like \"driving\" or the resonance from a bow on a string, is a priority for the company as they strive to make their music platform more expressive and adaptive to therapeutic needs [1]. Additionally, leveraging high-quality audio tokenization techniques, as utilized by the Descript Audio Codec (DAC), has allowed Wavepaths to preserve sound fidelity at lower sampling costs, ultimately enhancing the digital music experience in therapeutic settings [2].\n",
      "\n",
      "In the sphere of healthcare partnerships, Wavepaths has aligned with entities committed to enhancing health sector operations and experiences, such as Wavemaker 360 and NovoPath. These collaborations aim to introduce innovative business models and technologies that not only improve clinicians' efficiency but also directly contribute to improved healthcare delivery. By integrating their generative music technology into the healthcare infrastructure, Wavepaths is poised to provide an enriching auditory experience that supports both clinician operations and patient care, underscoring a holistic approach to health and wellness [3][4].\n",
      "\n",
      "The therapeutic effectiveness of Wavepaths' generative music has been under continuous scrutiny, with research illustrating its potential to customize music therapy sessions extensively, tailored to individual patient needs. Studies indicate that such adaptive music therapy can significantly alleviate anxiety, improve sleep, and enhance focus, positing Wavepaths' approach as a versatile and powerful tool in mental health therapy. The ability to control variables such as session intensity and duration empowers therapists to use music more strategically, aligning therapeutic objectives with patient-specific emotional landscapes [5][6].\n",
      "\n",
      "**References:**\n",
      "[1] <https://arxiv.org/abs/2307.05830>, July 2023\n",
      "[2] <https://export.arxiv.org/pdf/2307.04686v2.pdf>, July 2023\n",
      "[3] <https://www.wavemaker360.com/>, August 2023\n",
      "[4] <https://www.novopath.com/>, August 2023\n",
      "[5] <https://www.psychedelics.com/articles/how-psychedelic-music-can-literally-transform-your-mind/>, September 2023\n",
      "[6] <https://www.nytimes.com/2023/10/30/well/mind/therapy-music-anxiety-mental-health.html>, October 2023\n"
     ]
    }
   ],
   "source": [
    "topic = 'The latest about Wavepaths, a company focused on developing generative music to adjoin psychedelic-assisted therapies.'\n",
    "\n",
    "def generate_report(topic):\n",
    "  subqueries = generate_subqueries_from_topic(topic)\n",
    "  list_of_query_exa_pairs = exa_search_each_subquery(subqueries)\n",
    "  report = generate_report_from_exa_results(topic, list_of_query_exa_pairs)\n",
    "  return report\n",
    "\n",
    "example_report = generate_report(topic)\n",
    "print(example_report)"
   ]
  }
 ],
 "metadata": {
  "kernelspec": {
   "display_name": "woodshed",
   "language": "python",
   "name": "python3"
  },
  "language_info": {
   "codemirror_mode": {
    "name": "ipython",
    "version": 3
   },
   "file_extension": ".py",
   "mimetype": "text/x-python",
   "name": "python",
   "nbconvert_exporter": "python",
   "pygments_lexer": "ipython3",
   "version": "3.11.7"
  }
 },
 "nbformat": 4,
 "nbformat_minor": 2
}
