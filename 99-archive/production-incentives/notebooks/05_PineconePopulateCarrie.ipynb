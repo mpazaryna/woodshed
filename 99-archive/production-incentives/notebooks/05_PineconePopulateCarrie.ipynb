{
 "cells": [
  {
   "cell_type": "code",
   "execution_count": 1,
   "id": "153047ba",
   "metadata": {},
   "outputs": [],
   "source": [
    "import os\n",
    "import nltk\n",
    "import pinecone\n",
    "import openai\n",
    "from langchain_openai import OpenAIEmbeddings\n",
    "from langchain_openai import OpenAI\n",
    "from langchain_openai import ChatOpenAI\n",
    "from langchain.text_splitter import RecursiveCharacterTextSplitter\n",
    "from langchain.text_splitter import CharacterTextSplitter\n",
    "from langchain.chains import RetrievalQA\n",
    "from langchain.document_loaders import TextLoader\n",
    "from langchain.document_loaders import DirectoryLoader\n",
    "from langchain_community.document_loaders import UnstructuredMarkdownLoader\n",
    "from langchain.docstore.document import Document\n",
    "from langchain.chains.qa_with_sources import load_qa_with_sources_chain\n",
    "from langchain.vectorstores.pinecone import Pinecone\n",
    "from langchain_pinecone import PineconeVectorStore\n",
    "from langchain.chains import RetrievalQA\n",
    "from langchain import OpenAI"
   ]
  },
  {
   "cell_type": "markdown",
   "id": "49fca250",
   "metadata": {},
   "source": [
    "## Load documents"
   ]
  },
  {
   "cell_type": "code",
   "execution_count": 2,
   "id": "ac46a72c",
   "metadata": {},
   "outputs": [
    {
     "name": "stderr",
     "output_type": "stream",
     "text": [
      "100%|██████████| 7/7 [00:01<00:00,  5.96it/s]\n"
     ]
    },
    {
     "data": {
      "text/plain": [
       "7"
      ]
     },
     "execution_count": 2,
     "metadata": {},
     "output_type": "execute_result"
    }
   ],
   "source": [
    "data_path=\"/teamspace/studios/this_studio/production-incentives-insider/data/substack\"\n",
    "from langchain_community.document_loaders import UnstructuredMarkdownLoader\n",
    "loader = DirectoryLoader(data_path, glob=\"**/*.md\", show_progress=True, loader_cls=UnstructuredMarkdownLoader)\n",
    "documents = loader.load()\n",
    "len(documents)"
   ]
  },
  {
   "cell_type": "markdown",
   "id": "6b48a301",
   "metadata": {},
   "source": [
    "## Split documents"
   ]
  },
  {
   "cell_type": "code",
   "execution_count": 3,
   "id": "aecd80a7",
   "metadata": {},
   "outputs": [
    {
     "data": {
      "text/plain": [
       "[Document(page_content='A number of spectacular locations around the world offer production incentives, making shooting in paradise more affordable than you might think.\\n\\nThey include:\\n\\nTHE DOMINICAN REPUBLIC\\n\\nThe Dominican Republic has been attracting productions for decades, including Pirates of the Caribbean, Jurassic Park and the more recent The Lost City and Shotgun Wedding.', metadata={'source': '/teamspace/studios/this_studio/production-incentives-insider/data/substack/filming-for-less-in-paradise.md'}),\n",
       " Document(page_content='On the television front, the country has hosted countless international versions of Survivor, the Bachelor/Bachelorette franchise, and Paradise Hotel.\\n\\n“The DR” offers a wide range of locations, from tropical jungles and beautiful beaches to deserts and rich historical architecture.\\n\\nGiven its robust production scene, you’ll also find experienced crew, equipment, stellar private resorts accustomed to hosting productions, and studio space, including Pinewood Studios’ water filming facilities.', metadata={'source': '/teamspace/studios/this_studio/production-incentives-insider/data/substack/filming-for-less-in-paradise.md'}),\n",
       " Document(page_content='On to the incentive: the Dominican Republic offers a 25% transferable tax credit on eligible expenses with a $500K minimum spend, and unscripted qualifies (including reality). There’s no per-project cap, and resident and non-resident labor qualifies (subject to withholding and a 25% local labor requirement).\\n\\nTo apply, you must either work through a local service provider that’s registered with the Film Commission or register your production entity locally.\\n\\nFind out more here.\\n\\nPANAMA', metadata={'source': '/teamspace/studios/this_studio/production-incentives-insider/data/substack/filming-for-less-in-paradise.md'}),\n",
       " Document(page_content='PANAMA\\n\\nPanama boasts beautiful beaches, lush tropical rainforests, and over 1,000 islands for your filming pleasure. Unscripted and reality content qualifies for its incentive, making it ideal for dating and survival/competition formats. Indeed, it’s hosted various versions of The Bachelor, Survivor, and Amazing Race.', metadata={'source': '/teamspace/studios/this_studio/production-incentives-insider/data/substack/filming-for-less-in-paradise.md'}),\n",
       " Document(page_content='It’s also considered outside the hurricane belt, and its mainland location means prices are generally lower here than on Caribbean islands. That said, productions located further from the capital may understandably encounter more logistical challenges.\\n\\nPanama’s rebate on qualifying spend recently jumped from 15% to a generous 25%, including resident labor, against a $500K minimum spend.\\n\\nCOLOMBIA', metadata={'source': '/teamspace/studios/this_studio/production-incentives-insider/data/substack/filming-for-less-in-paradise.md'}),\n",
       " Document(page_content='COLOMBIA\\n\\nColombia has lots to offer, including diverse locations that include major cities, historic architecture, dense jungles, and sandy beaches. Add a strong local talent pool, easy access from the US, and an incentive and it’s no wonder Colombia has become an industry hotspot, drawing productions like Freelance, Sound of Freedom, Lost City of Z, and the series Narcos.', metadata={'source': '/teamspace/studios/this_studio/production-incentives-insider/data/substack/filming-for-less-in-paradise.md'}),\n",
       " Document(page_content='The country offers a choice between a 20-40% rebate (depending on nature of the expense) OR a 35% transferable tax credit when working through a local service provider, while minimum qualifying spend hovers around $475K.\\n\\nUnscripted and reality qualify here as well, and it’s lured multiple versions of the popular reality series Naked & Afraid.\\n\\nTRINIDAD & TOBAGO\\n\\nNestled in the southern Caribbean, the twin islands of Trinidad and Tobago offer a contrasting variety of locations.', metadata={'source': '/teamspace/studios/this_studio/production-incentives-insider/data/substack/filming-for-less-in-paradise.md'}),\n",
       " Document(page_content='Home to the capital city of Port of Spain, Trinidad offers more urban flair, with historic architecture, music festivals, and its annual Carnival. Tobago, in contrast, is the go-to spot for secluded beaches, tropical jungles and private beachfront villas.', metadata={'source': '/teamspace/studios/this_studio/production-incentives-insider/data/substack/filming-for-less-in-paradise.md'}),\n",
       " Document(page_content='While it might not have as robust a production infrastructure as other locations mentioned, it’s one of the most affordable locations in the Caribbean, with a 12.5 - 35% sliding scale rebate starting at just $100K in local spend – plus a 20% bonus rebate on local labor.\\n\\nBoth scripted and unscripted qualify (including reality). Plus, these islands are considered outside the Caribbean hurricane belt.', metadata={'source': '/teamspace/studios/this_studio/production-incentives-insider/data/substack/filming-for-less-in-paradise.md'}),\n",
       " Document(page_content='The islands were the setting of classics like Dr. No (1962) and Swiss Family Robinson (1960), as well as recent episodes of Naked & Afraid, Amazing Race and Love and Hip Hop. While rules state that 50% of a production must take place on the islands, they may be flexible for the right projects.\\n\\nHAWAII', metadata={'source': '/teamspace/studios/this_studio/production-incentives-insider/data/substack/filming-for-less-in-paradise.md'}),\n",
       " Document(page_content='HAWAII\\n\\nIn 2023 Hawaii bumped its refundable tax credit up to 22% (for Oahu) and 27% (for the Big Island, Kauai, Lanai, Maui, Molokai), while lowering its required minimum spend to a mere $100K, making it more accessible to unscripted productions (they qualify!).\\n\\nResident and non-resident labor qualify, though productions are expected to make “reasonable efforts” to hire local crew and maximize in-state production spend.', metadata={'source': '/teamspace/studios/this_studio/production-incentives-insider/data/substack/filming-for-less-in-paradise.md'}),\n",
       " Document(page_content='Countless productions have taken advantage of Hawaii’s steller locations, services and scenery, including White Lotus, Forgetting Sarah Marshall, Jurassic Park, Hunger Games: Catching Fire, Lost, Godzilla…_plus reality series like _The Bachelor, Top Model, Top Chef, Temptation Island, and more.\\n\\nAnd that’s not all!', metadata={'source': '/teamspace/studios/this_studio/production-incentives-insider/data/substack/filming-for-less-in-paradise.md'}),\n",
       " Document(page_content='A number of other tropical jurisdications have recently rolled out or modified their incentives offering, including the Philippines, Thailand, Malaysia and Fiji, expanding your options for filming in paradise.\\n\\nAnd we’re keeping an eye on:\\n\\nBarbados: The Caribbean island nation recently lured an episode of Succession to its shores by offering an incentive, but we’re told that final details on its formal incentive program are still winding their way through the legislature.', metadata={'source': '/teamspace/studios/this_studio/production-incentives-insider/data/substack/filming-for-less-in-paradise.md'}),\n",
       " Document(page_content='Ghana: The West African nation recently announced a 20% film production tax rebate, with further details forthcoming. We’re watching!\\n\\nWhere Would You Most like to Film?\\n\\nOf course, filming in paradise can have its drawbacks. Goods and services on islands can be more expensive than on the mainland. In the Caribbean, you have to watch out for hurricane season (June-November), while cyclones are a factor in the Pacific. Tourist season can call out the crowds and higher prices.', metadata={'source': '/teamspace/studios/this_studio/production-incentives-insider/data/substack/filming-for-less-in-paradise.md'}),\n",
       " Document(page_content='As always, each program carries its own rules and qualifications that are subject to change, so be sure to double-check the details.', metadata={'source': '/teamspace/studios/this_studio/production-incentives-insider/data/substack/filming-for-less-in-paradise.md'}),\n",
       " Document(page_content='I’m often asked about the difference between the types of production incentives offered. I’ll caveat that I’m no accountant, but I can offer a basic breakdown of the four main types of production incentives you’ll encounter and what they mean for your production.\\n\\nREBATE', metadata={'source': '/teamspace/studios/this_studio/production-incentives-insider/data/substack/refundable-transferable-rebate-what-does-it-all-mean.md'}),\n",
       " Document(page_content='These are the holy grail of production incentives (note: some places have grants, which are similar). It’s straight-up cash that the jurisdiction will pay to a production entity (generally a percentage of qualifying spend in the jurisdiction). Because this type of incentive is not contingent on filing a tax return, they generally pay out quickly—sometimes in less than three months. Malta, Mongolia, Morocco, Mississippi, and Minnesota all offer production rebates. And lest you think it’s just an', metadata={'source': '/teamspace/studios/this_studio/production-incentives-insider/data/substack/refundable-transferable-rebate-what-does-it-all-mean.md'}),\n",
       " Document(page_content='think it’s just an “M” thing, so does Colorado—and various types of unscripted content qualify in all of them, too.', metadata={'source': '/teamspace/studios/this_studio/production-incentives-insider/data/substack/refundable-transferable-rebate-what-does-it-all-mean.md'}),\n",
       " Document(page_content='REFUNDABLE TAX CREDIT', metadata={'source': '/teamspace/studios/this_studio/production-incentives-insider/data/substack/refundable-transferable-rebate-what-does-it-all-mean.md'}),\n",
       " Document(page_content='These are also pretty juicy. Basically, the production entity files a return in the state, and any amount of credit above and beyond their tax liability will come back in the form of a cash refund. If the production entity has no tax liability, upon filing, they’ll receive a rebate in the full amount. Hawaii, Connecticut, and New Mexico are just a few US states that offer refundable tax credits, and as above, various types of unscripted content qualify. Keep in mind, however, that depending on', metadata={'source': '/teamspace/studios/this_studio/production-incentives-insider/data/substack/refundable-transferable-rebate-what-does-it-all-mean.md'}),\n",
       " Document(page_content='that depending on the timeline for filing a return, you may not see your cash for over a year.', metadata={'source': '/teamspace/studios/this_studio/production-incentives-insider/data/substack/refundable-transferable-rebate-what-does-it-all-mean.md'}),\n",
       " Document(page_content='TRANSFERABLE TAX CREDIT\\n\\nTransferable tax credits require a little more legwork. The full value of the credit can be applied against the production entity’s tax liability in the jurisdiction OR – if they have no tax liability - the credit can be sold on the open market, usually at a discount.', metadata={'source': '/teamspace/studios/this_studio/production-incentives-insider/data/substack/refundable-transferable-rebate-what-does-it-all-mean.md'}),\n",
       " Document(page_content='There’s often a decent market for these credits (for the buyer, it’s like buying a discount on your tax bill), and broker services to handle the transactions. If you simply sell the credit, you’ll likely get your cash faster than you would with a refundable tax credit, since you don’t have to wait to file a return.', metadata={'source': '/teamspace/studios/this_studio/production-incentives-insider/data/substack/refundable-transferable-rebate-what-does-it-all-mean.md'}),\n",
       " Document(page_content='One point of caution: if you know you’ll be selling/transfering a tax credit, be sure to factor the discount rate into your accounting, or you might be surprised when that million-dollar incentive your were counting on turns out to yield only $900K. The Dominican Republic and US state of Georgia offer transferable tax credits, and unscripted qualifies.\\n\\nNON TRANSFERABLE, NON REFUNDABLE TAX CREDIT', metadata={'source': '/teamspace/studios/this_studio/production-incentives-insider/data/substack/refundable-transferable-rebate-what-does-it-all-mean.md'}),\n",
       " Document(page_content='These are the most restrictive, as the production entity can only apply the credit against their own tax liability. Often, if the amount of the credit exceeds the company’s tax burden, they can carry the credit forward and apply it to their tax bill for a given number of years. The downside is that the production entity might not recoup the full value of the credit for several years. This type of credit is less common, however.', metadata={'source': '/teamspace/studios/this_studio/production-incentives-insider/data/substack/refundable-transferable-rebate-what-does-it-all-mean.md'}),\n",
       " Document(page_content='Note that some jurisdictions offer additional non-traditional incentives, like exemptions on hotel, sales & use taxes or waivers on permit fees. It’s always worth asking what might be available.', metadata={'source': '/teamspace/studios/this_studio/production-incentives-insider/data/substack/refundable-transferable-rebate-what-does-it-all-mean.md'}),\n",
       " Document(page_content='That wasn’t so bad, right? As always, there are often plenty of caveats when it comes to production incentives, including minimum spend requirements, hiring requirements, application deadlines and more. Some states require out-of-state production companies to register and for out-of-state crew to pay local payroll taxes in order to receive their incentive. Audits are generally required, and they’re *not* free. A (real) production accountant can help you determine if these additional costs', metadata={'source': '/teamspace/studios/this_studio/production-incentives-insider/data/substack/refundable-transferable-rebate-what-does-it-all-mean.md'}),\n",
       " Document(page_content='additional costs negate the value of an incentive for your production.', metadata={'source': '/teamspace/studios/this_studio/production-incentives-insider/data/substack/refundable-transferable-rebate-what-does-it-all-mean.md'}),\n",
       " Document(page_content='Producers diving into incentives for the first time remind me of young kids at the beach.\\n\\nSome run enthusiastically toward the water. Others tiptoe in tentatively.\\n\\nEither way, watch when that first terrifying wave comes crashing in.\\n\\nMore often than not, the kiddos turn tail and race back to the safety of the shore.\\n\\nThe same goes for producers and incentives.\\n\\nAt first they’re intrigued…but as the inevitable wave of rules and requirements descends, many get scared off.', metadata={'source': '/teamspace/studios/this_studio/production-incentives-insider/data/substack/ten-critical-questions-when-considering-production-incentives.md'}),\n",
       " Document(page_content='There are lots of details to consider with incentives, and every program is different.\\n\\nIt can all get pretty overwhelming.\\n\\nBut ten simple questions can help you determine if an incentive is right for your project from the outset—and keep you from wasting valuable time if it isn’t.\\n\\nDoes My Content Qualify?\\n\\nThis one seems obvious, but it’s tricker than you might think.\\n\\nFirst, there’s content type. Scripted often qualifies (okay, not adult films).', metadata={'source': '/teamspace/studios/this_studio/production-incentives-insider/data/substack/ten-critical-questions-when-considering-production-incentives.md'}),\n",
       " Document(page_content='But with unscripted, the rules get granular. Documentaries might qualify, but not reality TV. And even if it appears that unscripted doesn’t qualify, dramatic or historical recreations might, even if they’re part of an unscripted series. Sometimes, unscripted incentives are up to the discretion of a local commissioner or panel.\\n\\nPost, animation, and SFX qualify for incentives in some jurisdictions, regardless of whether you’re doing any actual filming there.', metadata={'source': '/teamspace/studios/this_studio/production-incentives-insider/data/substack/ten-critical-questions-when-considering-production-incentives.md'}),\n",
       " Document(page_content='Most places have minimum local spending requirements. Some may require a minimum number of filming days in the jurisdiction, too, and/or a minimum number (or percentage) of local hires.\\n\\nSo as a first step, check to see whether your content qualifies.\\n\\nHow far in Advance Do I Have to Apply?\\n\\nDeadlines are all over the place and depend on the jurisdiction.', metadata={'source': '/teamspace/studios/this_studio/production-incentives-insider/data/substack/ten-critical-questions-when-considering-production-incentives.md'}),\n",
       " Document(page_content='For example, Ohio has just two application windows a year. The 2024 application period for the Yukon opens on March 18; they’ll continue to accept applications and distribute funds until they hit their yearly funding cap. If that happens before you apply, you could be shut out of funds for the year.\\n\\nMany places require applications 60 to 90 days before principal photography, while others may accept applications even after filming has begun.', metadata={'source': '/teamspace/studios/this_studio/production-incentives-insider/data/substack/ten-critical-questions-when-considering-production-incentives.md'}),\n",
       " Document(page_content='If you’re interested in an incentives program, make sure you look into application deadlines or you could miss out.\\n\\nWhat Expenses Actually Qualify?\\n\\nGenerally speaking, a cost has to be incurred within the jurisdiction to qualify. So renting equipment from a local vendor could save you a tidy sum over renting it outside the jurisdiction and bringing it in.', metadata={'source': '/teamspace/studios/this_studio/production-incentives-insider/data/substack/ten-critical-questions-when-considering-production-incentives.md'}),\n",
       " Document(page_content='Travel costs qualify in some places (especially if booked through a local agent), but not others. Same with out-of-state/foreign labor: depending on the program, those costs could qualify for the full incentive, at a lower rate, or not at all.\\n\\nMost jurisdictions have a detailed list of what qualifies, like this one for the state of Georgia. Careful planning can help you maximize savings – and keep you from counting on receiving money back on expenses that don’t qualify.', metadata={'source': '/teamspace/studios/this_studio/production-incentives-insider/data/substack/ten-critical-questions-when-considering-production-incentives.md'}),\n",
       " Document(page_content='When Will I See the Money?\\n\\nThe timeline depends on the type of incentive (check out our earlier post on the subject here). Rebates and grants often pay out fastest, followed by transferable tax incentives if you’re selling them. But you could be waiting over a year (or more) to see money from a refundable tax incentive.\\n\\nAre there Any Costs I’m Overlooking?\\n\\nSome jurisdictions will have an application fee, and many require an audit, which isn’t cheap.', metadata={'source': '/teamspace/studios/this_studio/production-incentives-insider/data/substack/ten-critical-questions-when-considering-production-incentives.md'}),\n",
       " Document(page_content='Make sure you’re considering all costs to determine whether an incentive is worth pursuing.\\n\\nAre there Any Bonuses or Extras I Should Consider?\\n\\nIt’s possible.\\n\\nVarious jurisdictions offer bonuses, or “uplifts,” if your project meets certain criteria.\\n\\nNew Mexico’s base credit of 25% can swell to 40% with uplifts that include:\\n\\nan extra 10% for filming more than 60 miles from Santa Fe and Albuquerque\\n\\nan extra 5% for TV series and pilots that meet specific conditions', metadata={'source': '/teamspace/studios/this_studio/production-incentives-insider/data/substack/ten-critical-questions-when-considering-production-incentives.md'}),\n",
       " Document(page_content='an extra 5% for using qualified in-state production facilities (like soundstages)\\n\\nPlanning ahead and simply shifting a shoot location could substantially increase your incentive.\\n\\nMongolia’s base 30% rebate could return even more given their 10% bonus for culturally relevant content and 5% foreign talent reimbursement.', metadata={'source': '/teamspace/studios/this_studio/production-incentives-insider/data/substack/ten-critical-questions-when-considering-production-incentives.md'}),\n",
       " Document(page_content='Some producers may rule out an incentive because their project doesn’t meet the required minimum local spend. But some programs, like Georgia’s, allow companies to bundle their spending across multiple productions to meet their threshold. For jurisdictions where the level of the incentive increases with your local spend, bundling could push you into a higher bracket and save you even more.', metadata={'source': '/teamspace/studios/this_studio/production-incentives-insider/data/substack/ten-critical-questions-when-considering-production-incentives.md'}),\n",
       " Document(page_content='Jurisdictions often offer informal money-saving benefits to productions, too, like free assistance with location scouting or media rates on accommodations and vehicle rentals. It never hurts to ask.\\n\\nWhat about foreign/out-of-state Labor – Can I Collect an Incentive on that Cost?\\n\\nThis depends heavily on the jurisdiction.\\n\\nIn some, the incentive applies; in others, foreign/out-of-state labor qualifies at a reduced rate. It may depend on the role. Occasionally, a salary cap may apply.', metadata={'source': '/teamspace/studios/this_studio/production-incentives-insider/data/substack/ten-critical-questions-when-considering-production-incentives.md'}),\n",
       " Document(page_content='In any case, be sure to check the specifics. It might make great financial sense to hit up that local labor pool!\\n\\nNote that some jurisdictions require foreign/out-of-state labor to register and pay local payroll taxes. A payroll service like Entertainment Partners, Extreme Reach, Cast & Crew, or Wrapbook (among others) can help streamline the process.\\n\\nIs there a Limit to how much a Single Project Can Receive?\\n\\nAlmost always!\\n\\nKeep an eye out for caps, which may include:', metadata={'source': '/teamspace/studios/this_studio/production-incentives-insider/data/substack/ten-critical-questions-when-considering-production-incentives.md'}),\n",
       " Document(page_content='caps on the total amount a single project can receive\\n\\nannual caps on the total amount of funds the jurisdiction has available for a given period\\n\\ncaps for specific spending categories (like talent and crew salaries)\\n\\nAs you compare incentives programs, pay careful attention to any caps that might limit the amount your project could receive.\\n\\nWhat’s All This Talk about a “cultural test”?', metadata={'source': '/teamspace/studios/this_studio/production-incentives-insider/data/substack/ten-critical-questions-when-considering-production-incentives.md'}),\n",
       " Document(page_content='If you’ve looked into international incentives, you may have seen references to a “cultural test,” like this one for the UK, or Malaysia’s, in Appendix C of this document.\\n\\nPeople often mistakenly believe that their project needs to be 100% editorially focused on a country or culture in order to pass the cultural test, but that isn’t entirely true.\\n\\nThe cultural test usually evaluates a project in three areas:', metadata={'source': '/teamspace/studios/this_studio/production-incentives-insider/data/substack/ten-critical-questions-when-considering-production-incentives.md'}),\n",
       " Document(page_content='Favorable portrayal of the jurisdiction while featuring its locations and/or recognizable destinations.\\n\\nInclusion of cultural elements like food, wine, language, and local traditions.\\n\\nUse of local on-camera talent and/or crew in designated roles.\\n\\nCutural tests often award points for each category, so your project may still pass even if it doesn’t nail all three categories.', metadata={'source': '/teamspace/studios/this_studio/production-incentives-insider/data/substack/ten-critical-questions-when-considering-production-incentives.md'}),\n",
       " Document(page_content='If you’re planning to target a particular incentive, it’s important to review the cultural test and plan accordingly. I know of at least one unscripted project that missed out on an incentive worth hundreds of thousands of dollars because they hired a DP from the US instead of the EU. If you’re not doing your research, a single decision like this could cost you.\\n\\nWho Applies for the incentive…the Production Company, Network, or…?\\n\\nThis varies.', metadata={'source': '/teamspace/studios/this_studio/production-incentives-insider/data/substack/ten-critical-questions-when-considering-production-incentives.md'}),\n",
       " Document(page_content='This varies.\\n\\nSometimes, a local entity must apply. That may mean applying through a local service provider. Alternatively, a production company may be able to easily set up a local entity of their own.', metadata={'source': '/teamspace/studios/this_studio/production-incentives-insider/data/substack/ten-critical-questions-when-considering-production-incentives.md'}),\n",
       " Document(page_content='In other cases, a production company can apply even if they’re foreign/out of state. Occasionally, it might make sense for the broadcaster/streamer/studio to apply instead—especially if they have a tax liability in the jurisdiction that allows them to take full advantage of any tax credits, and/or if they’re able to bundle a number of productions from different production companies that individually don’t meet minimum spend requirements.', metadata={'source': '/teamspace/studios/this_studio/production-incentives-insider/data/substack/ten-critical-questions-when-considering-production-incentives.md'}),\n",
       " Document(page_content='Budgets for Content Have Never Been Tighter\\n\\nYet Many Unscripted Producers Continue to Ignore a Valuable Source of Potential Funding, at Their Own Peril: Production Incentives\\n\\nMention incentives to producers of unscripted content (e.g. documentary, lifestyle, factual, reality) and they might shrug, thinking they’re only for big budget scripted productions.\\n\\nOr that they’re too complicated. Or simply not worth the hassle.', metadata={'source': '/teamspace/studios/this_studio/production-incentives-insider/data/substack/three-us-states-with-valuable-production-incentives.md'}),\n",
       " Document(page_content='But when it comes to filming in the US, there are dozens of states (and even counties and cities) that offer substantial incentives you might not be aware of—and unscripted content qualifies.\\n\\nIf you’re an industry veteran who’s never tapped incentives, why bother learning about them now?\\n\\nBecause as you continue to ignore them, your competition isn’t.', metadata={'source': '/teamspace/studios/this_studio/production-incentives-insider/data/substack/three-us-states-with-valuable-production-incentives.md'}),\n",
       " Document(page_content='And guess what? They’re pitching similar content, to the same networks and streamers, at an incentives-subsidized lower price point — at a time when everyone’s tightening their programming budgets.\\n\\nWho do think is going to land that greenlight?\\n\\nBut fear not! We’re here to guide you.\\n\\nHere Are just Three Valuable US State Incentives that Can Help You Deliver More, for less:\\n\\nCONNECTICUT', metadata={'source': '/teamspace/studios/this_studio/production-incentives-insider/data/substack/three-us-states-with-valuable-production-incentives.md'}),\n",
       " Document(page_content=\"CONNECTICUT\\n\\nWhen it comes to locations, Connecticut covers a lot of ground: from cities and quaint towns to seaside villages, historic homes and the natural beauty of the Taconic Range. Its incentive has helped turned Stamford, CT (less than an hour commute from NYC) into a bustling production hub.\\n\\nTHE DETAILS:\\n\\nConnecticut's transferable tax credit is tiered, at 10% for $100-500K in eligible spend, 15% for $501-1M, and a generous 30% for over $1 million in local spend.\", metadata={'source': '/teamspace/studios/this_studio/production-incentives-insider/data/substack/three-us-states-with-valuable-production-incentives.md'}),\n",
       " Document(page_content='Digital animation and post qualify!\\n\\nResident & non-resident labor qualifies (withholding required)\\n\\nProductions qualify if they meet any of these criteria:\\n\\n\\nMinimum 50% of principal photography days take place within CT OR\\n\\n\\nMinimum 50% of post costs spent within CT OR\\n\\n\\nMinimum $1 million in post costs in this state.\\n\\nFind out more here.\\n\\nKENTUCKY', metadata={'source': '/teamspace/studios/this_studio/production-incentives-insider/data/substack/three-us-states-with-valuable-production-incentives.md'}),\n",
       " Document(page_content='KENTUCKY\\n\\nThe Bluegrass State is about more than bourbon and beautiful horse country. Locations include cities, small town Americana, Appalachian wilderness and more.\\n\\nKentucky offers a hefty 30-35% refundable tax credit (a 5% uplift is offered for production in certain counties)\\n\\nThe minimum local qualifying spend is $250K ($125K for Kentucky residents) for film/TV and $20K ($10K for Kentucky residents) for documentaries.\\n\\nReality qualifies!', metadata={'source': '/teamspace/studios/this_studio/production-incentives-insider/data/substack/three-us-states-with-valuable-production-incentives.md'}),\n",
       " Document(page_content='Reality qualifies!\\n\\nThe state allocates a generous $75M annually for these production incentives.\\n\\nNon-resident labor qualifies for the 30% credit (they must register). There’s a 5% bonus for Kentucky crew, with a growing pool of searchable local talent via the Reel Scout database, which is maintained by the Cabinet for Economic Development.\\n\\nFind out more here.\\n\\nNEW MEXICO', metadata={'source': '/teamspace/studios/this_studio/production-incentives-insider/data/substack/three-us-states-with-valuable-production-incentives.md'}),\n",
       " Document(page_content='NEW MEXICO\\n\\nNew Mexico has been steadily luring production powerhouses, with Netflix committing $2 billion in production spending in the state over the span of ten years and NBC Universal building a $4.4 billion TV and film studio.', metadata={'source': '/teamspace/studios/this_studio/production-incentives-insider/data/substack/three-us-states-with-valuable-production-incentives.md'}),\n",
       " Document(page_content='It isn’t called the Land of Enchantment for nothing: its stunning natural beauty (National Parks, rugged deserts, snow capped mountains) is the stuff of legend. But it offers plenty more to get the creative juices flowing, including cities, ghost towns…and let’s not forget this place.\\n\\nNew Mexico offers a refundable tax credit of 25-40%, which includes various bonuses (e.g. 10% uplift for filming outside Santa Fe & Albuquerque, uplifts when using qualified production facilities, and more).', metadata={'source': '/teamspace/studios/this_studio/production-incentives-insider/data/substack/three-us-states-with-valuable-production-incentives.md'}),\n",
       " Document(page_content=\"No required minimum spend!\\n\\nFor union productions, there's a decent size union crew base (2,000+ members)\\n\\nThe state’s generous yearly incentives budget of $120M will increase by $10M every year until 2029 to grow with demand.\\n\\nCompetition shows, VR, video games, music videos, animation, indie films, post production–it all qualifies (assuming it meets other eligibility criteria).\\n\\nNon-resident labor qualifies for a 15% credit (guidelines apply)\\n\\nFind out more here.\", metadata={'source': '/teamspace/studios/this_studio/production-incentives-insider/data/substack/three-us-states-with-valuable-production-incentives.md'}),\n",
       " Document(page_content='This is just a quick summary. Each state program is unique, with its own requirements including application deadlines, rules on qualifying content and spend, caps, auditing requirements and more.', metadata={'source': '/teamspace/studios/this_studio/production-incentives-insider/data/substack/three-us-states-with-valuable-production-incentives.md'}),\n",
       " Document(page_content='You’ve come up with a great show idea, developed it, and fine-tuned your pitch materials.\\n\\nBut before taking it to the network, you plan to see if the shoot location offers incentives.\\n\\nSmart, right?\\n\\nDuring these challenging times, when commissions are harder to land and budgets shrinking, it’s time to rethink how we’re doing things.\\n\\nAnd it starts with development.\\n\\nFor a certain portion of your development slate, try starting with incentives, and developing content with them in mind.\\n\\nHow?', metadata={'source': '/teamspace/studios/this_studio/production-incentives-insider/data/substack/what-many-unscripted-producers-are-getting-wrong-about-incentives.md'}),\n",
       " Document(page_content='How?\\n\\nAn example: A network is looking for a series about haunted houses to air around Halloween.\\n\\nRather than casting a wide net, try starting your search in Louisiana, which – in addition to offering lots of local color and haunted lore – boasts a generous 25-40% refundable tax credit on local spend.\\n\\nThe benefits:\\n\\nYour development process becomes more targeted.\\n\\nFrom the outset, you can plan production in a way that maximizes local spend.', metadata={'source': '/teamspace/studios/this_studio/production-incentives-insider/data/substack/what-many-unscripted-producers-are-getting-wrong-about-incentives.md'}),\n",
       " Document(page_content='When it comes time to pitch, you can lead with, “Because of Louisiana’s incentive, we can do it for less.” Music to any network exec’s ears!\\n\\nThis little piggy is excited about all the cash you’ll save on your next production.\\n\\nThere are other reasons to develop your show starting with incentives.\\n\\nAs we’ve all experienced, it’s easy for a content commissioner to become wedded to a location once the concept is pitched – and often difficult to change it afterwards.', metadata={'source': '/teamspace/studios/this_studio/production-incentives-insider/data/substack/what-many-unscripted-producers-are-getting-wrong-about-incentives.md'}),\n",
       " Document(page_content='For example: you’ve developed a survival competition show in Alaska that the network just LOVES.\\n\\nBut you could have saved fat stacks of cash by filming in Mongolia, with its 30-45% rebate on local spend, or Canada’s Yukon, where productions can benefit from both federal and local incentives.\\n\\nAlaska, tho? No incentive.', metadata={'source': '/teamspace/studios/this_studio/production-incentives-insider/data/substack/what-many-unscripted-producers-are-getting-wrong-about-incentives.md'}),\n",
       " Document(page_content='Yet the network’s already tied to the idea of Alaska because that’s how you pitched it, and there’s no going back. And oh yeah: they still need you to shave 20% from your budget or it won’t fly.\\n\\nStarting with incentives allows you to kick off your pitch with an enticing plus: a competitive price.\\n\\nAnd that can make the difference between a greenlight and a pass.', metadata={'source': '/teamspace/studios/this_studio/production-incentives-insider/data/substack/what-many-unscripted-producers-are-getting-wrong-about-incentives.md'}),\n",
       " Document(page_content='It won’t work for all shows. Sometimes your talent or subject is tied to a certain location. With or without an unscripted incentive, some food/cooking shows are always going to want to go to Italy, because, well, Italy. Or the network may already have too many shows set in a particular location. It’s not a bad idea to do your research and/or ask.\\n\\nStill, for the right types of shows in your development portfolio, it’s worth it to experiment with letting incentives drive the process.', metadata={'source': '/teamspace/studios/this_studio/production-incentives-insider/data/substack/what-many-unscripted-producers-are-getting-wrong-about-incentives.md'}),\n",
       " Document(page_content='Feature films and scripted series can be seductive: the big local spend, the small army of local hires, the prestige of saying Fast & Furious 10 was filmed in your country...\\n\\nSo why should film commissions bother with catering to relatively smaller unscripted productions?\\n\\nBecause unscripted productions–including lifestyle and factual content, reality shows, and documentaries–offer a number of benefits beyond the immediate local spend, including:', metadata={'source': '/teamspace/studios/this_studio/production-incentives-insider/data/substack/why-film-commissions-should-be-wooing-unscripted-productions.md'}),\n",
       " Document(page_content='They tend to showcase your location. While locations in scripted content are frequently vague or might feature “cinematic stand-ins,” they’re often promoted in unscripted content, be it the booming culinary scene of a city, the affordable real estate of a quaint European town, or a beautiful beach resort playing host to a reality dating show. That can generate even more interest and investment in your location.', metadata={'source': '/teamspace/studios/this_studio/production-incentives-insider/data/substack/why-film-commissions-should-be-wooing-unscripted-productions.md'}),\n",
       " Document(page_content='They foster a long tail tourism benefit. Don’t take my word for it – just ask Essie Mastellari, Head of the Panamanian Film Commission. Numerous unscripted series like The Bachelor have benefited from Panama’s cash rebate program, which offers a 25% rebate on productions spending more than $500,000 locally. In turn, the country has seen a return on that investment. In showcasing the natural beauty and diverse landscapes of the country, Essie notes, unscripted production “has undoubtedly', metadata={'source': '/teamspace/studios/this_studio/production-incentives-insider/data/substack/why-film-commissions-should-be-wooing-unscripted-productions.md'}),\n",
       " Document(page_content=\"“has undoubtedly contributed to Panama's growth in the tourism sector and its standing as a compelling destination in the eyes of travelers worldwide.”\", metadata={'source': '/teamspace/studios/this_studio/production-incentives-insider/data/substack/why-film-commissions-should-be-wooing-unscripted-productions.md'}),\n",
       " Document(page_content='Italy was the leading European destination for post-COVID travel among Americans in 2022, many surely inspired by Stanley Tucci: Searching for Italy (this was before White Lotus’s second season, mind you!).\\n\\nThey generate economic investment. Popular HGTV series Fixer Upper transformed the economy of Waco, Texas; when COVID shut down Fiji’s tourism industry (which normally accounts for 40% of its national revenue) its established Survivor production hub kept investment flowing.', metadata={'source': '/teamspace/studios/this_studio/production-incentives-insider/data/substack/why-film-commissions-should-be-wooing-unscripted-productions.md'}),\n",
       " Document(page_content='They can help you develop your industry. With ever-tightening budgets, unscripted productions are filling more and more positions locally. Essie has witnessed this firsthand in Panama, with a “growth and development of the local production industry…creating employment opportunities, fostering skills development, and stimulating economic activity within the sector and its supporting industries.”', metadata={'source': '/teamspace/studios/this_studio/production-incentives-insider/data/substack/why-film-commissions-should-be-wooing-unscripted-productions.md'}),\n",
       " Document(page_content='They can help buffer the impact of changes in the scripted industry. Where strikes and even AI threaten to disrupt the flow of scripted productions to your region, establishing it as a welcome place for unscripted can help buffer your local industry against such shocks. Panama’s reality-friendly cash rebate kept its industry humming during recent Hollywood strikes, and it’s continued to draw productions like Mr. Beast’s 7 Days Stranded at Sea, Naked & Afraid, and Life Raft in 2023.', metadata={'source': '/teamspace/studios/this_studio/production-incentives-insider/data/substack/why-film-commissions-should-be-wooing-unscripted-productions.md'}),\n",
       " Document(page_content='“Hosting unscripted productions like reality shows offers unique advantages such as genuine local engagement, enhanced tourism promotion, economic impact on small businesses, and opportunities for cultural exchange and representation. These benefits contribute to the overall promotion and development of the destination while creating meaningful connections with audiences around the world.”_\\n\\nEssie Mastellari, Head of the Panamanian Film Commission_', metadata={'source': '/teamspace/studios/this_studio/production-incentives-insider/data/substack/why-film-commissions-should-be-wooing-unscripted-productions.md'}),\n",
       " Document(page_content='So how can film commissions better target unscripted?', metadata={'source': '/teamspace/studios/this_studio/production-incentives-insider/data/substack/why-film-commissions-should-be-wooing-unscripted-productions.md'}),\n",
       " Document(page_content='Make sure your minimum spend for incentives is in line with unscripted budgets.** Your million-Euro minimum spend requirement might be an easy bar for scripted to clear, but it could be costing you countless unscripted productions. New Mexico’s generous incentive lacks a minimum spend requirement, making it incredibly enticing for unscripted; I’ve seen an uptick in producers researching and pitching ideas for unscripted content in West Virginia purely because of the low $50K minimum spend for', metadata={'source': '/teamspace/studios/this_studio/production-incentives-insider/data/substack/why-film-commissions-should-be-wooing-unscripted-productions.md'}),\n",
       " Document(page_content='minimum spend for its incentive.&text=Caps%3A%20No%20per%2Dproject%20cap,and%20no%20shoot%20percentage%20requirement.). If you don’t already have one, consider a lower spending threshold for unscripted.', metadata={'source': '/teamspace/studios/this_studio/production-incentives-insider/data/substack/why-film-commissions-should-be-wooing-unscripted-productions.md'}),\n",
       " Document(page_content='Consider other benefits. If you can’t offer an incentive to unscripted, are there other benefits you can extend, like location scouting assistance, media rates on rental cars, hotels, local airlines, and other vendor discounts? As budgets for unscripted shrink, every dollar counts, and such benefits could sway a production your way.', metadata={'source': '/teamspace/studios/this_studio/production-incentives-insider/data/substack/why-film-commissions-should-be-wooing-unscripted-productions.md'}),\n",
       " Document(page_content='Go easier on incentives reporting requirements. Keep in mind that unscripted productions generally don’t have a big team of production accountants behind the scenes. While monthly reporting might be appropriate for scripted, consider a more flexible timeframe for unscripted.', metadata={'source': '/teamspace/studios/this_studio/production-incentives-insider/data/substack/why-film-commissions-should-be-wooing-unscripted-productions.md'}),\n",
       " Document(page_content='Promote your location to the right people. Film commissions often target studio executives when pitching their locations, which makes sense given the extent to which studios influence location selection. For unscripted content, however, production companies rather than networks are often the main drivers behind location choice. If you’d like to lure the next beach reality show, survival show, historic home renovation series or culinary competition, find out which companies are producing that', metadata={'source': '/teamspace/studios/this_studio/production-incentives-insider/data/substack/why-film-commissions-should-be-wooing-unscripted-productions.md'}),\n",
       " Document(page_content='are producing that kind of content and pitch to them, not (just) the networks.', metadata={'source': '/teamspace/studios/this_studio/production-incentives-insider/data/substack/why-film-commissions-should-be-wooing-unscripted-productions.md'}),\n",
       " Document(page_content='Pain Point #1: Incentives Research\\n\\nFor those new to the process, there are some basic FREE TOOLS that help take the pain out of researching incentives. Of course, rules, requirements, and funding around incentives are constantly changing, so always verify!\\n\\nRELIABLE & COMPREHENSIVE: The Olsberg Global Incentives Index', metadata={'source': '/teamspace/studios/this_studio/production-incentives-insider/data/substack/production-pain-points-number-one.md'}),\n",
       " Document(page_content='Olsberg’s global production incentives bible is updated twice a year. The May 2024 edition covers over 100 jurisdictions, with details on the incentives offered, requirements, budget/annual caps, deadlines, links for each program, and more.', metadata={'source': '/teamspace/studios/this_studio/production-incentives-insider/data/substack/production-pain-points-number-one.md'}),\n",
       " Document(page_content='While it’s one of the most reliable and comprehensive sources, unscripted producers may be frustrated by the lack of specifics about what types of unscripted content qualify in each jurisdiction (given that some extend incentives to, say, documentaries but not reality shows). Obviously, since it’s released twice a year, it won’t have the most up-to-date changes to programs. Regardless, the Olsberg Index offers a wealth of information, available for FREE—you just have to register to download it', metadata={'source': '/teamspace/studios/this_studio/production-incentives-insider/data/substack/production-pain-points-number-one.md'}),\n",
       " Document(page_content='to download it https://www.o-spi.com/projects/blog-global-incentives-index.', metadata={'source': '/teamspace/studios/this_studio/production-incentives-insider/data/substack/production-pain-points-number-one.md'}),\n",
       " Document(page_content='HELPFUL FOR UNSCRIPTED PRODUCERS: Entertainment Partners (EP)\\n\\nWe love Entertainment Partners’ global online incentives search tool for the level of detail it offers unscripted producers. Where the Olsberg Index falls short, EP breaks the unscripted category down to indicate if an incentive applies to a variety of individual categories, including reality, game shows, animation, talk shows, post only, commercials, and video games.', metadata={'source': '/teamspace/studios/this_studio/production-incentives-insider/data/substack/production-pain-points-number-one.md'}),\n",
       " Document(page_content='The easy-to-read format details at a glance if/how the incentive applies to resident v. non-resident labor, if there are any uplifts, if a credit and audit are required, and if loan outs have to register and pay local taxes. Like Olsberg, the EP online search tool also lists contacts and websites for each program. We’ve occasionally encountered outdated information, but it’s a great starting point, especially for unscripted content.\\n\\nBEST FOR SIDE-BY-SIDE COMPARISONS: Cast & Crew', metadata={'source': '/teamspace/studios/this_studio/production-incentives-insider/data/substack/production-pain-points-number-one.md'}),\n",
       " Document(page_content='Wondering if the incentive is more competitive in Georgia or Illinois? Want to compare the incentive in Alabama v. Connecticut v. Arizona? The Cast & Crew\\n\\nTheir unique tool enables users to quickly compare incentives in up to six jurisdictions in the US and Canada. The tool doesn’t, however, indicate which categories of content qualify in each jurisdiction.', metadata={'source': '/teamspace/studios/this_studio/production-incentives-insider/data/substack/production-pain-points-number-one.md'}),\n",
       " Document(page_content='For that information — as well as details for jurisdictions outside North America — turn to its comprehensive Tip Guide https://www.castandcrew.com/services/incentives-guide/) https://www.castandcrew.com/wp-content/uploads/2024/03/2024-TIP-GUIDE.pdf). We love the combination of at-a-glance details and full-page breakdowns for each jurisdiction, and the introductory section is great for beginners.', metadata={'source': '/teamspace/studios/this_studio/production-incentives-insider/data/substack/production-pain-points-number-one.md'})]"
      ]
     },
     "execution_count": 3,
     "metadata": {},
     "output_type": "execute_result"
    }
   ],
   "source": [
    "text_splitter = RecursiveCharacterTextSplitter(chunk_size=500, chunk_overlap=20)\n",
    "split_texts = text_splitter.split_documents(documents)\n",
    "split_texts"
   ]
  },
  {
   "cell_type": "markdown",
   "id": "665a6c90",
   "metadata": {},
   "source": [
    "## Initialize Pinecone"
   ]
  },
  {
   "cell_type": "code",
   "execution_count": 4,
   "id": "7f8b8040",
   "metadata": {},
   "outputs": [],
   "source": [
    "from pinecone import ServerlessSpec\n",
    "from pinecone import Pinecone\n",
    "\n",
    "pc = Pinecone()\n",
    "# cloud = os.environ.get('PINECONE_CLOUD') or 'aws'\n",
    "# region = os.environ.get('PINECONE_REGION') or 'us-east-1'\n",
    "# spec = ServerlessSpec(cloud=cloud, region=region)"
   ]
  },
  {
   "cell_type": "markdown",
   "id": "576ced22",
   "metadata": {},
   "source": [
    "## Create or recreate index"
   ]
  },
  {
   "cell_type": "code",
   "execution_count": 5,
   "id": "5ab8a7c9",
   "metadata": {},
   "outputs": [],
   "source": [
    "import time\n",
    "index_name = \"production-incentives\"\n",
    "\n",
    "if index_name in pc.list_indexes().names():\n",
    "  pc.delete_index(index_name)\n",
    "\n",
    "# we create a new index\n",
    "\n",
    "pc.create_index(\n",
    "  name=index_name,\n",
    "  dimension=1536,\n",
    "  metric=\"dotproduct\",\n",
    "  spec=ServerlessSpec(\n",
    "    cloud=\"aws\",\n",
    "    region=\"us-east-1\"\n",
    "  )\n",
    ")\n",
    "\n",
    "# wait for index to be initialized\n",
    "while not pc.describe_index(index_name).status['ready']:\n",
    "    time.sleep(1)"
   ]
  },
  {
   "cell_type": "markdown",
   "id": "de43175d",
   "metadata": {},
   "source": [
    "## Display index stats"
   ]
  },
  {
   "cell_type": "code",
   "execution_count": 6,
   "id": "051ed00c",
   "metadata": {},
   "outputs": [
    {
     "data": {
      "text/plain": [
       "{'dimension': 1536,\n",
       " 'index_fullness': 0.0,\n",
       " 'namespaces': {},\n",
       " 'total_vector_count': 0}"
      ]
     },
     "execution_count": 6,
     "metadata": {},
     "output_type": "execute_result"
    }
   ],
   "source": [
    "index = pc.Index(index_name)\n",
    "index.describe_index_stats()"
   ]
  },
  {
   "cell_type": "markdown",
   "id": "9805876d",
   "metadata": {},
   "source": [
    "## Initialize vectorstore"
   ]
  },
  {
   "cell_type": "code",
   "execution_count": 7,
   "id": "eb33e1a3",
   "metadata": {},
   "outputs": [],
   "source": [
    "embeddings = OpenAIEmbeddings()\n",
    "vectorstore = PineconeVectorStore(index_name=index_name, embedding=embeddings)"
   ]
  },
  {
   "cell_type": "markdown",
   "id": "89c86731",
   "metadata": {},
   "source": [
    "## Load data"
   ]
  },
  {
   "cell_type": "code",
   "execution_count": 8,
   "id": "99fa3eed",
   "metadata": {},
   "outputs": [],
   "source": [
    "vectorstore_from_docs = PineconeVectorStore.from_documents(split_texts,index_name=index_name,embedding=embeddings)"
   ]
  },
  {
   "cell_type": "markdown",
   "id": "4438a641",
   "metadata": {},
   "source": [
    "## Display index stats"
   ]
  },
  {
   "cell_type": "code",
   "execution_count": 9,
   "id": "bc4f895f",
   "metadata": {},
   "outputs": [
    {
     "data": {
      "text/plain": [
       "{'dimension': 1536,\n",
       " 'index_fullness': 0.0,\n",
       " 'namespaces': {},\n",
       " 'total_vector_count': 0}"
      ]
     },
     "execution_count": 9,
     "metadata": {},
     "output_type": "execute_result"
    }
   ],
   "source": [
    "index = pc.Index(index_name)\n",
    "index.describe_index_stats()"
   ]
  },
  {
   "cell_type": "markdown",
   "id": "d7dee7ba",
   "metadata": {},
   "source": [
    "## Simple similarity search"
   ]
  },
  {
   "cell_type": "code",
   "execution_count": 11,
   "id": "860ca4bc",
   "metadata": {},
   "outputs": [
    {
     "data": {
      "text/plain": [
       "[Document(page_content='I’m often asked about the difference between the types of production incentives offered. I’ll caveat that I’m no accountant, but I can offer a basic breakdown of the four main types of production incentives you’ll encounter and what they mean for your production.\\n\\nREBATE', metadata={'source': '/teamspace/studios/this_studio/production-incentives-insider/data/substack/refundable-transferable-rebate-what-does-it-all-mean.md'}),\n",
       " Document(page_content='These are the holy grail of production incentives (note: some places have grants, which are similar). It’s straight-up cash that the jurisdiction will pay to a production entity (generally a percentage of qualifying spend in the jurisdiction). Because this type of incentive is not contingent on filing a tax return, they generally pay out quickly—sometimes in less than three months. Malta, Mongolia, Morocco, Mississippi, and Minnesota all offer production rebates. And lest you think it’s just an', metadata={'source': '/teamspace/studios/this_studio/production-incentives-insider/data/substack/refundable-transferable-rebate-what-does-it-all-mean.md'}),\n",
       " Document(page_content='Some producers may rule out an incentive because their project doesn’t meet the required minimum local spend. But some programs, like Georgia’s, allow companies to bundle their spending across multiple productions to meet their threshold. For jurisdictions where the level of the incentive increases with your local spend, bundling could push you into a higher bracket and save you even more.', metadata={'source': '/teamspace/studios/this_studio/production-incentives-insider/data/substack/ten-critical-questions-when-considering-production-incentives.md'}),\n",
       " Document(page_content='additional costs negate the value of an incentive for your production.', metadata={'source': '/teamspace/studios/this_studio/production-incentives-insider/data/substack/refundable-transferable-rebate-what-does-it-all-mean.md'})]"
      ]
     },
     "execution_count": 11,
     "metadata": {},
     "output_type": "execute_result"
    }
   ],
   "source": [
    "query = \"What are production incentives?\"\n",
    "vectorstore.similarity_search(query)"
   ]
  },
  {
   "cell_type": "code",
   "execution_count": 12,
   "id": "3ef46c12",
   "metadata": {},
   "outputs": [
    {
     "data": {
      "text/plain": [
       "[Document(page_content='Pain Point #1: Incentives Research\\n\\nFor those new to the process, there are some basic FREE TOOLS that help take the pain out of researching incentives. Of course, rules, requirements, and funding around incentives are constantly changing, so always verify!\\n\\nRELIABLE & COMPREHENSIVE: The Olsberg Global Incentives Index', metadata={'source': '/teamspace/studios/this_studio/production-incentives-insider/data/substack/production-pain-points-number-one.md'}),\n",
       " Document(page_content='Budgets for Content Have Never Been Tighter\\n\\nYet Many Unscripted Producers Continue to Ignore a Valuable Source of Potential Funding, at Their Own Peril: Production Incentives\\n\\nMention incentives to producers of unscripted content (e.g. documentary, lifestyle, factual, reality) and they might shrug, thinking they’re only for big budget scripted productions.\\n\\nOr that they’re too complicated. Or simply not worth the hassle.', metadata={'source': '/teamspace/studios/this_studio/production-incentives-insider/data/substack/three-us-states-with-valuable-production-incentives.md'}),\n",
       " Document(page_content='additional costs negate the value of an incentive for your production.', metadata={'source': '/teamspace/studios/this_studio/production-incentives-insider/data/substack/refundable-transferable-rebate-what-does-it-all-mean.md'}),\n",
       " Document(page_content='I’m often asked about the difference between the types of production incentives offered. I’ll caveat that I’m no accountant, but I can offer a basic breakdown of the four main types of production incentives you’ll encounter and what they mean for your production.\\n\\nREBATE', metadata={'source': '/teamspace/studios/this_studio/production-incentives-insider/data/substack/refundable-transferable-rebate-what-does-it-all-mean.md'})]"
      ]
     },
     "execution_count": 12,
     "metadata": {},
     "output_type": "execute_result"
    }
   ],
   "source": [
    "query = \"What are the prodution pain points?\"\n",
    "vectorstore.similarity_search(query)"
   ]
  }
 ],
 "metadata": {
  "kernelspec": {
   "display_name": "Python 3 (ipykernel)",
   "language": "python",
   "name": "python3"
  },
  "language_info": {
   "codemirror_mode": {
    "name": "ipython",
    "version": 3
   },
   "file_extension": ".py",
   "mimetype": "text/x-python",
   "name": "python",
   "nbconvert_exporter": "python",
   "pygments_lexer": "ipython3",
   "version": "3.10.13"
  }
 },
 "nbformat": 4,
 "nbformat_minor": 5
}
