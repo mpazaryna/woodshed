{
 "cells": [
  {
   "cell_type": "code",
   "execution_count": 1,
   "id": "0d0fd7ac",
   "metadata": {},
   "outputs": [],
   "source": [
    "from pinecone import Pinecone as PineconeClient\n",
    "from langchain_openai import ChatOpenAI\n",
    "from langchain_openai import OpenAIEmbeddings\n",
    "from langchain_community.embeddings import CohereEmbeddings\n",
    "from langchain_community.vectorstores import Pinecone\n",
    "from langchain_core.output_parsers import StrOutputParser\n",
    "from langchain_core.prompts import ChatPromptTemplate\n",
    "from langchain_core.runnables import RunnableParallel, RunnablePassthrough, RunnableLambda\n"
   ]
  },
  {
   "cell_type": "code",
   "execution_count": 2,
   "id": "039353c2",
   "metadata": {},
   "outputs": [],
   "source": [
    "import os\n",
    "PINECONE_API_KEY = os.environ[\"PINECONE_API_KEY\"]\n",
    "PINECONE_ENVIRONMENT = \"aws\"\n",
    "PINECONE_INDEX_NAME =\"motionpicturedotorg\""
   ]
  },
  {
   "cell_type": "code",
   "execution_count": 3,
   "id": "9b7e21f8",
   "metadata": {},
   "outputs": [],
   "source": [
    "pinecone = PineconeClient(api_key=PINECONE_API_KEY, environment=PINECONE_ENVIRONMENT)"
   ]
  },
  {
   "cell_type": "code",
   "execution_count": 4,
   "id": "8b34d5c4",
   "metadata": {},
   "outputs": [],
   "source": [
    "embeddings = OpenAIEmbeddings()\n",
    "vectorstore = Pinecone.from_existing_index(index_name=PINECONE_INDEX_NAME, embedding=embeddings)\n",
    "retriever = vectorstore.as_retriever()"
   ]
  },
  {
   "cell_type": "markdown",
   "id": "4aedcd9a",
   "metadata": {},
   "source": [
    "## RAG Prompt"
   ]
  },
  {
   "cell_type": "code",
   "execution_count": 5,
   "id": "47ebf60e",
   "metadata": {},
   "outputs": [],
   "source": [
    "# RAG prompt\n",
    "template = \"\"\"Answer the question based only on the following context:\n",
    "{context}\n",
    "Question: {question}\n",
    "\"\"\"\n",
    "prompt = ChatPromptTemplate.from_template(template)\n",
    "\n",
    "# RAG\n",
    "model = ChatOpenAI(temperature=0, model=\"gpt-4-1106-preview\")\n",
    "\n",
    "chain = (\n",
    "    RunnableParallel({\"context\": retriever, \"question\": RunnablePassthrough()})\n",
    "    | prompt\n",
    "    | model\n",
    "    | StrOutputParser()\n",
    ")"
   ]
  },
  {
   "cell_type": "code",
   "execution_count": 6,
   "id": "fd38f0f8",
   "metadata": {},
   "outputs": [
    {
     "data": {
      "text/plain": [
       "'New Mexico offers a favorable tax credit, relatively low living and production costs, and is considered a film-friendly state. The state has a supportive legislature and a highly regarded New Mexico Film Office (NMFO) team. Additionally, the NMFO has provided guidance and resources such as protective equipment and testing to help the film and television sector safely return to work following COVID-19 disruptions.'"
      ]
     },
     "execution_count": 6,
     "metadata": {},
     "output_type": "execute_result"
    }
   ],
   "source": [
    "chain.invoke(\"what does New Mexico offer to movie production companies?\")"
   ]
  },
  {
   "cell_type": "code",
   "execution_count": 7,
   "id": "d472dbee",
   "metadata": {},
   "outputs": [
    {
     "data": {
      "text/plain": [
       "'The opportunities for filming in New Mexico, as mentioned in the provided context, include:\\n\\n1. New Mexico being regarded as film-friendly by many consultees.\\n2. Relatively low living and production costs.\\n3. A favorable tax credit system for film production.\\n\\nThese factors contribute to making New Mexico an attractive location for film and television production.'"
      ]
     },
     "execution_count": 7,
     "metadata": {},
     "output_type": "execute_result"
    }
   ],
   "source": [
    "chain.invoke(\"what are the opportunities to film in New Mexico?\")"
   ]
  }
 ],
 "metadata": {
  "kernelspec": {
   "display_name": "Python 3",
   "language": "python",
   "name": "python3"
  },
  "language_info": {
   "codemirror_mode": {
    "name": "ipython",
    "version": 3
   },
   "file_extension": ".py",
   "mimetype": "text/x-python",
   "name": "python",
   "nbconvert_exporter": "python",
   "pygments_lexer": "ipython3",
   "version": "3.10.10"
  }
 },
 "nbformat": 4,
 "nbformat_minor": 5
}
