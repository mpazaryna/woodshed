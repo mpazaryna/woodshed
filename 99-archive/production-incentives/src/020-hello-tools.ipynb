{
 "cells": [
  {
   "cell_type": "markdown",
   "metadata": {},
   "source": [
    "NEW CODE HERE"
   ]
  },
  {
   "cell_type": "code",
   "execution_count": 1,
   "metadata": {},
   "outputs": [],
   "source": [
    "# this is required since Juypyter notebook is not async by default.\n",
    "import nest_asyncio\n",
    "nest_asyncio.apply()"
   ]
  },
  {
   "cell_type": "code",
   "execution_count": 1,
   "metadata": {},
   "outputs": [],
   "source": [
    "from llama_index.core import SimpleDirectoryReader\n",
    "\n",
    "# load documents\n",
    "documents = SimpleDirectoryReader(\"/teamspace/studios/this_studio/data\").load_data()"
   ]
  },
  {
   "cell_type": "code",
   "execution_count": 2,
   "metadata": {},
   "outputs": [],
   "source": [
    "from llama_index.core.node_parser import SentenceSplitter\n",
    "\n",
    "splitter = SentenceSplitter(chunk_size=1024)\n",
    "nodes = splitter.get_nodes_from_documents(documents)"
   ]
  },
  {
   "cell_type": "code",
   "execution_count": 3,
   "metadata": {},
   "outputs": [],
   "source": [
    "from llama_index.core import Settings\n",
    "from llama_index.llms.openai import OpenAI\n",
    "from llama_index.embeddings.openai import OpenAIEmbedding\n",
    "\n",
    "Settings.llm = OpenAI(model=\"gpt-3.5-turbo\")\n",
    "Settings.embed_model = OpenAIEmbedding(model=\"text-embedding-ada-002\")"
   ]
  },
  {
   "cell_type": "code",
   "execution_count": 4,
   "metadata": {},
   "outputs": [],
   "source": [
    "from llama_index.core import SummaryIndex, VectorStoreIndex\n",
    "\n",
    "summary_index = SummaryIndex(nodes)\n",
    "vector_index = VectorStoreIndex(nodes)"
   ]
  },
  {
   "cell_type": "code",
   "execution_count": 5,
   "metadata": {},
   "outputs": [],
   "source": [
    "summary_query_engine = summary_index.as_query_engine(\n",
    "    response_mode=\"tree_summarize\",\n",
    "    use_async=True,\n",
    ")\n",
    "\n",
    "vector_query_engine = vector_index.as_query_engine()"
   ]
  },
  {
   "cell_type": "code",
   "execution_count": 6,
   "metadata": {},
   "outputs": [],
   "source": [
    "from llama_index.core.tools import QueryEngineTool\n",
    "\n",
    "summary_tool = QueryEngineTool.from_defaults(\n",
    "    query_engine=summary_query_engine,\n",
    "    description=(\n",
    "        \"Useful for summarization questions related to MetaGPT\"\n",
    "    ),\n",
    ")\n",
    "\n",
    "vector_tool = QueryEngineTool.from_defaults(\n",
    "    query_engine=vector_query_engine,\n",
    "    description=(\n",
    "        \"Useful for retrieving specific context from the MetaGPT paper.\"\n",
    "    ),\n",
    ")"
   ]
  },
  {
   "cell_type": "code",
   "execution_count": 7,
   "metadata": {},
   "outputs": [],
   "source": [
    "from llama_index.core.query_engine.router_query_engine import RouterQueryEngine\n",
    "from llama_index.core.selectors import LLMSingleSelector\n",
    "\n",
    "query_engine = RouterQueryEngine(\n",
    "    selector=LLMSingleSelector.from_defaults(),\n",
    "    query_engine_tools=[\n",
    "        summary_tool,\n",
    "        vector_tool,\n",
    "    ],\n",
    "    # allows us to view the intermediate steps of the query engine\n",
    "    verbose=True,\n",
    ")"
   ]
  },
  {
   "cell_type": "code",
   "execution_count": 10,
   "metadata": {},
   "outputs": [
    {
     "name": "stdout",
     "output_type": "stream",
     "text": [
      "\u001b[1;3;38;5;200mSelecting query engine 0: Useful for summarization questions related to MetaGPT.\n",
      "\u001b[0mThe document provides detailed information on various tropical locations and states that offer production incentives for filming, focusing on both scripted and unscripted productions. It outlines the incentives available, such as tax credits, rebates, and minimum spend requirements, and discusses considerations like content qualification, application deadlines, qualifying expenses, and potential costs. The text highlights the benefits of utilizing incentives for unscripted productions to reduce costs, increase competitiveness, and promote tourism and economic growth. It also emphasizes the importance of film commissions targeting unscripted productions by aligning minimum spend requirements with budgets, offering alternative benefits, easing reporting requirements, and promoting locations directly to production companies to attract economic benefits and foster cultural exchange.\n"
     ]
    }
   ],
   "source": [
    "response = query_engine.query(\"What is the summary of the document?\")\n",
    "print(str(response))"
   ]
  },
  {
   "cell_type": "code",
   "execution_count": 11,
   "metadata": {},
   "outputs": [
    {
     "name": "stdout",
     "output_type": "stream",
     "text": [
      "\u001b[1;3;38;5;200mSelecting query engine 1: Production assistants can use this information to retrieve specific context from the MetaGPT paper, which can help them better understand the content and make informed decisions..\n",
      "\u001b[0mProduction assistants can best use this information by understanding that the application process for incentives can vary depending on the specific circumstances of the production. They should be aware that sometimes a local entity must apply, while in other cases, a production company or even the broadcaster/streamer/studio can apply. It is important for production assistants to be familiar with these variations and to ensure that the appropriate entity applies for the incentives to maximize the benefits for the project.\n"
     ]
    }
   ],
   "source": [
    "response = query_engine.query(\"How can production assistants best use this information?\")\n",
    "print(str(response))"
   ]
  },
  {
   "cell_type": "code",
   "execution_count": 12,
   "metadata": {},
   "outputs": [
    {
     "name": "stdout",
     "output_type": "stream",
     "text": [
      "\u001b[1;3;38;5;200mSelecting query engine 0: The question is asking about the usefulness of MetaGPT in summarization questions, which aligns with choice (1) being relevant to summarization questions related to MetaGPT..\n",
      "\u001b[0mThe holy grail is the ultimate goal or ideal combination of incentives, such as tax credits, rebates, and bonuses, that can significantly reduce production costs and maximize savings for film and TV projects.\n"
     ]
    }
   ],
   "source": [
    "response = query_engine.query(\"What is the holy grail?\")\n",
    "print(str(response))"
   ]
  },
  {
   "cell_type": "code",
   "execution_count": 13,
   "metadata": {},
   "outputs": [
    {
     "name": "stdout",
     "output_type": "stream",
     "text": [
      "\u001b[1;3;38;5;200mSelecting query engine 1: The question is asking for specific information about transferable tax credit, which is more related to retrieving specific context from the MetaGPT paper..\n",
      "\u001b[0mTransferable tax credits can be applied against the production entity's tax liability in a specific jurisdiction or sold on the open market if the entity has no tax liability. There is usually a market for these credits, allowing buyers to purchase them at a discount. Selling the credit can result in quicker cash access compared to refundable tax credits. It is important to consider the discount rate when planning to sell or transfer a tax credit to avoid unexpected outcomes. Transferable tax credits are offered in locations like the Dominican Republic and the US state of Georgia.\n"
     ]
    }
   ],
   "source": [
    "response = query_engine.query(\"Tell me everything you know about transferable tax credit\")\n",
    "print(str(response))"
   ]
  }
 ],
 "metadata": {
  "kernelspec": {
   "display_name": "venv",
   "language": "python",
   "name": "python3"
  },
  "language_info": {
   "codemirror_mode": {
    "name": "ipython",
    "version": 3
   },
   "file_extension": ".py",
   "mimetype": "text/x-python",
   "name": "python",
   "nbconvert_exporter": "python",
   "pygments_lexer": "ipython3",
   "version": "3.10.10"
  }
 },
 "nbformat": 4,
 "nbformat_minor": 2
}
