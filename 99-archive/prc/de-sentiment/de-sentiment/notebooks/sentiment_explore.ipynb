{
  "cells": [
    {
      "cell_type": "markdown",
      "metadata": {
        "id": "tfoAzoJRJmoJ"
      },
      "source": [
        "# Sentiment Analysis\n",
        "\n",
        "Sentiment analysis is a method used to understand the sentiment within a piece of text, be it positive, negative, or neutral. The Python library TextBlob simplifies this process with a straightforward API.\n",
        "\n",
        "Sentiment analysis models work by evaluating the words in a text and scoring them based on a pre-determined sentiment lexicon or by using machine learning models that have been trained to detect sentiment based on examples.\n",
        "\n",
        "The \"scoring\" part is typically a numerical representation of the sentiment, which can range from negative to positive values. For example, -1.0 could represent a very negative sentiment, 0 could be neutral, and 1.0 could indicate a very positive sentiment.\n",
        "\n",
        "## Interpret the Results:\n",
        "\n",
        "The polarity score represents sentiment with negative values indicating negative sentiment, positive values indicating positive sentiment, and values close to zero indicating neutral sentiment.\n",
        "\n",
        "Polarity is a float within the range [-1.0, 1.0], where -1 means negative sentiment and 1 means a positive sentiment.\n",
        "\n",
        "Subjectivity is a float within the range [0.0, 1.0], where 0.0 is very objective and 1.0 is very subjective.\n"
      ]
    },
    {
      "cell_type": "markdown",
      "metadata": {
        "id": "OsEGGCYiIUYT"
      },
      "source": [
        "## Example of sentiment analysis\n",
        "\n",
        "This Python code uses a library called TextBlob to analyze the sentiment of a given text. Sentiment analysis is a technique used to determine whether a piece of writing is positive, negative, or neutral and to what degree it may be subjective or objective.\n",
        "\n",
        "Here's a breakdown of what the code does:\n",
        "\n",
        "1. It imports the `TextBlob` class from the `textblob` library.\n",
        "2. It defines a string variable `text` with a sample sentence: \"TextBlob is amazingly simple to use. What a great library!\"\n",
        "3. It creates a `TextBlob` object called `blob` by passing the sample text to it. This object is now capable of performing various natural language processing tasks, one of which is sentiment analysis.\n",
        "4. The code calls the `sentiment` property on the `blob` object, which analyzes the sentiment of the provided text. The analysis results in two scores:\n",
        "   - **Polarity**: This is a number between -1.0 and 1.0 that indicates how negative or positive the text is. A negative number suggests a negative sentiment, a positive number suggests a positive sentiment, and a number close to zero suggests a neutral sentiment.\n",
        "   - **Subjectivity**: This is a number between 0.0 and 1.0 that indicates how subjective or objective the text is. A score closer to 0.0 suggests that the text is very objective (factual), while a score closer to 1.0 suggests that the text is very subjective (biased or opinionated).\n",
        "5. The code then prints out the polarity and subjectivity scores separately, followed by printing the entire named tuple that contains both scores.\n",
        "\n",
        "In summary, this code is a simple demonstration of sentiment analysis, showing how the TextBlob library can be used to assess the emotional tone and subjectivity of a piece of text."
      ]
    },
    {
      "cell_type": "code",
      "execution_count": 1,
      "metadata": {},
      "outputs": [],
      "source": [
        "from textblob import TextBlob\n",
        "import pandas as pd\n",
        "import os\n",
        "import matplotlib.pyplot as plt"
      ]
    },
    {
      "cell_type": "code",
      "execution_count": 2,
      "metadata": {
        "colab": {
          "base_uri": "https://localhost:8080/"
        },
        "id": "3lcXrjdLY3DW",
        "outputId": "da912be1-2501-4c06-e3b6-56bb305917d6"
      },
      "outputs": [
        {
          "name": "stdout",
          "output_type": "stream",
          "text": [
            "Polarity: 0.5\n",
            "Subjectivity: 0.5535714285714286\n"
          ]
        }
      ],
      "source": [
        "\n",
        "text = \"TextBlob is amazingly simple to use. What a great library!\"\n",
        "blob = TextBlob(text)\n",
        "\n",
        "# Outputs a tuple of the form Sentiment(polarity, subjectivity)\n",
        "sentiment = blob.sentiment\n",
        "\n",
        "# Polarity is a float within the range [-1.0, 1.0]\n",
        "print(f'Polarity: {sentiment.polarity}')\n",
        "\n",
        "# Subjectivity is a float within the range [0.0, 1.0] where 0.0 is very objective and 1.0 is very subjective\n",
        "print(f'Subjectivity: {sentiment.subjectivity}')\n"
      ]
    },
    {
      "cell_type": "markdown",
      "metadata": {
        "id": "VHQ0fhygRRoU"
      },
      "source": [
        "## Example with data from the DE results\n",
        "\n",
        "In this example I pulled a line from the data and run the same"
      ]
    },
    {
      "cell_type": "code",
      "execution_count": 3,
      "metadata": {
        "colab": {
          "base_uri": "https://localhost:8080/"
        },
        "id": "0j9UlBjCZXJG",
        "outputId": "045ab6a7-f326-41a3-90d7-e92110ea7ead"
      },
      "outputs": [
        {
          "name": "stdout",
          "output_type": "stream",
          "text": [
            "Polarity -0.225\n",
            "Subjectivity: 0.37142857142857144\n"
          ]
        }
      ],
      "source": [
        "text = \"The DE MMJ dispensaries are still grossly overcharging patients. Compare the prices the same companies charge at their franchises in other states to prove this. Price per ounce hereremains between $300 and $500. It is routinely in the $100 to $150 range elsewhere. TheyMSO dispensaries are charging this outrageous amount simply because they can.\"\n",
        "blob = TextBlob(text)\n",
        "\n",
        "sentiment = blob.sentiment\n",
        "print(f\"Polarity {sentiment.polarity}\")\n",
        "print(f\"Subjectivity: {sentiment.subjectivity}\")\n"
      ]
    },
    {
      "cell_type": "code",
      "execution_count": 4,
      "metadata": {
        "colab": {
          "base_uri": "https://localhost:8080/"
        },
        "id": "zKym_NvCZ_HD",
        "outputId": "28b31e25-8bae-48ac-cbd2-97903a1a300c"
      },
      "outputs": [
        {
          "name": "stdout",
          "output_type": "stream",
          "text": [
            "Polarity 0.0\n",
            "Subjectivity: 0.0\n"
          ]
        }
      ],
      "source": [
        "text = \"I like the medical system now.\"\n",
        "blob = TextBlob(text)\n",
        "\n",
        "sentiment = blob.sentiment\n",
        "print(f\"Polarity {sentiment.polarity}\")\n",
        "print(f\"Subjectivity: {sentiment.subjectivity}\")"
      ]
    }
  ],
  "metadata": {
    "colab": {
      "provenance": []
    },
    "kernelspec": {
      "display_name": "Python 3",
      "name": "python3"
    },
    "language_info": {
      "codemirror_mode": {
        "name": "ipython",
        "version": 3
      },
      "file_extension": ".py",
      "mimetype": "text/x-python",
      "name": "python",
      "nbconvert_exporter": "python",
      "pygments_lexer": "ipython3",
      "version": "3.10.10"
    }
  },
  "nbformat": 4,
  "nbformat_minor": 0
}
