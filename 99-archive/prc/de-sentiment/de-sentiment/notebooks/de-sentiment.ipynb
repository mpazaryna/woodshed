{
  "cells": [
    {
      "cell_type": "markdown",
      "metadata": {
        "id": "tfoAzoJRJmoJ"
      },
      "source": [
        "# Sentiment Analysis\n",
        "\n",
        "Sentiment analysis is a method used to understand the sentiment within a piece of text, be it positive, negative, or neutral. The Python library TextBlob simplifies this process with a straightforward API.\n",
        "\n",
        "Sentiment analysis models work by evaluating the words in a text and scoring them based on a pre-determined sentiment lexicon or by using machine learning models that have been trained to detect sentiment based on examples.\n",
        "\n",
        "The \"scoring\" part is typically a numerical representation of the sentiment, which can range from negative to positive values. For example, -1.0 could represent a very negative sentiment, 0 could be neutral, and 1.0 could indicate a very positive sentiment.\n",
        "\n",
        "## Interpret the Results:\n",
        "\n",
        "The polarity score represents sentiment with negative values indicating negative sentiment, positive values indicating positive sentiment, and values close to zero indicating neutral sentiment.\n",
        "\n",
        "Polarity is a float within the range [-1.0, 1.0], where -1 means negative sentiment and 1 means a positive sentiment.\n",
        "\n",
        "Subjectivity is a float within the range [0.0, 1.0], where 0.0 is very objective and 1.0 is very subjective.\n"
      ]
    },
    {
      "cell_type": "code",
      "execution_count": 1,
      "metadata": {},
      "outputs": [],
      "source": [
        "from textblob import TextBlob\n",
        "import pandas as pd\n",
        "import os\n",
        "import matplotlib.pyplot as plt"
      ]
    },
    {
      "cell_type": "markdown",
      "metadata": {
        "id": "U8Ik6Y0SKOz4"
      },
      "source": [
        "## Data Preparation\n",
        "\n",
        "From the file supplied from Teresa, I removed rows that contained data that was not a comment submitted."
      ]
    },
    {
      "cell_type": "code",
      "execution_count": 5,
      "metadata": {},
      "outputs": [],
      "source": [
        "# set base directory for reading and writing files\n",
        "# base_directory = '/workspaces/prc/de-sentiment/data'\n",
        "\n",
        "# when using ligntning.ai\n",
        "base_directory = '/teamspace/studios/this_studio/prc/de-sentiment/data'"
      ]
    },
    {
      "cell_type": "markdown",
      "metadata": {},
      "source": [
        "I saved the original file teresa.xlsx into teresa.csv"
      ]
    },
    {
      "cell_type": "code",
      "execution_count": 6,
      "metadata": {
        "id": "zr_0pM2YR7Td"
      },
      "outputs": [
        {
          "data": {
            "text/plain": [
              "<bound method NDFrame.head of                                              statement\n",
              "0    The DE MMJ dispensaries are still grossly over...\n",
              "1    Almost allof the DE qualifying conditions are ...\n",
              "2    Watch out that the Recreational Market doesn't...\n",
              "3    I am so appreciative that medical cards and di...\n",
              "4    Best health decision I've ever made with my do...\n",
              "..                                                 ...\n",
              "416  The dispensaries could be more helpful with ne...\n",
              "417  Since I got my card .I use edibles more . I sm...\n",
              "418  It should be treated like alcohol, not ALLOWED...\n",
              "419                                                NaN\n",
              "420  It cost’s too much already then the street at ...\n",
              "\n",
              "[421 rows x 1 columns]>"
            ]
          },
          "execution_count": 6,
          "metadata": {},
          "output_type": "execute_result"
        }
      ],
      "source": [
        "input_file = os.path.join(base_directory, 'processed', 'teresa.csv')\n",
        "df = pd.read_csv(input_file)\n",
        "df.head"
      ]
    },
    {
      "cell_type": "code",
      "execution_count": 7,
      "metadata": {
        "id": "JjtHFo-vS5C_"
      },
      "outputs": [
        {
          "data": {
            "text/html": [
              "<div>\n",
              "<style scoped>\n",
              "    .dataframe tbody tr th:only-of-type {\n",
              "        vertical-align: middle;\n",
              "    }\n",
              "\n",
              "    .dataframe tbody tr th {\n",
              "        vertical-align: top;\n",
              "    }\n",
              "\n",
              "    .dataframe thead th {\n",
              "        text-align: right;\n",
              "    }\n",
              "</style>\n",
              "<table border=\"1\" class=\"dataframe\">\n",
              "  <thead>\n",
              "    <tr style=\"text-align: right;\">\n",
              "      <th></th>\n",
              "      <th>statement</th>\n",
              "    </tr>\n",
              "  </thead>\n",
              "  <tbody>\n",
              "    <tr>\n",
              "      <th>0</th>\n",
              "      <td>The DE MMJ dispensaries are still grossly over...</td>\n",
              "    </tr>\n",
              "    <tr>\n",
              "      <th>1</th>\n",
              "      <td>Almost allof the DE qualifying conditions are ...</td>\n",
              "    </tr>\n",
              "    <tr>\n",
              "      <th>2</th>\n",
              "      <td>Watch out that the Recreational Market doesn't...</td>\n",
              "    </tr>\n",
              "    <tr>\n",
              "      <th>3</th>\n",
              "      <td>I am so appreciative that medical cards and di...</td>\n",
              "    </tr>\n",
              "    <tr>\n",
              "      <th>4</th>\n",
              "      <td>Best health decision I've ever made with my do...</td>\n",
              "    </tr>\n",
              "    <tr>\n",
              "      <th>5</th>\n",
              "      <td>When will recreational marijuana be legalized ...</td>\n",
              "    </tr>\n",
              "    <tr>\n",
              "      <th>6</th>\n",
              "      <td>I like the medical system now.</td>\n",
              "    </tr>\n",
              "    <tr>\n",
              "      <th>7</th>\n",
              "      <td>Good</td>\n",
              "    </tr>\n",
              "    <tr>\n",
              "      <th>8</th>\n",
              "      <td>I would like to see the medical program be sep...</td>\n",
              "    </tr>\n",
              "    <tr>\n",
              "      <th>9</th>\n",
              "      <td>I think medical cannabis patients would need a...</td>\n",
              "    </tr>\n",
              "  </tbody>\n",
              "</table>\n",
              "</div>"
            ],
            "text/plain": [
              "                                           statement\n",
              "0  The DE MMJ dispensaries are still grossly over...\n",
              "1  Almost allof the DE qualifying conditions are ...\n",
              "2  Watch out that the Recreational Market doesn't...\n",
              "3  I am so appreciative that medical cards and di...\n",
              "4  Best health decision I've ever made with my do...\n",
              "5  When will recreational marijuana be legalized ...\n",
              "6                     I like the medical system now.\n",
              "7                                               Good\n",
              "8  I would like to see the medical program be sep...\n",
              "9  I think medical cannabis patients would need a..."
            ]
          },
          "execution_count": 7,
          "metadata": {},
          "output_type": "execute_result"
        }
      ],
      "source": [
        "# Remove rows where all cells in that row are NA\n",
        "df_cleaned = df.dropna(how='all')\n",
        "df.head(10)"
      ]
    },
    {
      "cell_type": "code",
      "execution_count": 8,
      "metadata": {
        "id": "6LEh6RZmT7ZJ"
      },
      "outputs": [
        {
          "data": {
            "text/html": [
              "<div>\n",
              "<style scoped>\n",
              "    .dataframe tbody tr th:only-of-type {\n",
              "        vertical-align: middle;\n",
              "    }\n",
              "\n",
              "    .dataframe tbody tr th {\n",
              "        vertical-align: top;\n",
              "    }\n",
              "\n",
              "    .dataframe thead th {\n",
              "        text-align: right;\n",
              "    }\n",
              "</style>\n",
              "<table border=\"1\" class=\"dataframe\">\n",
              "  <thead>\n",
              "    <tr style=\"text-align: right;\">\n",
              "      <th></th>\n",
              "      <th>statement</th>\n",
              "    </tr>\n",
              "  </thead>\n",
              "  <tbody>\n",
              "    <tr>\n",
              "      <th>0</th>\n",
              "      <td>The DE MMJ dispensaries are still grossly over...</td>\n",
              "    </tr>\n",
              "    <tr>\n",
              "      <th>1</th>\n",
              "      <td>Almost allof the DE qualifying conditions are ...</td>\n",
              "    </tr>\n",
              "    <tr>\n",
              "      <th>2</th>\n",
              "      <td>Watch out that the Recreational Market doesn't...</td>\n",
              "    </tr>\n",
              "    <tr>\n",
              "      <th>3</th>\n",
              "      <td>I am so appreciative that medical cards and di...</td>\n",
              "    </tr>\n",
              "    <tr>\n",
              "      <th>4</th>\n",
              "      <td>Best health decision I've ever made with my do...</td>\n",
              "    </tr>\n",
              "    <tr>\n",
              "      <th>5</th>\n",
              "      <td>When will recreational marijuana be legalized ...</td>\n",
              "    </tr>\n",
              "    <tr>\n",
              "      <th>6</th>\n",
              "      <td>I like the medical system now.</td>\n",
              "    </tr>\n",
              "    <tr>\n",
              "      <th>7</th>\n",
              "      <td>Good</td>\n",
              "    </tr>\n",
              "    <tr>\n",
              "      <th>8</th>\n",
              "      <td>I would like to see the medical program be sep...</td>\n",
              "    </tr>\n",
              "    <tr>\n",
              "      <th>9</th>\n",
              "      <td>I think medical cannabis patients would need a...</td>\n",
              "    </tr>\n",
              "  </tbody>\n",
              "</table>\n",
              "</div>"
            ],
            "text/plain": [
              "                                           statement\n",
              "0  The DE MMJ dispensaries are still grossly over...\n",
              "1  Almost allof the DE qualifying conditions are ...\n",
              "2  Watch out that the Recreational Market doesn't...\n",
              "3  I am so appreciative that medical cards and di...\n",
              "4  Best health decision I've ever made with my do...\n",
              "5  When will recreational marijuana be legalized ...\n",
              "6                     I like the medical system now.\n",
              "7                                               Good\n",
              "8  I would like to see the medical program be sep...\n",
              "9  I think medical cannabis patients would need a..."
            ]
          },
          "execution_count": 8,
          "metadata": {},
          "output_type": "execute_result"
        }
      ],
      "source": [
        "# Format the statement column into a string\n",
        "df['statement'] = df['statement'].astype(str)\n",
        "df.head(10)"
      ]
    },
    {
      "cell_type": "markdown",
      "metadata": {
        "id": "3M0iyFV2VDZa"
      },
      "source": [
        "## Run TextBlob(text).sentiment\n",
        "\n",
        "The new DataFrame sentiment_df contains only the 'statement' column along with the 'polarity' and 'subjectivity' columns resulting from the sentiment analysis.\n"
      ]
    },
    {
      "cell_type": "code",
      "execution_count": 9,
      "metadata": {
        "id": "hjmDgsQSTMo-"
      },
      "outputs": [],
      "source": [
        "# Define a function that applies sentiment analysis\n",
        "def analyze_sentiment(text):\n",
        "    return TextBlob(text).sentiment\n",
        "\n",
        "# Apply the function to the 'statement' column\n",
        "df['sentiment'] = df['statement'].apply(analyze_sentiment)\n",
        "\n",
        "# Separate the tuple into different columns\n",
        "df['polarity'] = df['sentiment'].apply(lambda x: x.polarity)\n",
        "df['subjectivity'] = df['sentiment'].apply(lambda x: x.subjectivity)\n",
        "\n",
        "# Create a new DataFrame with only the sentiment analysis results\n",
        "sentiment_df = df[['statement', 'polarity', 'subjectivity']]"
      ]
    },
    {
      "cell_type": "code",
      "execution_count": 10,
      "metadata": {
        "colab": {
          "base_uri": "https://localhost:8080/",
          "height": 363
        },
        "id": "oBugUg2kUEqU",
        "outputId": "bb337416-c216-480d-a2d1-65a36c306207"
      },
      "outputs": [
        {
          "data": {
            "text/html": [
              "<div>\n",
              "<style scoped>\n",
              "    .dataframe tbody tr th:only-of-type {\n",
              "        vertical-align: middle;\n",
              "    }\n",
              "\n",
              "    .dataframe tbody tr th {\n",
              "        vertical-align: top;\n",
              "    }\n",
              "\n",
              "    .dataframe thead th {\n",
              "        text-align: right;\n",
              "    }\n",
              "</style>\n",
              "<table border=\"1\" class=\"dataframe\">\n",
              "  <thead>\n",
              "    <tr style=\"text-align: right;\">\n",
              "      <th></th>\n",
              "      <th>statement</th>\n",
              "      <th>polarity</th>\n",
              "      <th>subjectivity</th>\n",
              "    </tr>\n",
              "  </thead>\n",
              "  <tbody>\n",
              "    <tr>\n",
              "      <th>0</th>\n",
              "      <td>The DE MMJ dispensaries are still grossly over...</td>\n",
              "      <td>-0.281250</td>\n",
              "      <td>0.433036</td>\n",
              "    </tr>\n",
              "    <tr>\n",
              "      <th>1</th>\n",
              "      <td>Almost allof the DE qualifying conditions are ...</td>\n",
              "      <td>0.000000</td>\n",
              "      <td>0.000000</td>\n",
              "    </tr>\n",
              "    <tr>\n",
              "      <th>2</th>\n",
              "      <td>Watch out that the Recreational Market doesn't...</td>\n",
              "      <td>0.167929</td>\n",
              "      <td>0.558571</td>\n",
              "    </tr>\n",
              "    <tr>\n",
              "      <th>3</th>\n",
              "      <td>I am so appreciative that medical cards and di...</td>\n",
              "      <td>0.333333</td>\n",
              "      <td>0.433333</td>\n",
              "    </tr>\n",
              "    <tr>\n",
              "      <th>4</th>\n",
              "      <td>Best health decision I've ever made with my do...</td>\n",
              "      <td>1.000000</td>\n",
              "      <td>0.300000</td>\n",
              "    </tr>\n",
              "    <tr>\n",
              "      <th>5</th>\n",
              "      <td>When will recreational marijuana be legalized ...</td>\n",
              "      <td>0.000000</td>\n",
              "      <td>0.000000</td>\n",
              "    </tr>\n",
              "    <tr>\n",
              "      <th>6</th>\n",
              "      <td>I like the medical system now.</td>\n",
              "      <td>0.000000</td>\n",
              "      <td>0.000000</td>\n",
              "    </tr>\n",
              "    <tr>\n",
              "      <th>7</th>\n",
              "      <td>Good</td>\n",
              "      <td>0.700000</td>\n",
              "      <td>0.600000</td>\n",
              "    </tr>\n",
              "    <tr>\n",
              "      <th>8</th>\n",
              "      <td>I would like to see the medical program be sep...</td>\n",
              "      <td>0.140506</td>\n",
              "      <td>0.430923</td>\n",
              "    </tr>\n",
              "    <tr>\n",
              "      <th>9</th>\n",
              "      <td>I think medical cannabis patients would need a...</td>\n",
              "      <td>0.200000</td>\n",
              "      <td>0.225000</td>\n",
              "    </tr>\n",
              "  </tbody>\n",
              "</table>\n",
              "</div>"
            ],
            "text/plain": [
              "                                           statement  polarity  subjectivity\n",
              "0  The DE MMJ dispensaries are still grossly over... -0.281250      0.433036\n",
              "1  Almost allof the DE qualifying conditions are ...  0.000000      0.000000\n",
              "2  Watch out that the Recreational Market doesn't...  0.167929      0.558571\n",
              "3  I am so appreciative that medical cards and di...  0.333333      0.433333\n",
              "4  Best health decision I've ever made with my do...  1.000000      0.300000\n",
              "5  When will recreational marijuana be legalized ...  0.000000      0.000000\n",
              "6                     I like the medical system now.  0.000000      0.000000\n",
              "7                                               Good  0.700000      0.600000\n",
              "8  I would like to see the medical program be sep...  0.140506      0.430923\n",
              "9  I think medical cannabis patients would need a...  0.200000      0.225000"
            ]
          },
          "execution_count": 10,
          "metadata": {},
          "output_type": "execute_result"
        }
      ],
      "source": [
        "# Verify the data frame\n",
        "sentiment_df.head(10)"
      ]
    },
    {
      "cell_type": "markdown",
      "metadata": {
        "id": "PYwLd2VhTjO1"
      },
      "source": [
        "# Summary Statistics\n",
        "\n",
        "Summary statistics in the context of pandas, a data analysis library in Python, are numerical data that provide an overview of the features of a dataset. When we talk about pandas summary statistics, we're typically referring to functions that compute these statistical measures for columns in a DataFrame or a Series.\n",
        "\n",
        "**Count:** The number of non-missing (non-null) entries. This tells you how many valid data points you have.\n",
        "\n",
        "**Mean:** The average of all the numbers. It adds up all the values and divides by the count.\n",
        "\n",
        "**Standard Deviation (std):** A measure of how spread out the numbers are. A low standard deviation means the numbers are close to the mean, while a high standard deviation means they are spread out over a wider range.\n",
        "\n",
        "**Minimum (min):** The smallest number in the dataset.\n",
        "\n",
        "**25th Percentile:** This is the value below which 25% of the data falls. It’s a measure of the lower-middle of your data.\n",
        "\n",
        "**50th Percentile (Median):** The middle value of the dataset, which splits the data into two equal parts. Half the numbers are above the median and half are below.\n",
        "\n",
        "**75th Percentile:** The value below which 75% of the data falls. It’s a measure of the upper-middle of your data.\n",
        "\n",
        "**Maximum (max):** The largest number in the dataset.\n"
      ]
    },
    {
      "cell_type": "code",
      "execution_count": 11,
      "metadata": {
        "colab": {
          "base_uri": "https://localhost:8080/"
        },
        "id": "qqIkMyosW20d",
        "outputId": "4e62f5dd-8634-4b70-a514-d4e2d3dca63c"
      },
      "outputs": [
        {
          "name": "stdout",
          "output_type": "stream",
          "text": [
            "count    421.000000\n",
            "mean       0.118155\n",
            "std        0.242833\n",
            "min       -1.000000\n",
            "25%        0.000000\n",
            "50%        0.068182\n",
            "75%        0.228282\n",
            "max        1.000000\n",
            "Name: polarity, dtype: float64\n"
          ]
        }
      ],
      "source": [
        "# Generate and display summary statistics of polarity\n",
        "summary_statistics = sentiment_df['polarity'].describe()\n",
        "print(summary_statistics)"
      ]
    },
    {
      "cell_type": "code",
      "execution_count": 12,
      "metadata": {
        "colab": {
          "base_uri": "https://localhost:8080/"
        },
        "id": "kne-Nxx_XHqk",
        "outputId": "cee84f84-d7d8-437f-db4e-09b5ba6902ca"
      },
      "outputs": [
        {
          "name": "stdout",
          "output_type": "stream",
          "text": [
            "count    421.000000\n",
            "mean       0.332144\n",
            "std        0.253657\n",
            "min        0.000000\n",
            "25%        0.100000\n",
            "50%        0.340000\n",
            "75%        0.500000\n",
            "max        1.000000\n",
            "Name: subjectivity, dtype: float64\n"
          ]
        }
      ],
      "source": [
        "# Generate and display summary statistics of subjectivity\n",
        "summary_statistics_subjectivity = sentiment_df['subjectivity'].describe()\n",
        "print(summary_statistics_subjectivity)"
      ]
    },
    {
      "cell_type": "markdown",
      "metadata": {
        "id": "hWEI_9dqXfUN"
      },
      "source": [
        "## Histogram\n",
        "\n",
        "A histogram is a graphical representation of the distribution of numerical data. It is an estimate of the probability distribution of a continuous variable and was first introduced by Karl Pearson. To make a histogram, you typically follow these steps:\n",
        "\n",
        "1. **Divide the entire range of values** into a series of intervals (these intervals are also called 'bins' or 'buckets').\n",
        "2. **Count how many values fall into each interval**. The intervals must be adjacent and often are (but are not required to be) of equal size.\n",
        "3. **Plot the count of values** that fall into each interval. Each interval is represented by a bar; the height of the bar corresponds to the count of data points in that bin.\n",
        "\n",
        "In the context of your polarity score frequency histogram:\n",
        "\n",
        "- The **x-axis** (horizontal) would represent bins of polarity scores, ranging from -1.0 to 1.0. The range might be divided into regular intervals, such as -1.0 to -0.8, -0.8 to -0.6, and so on, up to 1.0.\n",
        "- The **y-axis** (vertical) would indicate the frequency of text samples that fall within each of these polarity score intervals.\n",
        "- Each **bar** in the histogram would represent the number of text samples that have a polarity score within the interval of that bar.\n",
        "\n",
        "For instance, if you have a lot of text data with positive sentiment, you might see higher bars in the intervals that approach 1.0. Neutral texts would be represented by bars near the 0 mark, and negative texts would result in higher bars on the negative side of the scale.\n",
        "\n",
        "Histograms are very useful for showing the shape and spread of the data, and they can help you quickly grasp the central tendency, variability, and skewness of the data distribution. They are particularly useful in data analysis for identifying patterns, outliers, skewness, etc., in the underlying data."
      ]
    },
    {
      "cell_type": "code",
      "execution_count": 13,
      "metadata": {
        "colab": {
          "base_uri": "https://localhost:8080/",
          "height": 472
        },
        "id": "HZldzZQiXXiG",
        "outputId": "5f32a8e8-ec0d-4bc6-bf55-8e333833d846"
      },
      "outputs": [
        {
          "data": {
            "image/png": "[encoded data removed]",
            "text/plain": [
              "<Figure size 640x480 with 1 Axes>"
            ]
          },
          "metadata": {},
          "output_type": "display_data"
        }
      ],
      "source": [
        "sentiment_df['polarity'].hist(bins=50)\n",
        "plt.title('Polarity Score Distribution')\n",
        "plt.xlabel('Polarity Score')\n",
        "plt.ylabel('Frequency')\n",
        "plt.show()"
      ]
    },
    {
      "cell_type": "code",
      "execution_count": 14,
      "metadata": {
        "colab": {
          "base_uri": "https://localhost:8080/",
          "height": 472
        },
        "id": "gqza7xfnX145",
        "outputId": "ddd20cbc-623a-43b0-c7d6-875f2e9fd3e6"
      },
      "outputs": [
        {
          "data": {
            "image/png": "[encoded data removed]",
            "text/plain": [
              "<Figure size 640x480 with 1 Axes>"
            ]
          },
          "metadata": {},
          "output_type": "display_data"
        }
      ],
      "source": [
        "sentiment_df['subjectivity'].hist(bins=50)\n",
        "plt.title('Subjectivity Score Distribution')\n",
        "plt.xlabel('Subjectivity Score')\n",
        "plt.ylabel('Frequency')\n",
        "plt.show()"
      ]
    },
    {
      "cell_type": "code",
      "execution_count": 15,
      "metadata": {
        "id": "lcVqd-5gUPv8"
      },
      "outputs": [],
      "source": [
        "output_file = os.path.join(base_directory, 'processed', 'sentiment.csv')\n",
        "sentiment_df.to_csv(output_file, index=False)                    \n",
        "                    "
      ]
    }
  ],
  "metadata": {
    "colab": {
      "provenance": []
    },
    "kernelspec": {
      "display_name": "Python 3",
      "name": "python3"
    },
    "language_info": {
      "codemirror_mode": {
        "name": "ipython",
        "version": 3
      },
      "file_extension": ".py",
      "mimetype": "text/x-python",
      "name": "python",
      "nbconvert_exporter": "python",
      "pygments_lexer": "ipython3",
      "version": "3.10.10"
    }
  },
  "nbformat": 4,
  "nbformat_minor": 0
}
