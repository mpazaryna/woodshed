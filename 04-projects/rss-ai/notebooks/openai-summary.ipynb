{
 "cells": [
  {
   "cell_type": "code",
   "execution_count": 7,
   "metadata": {},
   "outputs": [],
   "source": [
    "from openai import OpenAI\n",
    "\n",
    "client = OpenAI()\n",
    "\n",
    "# Function to read the article\n",
    "def read_article():\n",
    "    with open('../data/mock/article.md', 'r') as file:\n",
    "        article_text = file.read()\n",
    "    return article_text\n",
    "\n",
    "# Function to summarize the article using the updated OpenAI method\n",
    "def summarize_article(article_text):\n",
    "    \"\"\"Summmarize a long article into three main points.\"\"\"\n",
    "    \n",
    "    prompt = f\"\"\"From the long article below, extract the four main points\n",
    "     of the article below in bullet points.\n",
    "     Ignore the parts of the text that do not contain the article. \n",
    "     Ignore any HTML code snippets you find:\n",
    "     {article_text}\n",
    "     \"\"\"\n",
    "    \n",
    "    role_content = \"\"\"You are a professional news summarizer. Write in\n",
    "    easy to understand terms the main ideas of the provided article\"\"\"\n",
    "    \n",
    "    response = client.chat.completions.create(\n",
    "        messages=[\n",
    "            {\"role\": \"system\", \"content\": f\"{role_content}\"},\n",
    "            {\"role\": \"user\", \"content\": prompt},\n",
    "        ],\n",
    "        model=\"gpt-3.5-turbo\",  # Use the specified model\n",
    "    )\n",
    "    completion_text = response.choices[0].message.content\n",
    "    return completion_text  # Display the summary"
   ]
  },
  {
   "cell_type": "code",
   "execution_count": 8,
   "metadata": {},
   "outputs": [
    {
     "name": "stdout",
     "output_type": "stream",
     "text": [
      "Summary of the article:\n",
      "- OpenAI has developed a new series of AI reasoning models that excel in solving hard problems in science, coding, and math\n",
      "- The reasoning models were tested and found to perform similarly to PhD students in challenging tasks, scoring high percentages in physics, chemistry, biology, math, and coding\n",
      "- These models, part of the OpenAI o1 series, have enhanced safety features and follow strict guidelines to adhere to safety and alignment rules\n",
      "- The models can be particularly useful for researchers, physicists, and developers working on complex problems, and there is also an o1-mini version that is cheaper and optimized for coding applications\n"
     ]
    }
   ],
   "source": [
    "# Read the article and display the summary\n",
    "article_text = read_article()  # Read the article text\n",
    "summary = summarize_article(article_text)  # Summarize the article\n",
    "print(\"Summary of the article:\")\n",
    "print(summary)"
   ]
  }
 ],
 "metadata": {
  "kernelspec": {
   "display_name": "rss-ai-KvD6L406-py3.12",
   "language": "python",
   "name": "python3"
  },
  "language_info": {
   "codemirror_mode": {
    "name": "ipython",
    "version": 3
   },
   "file_extension": ".py",
   "mimetype": "text/x-python",
   "name": "python",
   "nbconvert_exporter": "python",
   "pygments_lexer": "ipython3",
   "version": "3.12.4"
  }
 },
 "nbformat": 4,
 "nbformat_minor": 2
}
