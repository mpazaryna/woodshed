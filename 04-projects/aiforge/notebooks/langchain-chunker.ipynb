{
 "cells": [
  {
   "cell_type": "code",
   "execution_count": 1,
   "metadata": {},
   "outputs": [],
   "source": [
    "# This is a long document we can split up.\n",
    "with open(\"/Users/mpaz/github/aiforge/tmp/data/test/great_gatsby.txt\") as f:\n",
    "    gatsby_text = f.read()"
   ]
  },
  {
   "cell_type": "code",
   "execution_count": 2,
   "metadata": {},
   "outputs": [],
   "source": [
    "from langchain_text_splitters import (\n",
    "    CharacterTextSplitter,\n",
    "    RecursiveCharacterTextSplitter,\n",
    ")"
   ]
  },
  {
   "cell_type": "code",
   "execution_count": 3,
   "metadata": {},
   "outputs": [
    {
     "name": "stdout",
     "output_type": "stream",
     "text": [
      "['abcdefghijklmnopqrstuvwxyz']\n",
      "['abcdefghijklmnopqrstuvwxyz', 'wxyzabcdefg']\n",
      "['a b c d e f g h i j k l m', 'l m n o p q r s t u v w x', 'w x y z']\n",
      "['a b c d e f g h i j k l m n o p q r s t u v w x y z']\n",
      "['a b c d e f g h i j k l m', 'l m n o p q r s t u v w x', 'w x y z']\n"
     ]
    }
   ],
   "source": [
    "chunk_size = 26\n",
    "chunk_overlap = 4\n",
    "\n",
    "r_splitter = RecursiveCharacterTextSplitter(\n",
    "    chunk_size=chunk_size, chunk_overlap=chunk_overlap\n",
    ")\n",
    "\n",
    "c_splitter = CharacterTextSplitter(chunk_size=chunk_size, chunk_overlap=chunk_overlap)\n",
    "\n",
    "text1 = \"abcdefghijklmnopqrstuvwxyz\"\n",
    "print(r_splitter.split_text(text1))\n",
    "\n",
    "text2 = \"abcdefghijklmnopqrstuvwxyzabcdefg\"\n",
    "print(r_splitter.split_text(text2))\n",
    "\n",
    "text3 = \"a b c d e f g h i j k l m n o p q r s t u v w x y z\"\n",
    "print(r_splitter.split_text(text3))\n",
    "\n",
    "print(c_splitter.split_text(text3))\n",
    "\n",
    "# Set the separator for CharacterTextSplitter\n",
    "c_splitter = CharacterTextSplitter(\n",
    "    chunk_size=chunk_size, chunk_overlap=chunk_overlap, separator=\" \"\n",
    ")\n",
    "\n",
    "print(c_splitter.split_text(text3))"
   ]
  },
  {
   "cell_type": "code",
   "execution_count": 4,
   "metadata": {},
   "outputs": [
    {
     "name": "stdout",
     "output_type": "stream",
     "text": [
      "['In my younger and more', 'vulnerable years my', 'my father gave me some', 'advice that I’ve been', 'turning over in my mind', 'ever since. “Whenever you', 'you feel like criticizing', 'any one,” he told me,', 'me, “just remember that', 'all the people in this', 'world haven’t had the', 'the advantages that', 'you’ve had.” He didn’t', 'say any more, but we’ve', 'always been unusually', 'communicative in a', 'a reserved way, and I', 'I understood that he', 'he meant a great deal', 'more than that. In', 'In consequence, I’m', 'I’m inclined to reserve', 'all judgments, a habit', 'that has opened up many', 'curious natures to me and', 'and also made me the', 'the victim of not a few', 'few veteran bores. The', 'The abnormal mind is', 'is quick to detect and', 'and attach itself to this', 'quality when it appears', 'in a normal person, and', 'and so it came about that', 'in college I was unjustly', 'accused of being a', 'a politician, because I', 'I was privy to the secret', 'griefs of wild, unknown', 'men.', 'The idea is if we don’t', 'look out the white race', 'will be—will be utterly', 'submerged. It’s all', 'all scientific stuff;', 'it’s been proved.” “Tom’s', 'getting very profound,”', 'said Daisy, with an', 'an expression of', 'of unthoughtful sadness.', '“He reads deep books with', 'long words in them. What', 'was that word we—” “Well,', 'these books are all', 'all scientific,” insisted', 'Tom, glancing at her', 'her impatiently. “This', 'fellow has worked out the', 'the whole thing. It’s up', 'up to us, who are the', 'the dominant race, to', 'to watch out or these', 'other races will have', 'control of things.”', 'He smiled', 'understandingly—much more', 'than understandingly. It', 'It was one of those rare', 'smiles with a quality of', 'of eternal reassurance in', 'in it, that you may come', 'across four or five times', 'in life. It faced—or', 'seemed to face—the whole', 'external world for an', 'an instant, and then', 'concentrated on you with', 'an irresistible prejudice', 'in your favor. It', 'It understood you just so', 'so far as you wanted to', 'to be understood,', 'believed in you as you', 'you would like to believe', 'in yourself, and assured', 'you that it had precisely', 'the impression of you', 'you that, at your best,', 'you hoped to convey.', 'The lights grow brighter', 'as the earth lurches away', 'from the sun, and now the', 'the orchestra is playing', 'yellow cocktail music,', 'and the opera of voices', 'pitches a key higher.', 'Laughter is easier minute', 'by minute, spilled with', 'prodigality, tipped out', 'out at a cheerful word.', 'The groups change more', 'swiftly, swell with new', 'new arrivals, dissolve', 'and form in the same', 'breath—already there are', 'are wanderers, confident', 'girls who weave here and', 'and there among the', 'the stouter and more', 'stable, become for a', 'a sharp, joyous moment', 'the center of a group,', 'and then, excited with', 'triumph, glide on through', 'the sea-change of faces', 'and voices and color', 'under the constantly', 'changing light.', 'They were careless', 'people, Tom and', 'and Daisy—they smashed up', 'up things and creatures', 'and then retreated back', 'into their money or their', 'vast carelessness, or', 'or whatever it was that', 'kept them together, and', 'and let other people', 'clean up the mess they', 'had made.']\n"
     ]
    }
   ],
   "source": [
    "print(r_splitter.split_text(gatsby_text))"
   ]
  },
  {
   "cell_type": "code",
   "execution_count": 5,
   "metadata": {},
   "outputs": [],
   "source": [
    "c_splitter = CharacterTextSplitter(chunk_size=450, chunk_overlap=0, separator=\" \")\n",
    "\n",
    "r_splitter = RecursiveCharacterTextSplitter(\n",
    "    chunk_size=450, chunk_overlap=0, separators=[\"\\n\\n\", \"\\n\", \" \", \"\"]\n",
    ")"
   ]
  },
  {
   "cell_type": "code",
   "execution_count": 6,
   "metadata": {},
   "outputs": [
    {
     "name": "stdout",
     "output_type": "stream",
     "text": [
      "Chunks:  ['In my younger and more vulnerable years my father gave me some advice that I’ve been turning over in my mind ever since. “Whenever you feel like criticizing any one,” he told me, “just remember that all the people in this world haven’t had the advantages that you’ve had.” He didn’t say any more, but we’ve always been unusually communicative in a reserved way, and I understood that he meant a great deal more than that. In consequence, I’m inclined', 'to reserve all judgments, a habit that has opened up many curious natures to me and also made me the victim of not a few veteran bores. The abnormal mind is quick to detect and attach itself to this quality when it appears in a normal person, and so it came about that in college I was unjustly accused of being a politician, because I was privy to the secret griefs of wild, unknown men.\\n\\nThe idea is if we don’t look out the white race will be—will', 'be utterly submerged. It’s all scientific stuff; it’s been proved.” “Tom’s getting very profound,” said Daisy, with an expression of unthoughtful sadness. “He reads deep books with long words in them. What was that word we—” “Well, these books are all scientific,” insisted Tom, glancing at her impatiently. “This fellow has worked out the whole thing. It’s up to us, who are the dominant race, to watch out or these other races will have control of', 'things.”\\n\\nHe smiled understandingly—much more than understandingly. It was one of those rare smiles with a quality of eternal reassurance in it, that you may come across four or five times in life. It faced—or seemed to face—the whole external world for an instant, and then concentrated on you with an irresistible prejudice in your favor. It understood you just so far as you wanted to be understood, believed in you as you would like to believe in', 'yourself, and assured you that it had precisely the impression of you that, at your best, you hoped to convey.\\n\\nThe lights grow brighter as the earth lurches away from the sun, and now the orchestra is playing yellow cocktail music, and the opera of voices pitches a key higher. Laughter is easier minute by minute, spilled with prodigality, tipped out at a cheerful word. The groups change more swiftly, swell with new arrivals, dissolve and form in', 'the same breath—already there are wanderers, confident girls who weave here and there among the stouter and more stable, become for a sharp, joyous moment the center of a group, and then, excited with triumph, glide on through the sea-change of faces and voices and color under the constantly changing light.\\n\\nThey were careless people, Tom and Daisy—they smashed up things and creatures and then retreated back into their money or their vast', 'carelessness, or whatever it was that kept them together, and let other people clean up the mess they had made.']\n",
      "Length of chunks:  7\n",
      "Chunks:  ['In my younger and more vulnerable years my father gave me some advice that I’ve been turning over in my mind ever since. “Whenever you feel like criticizing any one,” he told me, “just remember that all the people in this world haven’t had the advantages that you’ve had.” He didn’t say any more, but we’ve always been unusually communicative in a reserved way, and I understood that he meant a great deal more than that. In consequence, I’m inclined', 'to reserve all judgments, a habit that has opened up many curious natures to me and also made me the victim of not a few veteran bores. The abnormal mind is quick to detect and attach itself to this quality when it appears in a normal person, and so it came about that in college I was unjustly accused of being a politician, because I was privy to the secret griefs of wild, unknown men.', 'The idea is if we don’t look out the white race will be—will be utterly submerged. It’s all scientific stuff; it’s been proved.” “Tom’s getting very profound,” said Daisy, with an expression of unthoughtful sadness. “He reads deep books with long words in them. What was that word we—” “Well, these books are all scientific,” insisted Tom, glancing at her impatiently. “This fellow has worked out the whole thing. It’s up to us, who are the dominant', 'race, to watch out or these other races will have control of things.”', 'He smiled understandingly—much more than understandingly. It was one of those rare smiles with a quality of eternal reassurance in it, that you may come across four or five times in life. It faced—or seemed to face—the whole external world for an instant, and then concentrated on you with an irresistible prejudice in your favor. It understood you just so far as you wanted to be understood, believed in you as you would like to believe in', 'yourself, and assured you that it had precisely the impression of you that, at your best, you hoped to convey.', 'The lights grow brighter as the earth lurches away from the sun, and now the orchestra is playing yellow cocktail music, and the opera of voices pitches a key higher. Laughter is easier minute by minute, spilled with prodigality, tipped out at a cheerful word. The groups change more swiftly, swell with new arrivals, dissolve and form in the same breath—already there are wanderers, confident girls who weave here and there among the stouter and', 'more stable, become for a sharp, joyous moment the center of a group, and then, excited with triumph, glide on through the sea-change of faces and voices and color under the constantly changing light.', 'They were careless people, Tom and Daisy—they smashed up things and creatures and then retreated back into their money or their vast carelessness, or whatever it was that kept them together, and let other people clean up the mess they had made.']\n",
      "Length of chunks:  9\n"
     ]
    }
   ],
   "source": [
    "chunks = c_splitter.split_text(gatsby_text)\n",
    "print(\"Chunks: \", chunks)\n",
    "print(\"Length of chunks: \", len(chunks))\n",
    "\n",
    "chunks = r_splitter.split_text(gatsby_text)\n",
    "print(\"Chunks: \", chunks)\n",
    "print(\"Length of chunks: \", len(chunks))"
   ]
  },
  {
   "cell_type": "code",
   "execution_count": 7,
   "metadata": {},
   "outputs": [
    {
     "name": "stdout",
     "output_type": "stream",
     "text": [
      "Pages in the original document:  98\n",
      "Length of chunks after splitting pages:  176\n"
     ]
    }
   ],
   "source": [
    "from langchain_community.document_loaders import PyPDFLoader\n",
    "\n",
    "# Load a PDF document\n",
    "pdf_file = \"/Users/mpaz/github/aiforge/tmp/data/test/python-basics-intro.pdf\"\n",
    "\n",
    "loader = PyPDFLoader(pdf_file)\n",
    "pages = loader.load()\n",
    "\n",
    "text_splitter = CharacterTextSplitter(\n",
    "    separator=\"\\n\", chunk_size=1000, chunk_overlap=150, length_function=len\n",
    ")\n",
    "\n",
    "docs = text_splitter.split_documents(pages)\n",
    "\n",
    "print(\"Pages in the original document: \", len(pages))\n",
    "print(\"Length of chunks after splitting pages: \", len(docs))"
   ]
  }
 ],
 "metadata": {
  "kernelspec": {
   "display_name": "aiforge-_dcRt4Cg-py3.12",
   "language": "python",
   "name": "python3"
  },
  "language_info": {
   "codemirror_mode": {
    "name": "ipython",
    "version": 3
   },
   "file_extension": ".py",
   "mimetype": "text/x-python",
   "name": "python",
   "nbconvert_exporter": "python",
   "pygments_lexer": "ipython3",
   "version": "3.12.4"
  }
 },
 "nbformat": 4,
 "nbformat_minor": 2
}
