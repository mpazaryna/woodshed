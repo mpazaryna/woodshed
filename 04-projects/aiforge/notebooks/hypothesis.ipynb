{
 "cells": [
  {
   "cell_type": "markdown",
   "metadata": {},
   "source": [
    "## Background on Hypothesis and Property-Based Testing:\n",
    "\n",
    "Property-based testing is a testing technique that focuses on verifying the properties or behaviors of your code rather than specific input-output pairs. Instead of writing individual test cases, you define properties that should always hold true for your function or system, and the testing framework (in this case, Hypothesis) generates a wide range of inputs to test these properties.\n",
    "Hypothesis is a powerful Python library for property-based testing. Here's why you should consider using it:\n",
    "\n",
    "Thorough testing: Hypothesis generates a wide range of test cases, including edge cases that you might not think of manually.\n",
    "Reproducibility: When a test fails, Hypothesis provides the exact input that caused the failure, making it easier to debug.\n",
    "Shrinking: If a test fails, Hypothesis automatically tries to find the simplest possible input that still causes the failure.\n",
    "Integration with pytest: Hypothesis works seamlessly with pytest, making it easy to incorporate into existing test suites.\n",
    "Customizable strategies: You can define custom strategies for generating test data specific to your domain."
   ]
  },
  {
   "cell_type": "code",
   "execution_count": 1,
   "metadata": {},
   "outputs": [],
   "source": [
    "def absolute_value(x):\n",
    "    return abs(x)"
   ]
  },
  {
   "cell_type": "code",
   "execution_count": 2,
   "metadata": {},
   "outputs": [],
   "source": [
    "from hypothesis import given, strategies as st\n",
    "\n",
    "\n",
    "@given(st.integers())\n",
    "def test_absolute_value(x):\n",
    "    result = absolute_value(x)\n",
    "    assert result >= 0\n",
    "    assert result == x or result == -x"
   ]
  },
  {
   "cell_type": "code",
   "execution_count": 3,
   "metadata": {},
   "outputs": [
    {
     "name": "stdout",
     "output_type": "stream",
     "text": [
      "Running Hypothesis test for absolute value function...\n",
      "Test completed successfully!\n"
     ]
    }
   ],
   "source": [
    "print(\"Running Hypothesis test for absolute value function...\")\n",
    "try:\n",
    "    test_absolute_value()\n",
    "    print(\"Test completed successfully!\")\n",
    "except AssertionError as e:\n",
    "    print(f\"Test failed: {e}\")"
   ]
  },
  {
   "cell_type": "code",
   "execution_count": 4,
   "metadata": {},
   "outputs": [],
   "source": [
    "def buggy_sort(lst):\n",
    "    \"\"\"A buggy sorting function that fails for some inputs.\"\"\"\n",
    "    # This sorting algorithm works correctly for most cases,\n",
    "    # but fails when the list contains duplicate elements\n",
    "    return sorted(set(lst))"
   ]
  },
  {
   "cell_type": "code",
   "execution_count": 5,
   "metadata": {},
   "outputs": [],
   "source": [
    "@given(st.lists(st.integers()))\n",
    "def test_buggy_sort(numbers):\n",
    "    sorted_numbers = buggy_sort(numbers)\n",
    "\n",
    "    # Check if the output is sorted\n",
    "    assert all(\n",
    "        sorted_numbers[i] <= sorted_numbers[i + 1]\n",
    "        for i in range(len(sorted_numbers) - 1)\n",
    "    ), f\"Output is not sorted: {sorted_numbers}\"\n",
    "\n",
    "    # Check if the output has the same length as the input\n",
    "    assert len(sorted_numbers) == len(\n",
    "        numbers\n",
    "    ), f\"Output length {len(sorted_numbers)} doesn't match input length {len(numbers)}\"\n",
    "\n",
    "    # Check if all elements from the input are in the output\n",
    "    assert set(sorted_numbers) == set(\n",
    "        numbers\n",
    "    ), f\"Output {sorted_numbers} is missing elements from input {numbers}\""
   ]
  },
  {
   "cell_type": "code",
   "execution_count": 6,
   "metadata": {},
   "outputs": [
    {
     "name": "stdout",
     "output_type": "stream",
     "text": [
      "Running Hypothesis test for buggy_sort function...\n",
      "Test failed: Output length 1 doesn't match input length 2\n"
     ]
    }
   ],
   "source": [
    "print(\"Running Hypothesis test for buggy_sort function...\")\n",
    "try:\n",
    "    test_buggy_sort()\n",
    "    print(\"Test completed successfully!\")\n",
    "except AssertionError as e:\n",
    "    print(f\"Test failed: {e}\")"
   ]
  }
 ],
 "metadata": {
  "kernelspec": {
   "display_name": "paz-Yu8H4V7Z-py3.12",
   "language": "python",
   "name": "python3"
  },
  "language_info": {
   "codemirror_mode": {
    "name": "ipython",
    "version": 3
   },
   "file_extension": ".py",
   "mimetype": "text/x-python",
   "name": "python",
   "nbconvert_exporter": "python",
   "pygments_lexer": "ipython3",
   "version": "3.12.4"
  }
 },
 "nbformat": 4,
 "nbformat_minor": 2
}
