{
 "cells": [
  {
   "cell_type": "code",
   "execution_count": 2,
   "metadata": {},
   "outputs": [
    {
     "name": "stdout",
     "output_type": "stream",
     "text": [
      "{'address1': 'One Microsoft Way', 'city': 'Redmond', 'state': 'WA', 'zip': '98052-6399', 'country': 'United States', 'phone': '425 882 8080', 'website': 'https://www.microsoft.com', 'industry': 'Software - Infrastructure', 'industryKey': 'software-infrastructure', 'industryDisp': 'Software - Infrastructure', 'sector': 'Technology', 'sectorKey': 'technology', 'sectorDisp': 'Technology', 'longBusinessSummary': 'Microsoft Corporation develops and supports software, services, devices and solutions worldwide. The Productivity and Business Processes segment offers office, exchange, SharePoint, Microsoft Teams, office 365 Security and Compliance, Microsoft viva, and Microsoft 365 copilot; and office consumer services, such as Microsoft 365 consumer subscriptions, Office licensed on-premises, and other office services. This segment also provides LinkedIn; and dynamics business solutions, including Dynamics 365, a set of intelligent, cloud-based applications across ERP, CRM, power apps, and power automate; and on-premises ERP and CRM applications. The Intelligent Cloud segment offers server products and cloud services, such as azure and other cloud services; SQL and windows server, visual studio, system center, and related client access licenses, as well as nuance and GitHub; and enterprise services including enterprise support services, industry solutions, and nuance professional services. The More Personal Computing segment offers Windows, including windows OEM licensing and other non-volume licensing of the Windows operating system; Windows commercial comprising volume licensing of the Windows operating system, windows cloud services, and other Windows commercial offerings; patent licensing; and windows Internet of Things; and devices, such as surface, HoloLens, and PC accessories. Additionally, this segment provides gaming, which includes Xbox hardware and content, and first- and third-party content; Xbox game pass and other subscriptions, cloud gaming, advertising, third-party disc royalties, and other cloud services; and search and news advertising, which includes Bing, Microsoft News and Edge, and third-party affiliates. The company sells its products through OEMs, distributors, and resellers; and directly through digital marketplaces, online, and retail stores. The company was founded in 1975 and is headquartered in Redmond, Washington.', 'fullTimeEmployees': 228000, 'companyOfficers': [{'maxAge': 1, 'name': 'Mr. Satya  Nadella', 'age': 56, 'title': 'Chairman & CEO', 'yearBorn': 1967, 'fiscalYear': 2023, 'totalPay': 9276400, 'exercisedValue': 0, 'unexercisedValue': 0}, {'maxAge': 1, 'name': 'Mr. Bradford L. Smith LCA', 'age': 64, 'title': 'President & Vice Chairman', 'yearBorn': 1959, 'fiscalYear': 2023, 'totalPay': 3591277, 'exercisedValue': 0, 'unexercisedValue': 0}, {'maxAge': 1, 'name': 'Ms. Amy E. Hood', 'age': 51, 'title': 'Executive VP & CFO', 'yearBorn': 1972, 'fiscalYear': 2023, 'totalPay': 3452196, 'exercisedValue': 0, 'unexercisedValue': 0}, {'maxAge': 1, 'name': 'Mr. Judson B. Althoff', 'age': 50, 'title': 'Executive VP & Chief Commercial Officer', 'yearBorn': 1973, 'fiscalYear': 2023, 'totalPay': 3355797, 'exercisedValue': 0, 'unexercisedValue': 0}, {'maxAge': 1, 'name': 'Mr. Christopher David Young', 'age': 51, 'title': 'Executive Vice President of Business Development, Strategy & Ventures', 'yearBorn': 1972, 'fiscalYear': 2023, 'totalPay': 2460507, 'exercisedValue': 0, 'unexercisedValue': 0}, {'maxAge': 1, 'name': 'Ms. Carolina  Dybeck Happe', 'age': 51, 'title': 'Executive VP & COO', 'yearBorn': 1972, 'fiscalYear': 2023, 'exercisedValue': 0, 'unexercisedValue': 0}, {'maxAge': 1, 'name': 'Ms. Alice L. Jolla', 'age': 57, 'title': 'Corporate VP & Chief Accounting Officer', 'yearBorn': 1966, 'fiscalYear': 2023, 'exercisedValue': 0, 'unexercisedValue': 0}, {'maxAge': 1, 'name': 'Mr. James Kevin Scott', 'age': 51, 'title': 'Executive VP of AI & CTO', 'yearBorn': 1972, 'fiscalYear': 2023, 'exercisedValue': 0, 'unexercisedValue': 0}, {'maxAge': 1, 'name': 'Brett  Iversen', 'title': 'Vice President of Investor Relations', 'fiscalYear': 2023, 'exercisedValue': 0, 'unexercisedValue': 0}, {'maxAge': 1, 'name': 'Mr. Hossein  Nowbar', 'title': 'Chief Legal Officer', 'fiscalYear': 2023, 'exercisedValue': 0, 'unexercisedValue': 0}], 'auditRisk': 3, 'boardRisk': 4, 'compensationRisk': 2, 'shareHolderRightsRisk': 2, 'overallRisk': 1, 'governanceEpochDate': 1727740800, 'compensationAsOfEpochDate': 1703980800, 'irWebsite': 'http://www.microsoft.com/investor/default.aspx', 'maxAge': 86400, 'priceHint': 2, 'previousClose': 417.46, 'open': 415.225, 'dayLow': 413.15, 'dayHigh': 417.35, 'regularMarketPreviousClose': 417.46, 'regularMarketOpen': 415.225, 'regularMarketDayLow': 413.15, 'regularMarketDayHigh': 417.35, 'dividendRate': 3.32, 'dividendYield': 0.008, 'exDividendDate': 1732147200, 'payoutRatio': 0.2483, 'fiveYearAvgDividendYield': 0.89, 'beta': 0.896, 'trailingPE': 35.177128, 'forwardPE': 27.295788, 'volume': 6769291, 'regularMarketVolume': 6769291, 'averageVolume': 20107887, 'averageVolume10days': 16975210, 'averageDailyVolume10Day': 16975210, 'bid': 415.38, 'ask': 415.74, 'bidSize': 100, 'askSize': 100, 'marketCap': 3087996289024, 'fiftyTwoWeekLow': 324.39, 'fiftyTwoWeekHigh': 468.35, 'priceToSalesTrailing12Months': 12.597793, 'fiftyDayAverage': 417.8164, 'twoHundredDayAverage': 417.22406, 'trailingAnnualDividendRate': 3.0, 'trailingAnnualDividendYield': 0.0071863174, 'currency': 'USD', 'enterpriseValue': 3125317206016, 'profitMargins': 0.35956, 'floatShares': 7422632127, 'sharesOutstanding': 7433039872, 'sharesShort': 59527028, 'sharesShortPriorMonth': 65801156, 'sharesShortPreviousMonthDate': 1724976000, 'dateShortInterest': 1727654400, 'sharesPercentSharesOut': 0.008, 'heldPercentInsiders': 0.00055, 'heldPercentInstitutions': 0.73697996, 'shortRatio': 3.12, 'shortPercentOfFloat': 0.008, 'impliedSharesOutstanding': 7433039872, 'bookValue': 36.115, 'priceToBook': 11.503305, 'lastFiscalYearEnd': 1719705600, 'nextFiscalYearEnd': 1751241600, 'mostRecentQuarter': 1719705600, 'earningsQuarterlyGrowth': 0.097, 'netIncomeToCommon': 88135999488, 'trailingEps': 11.81, 'forwardEps': 15.22, 'pegRatio': 2.16, 'lastSplitFactor': '2:1', 'lastSplitDate': 1045526400, 'enterpriseToRevenue': 12.75, 'enterpriseToEbitda': 24.146, '52WeekChange': 0.26059914, 'SandP52WeekChange': 0.33162284, 'lastDividendValue': 0.75, 'lastDividendDate': 1723680000, 'exchange': 'NMS', 'quoteType': 'EQUITY', 'symbol': 'MSFT', 'underlyingSymbol': 'MSFT', 'shortName': 'Microsoft Corporation', 'longName': 'Microsoft Corporation', 'firstTradeDateEpochUtc': 511108200, 'timeZoneFullName': 'America/New_York', 'timeZoneShortName': 'EDT', 'uuid': 'b004b3ec-de24-385e-b2c1-923f10d3fb62', 'messageBoardId': 'finmb_21835', 'gmtOffSetMilliseconds': -14400000, 'currentPrice': 415.4419, 'targetHighPrice': 600.0, 'targetLowPrice': 440.0, 'targetMeanPrice': 496.3, 'targetMedianPrice': 500.0, 'recommendationMean': 1.7, 'recommendationKey': 'buy', 'numberOfAnalystOpinions': 46, 'totalCash': 75531001856, 'totalCashPerShare': 10.162, 'ebitda': 129433001984, 'totalDebt': 97851998208, 'quickRatio': 1.141, 'currentRatio': 1.275, 'totalRevenue': 245122007040, 'debtToEquity': 36.447, 'revenuePerShare': 32.986, 'returnOnAssets': 0.14802, 'returnOnEquity': 0.37133, 'freeCashflow': 56705249280, 'operatingCashflow': 118547996672, 'earningsGrowth': 0.097, 'revenueGrowth': 0.152, 'grossMargins': 0.69764, 'ebitdaMargins': 0.52804, 'operatingMargins': 0.43143, 'financialCurrency': 'USD', 'trailingPegRatio': 2.2605}\n",
      "                                 Open        High         Low       Close  \\\n",
      "Date                                                                        \n",
      "2024-09-10 00:00:00-04:00  408.200012  416.329987  407.700012  414.200012   \n",
      "2024-09-11 00:00:00-04:00  415.500000  423.989990  409.579987  423.040009   \n",
      "2024-09-12 00:00:00-04:00  423.309998  427.369995  419.750000  427.000000   \n",
      "2024-09-13 00:00:00-04:00  425.829987  431.829987  425.459991  430.589996   \n",
      "2024-09-16 00:00:00-04:00  430.600006  433.529999  428.220001  431.339996   \n",
      "2024-09-17 00:00:00-04:00  440.230011  441.850006  432.269989  435.149994   \n",
      "2024-09-18 00:00:00-04:00  435.000000  436.029999  430.410004  430.809998   \n",
      "2024-09-19 00:00:00-04:00  441.230011  441.500000  436.899994  438.690002   \n",
      "2024-09-20 00:00:00-04:00  437.220001  439.239990  434.220001  435.269989   \n",
      "2024-09-23 00:00:00-04:00  434.279999  436.459991  430.390015  433.510010   \n",
      "2024-09-24 00:00:00-04:00  433.000000  433.350006  426.100006  429.170013   \n",
      "2024-09-25 00:00:00-04:00  429.829987  433.119995  428.570007  432.109985   \n",
      "2024-09-26 00:00:00-04:00  435.089996  435.299988  429.130005  431.309998   \n",
      "2024-09-27 00:00:00-04:00  431.519989  431.850006  427.470001  428.019989   \n",
      "2024-09-30 00:00:00-04:00  428.209991  430.420013  425.369995  430.299988   \n",
      "2024-10-01 00:00:00-04:00  428.450012  428.480011  418.809998  420.690002   \n",
      "2024-10-02 00:00:00-04:00  422.579987  422.820007  416.709991  417.130005   \n",
      "2024-10-03 00:00:00-04:00  417.630005  419.549988  414.290009  416.540009   \n",
      "2024-10-04 00:00:00-04:00  418.239990  419.750000  414.970001  416.059998   \n",
      "2024-10-07 00:00:00-04:00  416.000000  417.109985  409.000000  409.540009   \n",
      "2024-10-08 00:00:00-04:00  410.899994  415.660004  408.170013  414.709991   \n",
      "2024-10-09 00:00:00-04:00  415.859985  420.380005  414.299988  417.459991   \n",
      "2024-10-10 00:00:00-04:00  415.225006  417.350006  413.149994  415.441895   \n",
      "\n",
      "                             Volume  Dividends  Stock Splits  \n",
      "Date                                                          \n",
      "2024-09-10 00:00:00-04:00  19594300        0.0           0.0  \n",
      "2024-09-11 00:00:00-04:00  19266900        0.0           0.0  \n",
      "2024-09-12 00:00:00-04:00  17418800        0.0           0.0  \n",
      "2024-09-13 00:00:00-04:00  15874600        0.0           0.0  \n",
      "2024-09-16 00:00:00-04:00  13834700        0.0           0.0  \n",
      "2024-09-17 00:00:00-04:00  18874200        0.0           0.0  \n",
      "2024-09-18 00:00:00-04:00  18898000        0.0           0.0  \n",
      "2024-09-19 00:00:00-04:00  21706600        0.0           0.0  \n",
      "2024-09-20 00:00:00-04:00  55167100        0.0           0.0  \n",
      "2024-09-23 00:00:00-04:00  15128900        0.0           0.0  \n",
      "2024-09-24 00:00:00-04:00  17015800        0.0           0.0  \n",
      "2024-09-25 00:00:00-04:00  13396400        0.0           0.0  \n",
      "2024-09-26 00:00:00-04:00  14492000        0.0           0.0  \n",
      "2024-09-27 00:00:00-04:00  14896100        0.0           0.0  \n",
      "2024-09-30 00:00:00-04:00  16807300        0.0           0.0  \n",
      "2024-10-01 00:00:00-04:00  19092900        0.0           0.0  \n",
      "2024-10-02 00:00:00-04:00  16582300        0.0           0.0  \n",
      "2024-10-03 00:00:00-04:00  13686400        0.0           0.0  \n",
      "2024-10-04 00:00:00-04:00  19169700        0.0           0.0  \n",
      "2024-10-07 00:00:00-04:00  20919800        0.0           0.0  \n",
      "2024-10-08 00:00:00-04:00  19229300        0.0           0.0  \n",
      "2024-10-09 00:00:00-04:00  14876300        0.0           0.0  \n",
      "2024-10-10 00:00:00-04:00   6769291        0.0           0.0  \n"
     ]
    }
   ],
   "source": [
    "import yfinance as yf\n",
    "msft = yf.Ticker(\"MSFT\")\n",
    "print(msft.info)\n",
    "print(msft.history(period=\"1mo\"))"
   ]
  }
 ],
 "metadata": {
  "kernelspec": {
   "display_name": "prism-hxnYuni--py3.12",
   "language": "python",
   "name": "python3"
  },
  "language_info": {
   "codemirror_mode": {
    "name": "ipython",
    "version": 3
   },
   "file_extension": ".py",
   "mimetype": "text/x-python",
   "name": "python",
   "nbconvert_exporter": "python",
   "pygments_lexer": "ipython3",
   "version": "3.12.4"
  }
 },
 "nbformat": 4,
 "nbformat_minor": 2
}
