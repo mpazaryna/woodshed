{
 "cells": [
  {
   "cell_type": "code",
   "execution_count": 4,
   "metadata": {},
   "outputs": [
    {
     "name": "stdout",
     "output_type": "stream",
     "text": [
      "API Key found\n"
     ]
    }
   ],
   "source": [
    "from dotenv import load_dotenv\n",
    "import os\n",
    "\n",
    "# Load the environment variables from .env file\n",
    "load_dotenv()\n",
    "\n",
    "# Now you can access your environment variables\n",
    "api_key = os.environ.get(\"PERPLEXITY_API_KEY\")\n",
    "\n",
    "if api_key:\n",
    "    print(\"API Key found\")\n",
    "else:\n",
    "    print(\"API Key not found\")"
   ]
  },
  {
   "cell_type": "code",
   "execution_count": 5,
   "metadata": {},
   "outputs": [
    {
     "name": "stdout",
     "output_type": "stream",
     "text": [
      "Mount Vernon Mills is a textile manufacturing company based in Greenville, South Carolina. Here are some key points about the company:\n",
      "\n",
      "1. **Ownership**: Mount Vernon Mills is owned by Robert B. Pamplin Jr., an American businessman and philanthropist, through his company R.B. Pamplin Corporation.\n",
      "\n",
      "2. **Product Lines**: The company produces a variety of textile and chemical products for the apparel, industrial, institutional, and commercial markets. This includes denim fabrics, flame-resistant fabrics, and other textile products.\n",
      "\n",
      "3. **Partnerships**: Mount Vernon Mills has partnered with various brands and companies, such as American Giant and Wrangler FR, to produce specific products like flame-resistant denim.\n",
      "\n",
      "4. **Environmental Initiatives**: The company has taken steps to address environmental concerns, including agreeing to ban PFAS chemicals in their manufacturing process.\n",
      "\n",
      "5. **Manufacturing Locations**: While the company is headquartered in Greenville, South Carolina, it has manufacturing facilities in other locations, including Trion and Alto in North Georgia.\n",
      "\n",
      "6. **Employment**: Mount Vernon Mills has faced significant job cuts in the past, including the elimination of 700 jobs in Trion and Alto, Georgia.\n",
      "\n",
      "7. **Product Usage**: The company's denim fabrics are used by various brands and manufacturers, such as Stan Ray and Left Field NYC, to produce clothing items like painter pants and denim jackets.\n",
      "\n",
      "8. **Educational Initiatives**: Mount Vernon Mills has been involved in educational projects, including bringing textbooks to life for college students.\n",
      "\n",
      "9. **Historical Context**: Despite sharing a similar name, Mount Vernon Mills is not directly related to the historical site Mount Vernon, which was the home of George Washington in Virginia.\n"
     ]
    }
   ],
   "source": [
    "import requests\n",
    "import json\n",
    "\n",
    "url = \"https://api.perplexity.ai/chat/completions\"\n",
    "\n",
    "payload = json.dumps({\n",
    "  \"model\": \"llama-3.1-sonar-huge-128k-online\",\n",
    "  \"messages\": [\n",
    "    {\n",
    "      \"role\": \"system\",\n",
    "      \"content\": \"Be precise and concise. Return as much information as possible.\"\n",
    "    },\n",
    "    {\n",
    "      \"role\": \"user\",\n",
    "      \"content\": \"What do you know about Mount Vernon Mills?\"\n",
    "    }\n",
    "  ],\n",
    "  \"max_tokens\": \"2000\",\n",
    "  \"temperature\": 0.2,\n",
    "  \"top_p\": 0.9,\n",
    "  \"return_citations\": True,\n",
    "  \"search_domain_filter\": [\"perplexity.ai\",\n",
    "    \"mvmills.com\"\n",
    "  ],\n",
    "  \"return_images\": False,\n",
    "  \"return_related_questions\": True,\n",
    "  \"search_recency_filter\": \"month\",\n",
    "  \"top_k\": 0,\n",
    "  \"stream\": False,\n",
    "  \"presence_penalty\": 0,\n",
    "  \"frequency_penalty\": 1\n",
    "})\n",
    "headers = {\n",
    "  \"Authorization\": f\"Bearer {api_key}\",\n",
    "  \"Content-Type\": \"application/json\"\n",
    "}\n",
    "\n",
    "response = requests.request(\"POST\", url, headers=headers, data=payload)\n",
    "response_data = response.json()\n",
    "content = response_data['choices'][0]['message']['content']\n",
    "print(content)\n",
    "        \n",
    "\n"
   ]
  }
 ],
 "metadata": {
  "kernelspec": {
   "display_name": "prism-hxnYuni--py3.12",
   "language": "python",
   "name": "python3"
  },
  "language_info": {
   "codemirror_mode": {
    "name": "ipython",
    "version": 3
   },
   "file_extension": ".py",
   "mimetype": "text/x-python",
   "name": "python",
   "nbconvert_exporter": "python",
   "pygments_lexer": "ipython3",
   "version": "3.12.4"
  }
 },
 "nbformat": 4,
 "nbformat_minor": 2
}
