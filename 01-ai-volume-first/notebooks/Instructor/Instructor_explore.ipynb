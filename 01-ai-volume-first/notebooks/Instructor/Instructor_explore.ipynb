{
 "cells": [
  {
   "cell_type": "markdown",
   "metadata": {},
   "source": [
    "# LLM Classification System: Customer Support\n",
    "\n",
    "This code is directly taken from Dave Ebbelar's [gist](https://gist.github.com/daveebbelaar/d65f30bd539a9979d9976af80ec41f07).  It's put in the notebook to serve as a learning tool.  I take no credit for this code, it's all from the gist.   "
   ]
  },
  {
   "cell_type": "code",
   "execution_count": 1,
   "metadata": {},
   "outputs": [],
   "source": [
    "import instructor\n",
    "from pydantic import BaseModel, Field\n",
    "from openai import OpenAI\n",
    "from enum import Enum\n",
    "from typing import List\n",
    "\n",
    "client = OpenAI()"
   ]
  },
  {
   "cell_type": "markdown",
   "metadata": {},
   "source": [
    "## Sample customer support tickets"
   ]
  },
  {
   "cell_type": "code",
   "execution_count": 2,
   "metadata": {},
   "outputs": [],
   "source": [
    "# Sample customer support tickets\n",
    "ticket1 = \"\"\"\n",
    "I ordered a laptop from your store last week (Order #12345), but I received a tablet instead. \n",
    "This is unacceptable! I need the laptop for work urgently. Please resolve this immediately or I'll have to dispute the charge.\n",
    "\"\"\"\n",
    "\n",
    "ticket2 = \"\"\"\n",
    "Hello, I'm having trouble logging into my account. I've tried resetting my password, but I'm not receiving the reset email. \n",
    "Can you please help me regain access to my account? I've been a loyal customer for years and have several pending orders.\n",
    "\"\"\"\n"
   ]
  },
  {
   "cell_type": "markdown",
   "metadata": {},
   "source": [
    "## Completion using standard OpenAI\n",
    "\n",
    "### Drawbacks\n",
    "\n",
    "1. No structured output, making it difficult to integrate into automated systems\n",
    "2. No validation of the output, potentially leading to inconsistent categorizations\n",
    "3. Limited information extracted, missing important details for prioritization\n",
    "4. No confidence score, making it hard to flag uncertain classifications for human review"
   ]
  },
  {
   "cell_type": "code",
   "execution_count": 3,
   "metadata": {},
   "outputs": [],
   "source": [
    "def classify_ticket_simple(ticket_text: str) -> str:\n",
    "    response = client.chat.completions.create(\n",
    "        model=\"gpt-4o\",\n",
    "        messages=[\n",
    "            {\n",
    "                \"role\": \"system\",\n",
    "                \"content\": \"Classify the following customer support ticket into a category.\",\n",
    "            },\n",
    "            {\"role\": \"user\", \"content\": ticket_text},\n",
    "        ],\n",
    "    )\n",
    "    return response.choices[0].message.content"
   ]
  },
  {
   "cell_type": "code",
   "execution_count": 4,
   "metadata": {},
   "outputs": [
    {
     "name": "stdout",
     "output_type": "stream",
     "text": [
      "Category: Order Issue\n"
     ]
    }
   ],
   "source": [
    "result = classify_ticket_simple(ticket1)\n",
    "print(result)"
   ]
  },
  {
   "cell_type": "markdown",
   "metadata": {},
   "source": [
    "## Step 1: Get clear on your objectives\n",
    "\n",
    "### Objective: Develop an AI-powered ticket classification system that:\n",
    "\n",
    "- Accurately categorizes customer support tickets\n",
    "- Assesses the urgency and sentiment of each ticket\n",
    "- Extracts key information for quick resolution\n",
    "- Provides confidence scores to flag uncertain cases for human review\n",
    "\n",
    "### Business impact:\n",
    "\n",
    "- Reduce average response time by routing tickets to the right department\n",
    "- Improve customer satisfaction by prioritizing urgent and negative sentiment tickets\n",
    "- Increase efficiency by providing agents with key information upfront\n",
    "- Optimize workforce allocation by automating routine classifications"
   ]
  },
  {
   "cell_type": "markdown",
   "metadata": {},
   "source": [
    "## Step 2: Patch your LLM with Instructor"
   ]
  },
  {
   "cell_type": "code",
   "execution_count": 5,
   "metadata": {},
   "outputs": [],
   "source": [
    "# Instructor makes it easy to get structured data like JSON from LLMs\n",
    "client = instructor.patch(OpenAI())"
   ]
  },
  {
   "cell_type": "markdown",
   "metadata": {},
   "source": [
    "# Step 3: Define Pydantic data models\n",
    "\n",
    "This code defines a structured data model for classifying customer support tickets using Pydantic and Python's Enum class. \n",
    "It specifies categories, urgency levels, customer sentiments, and other relevant information as predefined options or constrained fields. \n",
    "\n",
    "This structure ensures data consistency, enables automatic validation, and facilitates easy integration with AI models and other parts of a support ticket system.\n",
    "\n"
   ]
  },
  {
   "cell_type": "code",
   "execution_count": 6,
   "metadata": {},
   "outputs": [],
   "source": [
    "class TicketCategory(str, Enum):\n",
    "    ORDER_ISSUE = \"order_issue\"\n",
    "    ACCOUNT_ACCESS = \"account_access\"\n",
    "    PRODUCT_INQUIRY = \"product_inquiry\"\n",
    "    TECHNICAL_SUPPORT = \"technical_support\"\n",
    "    BILLING = \"billing\"\n",
    "    OTHER = \"other\"\n",
    "\n",
    "class CustomerSentiment(str, Enum):\n",
    "    ANGRY = \"angry\"\n",
    "    FRUSTRATED = \"frustrated\"\n",
    "    NEUTRAL = \"neutral\"\n",
    "    SATISFIED = \"satisfied\"\n",
    "\n",
    "class TicketUrgency(str, Enum):\n",
    "    LOW = \"low\"\n",
    "    MEDIUM = \"medium\"\n",
    "    HIGH = \"high\"\n",
    "    CRITICAL = \"critical\"\n",
    "\n",
    "class TicketClassification(BaseModel):\n",
    "    category: TicketCategory\n",
    "    urgency: TicketUrgency\n",
    "    sentiment: CustomerSentiment\n",
    "    confidence: float = Field(\n",
    "        ge=0, le=1, description=\"Confidence score for the classification\"\n",
    "    )\n",
    "    key_information: List[str] = Field(\n",
    "        description=\"List of key points extracted from the ticket\"\n",
    "    )\n",
    "    suggested_action: str = Field(\n",
    "        description=\"Brief suggestion for handling the ticket\"\n",
    "    )\n",
    "\n",
    "ticket_classification = TicketClassification(\n",
    "    category=TicketCategory.ORDER_ISSUE,\n",
    "    urgency=TicketUrgency.HIGH,\n",
    "    sentiment=CustomerSentiment.ANGRY,\n",
    "    confidence=0.9,\n",
    "    key_information=[\"Order #12345\", \"Received tablet instead of laptop\"],\n",
    "    suggested_action=\"Contact customer to arrange laptop delivery\",\n",
    ")"
   ]
  },
  {
   "cell_type": "markdown",
   "metadata": {},
   "source": [
    "## Step 4: Bring everything together in a single function"
   ]
  },
  {
   "cell_type": "code",
   "execution_count": 7,
   "metadata": {},
   "outputs": [],
   "source": [
    "# Bring everything together in a single function\n",
    "def classify_ticket(ticket_text: str) -> TicketClassification:\n",
    "    response = client.chat.completions.create(\n",
    "        model=\"gpt-4o\",\n",
    "        response_model=TicketClassification,\n",
    "        temperature=0,\n",
    "        max_retries=3,\n",
    "        messages=[\n",
    "            {\n",
    "                \"role\": \"system\",\n",
    "                \"content\": \"Analyze the following customer support ticket and extract the requested information.\",\n",
    "            },\n",
    "            {\"role\": \"user\", \"content\": ticket_text},\n",
    "        ],\n",
    "    )\n",
    "    return response"
   ]
  },
  {
   "cell_type": "code",
   "execution_count": 8,
   "metadata": {},
   "outputs": [
    {
     "name": "stdout",
     "output_type": "stream",
     "text": [
      "{\n",
      "  \"category\": \"order_issue\",\n",
      "  \"urgency\": \"critical\",\n",
      "  \"sentiment\": \"angry\",\n",
      "  \"confidence\": 0.95,\n",
      "  \"key_information\": [\n",
      "    \"Customer ordered a laptop but received a tablet instead\",\n",
      "    \"Order number is 12345\",\n",
      "    \"Customer needs the laptop urgently for work\",\n",
      "    \"Customer is considering disputing the charge\"\n",
      "  ],\n",
      "  \"suggested_action\": \"Prioritize this ticket and arrange for the correct laptop to be shipped immediately. Contact the customer to apologize and confirm the resolution plan.\"\n",
      "}\n",
      "{\n",
      "  \"category\": \"account_access\",\n",
      "  \"urgency\": \"high\",\n",
      "  \"sentiment\": \"frustrated\",\n",
      "  \"confidence\": 0.95,\n",
      "  \"key_information\": [\n",
      "    \"Trouble logging into account\",\n",
      "    \"Not receiving password reset email\",\n",
      "    \"Loyal customer with several pending orders\"\n",
      "  ],\n",
      "  \"suggested_action\": \"Verify the customer's email address and check the email server logs for issues. Assist in manually resetting the password if necessary.\"\n",
      "}\n"
     ]
    }
   ],
   "source": [
    "result1 = classify_ticket(ticket1)\n",
    "result2 = classify_ticket(ticket2)\n",
    "\n",
    "print(result1.model_dump_json(indent=2))\n",
    "print(result2.model_dump_json(indent=2))"
   ]
  },
  {
   "cell_type": "markdown",
   "metadata": {},
   "source": [
    "## Step 5: Optimize\n",
    "\n",
    "1. Refine the system message to provide more context about your business\n",
    "2. Experiment with different models (e.g., gpt-3.5-turbo vs gpt-4)\n",
    "3. Fine-tune the model on your specific ticket data if available\n",
    "4. Adjust the TicketClassification model based on business needs"
   ]
  },
  {
   "cell_type": "code",
   "execution_count": 30,
   "metadata": {},
   "outputs": [],
   "source": [
    "SYSTEM_PROMPT = \"\"\"\n",
    "You are an AI assistant for a large e-commerce platform's customer support team. \n",
    "Your role is to analyze incoming customer support tickets and provide structured information to help our team respond quickly and effectively.\n",
    "\n",
    "Business Context:\n",
    "- We handle thousands of tickets daily across various categories (orders, accounts, products, technical issues, billing).\n",
    "- Quick and accurate classification is crucial for customer satisfaction and operational efficiency.\n",
    "- We prioritize based on urgency and customer sentiment.\n",
    "\n",
    "Your tasks:\n",
    "1. Categorize the ticket into the most appropriate category.\n",
    "2. Assess the urgency of the issue (low, medium, high, critical).\n",
    "3. Determine the customer's sentiment.\n",
    "4. Extract key information that would be helpful for our support team.\n",
    "5. Suggest an initial action for handling the ticket.\n",
    "6. Provide a confidence score for your classification.\n",
    "\n",
    "Remember:\n",
    "- Be objective and base your analysis solely on the information provided in the ticket.\n",
    "- If you're unsure about any aspect, reflect that in your confidence score.\n",
    "- For 'key_information', extract specific details like order numbers, product names, or account issues.\n",
    "- The 'suggested_action' should be a brief, actionable step for our support team.\n",
    "\n",
    "Analyze the following customer support ticket and provide the requested information in the specified format.\n",
    "\"\"\"\n",
    "\n",
    "def classify_ticket(ticket_text: str) -> TicketClassification:\n",
    "    response = client.chat.completions.create(\n",
    "        model=\"gpt-3.5-turbo\",\n",
    "        response_model=TicketClassification,\n",
    "        temperature=0,\n",
    "        max_retries=3,\n",
    "        messages=[\n",
    "            {\n",
    "                \"role\": \"system\",\n",
    "                \"content\": SYSTEM_PROMPT,\n",
    "            },\n",
    "            {\"role\": \"user\", \"content\": ticket_text},\n",
    "        ],\n",
    "    )\n",
    "    return response"
   ]
  },
  {
   "cell_type": "code",
   "execution_count": 31,
   "metadata": {},
   "outputs": [
    {
     "name": "stdout",
     "output_type": "stream",
     "text": [
      "{\n",
      "  \"category\": \"order_issue\",\n",
      "  \"urgency\": \"high\",\n",
      "  \"sentiment\": \"angry\",\n",
      "  \"confidence\": 0.9,\n",
      "  \"key_information\": [\n",
      "    \"Order #12345\",\n",
      "    \"Received tablet instead of laptop\"\n",
      "  ],\n",
      "  \"suggested_action\": \"Apologize for the error, expedite the laptop shipment, and offer compensation for the inconvenience.\"\n",
      "}\n",
      "{\n",
      "  \"category\": \"account_access\",\n",
      "  \"urgency\": \"high\",\n",
      "  \"sentiment\": \"frustrated\",\n",
      "  \"confidence\": 0.9,\n",
      "  \"key_information\": [\n",
      "    \"trouble logging in\",\n",
      "    \"resetting password\",\n",
      "    \"not receiving reset email\",\n",
      "    \"loyal customer\",\n",
      "    \"several pending orders\"\n",
      "  ],\n",
      "  \"suggested_action\": \"Investigate the email delivery issue for password reset emails and assist the customer in regaining access to the account.\"\n",
      "}\n"
     ]
    }
   ],
   "source": [
    "result1 = classify_ticket(ticket1)\n",
    "result2 = classify_ticket(ticket2)\n",
    "\n",
    "print(result1.model_dump_json(indent=2))\n",
    "print(result2.model_dump_json(indent=2))"
   ]
  }
 ],
 "metadata": {
  "kernelspec": {
   "display_name": "woodshed",
   "language": "python",
   "name": "python3"
  },
  "language_info": {
   "codemirror_mode": {
    "name": "ipython",
    "version": 3
   },
   "file_extension": ".py",
   "mimetype": "text/x-python",
   "name": "python",
   "nbconvert_exporter": "python",
   "pygments_lexer": "ipython3",
   "version": "3.11.4"
  }
 },
 "nbformat": 4,
 "nbformat_minor": 2
}
