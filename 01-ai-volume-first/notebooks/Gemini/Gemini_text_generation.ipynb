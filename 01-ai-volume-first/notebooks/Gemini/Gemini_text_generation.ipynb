{
 "cells": [
  {
   "cell_type": "markdown",
   "metadata": {},
   "source": [
    "# Gemini API: Text Generation\n",
    "\n",
    "Small and simple examples of accessing the model."
   ]
  },
  {
   "cell_type": "code",
   "execution_count": 1,
   "metadata": {},
   "outputs": [],
   "source": [
    "import os\n",
    "import google.generativeai as genai\n",
    "genai.configure(api_key=os.environ['GOOGLE_API_KEY'])  "
   ]
  },
  {
   "cell_type": "code",
   "execution_count": 2,
   "metadata": {},
   "outputs": [],
   "source": [
    "model = genai.GenerativeModel(model_name=\"models/gemini-1.5-pro-latest\")\n",
    "response = model.generate_content(\"Tell me about being a yoga teacher in 2024?\")"
   ]
  },
  {
   "cell_type": "code",
   "execution_count": 3,
   "metadata": {},
   "outputs": [
    {
     "data": {
      "text/markdown": [
       "## Being a Yoga Teacher in 2024: A Blend of Traditional and Tech\n",
       "\n",
       "Being a yoga teacher in 2024 is an exciting mix of ancient wisdom and modern innovation. It's a dynamic field shaped by evolving trends and the enduring power of connection. Here's a glimpse into the life of a yoga teacher in 2024:\n",
       "\n",
       "**What's Hot:**\n",
       "\n",
       "* **Hybrid Teaching:** Online platforms are here to stay, but in-person classes are back with a vengeance!  Successful teachers offer both, catering to different needs and preferences. \n",
       "* **Niche Specializations:** Gone are the days of generic classes.  People seek targeted benefits. Think yoga for athletes, prenatal yoga, yoga for anxiety, chair yoga for seniors - the more specific, the better.\n",
       "* **Wellness Fusion:** Yoga is often part of a larger wellness package. Teachers collaborate with nutritionists, therapists, and other practitioners to offer holistic programs.\n",
       "* **Technology Integration:**  Apps for booking, payment, and community building are staples. Some teachers even use wearable tech to track progress and personalize sessions. \n",
       "* **Accessibility & Inclusivity:** The yoga community is actively working to become more inclusive. Expect to see more teachers trained in adaptive yoga and classes designed for diverse bodies and abilities. \n",
       "\n",
       "**Challenges & Considerations:**\n",
       "\n",
       "* **Competition:** With the rise of online platforms, the market can feel saturated. Standing out requires strong branding, unique offerings, and savvy marketing.\n",
       "* **Staying Current:** Continuous learning is key. Teachers need to stay updated on new research, teaching techniques, and wellness trends to remain relevant.\n",
       "* **Building Community:**  In a digital age, fostering authentic connection is crucial. Successful teachers create welcoming spaces online and offline for students to connect.\n",
       "* **Financial Stability:**  Building a steady income can be a challenge, especially for new teachers. Many rely on a mix of teaching, workshops, retreats, and online content creation.\n",
       "\n",
       "**Overall, being a yoga teacher in 2024 is about more than just teaching poses. It's about being a guide, a mentor, and a source of support for students on their wellness journeys.** It requires passion, adaptability, and a genuine desire to share the transformative power of yoga with the world. \n"
      ],
      "text/plain": [
       "<IPython.core.display.Markdown object>"
      ]
     },
     "execution_count": 3,
     "metadata": {},
     "output_type": "execute_result"
    }
   ],
   "source": [
    "from IPython.display import Markdown\n",
    "Markdown(response.text)"
   ]
  }
 ],
 "metadata": {
  "kernelspec": {
   "display_name": "venv",
   "language": "python",
   "name": "python3"
  },
  "language_info": {
   "codemirror_mode": {
    "name": "ipython",
    "version": 3
   },
   "file_extension": ".py",
   "mimetype": "text/x-python",
   "name": "python",
   "nbconvert_exporter": "python",
   "pygments_lexer": "ipython3",
   "version": "3.10.10"
  }
 },
 "nbformat": 4,
 "nbformat_minor": 2
}
