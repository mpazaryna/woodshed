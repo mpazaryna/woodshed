{
 "cells": [
  {
   "cell_type": "markdown",
   "metadata": {},
   "source": [
    "# Gemini API: Authentication Quickstart\n",
    "\n",
    "Get your API key [here](https://aistudio.google.com/app/apikey)."
   ]
  },
  {
   "cell_type": "code",
   "execution_count": null,
   "metadata": {},
   "outputs": [],
   "source": [
    "# @title Licensed under the Apache License, Version 2.0 (the \"License\");\n",
    "# you may not use this file except in compliance with the License.\n",
    "# You may obtain a copy of the License at\n",
    "#\n",
    "# https://www.apache.org/licenses/LICENSE-2.0\n",
    "#\n",
    "# Unless required by applicable law or agreed to in writing, software\n",
    "# distributed under the License is distributed on an \"AS IS\" BASIS,\n",
    "# WITHOUT WARRANTIES OR CONDITIONS OF ANY KIND, either express or implied.\n",
    "# See the License for the specific language governing permissions and\n",
    "# limitations under the License."
   ]
  },
  {
   "cell_type": "code",
   "execution_count": 1,
   "metadata": {},
   "outputs": [],
   "source": [
    "import os\n",
    "import google.generativeai as genai\n",
    "genai.configure(api_key=os.environ['GOOGLE_API_KEY'])     "
   ]
  },
  {
   "cell_type": "code",
   "execution_count": 2,
   "metadata": {},
   "outputs": [
    {
     "name": "stdout",
     "output_type": "stream",
     "text": [
      "```python\n",
      "# Example list\n",
      "my_list = [5, 2, 8, 1, 9, 3]\n",
      "\n",
      "# Sort the list in ascending order\n",
      "my_list.sort()\n",
      "\n",
      "# Print the sorted list\n",
      "print(my_list)  # Output: [1, 2, 3, 5, 8, 9]\n",
      "\n",
      "# Sort the list in descending order\n",
      "my_list.sort(reverse=True)\n",
      "\n",
      "# Print the sorted list\n",
      "print(my_list)  # Output: [9, 8, 5, 3, 2, 1]\n",
      "```\n",
      "\n",
      "**Explanation:**\n",
      "\n",
      "1. **`my_list.sort()`:** This method sorts the list in place (modifies the original list) in ascending order.\n",
      "2. **`my_list.sort(reverse=True)`:**  This method sorts the list in descending order by setting the `reverse` parameter to `True`.\n",
      "\n",
      "**Alternative using `sorted()` function:**\n",
      "\n",
      "```python\n",
      "# Example list\n",
      "my_list = [5, 2, 8, 1, 9, 3]\n",
      "\n",
      "# Sort the list in ascending order (returns a new list)\n",
      "sorted_list = sorted(my_list)\n",
      "\n",
      "# Print the sorted list\n",
      "print(sorted_list)  # Output: [1, 2, 3, 5, 8, 9]\n",
      "\n",
      "# Sort the list in descending order (returns a new list)\n",
      "sorted_list = sorted(my_list, reverse=True)\n",
      "\n",
      "# Print the sorted list\n",
      "print(sorted_list)  # Output: [9, 8, 5, 3, 2, 1]\n",
      "```\n",
      "\n",
      "**Explanation:**\n",
      "\n",
      "1. **`sorted(my_list)`:** This function returns a new sorted list without modifying the original list. \n",
      "2. **`sorted(my_list, reverse=True)`:** This function returns a new list sorted in descending order.\n",
      "\n",
      "Both approaches achieve the same outcome, but `sort()` modifies the original list, while `sorted()` creates a new sorted list. Choose the method that best suits your needs.\n",
      "\n"
     ]
    }
   ],
   "source": [
    "model = genai.GenerativeModel('models/gemini-1.5-flash')\n",
    "response = model.generate_content(\"Please give me python code to sort a list.\")\n",
    "print(response.text)"
   ]
  }
 ],
 "metadata": {
  "kernelspec": {
   "display_name": "venv",
   "language": "python",
   "name": "python3"
  },
  "language_info": {
   "codemirror_mode": {
    "name": "ipython",
    "version": 3
   },
   "file_extension": ".py",
   "mimetype": "text/x-python",
   "name": "python",
   "nbconvert_exporter": "python",
   "pygments_lexer": "ipython3",
   "version": "3.11.4"
  }
 },
 "nbformat": 4,
 "nbformat_minor": 2
}
