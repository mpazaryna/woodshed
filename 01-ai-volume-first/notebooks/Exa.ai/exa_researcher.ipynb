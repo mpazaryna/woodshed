{
 "cells": [
  {
   "cell_type": "code",
   "execution_count": 1,
   "metadata": {},
   "outputs": [],
   "source": [
    "import os\n",
    "\n",
    "from exa_py import Exa\n",
    "from openai import OpenAI\n",
    "import json\n",
    "\n",
    "EXA_API_KEY= os.environ.get(\"EXA_API_KEY\")\n",
    "OPENAI_API_KEY = os.environ.get(\"OPENAI_API_KEY\")\n",
    "\n",
    "exa = Exa(api_key = EXA_API_KEY)\n",
    "client = OpenAI(api_key = OPENAI_API_KEY)\n",
    "model = 'gpt-4-turbo'"
   ]
  },
  {
   "cell_type": "code",
   "execution_count": 2,
   "metadata": {},
   "outputs": [
    {
     "data": {
      "text/plain": [
       "'As of March 2023, the field of psychedelic research has continued to expand, particularly in the context of mental health treatment. Recent studies have focused on substances such as psilocybin, the psychoactive component in magic mushrooms, and MDMA, commonly known as ecstasy, for their potential therapeutic benefits. A landmark study published in the \"Journal of Psychopharmacology\" (January 2023) demonstrated that psilocybin therapy could significantly reduce symptoms in patients with major depressive disorder (MDD). The randomized controlled trial indicated that psilocybin, when administered in a controlled, therapeutic setting, led to rapid and sustained symptom reduction, outperforming traditional antidepressants in some cases (Davis et al., 2023).\\n\\nFurthermore, MDMA-assisted therapy has shown promise in treating post-traumatic stress disorder (PTSD). According to research published in \"Nature Medicine\" (February 2023), MDMA, when used in conjunction with psychotherapy, helped patients achieve substantial improvements in PTSD symptoms, including reductions in anxiety and depression. The study highlighted that approximately 67% of participants who received MDMA-assisted therapy no longer qualified for a PTSD diagnosis after two months, compared to 32% in the placebo group (Mitchell et al., 2023). This research supports the potential of MDMA to enhance the efficacy of psychotherapy by increasing emotional engagement and reducing fear responses during therapeutic sessions.\\n\\nThe ongoing research into psychedelics is also exploring their broader neurological implications. A study in \"The American Journal of Psychiatry\" (March 2023) investigated the neuroplastic effects of LSD on the human brain. Preliminary findings suggest that LSD may promote neuroplasticity, potentially aiding in the recovery of brain function in individuals with neurodegenerative diseases or brain injuries (Hofmann et al., 2023). While these findings are preliminary, they open new avenues for the application of psychedelics beyond traditional mental health disorders, suggesting a potential role in neurological rehabilitation and recovery.\\n\\nThese studies collectively underscore the growing interest and perceived potential of psychedelics in medical science. As research continues to evolve, it is crucial that these substances are studied under rigorous clinical conditions to fully understand their efficacy, safety, and mechanisms of action. The promising results thus far pave the way for potential new treatments that could revolutionize the approach to mental health and neurological disorders.\\n\\n### References\\n- Davis, A.K., Barrett, F.S., May, D.G., et al. (2023). Effects of Psilocybin-Assisted Therapy on Major Depressive Disorder: A Randomized Clinical Trial. Journal of Psychopharmacology, January 2023.\\n- Mitchell, J.M., Bogenschutz, M., Lilienstein, A., et al. (2023). MDMA-assisted therapy for severe PTSD: a randomized, double-blind, placebo-controlled phase 3 study. Nature Medicine, February 2023.\\n- Hofmann, A., Preller, K.H., Baggott, M.J., et al. (2023). Neuroplasticity and Brain Function After LSD Administration: A Preliminary Study. The American Journal of Psychiatry, March 2023.'"
      ]
     },
     "execution_count": 2,
     "metadata": {},
     "output_type": "execute_result"
    }
   ],
   "source": [
    "example_topic = 'The latest news on medical uses of pychedelics.'\n",
    "\n",
    "def generate_report_without_exa(topic):\n",
    "  content = f\"Write a comprehensive and professional three paragraph research report about {topic}. Include citations with source, month, and year.\"\n",
    "  completion = client.chat.completions.create(\n",
    "      model = model,\n",
    "      messages=[\n",
    "          {\"role\": \"user\", \"content\": content},\n",
    "      ],\n",
    "      temperature = 0\n",
    "      )\n",
    "  return completion.choices[0].message.content\n",
    "\n",
    "\n",
    "report = generate_report_without_exa(example_topic)\n",
    "report"
   ]
  },
  {
   "cell_type": "code",
   "execution_count": 3,
   "metadata": {},
   "outputs": [
    {
     "data": {
      "text/plain": [
       "\"**ADAPTIMMUNE Therapeutics plc Research Report**\\n\\n**Introduction to ADAPTIMMUNE Therapeutics plc**\\nADAPTIMMUNE Therapeutics plc, a biopharmaceutical company, is at the forefront of developing novel cancer immunotherapy products based on its proprietary SPEAR (Specific Peptide Enhanced Affinity Receptor) T-cell platform. The company, headquartered in Abingdon, the UK, focuses on leveraging the body's own immune system to fight tumor cells. ADAPTIMMUNE designs, develops, and commercializes immunotherapeutic products primarily for patients with solid tumors. As of September 2023, the company's leading product candidates include afamitresgene autoleucel (formerly known as ADP-A2M4), which targets multiple solid tumor types, including sarcoma, melanoma, and ovarian cancer (ADAPTIMMUNE, 2023).\\n\\n**Clinical Development and Strategic Collaborations**\\nADAPTIMMUNE has been actively advancing its pipeline with multiple ongoing clinical trials. The most advanced therapy, afamitresgene autoleucel, is in a Phase 2 trial for synovial sarcoma under the brand name SPEARHEAD-1, with promising interim results reported in early 2023. Additionally, the company is exploring combinations of its SPEAR T-cells with other therapeutic modalities, such as checkpoint inhibitors, to enhance efficacy and overcome resistance mechanisms. Strategic collaborations have been pivotal in ADAPTIMMUNE's operational strategy. Notably, a collaboration with Genentech, initiated in July 2023, aims to develop and commercialize novel cell therapies for multiple oncological indications, which could significantly accelerate the clinical development and broaden the therapeutic potential of ADAPTIMMUNE’s SPEAR T-cell platform (ADAPTIMMUNE, 2023).\\n\\n**Financial Performance and Market Outlook**\\nFinancially, ADAPTIMMUNE has maintained a focus on securing funding through partnerships and public offerings to support its extensive clinical development programs. The company reported a robust financial position in its Q2 2023 earnings, with sufficient cash reserves to fund operations into 2025. The market outlook for ADAPTIMMUNE appears promising, given the increasing demand for effective immunotherapies in oncology. The global cancer immunotherapy market is expected to grow significantly, providing a favorable environment for the adoption of ADAPTIMMUNE’s therapies. Continued positive clinical outcomes and potential regulatory approvals in the coming years could enhance the company's market position and shareholder value (ADAPTIMMUNE, 2023).\\n\\nIn conclusion, ADAPTIMMUNE Therapeutics plc stands out in the rapidly evolving landscape of cancer immunotherapy with its innovative SPEAR T-cell technology. The company's strategic focus on solid tumors, a robust clinical pipeline, and strong strategic partnerships position it well for future growth. Financial stability and a supportive market environment further bolster the company's prospects for success in transforming cancer treatment paradigms.\\n\\n**References**\\nADAPTIMMUNE Therapeutics plc. (2023).\""
      ]
     },
     "execution_count": 3,
     "metadata": {},
     "output_type": "execute_result"
    }
   ],
   "source": [
    "example_topic = \"ADAPTIMMUNE Therapeutics plc\"\n",
    "\n",
    "def generate_report_without_exa(topic):\n",
    "  content = f\"Write a comprehensive and professional three paragraph research report about {topic}. Include citations with source, month, and year.\"\n",
    "  completion = client.chat.completions.create(\n",
    "      model = model,\n",
    "      messages=[\n",
    "          {\"role\": \"user\", \"content\": content},\n",
    "      ],\n",
    "      temperature = 0\n",
    "      )\n",
    "  return completion.choices[0].message.content\n",
    "\n",
    "\n",
    "report = generate_report_without_exa(example_topic)\n",
    "report"
   ]
  },
  {
   "cell_type": "code",
   "execution_count": 5,
   "metadata": {},
   "outputs": [],
   "source": [
    "# Exa searches each subtopic\n",
    "def exa_search_each_subquery(subqueries):\n",
    "  list_of_query_exa_pairs = []\n",
    "  for query in subqueries:\n",
    "    search_response = exa.search_and_contents(\n",
    "      query,\n",
    "      num_results=5,\n",
    "      use_autoprompt=True,\n",
    "      start_published_date=\"2023-06-01\", # To give us only recent information post-June 2023\n",
    "      highlights={\"num_sentences\": 5},\n",
    "    )\n",
    "    query_object = {\n",
    "        'subquery': query,\n",
    "        'results': search_response.results\n",
    "    }\n",
    "    list_of_query_exa_pairs.append(query_object)\n",
    "  return list_of_query_exa_pairs\n",
    "\n"
   ]
  },
  {
   "cell_type": "code",
   "execution_count": 7,
   "metadata": {},
   "outputs": [],
   "source": [
    "# Reformat Exa results into a string\n",
    "def format_exa_results_for_llm(list_of_query_exa_pairs, content_slice=750):\n",
    "    formatted_string = \"\"\n",
    "    for i in list_of_query_exa_pairs:\n",
    "      formatted_string += f\"[{i['subquery']}]:\\n\"\n",
    "      for result in i['results']:\n",
    "        content = result.text if result.text else \" \".join(result.highlights)\n",
    "        publish_date = result.published_date\n",
    "        formatted_string += f\"URL: {result.url}\\nContent: {content}\\nPublish Date: {publish_date}\\n\"\n",
    "      formatted_string += \"\\n\"\n",
    "\n",
    "    return formatted_string\n",
    "\n",
    "#example\n",
    "#print(format_exa_results_for_llm(example_list_of_query_exa_pairs))"
   ]
  },
  {
   "cell_type": "code",
   "execution_count": 8,
   "metadata": {},
   "outputs": [],
   "source": [
    "def generate_report_from_exa_results(topic, list_of_query_exa_pairs):\n",
    "  formatted_exa_content = format_exa_results_for_llm(list_of_query_exa_pairs)\n",
    "  content = f\"Write a comprehensive and professional three paragraph research report about {topic} based on the provided information. Include citations in the text using footnote notation ([citation #]), for example [2]. First provide the report, followed by a single `References` section that only lists the URLs (and their published date) used, in the format [#] <url>. For the published date, only include the month and year. Reset the citations index and ignore the order of citations in the provided information. Here is the information: {formatted_exa_content}.\"\n",
    "\n",
    "  completion = client.chat.completions.create(\n",
    "      model=model,\n",
    "      messages=[\n",
    "          {\"role\": \"user\", \"content\": content},\n",
    "      ],\n",
    "  )\n",
    "\n",
    "  return completion.choices[0].message.content"
   ]
  },
  {
   "cell_type": "code",
   "execution_count": 10,
   "metadata": {},
   "outputs": [],
   "source": [
    "def create_custom_function(num_subqueries):\n",
    "    properties = {}\n",
    "    for i in range(1, num_subqueries + 1):\n",
    "        key = f'subquery_{i}'\n",
    "        properties[key] = {\n",
    "            'type': 'string',\n",
    "            'description': 'Search queries that would be useful for generating a report on my main topic'\n",
    "        }\n",
    "\n",
    "    custom_function = {\n",
    "        'name': 'generate_exa_search_queries',\n",
    "        'description': 'Generates Exa search queries to investigate the main topic',\n",
    "        'parameters': {\n",
    "            'type': 'object',\n",
    "            'properties': properties\n",
    "        }\n",
    "    }\n",
    "\n",
    "    return [custom_function]"
   ]
  },
  {
   "cell_type": "code",
   "execution_count": 9,
   "metadata": {},
   "outputs": [],
   "source": [
    "def generate_subqueries_from_topic(topic, num_subqueries=6):\n",
    "    content =  f\"I'm going to give you a topic I want to research. I want you to generate {num_subqueries} interesting, diverse search queries that would be useful for generating a report on my main topic. Here is the main topic: {topic}.\"\n",
    "    custom_functions = create_custom_function(num_subqueries)\n",
    "    completion = client.chat.completions.create(\n",
    "        model = model,\n",
    "        messages=[\n",
    "            {\"role\": \"user\", \"content\": content},\n",
    "        ],\n",
    "        temperature=0,\n",
    "        functions = custom_functions,\n",
    "        function_call = 'auto',\n",
    "    )\n",
    "\n",
    "    json_response = json.loads(completion.choices[0].message.function_call.arguments)\n",
    "    return list(json_response.values())\n"
   ]
  },
  {
   "cell_type": "code",
   "execution_count": 11,
   "metadata": {},
   "outputs": [
    {
     "name": "stdout",
     "output_type": "stream",
     "text": [
      "Adaptimmune Therapeutics plc has recently highlighted significant progress in its clinical trials and product development, particularly in the area of T-cell therapy. The company announced the U.S. FDA Acceptance of its Biologics License Application for Afami-cel, aimed at treating advanced Synovial Sarcoma with Priority Review. If approved, Afami-cel will be the first engineered T-cell therapy for solid tumors and marks a potential breakthrough offering for patients suffering from this type of cancer. This advancement follows the successful completion of the submission of its rolling Biologics License Application backed by encouraging data from their pivotal trial SPEARHEAD-1, which met its primary endpoint for efficacy [1][2].\n",
      "\n",
      "Financially, Adaptimmune has demonstrated robust performance. As of the end of 2023, the company reported significant year-over-year revenue growth. Earnings for the year ended December 31, 2023, were notably higher at $60.3 million compared to $27.1 million in 2022, primarily attributed to the termination of the Astellas collaboration and the subsequent revenue recognition from deferred income [3]. This financial uplift has provided Adaptimmune with a solid foundation to advance its research and development activities aggressively, focusing on delivering innovative cell therapies.\n",
      "\n",
      "In addition to its financial and clinical progress, Adaptimmune has been active in expanding its strategic partnerships to accelerate the development and commercialization of its therapeutic offerings. Noteworthy is their recent collaboration with leading industry players aimed at developing treatments for autoimmune diseases and advancing T-cell therapy technologies. These strategic alliances not only enhance Adaptimmune's capability in innovation but also provide substantial financial incentives, including upfront payments and potential milestone-based earnings, which are crucial for supporting ongoing and future clinical trials [4].\n",
      "\n",
      "References:\n",
      "[1] https://www.sec.gov/Archives/edgar/data/1621227/000155837024000672/adap-20240131xex99d1.htm\n",
      "[2] https://www.biospace.com/article/releases/adaptimmune-completes-submission-of-rolling-biologics-license-application-bla-to-u-s-fda-for-afami-cel-for-the-treatment-of-advanced-synovial-sarcoma\n",
      "[3] https://www.adaptimmune.com/investors-and-media/news-center/press-releases/detail/263/adaptimmune-reports-q4full-year-2023-financial-results-and\n",
      "[4] https://www.repertoire.com/about/press-releases/repertoire-immune-medicines-and-bristol-myers-squibb-announce-multi-year-strategic-collaboration-to-develop-tolerizing-vaccines-for-autoimmune-diseases\n"
     ]
    }
   ],
   "source": [
    "topic = 'The latest about ADAPTIMMUNE Therapeutics plc'\n",
    "\n",
    "def generate_report(topic):\n",
    "  subqueries = generate_subqueries_from_topic(topic)\n",
    "  list_of_query_exa_pairs = exa_search_each_subquery(subqueries)\n",
    "  report = generate_report_from_exa_results(topic, list_of_query_exa_pairs)\n",
    "  return report\n",
    "\n",
    "example_report = generate_report(topic)\n",
    "print(example_report)"
   ]
  },
  {
   "cell_type": "code",
   "execution_count": 12,
   "metadata": {},
   "outputs": [
    {
     "name": "stdout",
     "output_type": "stream",
     "text": [
      "Wavepaths has demonstrated significant advancements in the integration of generative music within psychedelic-assisted therapies, emphasizing how continuous and variable-length sounds can enhance the therapeutic experience. The development of cutting-edge Deep Generative Models (DGMs) which struggle with expressing continuous sounds, especially those mimicking natural movements like \"driving\" or the resonance from a bow on a string, is a priority for the company as they strive to make their music platform more expressive and adaptive to therapeutic needs [1]. Additionally, leveraging high-quality audio tokenization techniques, as utilized by the Descript Audio Codec (DAC), has allowed Wavepaths to preserve sound fidelity at lower sampling costs, ultimately enhancing the digital music experience in therapeutic settings [2].\n",
      "\n",
      "In the sphere of healthcare partnerships, Wavepaths has aligned with entities committed to enhancing health sector operations and experiences, such as Wavemaker 360 and NovoPath. These collaborations aim to introduce innovative business models and technologies that not only improve clinicians' efficiency but also directly contribute to improved healthcare delivery. By integrating their generative music technology into the healthcare infrastructure, Wavepaths is poised to provide an enriching auditory experience that supports both clinician operations and patient care, underscoring a holistic approach to health and wellness [3][4].\n",
      "\n",
      "The therapeutic effectiveness of Wavepaths' generative music has been under continuous scrutiny, with research illustrating its potential to customize music therapy sessions extensively, tailored to individual patient needs. Studies indicate that such adaptive music therapy can significantly alleviate anxiety, improve sleep, and enhance focus, positing Wavepaths' approach as a versatile and powerful tool in mental health therapy. The ability to control variables such as session intensity and duration empowers therapists to use music more strategically, aligning therapeutic objectives with patient-specific emotional landscapes [5][6].\n",
      "\n",
      "**References:**\n",
      "[1] <https://arxiv.org/abs/2307.05830>, July 2023\n",
      "[2] <https://export.arxiv.org/pdf/2307.04686v2.pdf>, July 2023\n",
      "[3] <https://www.wavemaker360.com/>, August 2023\n",
      "[4] <https://www.novopath.com/>, August 2023\n",
      "[5] <https://www.psychedelics.com/articles/how-psychedelic-music-can-literally-transform-your-mind/>, September 2023\n",
      "[6] <https://www.nytimes.com/2023/10/30/well/mind/therapy-music-anxiety-mental-health.html>, October 2023\n"
     ]
    }
   ],
   "source": [
    "topic = 'The latest about Wavepaths, a company focused on developing generative music to adjoin psychedelic-assisted therapies.'\n",
    "\n",
    "def generate_report(topic):\n",
    "  subqueries = generate_subqueries_from_topic(topic)\n",
    "  list_of_query_exa_pairs = exa_search_each_subquery(subqueries)\n",
    "  report = generate_report_from_exa_results(topic, list_of_query_exa_pairs)\n",
    "  return report\n",
    "\n",
    "example_report = generate_report(topic)\n",
    "print(example_report)"
   ]
  }
 ],
 "metadata": {
  "kernelspec": {
   "display_name": "woodshed",
   "language": "python",
   "name": "python3"
  },
  "language_info": {
   "codemirror_mode": {
    "name": "ipython",
    "version": 3
   },
   "file_extension": ".py",
   "mimetype": "text/x-python",
   "name": "python",
   "nbconvert_exporter": "python",
   "pygments_lexer": "ipython3",
   "version": "3.11.4"
  }
 },
 "nbformat": 4,
 "nbformat_minor": 2
}
