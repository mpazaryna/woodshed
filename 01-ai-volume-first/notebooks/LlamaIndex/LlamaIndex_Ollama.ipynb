{
 "cells": [
  {
   "cell_type": "markdown",
   "metadata": {},
   "source": [
    "# Ollama and LlamaIndex\n",
    "\n",
    "1. curl -fsSL https://ollama.com/install.sh | sh\n",
    "2. ollama run gemma2"
   ]
  },
  {
   "cell_type": "code",
   "execution_count": 2,
   "metadata": {},
   "outputs": [],
   "source": [
    "from llama_index.llms.ollama import Ollama"
   ]
  },
  {
   "cell_type": "code",
   "execution_count": 3,
   "metadata": {},
   "outputs": [
    {
     "data": {
      "text/plain": [
       "CompletionResponse(text=\"The sky appears blue due to a phenomenon called **Rayleigh scattering**. \\n\\nHere's a simplified explanation:\\n\\n1. **Sunlight:** Sunlight is actually made up of all the colors of the rainbow.\\n\\n2. **Earth's Atmosphere:** When sunlight enters the Earth's atmosphere, it collides with tiny air molecules (mostly nitrogen and oxygen).\\n\\n3. **Scattering:** These air molecules scatter the sunlight in all directions.  \\n\\n4. **Blue Light Dominance:**  Blue light has a shorter wavelength than other colors in the visible spectrum. Because of this, it gets scattered much more effectively by the air molecules.\\n\\n5. **Our Perception:** As a result, we see more blue light scattered throughout the sky, making it appear blue.\\n\\n**Why not other colors?**\\n\\n* **Violet light** has an even shorter wavelength than blue and is scattered even more. However, our eyes are less sensitive to violet, and the sun emits less violet light compared to blue.\\n* **Longer wavelengths** like red, orange, and yellow are scattered less, which is why we see these colors more prominently during sunrise and sunset when sunlight travels through more of the atmosphere.\\n\\n\\nLet me know if you'd like a more detailed explanation of Rayleigh scattering!\", additional_kwargs={'model': 'gemma2', 'created_at': '2024-07-01T23:54:44.810998235Z', 'done': True, 'done_reason': 'stop', 'context': [106, 2425, 108, 18177, 603, 573, 8203, 3868, 235336, 107, 235248, 108, 106, 2091, 108, 651, 8203, 8149, 3868, 3402, 577, 476, 27171, 3151, 5231, 15599, 44957, 38497, 168428, 235248, 109, 4858, 235303, 235256, 476, 45138, 15844, 235292, 109, 235274, 235265, 5231, 219715, 66058, 175521, 603, 4247, 1644, 908, 576, 832, 573, 9276, 576, 573, 30088, 235265, 109, 235284, 235265, 5231, 30962, 235303, 235256, 117961, 66058, 3194, 33365, 30866, 573, 10379, 235303, 235256, 13795, 235269, 665, 1041, 23524, 675, 16791, 2681, 24582, 591, 80711, 23584, 578, 16175, 846, 109, 235304, 235265, 5231, 102164, 574, 66058, 3766, 2681, 24582, 17109, 573, 33365, 575, 832, 16759, 235265, 139, 109, 235310, 235265, 5231, 10716, 8186, 19004, 851, 66058, 139, 10716, 2611, 919, 476, 25270, 35571, 1178, 1156, 9276, 575, 573, 12918, 18303, 235265, 10323, 576, 736, 235269, 665, 6803, 30390, 1683, 978, 16347, 731, 573, 2681, 24582, 235265, 109, 235308, 235265, 5231, 5906, 96569, 66058, 1877, 476, 2196, 235269, 783, 1443, 978, 3868, 2611, 30390, 6900, 573, 8203, 235269, 3547, 665, 4824, 3868, 235265, 109, 688, 4385, 780, 1156, 9276, 235336, 688, 109, 235287, 5231, 107712, 2611, 688, 919, 671, 1693, 25270, 35571, 1178, 3868, 578, 603, 30390, 1693, 978, 235265, 4560, 235269, 1167, 4628, 708, 2644, 16955, 577, 45093, 235269, 578, 573, 4389, 134506, 2644, 45093, 2611, 7631, 577, 3868, 235265, 108, 235287, 5231, 171336, 95178, 688, 1154, 3118, 235269, 10436, 235269, 578, 8123, 708, 30390, 2644, 235269, 948, 603, 3165, 783, 1443, 1450, 9276, 978, 115268, 2290, 48825, 578, 22097, 1185, 33365, 37845, 1593, 978, 576, 573, 13795, 235265, 110, 5331, 682, 1230, 1013, 692, 235303, 235258, 1154, 476, 978, 11352, 15844, 576, 153902, 38497, 235341, 107, 235248, 108], 'total_duration': 8229075588, 'load_duration': 3414439470, 'prompt_eval_count': 16, 'prompt_eval_duration': 30816000, 'eval_count': 261, 'eval_duration': 4742564000}, raw={'model': 'gemma2', 'created_at': '2024-07-01T23:54:44.810998235Z', 'response': \"The sky appears blue due to a phenomenon called **Rayleigh scattering**. \\n\\nHere's a simplified explanation:\\n\\n1. **Sunlight:** Sunlight is actually made up of all the colors of the rainbow.\\n\\n2. **Earth's Atmosphere:** When sunlight enters the Earth's atmosphere, it collides with tiny air molecules (mostly nitrogen and oxygen).\\n\\n3. **Scattering:** These air molecules scatter the sunlight in all directions.  \\n\\n4. **Blue Light Dominance:**  Blue light has a shorter wavelength than other colors in the visible spectrum. Because of this, it gets scattered much more effectively by the air molecules.\\n\\n5. **Our Perception:** As a result, we see more blue light scattered throughout the sky, making it appear blue.\\n\\n**Why not other colors?**\\n\\n* **Violet light** has an even shorter wavelength than blue and is scattered even more. However, our eyes are less sensitive to violet, and the sun emits less violet light compared to blue.\\n* **Longer wavelengths** like red, orange, and yellow are scattered less, which is why we see these colors more prominently during sunrise and sunset when sunlight travels through more of the atmosphere.\\n\\n\\nLet me know if you'd like a more detailed explanation of Rayleigh scattering!\", 'done': True, 'done_reason': 'stop', 'context': [106, 2425, 108, 18177, 603, 573, 8203, 3868, 235336, 107, 235248, 108, 106, 2091, 108, 651, 8203, 8149, 3868, 3402, 577, 476, 27171, 3151, 5231, 15599, 44957, 38497, 168428, 235248, 109, 4858, 235303, 235256, 476, 45138, 15844, 235292, 109, 235274, 235265, 5231, 219715, 66058, 175521, 603, 4247, 1644, 908, 576, 832, 573, 9276, 576, 573, 30088, 235265, 109, 235284, 235265, 5231, 30962, 235303, 235256, 117961, 66058, 3194, 33365, 30866, 573, 10379, 235303, 235256, 13795, 235269, 665, 1041, 23524, 675, 16791, 2681, 24582, 591, 80711, 23584, 578, 16175, 846, 109, 235304, 235265, 5231, 102164, 574, 66058, 3766, 2681, 24582, 17109, 573, 33365, 575, 832, 16759, 235265, 139, 109, 235310, 235265, 5231, 10716, 8186, 19004, 851, 66058, 139, 10716, 2611, 919, 476, 25270, 35571, 1178, 1156, 9276, 575, 573, 12918, 18303, 235265, 10323, 576, 736, 235269, 665, 6803, 30390, 1683, 978, 16347, 731, 573, 2681, 24582, 235265, 109, 235308, 235265, 5231, 5906, 96569, 66058, 1877, 476, 2196, 235269, 783, 1443, 978, 3868, 2611, 30390, 6900, 573, 8203, 235269, 3547, 665, 4824, 3868, 235265, 109, 688, 4385, 780, 1156, 9276, 235336, 688, 109, 235287, 5231, 107712, 2611, 688, 919, 671, 1693, 25270, 35571, 1178, 3868, 578, 603, 30390, 1693, 978, 235265, 4560, 235269, 1167, 4628, 708, 2644, 16955, 577, 45093, 235269, 578, 573, 4389, 134506, 2644, 45093, 2611, 7631, 577, 3868, 235265, 108, 235287, 5231, 171336, 95178, 688, 1154, 3118, 235269, 10436, 235269, 578, 8123, 708, 30390, 2644, 235269, 948, 603, 3165, 783, 1443, 1450, 9276, 978, 115268, 2290, 48825, 578, 22097, 1185, 33365, 37845, 1593, 978, 576, 573, 13795, 235265, 110, 5331, 682, 1230, 1013, 692, 235303, 235258, 1154, 476, 978, 11352, 15844, 576, 153902, 38497, 235341, 107, 235248, 108], 'total_duration': 8229075588, 'load_duration': 3414439470, 'prompt_eval_count': 16, 'prompt_eval_duration': 30816000, 'eval_count': 261, 'eval_duration': 4742564000}, logprobs=None, delta=None)"
      ]
     },
     "execution_count": 3,
     "metadata": {},
     "output_type": "execute_result"
    }
   ],
   "source": [
    "llm = Ollama(model=\"gemma2\")\n",
    "llm.complete(\"why is the sky blue?\")"
   ]
  }
 ],
 "metadata": {
  "kernelspec": {
   "display_name": "cloudspace",
   "language": "python",
   "name": "python3"
  },
  "language_info": {
   "codemirror_mode": {
    "name": "ipython",
    "version": 3
   },
   "file_extension": ".py",
   "mimetype": "text/x-python",
   "name": "python",
   "nbconvert_exporter": "python",
   "pygments_lexer": "ipython3",
   "version": "3.10.10"
  }
 },
 "nbformat": 4,
 "nbformat_minor": 2
}
