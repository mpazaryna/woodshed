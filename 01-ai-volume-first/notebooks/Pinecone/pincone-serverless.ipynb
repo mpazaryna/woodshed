{
 "cells": [
  {
   "cell_type": "code",
   "execution_count": 1,
   "metadata": {},
   "outputs": [],
   "source": [
    "import os\n",
    "from langchain_community.chat_models import ChatOpenAI\n",
    "from langchain_community.embeddings import CohereEmbeddings\n",
    "from langchain_community.vectorstores import Pinecone\n",
    "from langchain_core.output_parsers import StrOutputParser\n",
    "from langchain_core.prompts import ChatPromptTemplate\n",
    "from langchain_core.runnables import RunnableParallel, RunnablePassthrough, RunnableLambda\n",
    "from pinecone import Pinecone as PineconeClient\n",
    "import requests"
   ]
  },
  {
   "cell_type": "code",
   "execution_count": 2,
   "metadata": {},
   "outputs": [
    {
     "data": {
      "text/plain": [
       "True"
      ]
     },
     "execution_count": 2,
     "metadata": {},
     "output_type": "execute_result"
    }
   ],
   "source": [
    "import os\n",
    "from dotenv import load_dotenv, find_dotenv\n",
    "\n",
    "load_dotenv(find_dotenv())"
   ]
  },
  {
   "cell_type": "code",
   "execution_count": 2,
   "metadata": {},
   "outputs": [
    {
     "ename": "KeyError",
     "evalue": "'PINECONE_API_KEY'",
     "output_type": "error",
     "traceback": [
      "\u001b[0;31m---------------------------------------------------------------------------\u001b[0m",
      "\u001b[0;31mKeyError\u001b[0m                                  Traceback (most recent call last)",
      "Cell \u001b[0;32mIn[2], line 2\u001b[0m\n\u001b[1;32m      1\u001b[0m \u001b[38;5;66;03m# Keys\u001b[39;00m\n\u001b[0;32m----> 2\u001b[0m PINECONE_API_KEY \u001b[38;5;241m=\u001b[39m \u001b[43mos\u001b[49m\u001b[38;5;241;43m.\u001b[39;49m\u001b[43menviron\u001b[49m\u001b[43m[\u001b[49m\u001b[38;5;124;43m\"\u001b[39;49m\u001b[38;5;124;43mPINECONE_API_KEY\u001b[39;49m\u001b[38;5;124;43m\"\u001b[39;49m\u001b[43m]\u001b[49m\n\u001b[1;32m      3\u001b[0m PINECONE_ENVIRONMENT \u001b[38;5;241m=\u001b[39m os\u001b[38;5;241m.\u001b[39menviron[\u001b[38;5;124m\"\u001b[39m\u001b[38;5;124mPINECONE_ENVIRONMENT\u001b[39m\u001b[38;5;124m\"\u001b[39m]\n\u001b[1;32m      4\u001b[0m PINECONE_INDEX_NAME \u001b[38;5;241m=\u001b[39m os\u001b[38;5;241m.\u001b[39menviron[\u001b[38;5;124m\"\u001b[39m\u001b[38;5;124mPINECONE_INDEX_NAME\u001b[39m\u001b[38;5;124m\"\u001b[39m]\n",
      "File \u001b[0;32m<frozen os>:679\u001b[0m, in \u001b[0;36m__getitem__\u001b[0;34m(self, key)\u001b[0m\n",
      "\u001b[0;31mKeyError\u001b[0m: 'PINECONE_API_KEY'"
     ]
    }
   ],
   "source": [
    "# Keys\n",
    "PINECONE_API_KEY = os.environ[\"PINECONE_API_KEY\"]\n",
    "PINECONE_ENVIRONMENT = os.environ[\"PINECONE_ENVIRONMENT\"]\n",
    "PINECONE_INDEX_NAME = os.environ[\"PINECONE_INDEX_NAME\"]"
   ]
  },
  {
   "cell_type": "code",
   "execution_count": 4,
   "metadata": {},
   "outputs": [
    {
     "name": "stderr",
     "output_type": "stream",
     "text": [
      "/opt/anaconda3/envs/woodshed/lib/python3.11/site-packages/langchain_core/_api/deprecation.py:119: LangChainDeprecationWarning: The class `CohereEmbeddings` was deprecated in LangChain 0.0.30 and will be removed in 0.3.0. An updated version of the class exists in the langchain-cohere package and should be used instead. To use it run `pip install -U langchain-cohere` and import as `from langchain_cohere import CohereEmbeddings`.\n",
      "  warn_deprecated(\n"
     ]
    }
   ],
   "source": [
    "# Init\n",
    "pinecone = PineconeClient(api_key=PINECONE_API_KEY,\n",
    "                         environment=PINECONE_ENVIRONMENT)\n",
    "\n",
    "embeddings = CohereEmbeddings(model=\"multilingual-22-12\")\n",
    "vectorstore = Pinecone.from_existing_index(index_name=PINECONE_INDEX_NAME, embedding=embeddings)\n",
    "retriever = vectorstore.as_retriever()"
   ]
  },
  {
   "cell_type": "code",
   "execution_count": 5,
   "metadata": {},
   "outputs": [
    {
     "name": "stderr",
     "output_type": "stream",
     "text": [
      "/opt/anaconda3/envs/woodshed/lib/python3.11/site-packages/langchain_core/_api/deprecation.py:119: LangChainDeprecationWarning: The class `ChatOpenAI` was deprecated in LangChain 0.0.10 and will be removed in 0.3.0. An updated version of the class exists in the langchain-openai package and should be used instead. To use it run `pip install -U langchain-openai` and import as `from langchain_openai import ChatOpenAI`.\n",
      "  warn_deprecated(\n"
     ]
    }
   ],
   "source": [
    "\n",
    "# RAG prompt\n",
    "template = \"\"\"Answer the question based only on the following context:\n",
    "{context}\n",
    "Question: {question}\n",
    "\"\"\"\n",
    "prompt = ChatPromptTemplate.from_template(template)\n",
    "\n",
    "# RAG\n",
    "model = ChatOpenAI(temperature=0, \n",
    "                   model=\"gpt-4-1106-preview\")\n",
    "\n",
    "chain = (\n",
    "    RunnableParallel({\"context\": retriever, \"question\": RunnablePassthrough()})\n",
    "    | prompt\n",
    "    | model\n",
    "    | StrOutputParser()\n",
    ")"
   ]
  },
  {
   "cell_type": "code",
   "execution_count": 6,
   "metadata": {},
   "outputs": [
    {
     "data": {
      "text/plain": [
       "'Film noir is a cinematic term used primarily to describe stylish Hollywood crime dramas, particularly those that emphasize cynical attitudes and sexual motivations. The term is French for \"black film\" and was first applied by French critics to American films that emerged in the post-World War II era, which were marked by a dark, gloomy atmosphere and a sense of pessimism, fatalism, and menace. Classic film noir often presents a world where characters—especially the central protagonist, who is often a hard-boiled detective or a weary private eye—are trapped in a web of crime, corruption, and moral ambiguity. Visually, film noir is known for its high-contrast lighting, use of shadows, and often a black-and-white aesthetic that enhances the sense of danger and moral ambiguity.'"
      ]
     },
     "execution_count": 6,
     "metadata": {},
     "output_type": "execute_result"
    }
   ],
   "source": [
    "chain.invoke(\"what is film noir?\")"
   ]
  },
  {
   "cell_type": "code",
   "execution_count": 7,
   "metadata": {},
   "outputs": [],
   "source": [
    "def fetch_wikipedia_page(id):\n",
    "    url = f\"https://en.wikipedia.org/w/api.php?action=query&prop=extracts&format=json&pageids={id}\"\n",
    "    response = requests.get(url)\n",
    "    data = response.json()\n",
    "    page_content = list(data['query']['pages'].values())[0]['extract']\n",
    "    return page_content\n",
    "\n",
    "def fetch_url(x):\n",
    "    urls = [doc.metadata['url'] for doc in x['context']]\n",
    "    ids = [url.split('=')[-1] for url in urls]\n",
    "    # First 32k tokens\n",
    "    contents = [fetch_wikipedia_page(id)[:32000] for id in ids]    \n",
    "    return {\"context\": contents, \"question\": x[\"question\"]}\n",
    "\n",
    "# RAG\n",
    "model = ChatOpenAI(temperature=0, \n",
    "                   model=\"gpt-4-1106-preview\")\n",
    "\n",
    "chain = (\n",
    "    RunnableParallel({\"context\": retriever, \"question\": RunnablePassthrough()})\n",
    "    | RunnableLambda(fetch_url)  \n",
    "    | prompt\n",
    "    | model\n",
    "    | StrOutputParser()\n",
    ")"
   ]
  },
  {
   "cell_type": "code",
   "execution_count": 8,
   "metadata": {},
   "outputs": [
    {
     "data": {
      "text/plain": [
       "'Film noir is a cinematic term used primarily to describe stylish Hollywood crime dramas, particularly those that emphasize cynical attitudes and sexual motivations. The term is French for \"black film,\" indicative of the dark, somber tone of these movies. Film noir is associated with a low-key, black-and-white visual style that has roots in German Expressionist cinematography. Common themes in film noir include crime, moral ambiguity, and the dark side of human nature. Classic film noir was most prevalent in the 1940s and 1950s, and many of its elements have influenced other genres and the broader aesthetic of film and television storytelling.'"
      ]
     },
     "execution_count": 8,
     "metadata": {},
     "output_type": "execute_result"
    }
   ],
   "source": [
    "chain.invoke(\"what is film noir?\")"
   ]
  },
  {
   "cell_type": "code",
   "execution_count": 10,
   "metadata": {},
   "outputs": [],
   "source": [
    "from pinecone import ServerlessSpec\n",
    "from pinecone import Pinecone as PineconeClient\n",
    "\n",
    "\n",
    "pc = PineconeClient(api_key=PINECONE_API_KEY,environment=PINECONE_ENVIRONMENT)\n",
    "\n",
    "\n",
    "index_name = \"docs-quickstart-index\"\n",
    "\n",
    "if index_name not in pc.list_indexes().names():\n",
    "    pc.create_index(\n",
    "        name=index_name,\n",
    "        dimension=2,\n",
    "        metric=\"cosine\",\n",
    "        spec=ServerlessSpec(\n",
    "            cloud='aws', \n",
    "            region='us-east-1'\n",
    "        ) \n",
    "    ) "
   ]
  },
  {
   "cell_type": "code",
   "execution_count": 11,
   "metadata": {},
   "outputs": [
    {
     "data": {
      "text/plain": [
       "{'upserted_count': 3}"
      ]
     },
     "execution_count": 11,
     "metadata": {},
     "output_type": "execute_result"
    }
   ],
   "source": [
    "index = pc.Index(index_name)\n",
    "\n",
    "index.upsert(\n",
    "    vectors=[\n",
    "        {\"id\": \"vec1\", \"values\": [1.0, 1.5]},\n",
    "        {\"id\": \"vec2\", \"values\": [2.0, 1.0]},\n",
    "        {\"id\": \"vec3\", \"values\": [0.1, 3.0]},\n",
    "    ],\n",
    "    namespace=\"ns1\"\n",
    ")\n",
    "\n",
    "index.upsert(\n",
    "    vectors=[\n",
    "        {\"id\": \"vec1\", \"values\": [1.0, -2.5]},\n",
    "        {\"id\": \"vec2\", \"values\": [3.0, -2.0]},\n",
    "        {\"id\": \"vec3\", \"values\": [0.5, -1.5]},\n",
    "    ],\n",
    "    namespace=\"ns2\"\n",
    ")"
   ]
  },
  {
   "cell_type": "code",
   "execution_count": 12,
   "metadata": {},
   "outputs": [
    {
     "name": "stdout",
     "output_type": "stream",
     "text": [
      "{'dimension': 2,\n",
      " 'index_fullness': 0.0,\n",
      " 'namespaces': {'ns1': {'vector_count': 3}, 'ns2': {'vector_count': 3}},\n",
      " 'total_vector_count': 6}\n"
     ]
    }
   ],
   "source": [
    "print(index.describe_index_stats())"
   ]
  },
  {
   "cell_type": "code",
   "execution_count": 13,
   "metadata": {},
   "outputs": [
    {
     "name": "stdout",
     "output_type": "stream",
     "text": [
      "{'matches': [{'id': 'vec1', 'score': 1.0, 'values': [1.0, 1.5]},\n",
      "             {'id': 'vec2', 'score': 0.868243158, 'values': [2.0, 1.0]},\n",
      "             {'id': 'vec3', 'score': 0.850068152, 'values': [0.1, 3.0]}],\n",
      " 'namespace': 'ns1',\n",
      " 'usage': {'read_units': 6}}\n",
      "{'matches': [{'id': 'vec1', 'score': 1.0, 'values': [1.0, -2.5]},\n",
      "             {'id': 'vec3', 'score': 0.998274386, 'values': [0.5, -1.5]},\n",
      "             {'id': 'vec2', 'score': 0.824041963, 'values': [3.0, -2.0]}],\n",
      " 'namespace': 'ns2',\n",
      " 'usage': {'read_units': 6}}\n"
     ]
    }
   ],
   "source": [
    "query_results1 = index.query(\n",
    "    namespace=\"ns1\",\n",
    "    vector=[1.0, 1.5],\n",
    "    top_k=3,\n",
    "    include_values=True\n",
    ")\n",
    "\n",
    "print(query_results1)\n",
    "\n",
    "query_results2 = index.query(\n",
    "    namespace=\"ns2\",\n",
    "    vector=[1.0,-2.5],\n",
    "    top_k=3,\n",
    "    include_values=True\n",
    ")\n",
    "\n",
    "print(query_results2)\n"
   ]
  }
 ],
 "metadata": {
  "kernelspec": {
   "display_name": "venv",
   "language": "python",
   "name": "python3"
  },
  "language_info": {
   "codemirror_mode": {
    "name": "ipython",
    "version": 3
   },
   "file_extension": ".py",
   "mimetype": "text/x-python",
   "name": "python",
   "nbconvert_exporter": "python",
   "pygments_lexer": "ipython3",
   "version": "3.11.4"
  }
 },
 "nbformat": 4,
 "nbformat_minor": 2
}
