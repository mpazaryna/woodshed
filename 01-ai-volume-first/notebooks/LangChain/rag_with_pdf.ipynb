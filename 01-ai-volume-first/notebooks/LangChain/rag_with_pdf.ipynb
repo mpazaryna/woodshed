{
 "cells": [
  {
   "cell_type": "code",
   "execution_count": 1,
   "metadata": {},
   "outputs": [],
   "source": [
    "from PyPDF2 import PdfReader\n",
    "from langchain.embeddings.openai import OpenAIEmbeddings\n",
    "from langchain.text_splitter import CharacterTextSplitter\n",
    "from langchain.vectorstores import FAISS"
   ]
  },
  {
   "cell_type": "code",
   "execution_count": 2,
   "metadata": {},
   "outputs": [],
   "source": [
    "# provide the path of  pdf file/files.\n",
    "pdfreader = PdfReader('/Users/mpaz/workspace/woodshed-langchain/data/2403.05568v1.pdf')"
   ]
  },
  {
   "cell_type": "code",
   "execution_count": 3,
   "metadata": {},
   "outputs": [],
   "source": [
    "from typing_extensions import Concatenate\n",
    "# read text from pdf\n",
    "raw_text = ''\n",
    "for i, page in enumerate(pdfreader.pages):\n",
    "    content = page.extract_text()\n",
    "    if content:\n",
    "        raw_text += content"
   ]
  },
  {
   "cell_type": "code",
   "execution_count": 4,
   "metadata": {},
   "outputs": [
    {
     "data": {
      "text/plain": [
       "'* corresponding author - jkim72@kent.edu  Revolutionizing Mental Health Care through \\nLangChain: A Journey with a Large Language \\nModel\\nAditi Singh  \\n Computer Science   \\n Cleveland State University   \\n a.singh22@csuohio.edu  Abul Ehtesham   \\nThe Davey Tree Expert \\nCompany   \\nabul.ehtesham@davey.com  Saifuddin Mahmud  \\nComputer Science & \\nInformation Systems   \\n Bradley University  \\nsmahmud@bradley.edu   Jong -Hoon Kim * \\n Computer Science,  \\nKent State University,  \\njkim72@kent.edu  \\nAbstract— Mental health challenges are on the rise in our \\nmodern society, and the imperative to address mental disorders, \\nespecially regarding anxiety, depression, and suicidal thoughts, \\nunderscores the need for effective interventions. This paper \\ndelves into the ap plication of recent advancements in pretrained \\ncontextualized language models to introduce MindGuide, an \\ninnovative chatbot serving as a mental health assistant for \\nindividuals seeking guidance and support in these critical areas. \\nMind Guide lever ages the capabilities of LangChain  and its \\nChatModels, specifically Chat OpenAI, as the bedrock of its \\nreasoning engine. The system incorporates key features such as \\nLang Chain\\'s ChatPrompt Template, HumanMessage  Prompt \\nTemplate, ConversationBufferMemory, and LLMChain, \\ncreating an advanced solution for early detection and \\ncomprehensive support within the field of mental health. \\nAdditionally, the paper discusses the implementation of \\nStreamlit to enhance the user ex perience and interaction with \\nthe chatbot. Th is novel approach holds great promise for \\nproactive mental health intervention and assistance . \\nKeywords  —Large Language models , LangChain,  Chatbot , \\nPretrained models , Mental health , Mental health support . \\nI. INTRODUCTION  \\nThe issue of mental health is an international situation, \\naffecting people in each particularly developed nations and \\nemerging markets. According to the World Health \\nOrganization\\'s Mental Health Action Plan (2013 -2020), it\\'s far \\nestimated that around one in four humans international face  \\nnumerous kinds of mental disorders. This statistic underscores \\nthe vast nature of mental health demanding situations \\nthroughout extraordinary demographic businesses and areas.  \\nHowever, what makes this situation even extra complex is \\nthe concerning truth that three  out of e ach four  people dealing \\nwith severe intellectual disorders do no longer have get entry \\nto the necessary remedy they require. This remedy gap \\nintensifies the weight of intellectual health troubles, leaving a \\nsizable part of the populace without  the assist and care needed \\nto efficiently address their intellectual health issues.  \\nFurthermore, periods like the recent global pandemic, the \\neffect of mental  health issues becomes even more said. The \\nCOVID -19 pandemic, in particular, has highlighted how \\npublic health crises can extensively have an effect on mental \\nproperly -being. During such hard instances, a widespread part \\nof the population faces extended pr oblems in having access to \\nmental fitness professionals. This emphasizes the urgent want \\nfor progressed intellectual health offerings and support \\nstructures. It underscores the urgen cy of addressing the mental \\nhealth disaster and developing complete answers to make \\ncertain that people global have the means to successfully deal \\nwith their mental fitness challenges. . In studies [1], it\\'s pretty clear that there\\'s a deep connection \\nbetween mental troubles and the chances of someone taking \\ntheir own life. And when you look at the big picture, it\\'s quite \\nshocking - nearly a million people across the globe end their \\nlives every year, especially the young ones, making it the \\nsecond biggest reason for their passing . It\\'s intriguing that \\nwhen someone attempts suicide, they often grapple with \\nmental challenges. It\\'s like shifting from struggling with \\ndifficult thoughts to consi dering ending everything. This shift \\nis observable in how people express themselves and \\ninteract [2]. \\nOne practical approach to addressing mental illness and \\npreventing suicidal ideation is early identification. Recent \\nadvancements in deep learning have facilitated the \\ndevelopment of effective early detection methods [3]. A \\nnotable trend in natural language processing (NLP)  involves \\nthe use of contextualized pretrained language models  [4], \\nwhich have garnered substantial attention for their \\neffectiveness in various text processing tasks.  \\nThis paper delves into the application of these recent \\nadvancements in pretrained contextualized large language \\nmodels to introduce MindGuide , an innovative chatbot \\ndesigned to function as a mental health assistant for \\nindividuals in need of guidance and support in these critical \\nareas. MindGuide  relies on the capabilities of LangChain  and \\nits ChatModels  [5], specifically Chat OpenAI  [6], as the \\nfoundation of its reasoning engine. The system incorporates \\nkey components such as LangChain’s  ChatPrompt Template  \\n[7], HumanMessage , PromptTemplate, ConversationBuffer  \\nMemory, and LLMChain  [8], creating an advanced solution \\nfor early detection and compre hensive support within the field \\nof mental health. Additionally, the paper discusses the \\nimplementation of Streamlit to enhance the user experience \\nand interaction with the chatbot.  \\nThe remainder of the paper is arranged accordingly. In \\nSection II, LangChain and its important components  are \\nintroduced. T he proposed methodology for developing the \\nwhole architecture  is described  in Section III . Section IV \\nprovides an overview of Streamlit. Section V provides an \\nillustration of sequential interaction of MindGuide chatbot \\nand human. The conclusion is drawn in Section V.  \\nII. LANGCHAIN  \\nLangChain , with its open -source essence, emerges as a \\npromising solution, aiming to simplify the complex process of \\ndeveloping applications powered by large language models \\n(LLMs) . This framework though the rapid delivery of building \\nblocks and pre -built chains for building large language model \\napplications shows the easy way developers can do it . LangChain helps us to unlock the ability to harness the \\nLLM’s immense potential in tasks such as document analysis, \\nchatbot development, code analysis, and countless other \\napplications. Whether your desire is to unlock deeper natural \\nlanguage understanding , enhance data, or circumvent \\nlanguage barriers through translation, LangChain is ready to \\nprovide the tools and programming support you need to do \\nwithout it that it is not only difficult but also fresh for you . Its \\ncore functionalities encompass:  \\n1. Context -Aware Capabilities: LangChain facilitates the \\ndevelopment of applications that are inherently \\ncontext -aware. This means that these applications can \\nconnect to a language model and draw from various \\nsources of context, such as prompt instructions, a  few-\\nshot examples, or existing content, to ground their \\nresponses effectively.  \\n2. Reasoning Abilities: LangChain equips applications \\nwith the capacity to reason effectively. By relying on a \\nlanguage model, these applications can make informed \\ndecisions about how to respond based on the provided \\ncontext and determine the appropriate acti ons to take.  \\nLangChain offers several key value propositions:  \\nModular Components: It provides abstractions that \\nsimplify working with language models, along with a \\ncomprehensive collection of implementations for each \\nabstraction. These components are designed to be modular \\nand user -friendly, making them useful whethe r you are \\nutilizing the entire LangChain framework or not.  \\nOff-the-Shelf Chains: LangChain offers pre -configured \\nchains, which are structured assemblies of components \\ntailored to accomplish specific high -level tasks. These pre -\\ndefined chains streamline the initial setup process and serve as \\nan ideal starting point  for your projects. The MindGuide Bot \\nuses below components from LangChain . \\nA. ChatModel  \\nWithin LangChain, a ChatModel is a specific kind of \\nlanguage model crafted to manage conversational \\ninteractions. Unlike traditional language models that take one \\nstring as input and generate a single string as output, \\nChatModels operate with a list of mes sages as input, \\ngenerating a message as output.  \\nEach message in the list has two parts: the content and the \\nrole. The content is the actual text or substance of the message, \\nwhile the role denotes the role or source of the message (such \\nas \"User,\" \"Assistant,\" \"System,\" etc.).  \\nThis approach with ChatModels opens the door to more \\ndynamic and interactive conversations with the language \\nmodel. It empowers the creation of chatbot applications, \\ncustomer support systems, or any other application involving \\nmulti -turn conversations. We utilized the ChatOpenAI \\nChatModel to create MindGuide chatbots specifically \\ndesigned to function as mental health therapists. In our \\ninteraction with OpenAI, we opted for an OpenAI API key to \\nengage with the ChatGpt3 turbo model and utilized a \\ntemperature value of 0.5. The steps to create an OpenAI API \\nkey are outlined [ 9].  B. Message  \\nIn the context of LangChain, messages  [10] refer to a list of \\nmessages that are used as input when interacting with a \\nChatModel. Each message in the list represents a specific turn \\nor exchange in a conversation.  Each message in the messages \\nlist typically consists of two components:  \\n• content: This represents the actual text or content of \\nthe message. It can be a user query, a system \\ninstruction, or any other relevant information.  \\n• role: This represents the role or source of the \\nmessage. It defines who is speaking or generating \\nthe message. Common roles include \"User\", \\n\"Assistant\", \"System\", or any other custom role you \\ndefine . \\nThe chat model interface is based around messages rather \\nthan raw text. The types of messages supported in LangChain \\nare Systen Message, HumanMessage, and AIMessage . \\nSystemMessage  is the ChatMessage coming from the system  \\nin its LangChain template  as illustrated in Figure 1. Human \\nMessage  is a ChatMessage coming from a human/user.  \\nAIMessage is a ChatMessage  coming from an AI/assistant as \\nillustrated in Figure 2 .  \\n \\n                   Figure 1. A System Message illustration   You are a compassionate and experienced mental \\nhealth therapist with a proven track record of \\nhelping patients overcome anxiety and other mental \\nhealth challenges. Your primary objective is to \\nsupport the patient in addressing their concerns \\nand guiding th em towards positive change. In this \\ninteractive therapy session, you will engage with \\nthe patient by asking open -ended questions, \\nactively listening to their responses, and providing \\nempathetic feedback. Your approach is \\ncollaborative, and you strive to cr eate a safe and \\nnon-judgmental space for the patient to share their \\nthoughts and feelings.  \\nAs the patient shares their struggles, you will \\nprovide insightful guidance and evidence -based \\nstrategies tailored to their unique needs. You may \\nalso offer practical exercises or resources to help \\nthem manage their symptoms and improve their \\nmental wellbe ing. When necessary, you will gently \\nredirect the conversation back to the patient\\'s \\nprimary concerns related to anxiety, mental health, \\nor family issues. This ensures that each session is \\nproductive and focused on addressing the most \\npressing issues. Thro ughout the session, you \\nremain mindful of the patient\\'s emotional state and \\nadjust your approach accordingly.  \\nYou recognize that everyone\\'s journey is \\ndifferent, and that progress can be incremental.  \\nBy building trust and fostering a strong \\ntherapeutic relationship, you empower the patient \\nto take ownership of their growth and development. \\nAt the end of the session, you will summarize key \\npoints from your discussion, highlighting the \\npatient\\'s strength s and areas for improvement.  \\nTogether, you will set achievable goals for future \\nsessions, reinforcing a sense of hope and \\nmotivation. Your ultimate goal is to equip the \\npatient with the tools and skills needed to navigate \\nlife\\'s challenges with confidence and resilience .  \\nFigure 2. An AIMessage illustration  \\nC. Prompt Template  \\nPrompt templates  [10] allow you to structure  input for LLMs. \\nThey provide a convenient way to format user inputs and \\nprovide instructions to generate responses. Prompt templates \\nhelp ensure that the LLM understands the  desired context and \\nproduces relevant outputs.  \\nThe prompt template classes in LangChain  are built to \\nmake constructing prompts with dynamic inputs easier. Of \\nthese classes, the simplest is the PromptTemplate.  \\nD. Chain  \\nChains  [11] in LangChain refer to the combination of \\nmultiple components to achieve specific tasks. They provide \\na structured and modular approach to building language \\nmodel applications. By combining different components, you \\ncan create chains that address various u se cases and \\nrequirements.  Here are some advantages of using chains:  \\n• Modularity: Chains allow you to break down \\ncomplex tasks into smaller, manageable \\ncomponents. Each component can be developed and \\ntested independently, making it easier to maintain \\nand update the application.  \\n• Simplification: By combining components into a \\nchain, you can simplify the overall implementation \\nof your application. Chains abstract away the \\ncomplexity of working with individual components, \\nproviding a higher -level interface for developers.  \\n• Debugging: When an issue arises in your \\napplication, chains can help pinpoint the \\nproblematic component. By isolating the chain and \\ntesting each component individually, you can \\nidentify and troubleshoot any errors or unexpected \\nbehavior . \\n• Maintenance: Chains make it easier to update or \\nreplace specific components without affecting the \\nentire application. If a new version of a component \\nbecomes available or if you want to switch to a \\ndiffer.  \\nTo build a chain, you simply combine the desired components \\nin the order they should be executed. Each component in the \\nchain takes the output of the previous component as input, \\nallowing for a seamless flow of data and interaction with the \\nlanguage model.  \\nE. Memory  \\nThe ability to remember prior exchanges conversation is \\nreferred to as memory  [12]. LangChain includes several \\nprograms for increasing system memory. These utilities can \\nbe used independently or as a part of a chain.  We call this \\nability to store information about past interactions \"memory\". \\nLangChain provides a lot of utilities for adding memory to a system. These utilities can be used by themselves or \\nincorporated seamlessly into a chain.  \\nA memory system must support two fundamental \\nactions: reading and writing. Remember that each chain has \\nsome fundamental execution mechanism that requires \\nspecific inputs. Some of these inputs are provided directly by \\nthe user, while others may be retrieve d from memory. In a \\nsingle run, a chain will interact with its memory system twice.  \\n1. A chain will READ from its memory system and \\naugment the user inputs AFTER receiving the initial \\nuser inputs but BEFORE performing the core logic . \\n2. After running the basic logic but before providing the \\nsolution, a chain will WRITE the current run\\'s inputs \\nand outputs to memory so that they may be referred \\nto in subsequent runs.  \\nAny memory system\\'s two primary design decisions are:  \\n1. How state is stored ?  \\nStoring: List of chat messages: A history of all chat \\nexchanges is behind each memory. Even if not all of \\nthese are immediately used, they must be preserved \\nin some manner. A series of integrations for storing \\nthese conversation messages, ranging from in -\\nmemory lists to persistent databases, is a significant \\ncomponent of the LangChain memory module.  \\n2. How state is queried  ? \\nQuerying: Data structures and algorithms on top of \\nchat messages: Keeping track of chat messages is a \\nsimple task. What is less obvious are the data \\nstructures and algorithms built on top of chat \\nconversations to provide the most usable view of \\nthose chats . \\nA simple memory system may only return the most \\nrecent messages on each iteration. A slightly more \\ncomplicated memory system may return a brief summary of \\nthe last K messages. A more complex system might extract \\nentities from stored messages and only retur n information \\nabout entities that have been referenced in the current run.  \\nThere are numerous sorts of memories. Each has its own set \\nof parameters and return types and is helpful in a variety of \\nsituations.  \\nMemory Types:  \\n• ConversationBufferMemory  allows for saving \\nmessages and then extracts the messages in a \\nvariable.  \\n• ConversationBufferWindowMemory  keeps a list of \\nthe interactions of the conversation over time. It only \\nuses the  last K interactions. This can be useful for \\nkeeping a sliding window of the most recent \\ninteractions, so the buffer does not get too large . \\nThe MindGuide chatbot  uses conversation buffer memory.  \\nThis memory allows for storing messages and then extracts \\nthe messages in a variable.  \\nIII. ARCHITETURE  \\nIn crafting the architecture of the MindGuide app, each \\nstep is meticulously designed to create a seamless and \\neffective user experience for those seeking mental health \\nsupport.  The user interface, built on Streamlit, sets the tone \\nwith a friendly and safe welcome. Users can jump in by typing Welcome! to your therapy session. I\\'m here to listen, \\nsupport, and guide you through any mental health \\nchallenges or concerns you may have. Please feel free \\nto share what\\'s on your mind, and we\\'ll work together \\nto address your needs. Remember, this is a safe and \\nconfidential space for you to express y ourself. Let\\'s \\nbegin when you\\'re ready . their mental health questions, kicking off a series of \\ninteractions with the LangChain framework. This is where the \\nmagic happens – LangChain acts as the brain behind the \\nchatbot, working through various components like chat \\nmessage templates and a memory concept to create a \\npersonalized and responsive support system.  Each step is \\nbroken down.  \\nStep 1.  User Interface:  Developed using the Streamlit \\nframework, the user interface welcomes users with a \\nmessage explaining the role of the chatbot in providing \\nmental health support. It assures users of a safe and \\nconfidential space to express their concerns .  \\nStep 2.  User Input - Prompt:  Users can input mental health -\\nrelated questions or seek advice by typing their queries \\ninto the input box integrated into the Streamlit interface . \\nStep 3.  Data Transfer to LangChain : Implement the \\nfunctionality that sends the user\\'s input (question) as a \\nchat prompt template to the LangChain framework. This \\ninput serves as the \"human message prompt\" template . \\nStep 4.  LangChain  Framework:  In this phase, the LangChain \\nframework serves as the backbone of the chatbot, where \\nall the foundational components and building blocks are \\nmeticulously orchestrated. Here\\'s a deeper dive into the \\ncritical elements of LangChain Processing : \\n• ChatMessage and Prompt Templates:  Within \\nLangChain, the chatbot\\'s core communication \\ninfrastructure is established by  creating  \\nChatMessage and prompt templates for optimal \\nchatbot engagement.  \\n• LLMChain and LLM Model Interaction:  To \\nfacilitate interactions with the large language \\nmodel (LLM), a specialized component called \\nLLMChain is constructed. The LLMChain acts \\nas a conduit for managing the flow of \\nconversation between the chatbot and the LLM \\nmodel, in this case, GPT -4. • The LLMChain handle s both the user\\'s queries \\nand the chatbot\\'s responses, allowing for a \\ndynamic and coherent conversation flow.  \\n• Chatmodel Class of LangChain : The LangChain \\nframework leverages the Chatmodel  class, a \\ncritical component for interfacing with the \\nOpenAI model (GPT -4) for making requests to \\nthe language model and processing its \\nresponses, ensuring seamless communication \\nbetween the chatbot and the AI model . \\n• Memory Concept:  To enhance the chatbot\\'s \\nconversational capabilities and provide context -\\naware responses, LangChain incorporates a \\nmemory concept that allows the chatbot to retain \\nand access information from past interactions \\nwithin a session . The memory function enhances \\nconversations by retaining user queries, \\npreferences, and contextual details, thereby \\ncontributing to a more effective and \\npersonalized interaction . This way, it tailors \\nresponses based on the user\\'s history throughout \\nthe session . \\nStep 5.  Utilize the user\\'s question as input to construct a \\nchain of prompts that the large language model (in this \\ncase, GPT -4) will process.  \\nStep 6.  Model Response:  Dispatch the constructed input \\nchain to the GPT -4 model for natural language \\nunderstanding and generation.  The GPT -4 model \\ngenerates a response based on the input and context.  \\nStep 7.  Response to Streamlit:  Receive the response \\ngenerated by the GPT -4 model and transmit it back to \\nthe Streamlit framework for display to the user.  \\nStep 8.  User Response Delivery:  Present the model -\\ngenerated response to the user, thereby delivering the \\nmental health advice or information they sought .\\n \\nFigure 3. MindGuide Chatbot Architecture  \\n \\nIV. STREAM LIT \\nStreamlit  [13] is a faster way to build and share data apps. \\nStreamlit turns data scripts into shareable web apps in \\nminutes. Streamlit is an open -source Python library that \\nsimplifies the process of designing and sharing visually \\nappealing web applications, particularly well -suited for \\napplications involving machine learning and data science.  \\nLeveraging Streamlit\\'s Python -based development approach, \\nyou can harness the power of Python to build a responsive and \\ndynamic web application. This is advantageous for developers  \\nfamiliar with Python, as it allows for quick and efficient \\ndevelopment.  \\n V. MINDGUIDE CHATB OT INTERACTION  \\nThe MindGuide Bot interaction is illustrated in Fig. 4, \\ndepicting the following key elements:  \\n• Welcome screen interface with AI message and \\nthe initial human interaction with MindGuide \\nChatbot (Fig. 4a).  \\n• MindGuide Chatbot\\'s AI response to the human \\nmessage, followed by the human\\'s mental health \\nquestion (Fig. 4b).  \\n• MindGuide Chatbot\\'s AI response to the \\nsubsequent human message, followed by another \\nmental health question from the human (Fig. 4c).  \\n• MindGuide Chatbot\\'s AI response after \\nanalyzing the latest human message (Fig. 4d).  \\n \\n   s \\n                                                         (a)      (b) \\n      \\n                                                         (c)      (d) \\nFigure 4. Sequential Interaction with MindGuide Chatbot - (a) Welcome screen and initial AI message, (b) AI response to the first human message and \\nmental health question, (c) Subsequent AI response and continued interaction with another human mental health question , (d) AI response after analyzing the \\nlatest human message.  \\nVI. CONCLUSION  \\nThis paper employs the OpenAI  chat model GPT -4 with a \\ntemperature setting of 0.5 to serve as an initial therapist, \\nproviding support for patients dealing with mental health \\nissues such as depression and anxiety. MindGuide relies on \\nthe ChatOpenAI model from LangChain as its foundation , incorporating innovative features like ChatPrompt Template, \\nHuman Message Prompt Template, Conversation Buffer \\nMemory, and LLMChain to proactively identify issues and \\ndeliver comprehensive assistance. In the next phase, we plan \\nto enhance this chatbot fu rther by implementing Retrieval -\\nAugmented Generation (RAG) and incorporating embedding \\nvectors for frequently asked questions related to mental health . \\nREFERENCES  \\n[1] K. Windfuhr and N. Kapur, \"Suicide and mental illness: a clinical \\nreview of 15 years findings from the UK National Confidential Inquiry \\ninto Suicide,\" British medical bulletin, vol. 100, pp. 101 -121, 2011.  \\n[2] M. D . Choudhury, E. Kiciman, M. Dredze, G. Coppersmith, and M. \\nKumar, \"Discovering shifts to suicidal ideation from mental health \\ncontent in social media,\" in Proceedings of the 2016 CHI Conference \\non Human Factors in Computing Systems , 2016, pp. 2098 -2110 . \\n[3] S. Ji, C. P. Yu, S. F. Fung, S. Pan, and G. Long, \"Supervised learning \\nfor suicidal ideation detection in online user content,\" Complex, 2018.  \\n[4] LangChain, https://www.langchain.com/  (accessed Nov. 29, 202 3). \\n[5] LangChain ChatModels, https://blog.langchain.dev/chat -models/ \\n(accessed Nov. 29, 2023).  \\n[6] LangChain with OpenAI Chat Model , \\nhttps://python.langchain.com/docs/integrations/chat/openai / (accessed \\nNov. 29, 2023).  [7] LangChain’s Prompt, https://python.langchain.com/docs/modules  \\n/model_io/prompts/ (accessed Nov. 29, 2023).  \\n[8] LangChain’s Chain s, https://python.langchain.com/docs/modules  \\n/chain s (accessed Nov. 29, 2023).  \\n[9] OpenAI, https://platform.openai.com/docs/quickstart?context=python \\n(accessed Nov. 29, 2023).  \\n[10] LangChain’s Message Prompt Template,  \\nhttps://python.langchain.com/docs/modules/model_io/prompts/m essa\\nge_prompt s (accessed Nov. 29, 2023).  \\n[11] LangChain’s Large Language Model Chain,  \\nhttps://python.langchain.com/docs/modules/chains/foundational/llm_c\\nhain (accessed Nov. 29, 2023).  \\n[12] Streamlit, https://streamlit.io/  (accessed Nov. 29, 2023).  \\n '"
      ]
     },
     "execution_count": 4,
     "metadata": {},
     "output_type": "execute_result"
    }
   ],
   "source": [
    "raw_text"
   ]
  },
  {
   "cell_type": "code",
   "execution_count": 5,
   "metadata": {},
   "outputs": [],
   "source": [
    "# We need to split the text using Character Text Split such that it sshould not increse token size\n",
    "text_splitter = CharacterTextSplitter(\n",
    "    separator = \"\\n\",\n",
    "    chunk_size = 800,\n",
    "    chunk_overlap  = 200,\n",
    "    length_function = len,\n",
    ")\n",
    "texts = text_splitter.split_text(raw_text)"
   ]
  },
  {
   "cell_type": "code",
   "execution_count": 7,
   "metadata": {},
   "outputs": [
    {
     "name": "stderr",
     "output_type": "stream",
     "text": [
      "/var/folders/0n/m62rpbbj60b2p0xcy2j637800000gn/T/ipykernel_59172/939171391.py:2: LangChainDeprecationWarning: The class `OpenAIEmbeddings` was deprecated in LangChain 0.0.9 and will be removed in 1.0. An updated version of the class exists in the :class:`~langchain-openai package and should be used instead. To use it run `pip install -U :class:`~langchain-openai` and import as `from :class:`~langchain_openai import OpenAIEmbeddings``.\n",
      "  embeddings = OpenAIEmbeddings()\n"
     ]
    }
   ],
   "source": [
    "# Download embeddings from OpenAI\n",
    "embeddings = OpenAIEmbeddings()"
   ]
  },
  {
   "cell_type": "code",
   "execution_count": 8,
   "metadata": {},
   "outputs": [],
   "source": [
    "document_search = FAISS.from_texts(texts, embeddings)"
   ]
  },
  {
   "cell_type": "code",
   "execution_count": 9,
   "metadata": {},
   "outputs": [
    {
     "data": {
      "text/plain": [
       "<langchain_community.vectorstores.faiss.FAISS at 0x1196afee0>"
      ]
     },
     "execution_count": 9,
     "metadata": {},
     "output_type": "execute_result"
    }
   ],
   "source": [
    "document_search"
   ]
  },
  {
   "cell_type": "code",
   "execution_count": 10,
   "metadata": {},
   "outputs": [],
   "source": [
    "from langchain.chains.question_answering import load_qa_chain\n",
    "from langchain.llms import OpenAI"
   ]
  },
  {
   "cell_type": "code",
   "execution_count": 12,
   "metadata": {},
   "outputs": [],
   "source": [
    "chain = load_qa_chain(OpenAI(), chain_type=\"stuff\")"
   ]
  },
  {
   "cell_type": "code",
   "execution_count": 13,
   "metadata": {},
   "outputs": [
    {
     "name": "stderr",
     "output_type": "stream",
     "text": [
      "/var/folders/0n/m62rpbbj60b2p0xcy2j637800000gn/T/ipykernel_59172/2955920037.py:3: LangChainDeprecationWarning: The method `Chain.run` was deprecated in langchain 0.1.0 and will be removed in 1.0. Use :meth:`~invoke` instead.\n",
      "  chain.run(input_documents=docs, question=query)\n"
     ]
    },
    {
     "data": {
      "text/plain": [
       "\" The main idea of the paper is to introduce MindGuide, a chatbot designed to serve as a mental health assistant for individuals seeking guidance and support for anxiety, depression, and suicidal thoughts. The chatbot leverages the capabilities of LangChain and its ChatModels, incorporating features such as LangChain's ChatPrompt Template, ConversationBufferMemory, and LLMChain. The paper also highlights the rising need for effective interventions for mental health challenges in modern society. \""
      ]
     },
     "execution_count": 13,
     "metadata": {},
     "output_type": "execute_result"
    }
   ],
   "source": [
    "query = \"What is the main idea of the paper?\"\n",
    "docs = document_search.similarity_search(query)\n",
    "chain.run(input_documents=docs, question=query)"
   ]
  },
  {
   "cell_type": "code",
   "execution_count": 14,
   "metadata": {},
   "outputs": [
    {
     "data": {
      "text/plain": [
       "\" I don't know, I am an AI and I do not have access to current news or information. \""
      ]
     },
     "execution_count": 14,
     "metadata": {},
     "output_type": "execute_result"
    }
   ],
   "source": [
    "query = \"Who is the prime minister of the UK\"\n",
    "docs = document_search.similarity_search(query)\n",
    "chain.run(input_documents=docs, question=query)"
   ]
  }
 ],
 "metadata": {
  "kernelspec": {
   "display_name": "Python 3",
   "language": "python",
   "name": "python3"
  },
  "language_info": {
   "codemirror_mode": {
    "name": "ipython",
    "version": 3
   },
   "file_extension": ".py",
   "mimetype": "text/x-python",
   "name": "python",
   "nbconvert_exporter": "python",
   "pygments_lexer": "ipython3",
   "version": "3.10.15"
  },
  "orig_nbformat": 4
 },
 "nbformat": 4,
 "nbformat_minor": 2
}
