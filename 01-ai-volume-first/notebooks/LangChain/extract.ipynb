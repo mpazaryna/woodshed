{
 "cells": [
  {
   "cell_type": "markdown",
   "metadata": {},
   "source": [
    "# Extract examples\n",
    "\n",
    "https://ai.plainenglish.io/harnessing-the-openai-api-with-langchain-and-pydantic-for-structured-data-extraction-30e3e6966699\n",
    "\n",
    "By leveraging Langchain with Pydantic, developers and businesses alike can enhance their AI-powered applications, making them more robust and efficient. The Pydantic output parser is indeed a powerful tool that unlocks new potentials for structured data extraction from LLMs.\n"
   ]
  },
  {
   "cell_type": "code",
   "execution_count": 1,
   "metadata": {},
   "outputs": [],
   "source": [
    "inp = \"\"\"Large language models (LLMs) have demonstrated remarkable \\\n",
    "generalizability, such as understanding arbitrary entities and relations. \\\n",
    "Instruction tuning has proven effective for distilling LLMs \\\n",
    "into more cost-efficient models such as Alpaca and Vicuna. \\\n",
    "Yet such student models still trail the original LLMs by \\\n",
    "large margins in downstream applications. In this paper, \\\n",
    "we explore targeted distillation with mission-focused instruction \\\n",
    "tuning to train student models that can excel in a broad application \\\n",
    "class such as open information extraction. Using named entity \\\n",
    "recognition (NER) for case study, we show how ChatGPT can be distilled \\\n",
    "into much smaller UniversalNER models for open NER. For evaluation,\\\n",
    "we assemble the largest NER benchmark to date, comprising 43 datasets \\\n",
    "across 9 diverse domains such as biomedicine, programming, social media, \\\n",
    "law, finance. Without using any direct supervision, UniversalNER \\\n",
    "attains remarkable NER accuracy across tens of thousands of entity \\\n",
    "types, outperforming general instruction-tuned models such as Alpaca \\\n",
    "and Vicuna by over 30 absolute F1 points in average. With a tiny \\\n",
    "fraction of parameters, UniversalNER not only acquires ChatGPT's \\\n",
    "capability in recognizing arbitrary entity types, but also \\\n",
    "outperforms its NER accuracy by 7-9 absolute F1 points in average. \\\n",
    "Remarkably, UniversalNER even outperforms by a large margin \\\n",
    "state-of-the-art multi-task instruction-tuned systems such as \\\n",
    "InstructUIE, which uses supervised NER examples. \\\n",
    "We also conduct thorough ablation studies to assess the impact of \\\n",
    "various components in our distillation approach. We will release \\\n",
    "the distillation recipe, data, and UniversalNER models to facilitate \\\n",
    "future research on targeted distillation.\"\"\""
   ]
  },
  {
   "cell_type": "code",
   "execution_count": 2,
   "metadata": {},
   "outputs": [],
   "source": [
    "import openai\n",
    "from langchain.chains import create_extraction_chain\n",
    "from langchain_openai import ChatOpenAI"
   ]
  },
  {
   "cell_type": "code",
   "execution_count": 3,
   "metadata": {},
   "outputs": [
    {
     "name": "stderr",
     "output_type": "stream",
     "text": [
      "/var/folders/0n/m62rpbbj60b2p0xcy2j637800000gn/T/ipykernel_60742/165686382.py:15: LangChainDeprecationWarning: LangChain has introduced a method called `with_structured_output` thatis available on ChatModels capable of tool calling.You can read more about the method here: <https://python.langchain.com/docs/modules/model_io/chat/structured_output/>. Please follow our extraction use case documentation for more guidelineson how to do information extraction with LLMs.<https://python.langchain.com/docs/use_cases/extraction/>. If you notice other issues, please provide feedback here:<https://github.com/langchain-ai/langchain/discussions/18154>\n",
      "  chain = create_extraction_chain(schema, llm)\n"
     ]
    },
    {
     "name": "stdout",
     "output_type": "stream",
     "text": [
      "{'input': \"Large language models (LLMs) have demonstrated remarkable generalizability, such as understanding arbitrary entities and relations. Instruction tuning has proven effective for distilling LLMs into more cost-efficient models such as Alpaca and Vicuna. Yet such student models still trail the original LLMs by large margins in downstream applications. In this paper, we explore targeted distillation with mission-focused instruction tuning to train student models that can excel in a broad application class such as open information extraction. Using named entity recognition (NER) for case study, we show how ChatGPT can be distilled into much smaller UniversalNER models for open NER. For evaluation,we assemble the largest NER benchmark to date, comprising 43 datasets across 9 diverse domains such as biomedicine, programming, social media, law, finance. Without using any direct supervision, UniversalNER attains remarkable NER accuracy across tens of thousands of entity types, outperforming general instruction-tuned models such as Alpaca and Vicuna by over 30 absolute F1 points in average. With a tiny fraction of parameters, UniversalNER not only acquires ChatGPT's capability in recognizing arbitrary entity types, but also outperforms its NER accuracy by 7-9 absolute F1 points in average. Remarkably, UniversalNER even outperforms by a large margin state-of-the-art multi-task instruction-tuned systems such as InstructUIE, which uses supervised NER examples. We also conduct thorough ablation studies to assess the impact of various components in our distillation approach. We will release the distillation recipe, data, and UniversalNER models to facilitate future research on targeted distillation.\", 'text': [{'research_topic': 'Large language models', 'finding': 'demonstrated remarkable generalizability'}, {'research_topic': 'Instruction tuning', 'finding': 'proven effective for distilling LLMs into more cost-efficient models such as Alpaca and Vicuna'}, {'research_topic': 'Student models', 'finding': 'trail the original LLMs by large margins in downstream applications'}, {'research_topic': 'Targeted distillation with mission-focused instruction tuning', 'finding': 'train student models that can excel in a broad application class such as open information extraction'}, {'research_topic': 'Named entity recognition (NER)', 'finding': 'show how ChatGPT can be distilled into much smaller UniversalNER models for open NER'}, {'research_topic': 'UniversalNER', 'finding': \"attains remarkable NER accuracy across tens of thousands of entity types, outperforming general instruction-tuned models such as Alpaca and Vicuna by over 30 absolute F1 points in average. With a tiny fraction of parameters, UniversalNER not only acquires ChatGPT's capability in recognizing arbitrary entity types, but also outperforms its NER accuracy by 7-9 absolute F1 points in average. Remarkably, UniversalNER even outperforms by a large margin state-of-the-art multi-task instruction-tuned systems such as InstructUIE, which uses supervised NER examples\"}]}\n"
     ]
    }
   ],
   "source": [
    "# Extraction using OpenAI functions\n",
    "# Schema which will be filled using extracted information\n",
    "\n",
    "schema = {\n",
    "    \"properties\": {\n",
    "        \"research_topic\": {\"type\": \"string\"},\n",
    "        \"problem_statement\": {\"type\": \"string\"},\n",
    "        \"experiment_design\": {\"type\": \"string\"},\n",
    "        \"finding\": {\"type\": \"string\"},\n",
    "    },\n",
    "    \"required\": [\"research_topic\", \"finding\"],\n",
    "}\n",
    "\n",
    "llm = ChatOpenAI(temperature=0, model=\"gpt-3.5-turbo\")\n",
    "chain = create_extraction_chain(schema, llm)\n",
    "response = chain.invoke(inp)\n",
    "print(response)\n"
   ]
  }
 ],
 "metadata": {
  "kernelspec": {
   "display_name": "autogen",
   "language": "python",
   "name": "python3"
  },
  "language_info": {
   "codemirror_mode": {
    "name": "ipython",
    "version": 3
   },
   "file_extension": ".py",
   "mimetype": "text/x-python",
   "name": "python",
   "nbconvert_exporter": "python",
   "pygments_lexer": "ipython3",
   "version": "3.10.15"
  }
 },
 "nbformat": 4,
 "nbformat_minor": 2
}
