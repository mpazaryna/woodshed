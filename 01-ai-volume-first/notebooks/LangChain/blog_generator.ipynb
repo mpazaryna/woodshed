{
 "cells": [
  {
   "cell_type": "code",
   "execution_count": 1,
   "metadata": {},
   "outputs": [],
   "source": [
    "# Langchain Libraires\n",
    "from langchain.llms import OpenAI\n",
    "from langchain.chat_models import ChatOpenAI\n",
    "from langchain import PromptTemplate\n",
    "from langchain import PromptTemplate, LLMChain"
   ]
  },
  {
   "cell_type": "code",
   "execution_count": 2,
   "metadata": {},
   "outputs": [
    {
     "name": "stderr",
     "output_type": "stream",
     "text": [
      "/var/folders/0n/m62rpbbj60b2p0xcy2j637800000gn/T/ipykernel_60363/715458301.py:5: LangChainDeprecationWarning: The class `ChatOpenAI` was deprecated in LangChain 0.0.10 and will be removed in 1.0. An updated version of the class exists in the :class:`~langchain-openai package and should be used instead. To use it run `pip install -U :class:`~langchain-openai` and import as `from :class:`~langchain_openai import ChatOpenAI``.\n",
      "  model = ChatOpenAI()\n"
     ]
    }
   ],
   "source": [
    "from langchain import hub\n",
    "prompt = hub.pull(\"hardkothari/blog-generator\") # find it from the hub\n",
    "\n",
    "#using OpenAI model \n",
    "model = ChatOpenAI()"
   ]
  },
  {
   "cell_type": "code",
   "execution_count": 3,
   "metadata": {},
   "outputs": [
    {
     "name": "stdout",
     "output_type": "stream",
     "text": [
      "['target_audience', 'text']\n"
     ]
    }
   ],
   "source": [
    "runnable = prompt | model\n",
    "\n",
    "print(runnable.first.input_variables)"
   ]
  },
  {
   "cell_type": "code",
   "execution_count": 4,
   "metadata": {},
   "outputs": [],
   "source": [
    "text=\"\"\"What is regenerative agriculture?\n",
    "Regenerative agriculture (RA) is an outcome-based food production system that nurtures and restores soil health, protects the climate and water resources and biodiversity, and enhances farms' productivity and profitability.\n",
    "It comprises a range of techniques, supported by innovative technologies, which can combat the challenges cause by climate change by restoring the health of soil and protecting the land’s ecosystem.  \n",
    "\n",
    "Regenerative agriculture is an evolution of conventional agriculture, reducing the use of water and other inputs, and preventing land degradation and deforestation. It protects and improves soil, biodiversity, climate resilience and water resources while making farming more productive and profitable. \n",
    "\n",
    "Goals of regenerative agriculture\n",
    "Produce enough nutritious food for the world’s population\n",
    "Help mitigate climate change by sequestering carbon in soil and reducing greenhouse gas emissions\n",
    "Restore threatened biodiversity and enhance natural habitats\n",
    "Prevent further deforestation and grassland conversion by increasing productivity on existing farmland\n",
    "Enhance farmer livelihoods.\"\"\""
   ]
  },
  {
   "cell_type": "code",
   "execution_count": 5,
   "metadata": {},
   "outputs": [
    {
     "name": "stdout",
     "output_type": "stream",
     "text": [
      "Title: Unveiling the Power of Regenerative Agriculture: A Sustainable Farming Approach\n",
      "\n",
      "Introduction:\n",
      "In the realm of agriculture, a revolutionary approach has emerged - Regenerative Agriculture (RA). This outcome-based food production system goes beyond traditional methods to nurture soil health, combat climate change, and enhance overall farm sustainability. Let's delve deeper into the essence of regenerative agriculture and its transformative impact on farmers and investors alike.\n",
      "\n",
      "What is Regenerative Agriculture?\n",
      "Regenerative agriculture is a holistic farming practice focused on restoring soil health, preserving biodiversity, and improving farm productivity and profitability. It involves a suite of techniques and innovative technologies that work in harmony with nature to address the challenges posed by climate change. By nurturing the health of the soil and protecting the land's ecosystem, regenerative agriculture aims to create a sustainable and resilient food production system.\n",
      "\n",
      "Key Principles and Practices:\n",
      "1. Soil Health Restoration: Regenerative agriculture prioritizes soil health by promoting practices such as minimal tillage, cover cropping, and crop rotation. These techniques enhance soil structure, fertility, and microbial diversity, fostering a thriving ecosystem underground.\n",
      "   \n",
      "2. Climate Resilience: By sequestering carbon in the soil and reducing greenhouse gas emissions, regenerative agriculture plays a vital role in mitigating climate change. The cultivation of diverse plant species and the preservation of natural habitats contribute to a more resilient agricultural system.\n",
      "\n",
      "3. Biodiversity Conservation: Protecting and restoring biodiversity is a core aspect of regenerative agriculture. By creating a conducive environment for diverse plant and animal species, farmers can enhance ecosystem balance and resilience.\n",
      "\n",
      "4. Water Resource Management: Through practices like water retention strategies and agroforestry, regenerative agriculture promotes efficient water use and conservation. This not only benefits the farm but also contributes to the larger water ecosystem.\n",
      "\n",
      "Benefits and Goals:\n",
      "Regenerative agriculture aligns with several key goals that are crucial for a sustainable future:\n",
      "- Ensuring food security by producing nutritious food for the growing global population\n",
      "- Combating climate change through carbon sequestration and reduced emissions\n",
      "- Restoring biodiversity and natural habitats to preserve ecosystem balance\n",
      "- Preventing deforestation and enhancing productivity on existing farmland\n",
      "- Improving farmer livelihoods by creating a more sustainable and profitable farming model\n",
      "\n",
      "In conclusion, regenerative agriculture offers a promising pathway towards a more sustainable and resilient food system. By adopting these practices, farmers and investors can not only contribute to environmental conservation but also secure long-term profitability and success. Embracing regenerative agriculture is not just a choice; it's a commitment to a healthier planet and a thriving agricultural sector.\n",
      "\n",
      "Join the regenerative agriculture movement today and be part of the positive change for a greener tomorrow!\n"
     ]
    }
   ],
   "source": [
    "output=runnable.invoke({\"target_audience\":['Farmer', 'investor'], \"text\":text})\n",
    "print(output.content)"
   ]
  }
 ],
 "metadata": {
  "kernelspec": {
   "display_name": "autogen",
   "language": "python",
   "name": "python3"
  },
  "language_info": {
   "codemirror_mode": {
    "name": "ipython",
    "version": 3
   },
   "file_extension": ".py",
   "mimetype": "text/x-python",
   "name": "python",
   "nbconvert_exporter": "python",
   "pygments_lexer": "ipython3",
   "version": "3.10.15"
  }
 },
 "nbformat": 4,
 "nbformat_minor": 2
}
