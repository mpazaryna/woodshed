{
 "cells": [
  {
   "cell_type": "code",
   "execution_count": 1,
   "metadata": {},
   "outputs": [],
   "source": [
    "# Langchain Libraires\n",
    "from langchain.llms import OpenAI\n",
    "from langchain.chat_models import ChatOpenAI\n",
    "from langchain import PromptTemplate\n",
    "from langchain import PromptTemplate, LLMChain\n",
    "from langchain import hub"
   ]
  },
  {
   "cell_type": "code",
   "execution_count": 2,
   "metadata": {},
   "outputs": [
    {
     "name": "stdout",
     "output_type": "stream",
     "text": [
      "Tell me the size, area, population and nearby attraction places of the capital city of {country} which is in {capital_city}.\n"
     ]
    }
   ],
   "source": [
    "from langchain import PromptTemplate\n",
    "template = \"Tell me the size, area, population and nearby attraction places of the capital city of {country} which is in {capital_city}.\"\n",
    "\n",
    "prompt = PromptTemplate(\n",
    "    input_variables=[\"country\", \"capital_city\"],\n",
    "    template=template\n",
    ")\n",
    "\n",
    "print(prompt.template)"
   ]
  },
  {
   "cell_type": "code",
   "execution_count": 3,
   "metadata": {},
   "outputs": [
    {
     "data": {
      "text/plain": [
       "'https://smith.langchain.com/prompts/capital-city-info/e85cc314?organizationId=7ee11ef8-9b08-4ce8-9115-3b29dcdab1a3'"
      ]
     },
     "execution_count": 3,
     "metadata": {},
     "output_type": "execute_result"
    }
   ],
   "source": [
    "from langchain import hub\n",
    "hub.push(\"paz/capital-city-info\", prompt) # don't forget to provide your credentials"
   ]
  }
 ],
 "metadata": {
  "kernelspec": {
   "display_name": "autogen",
   "language": "python",
   "name": "python3"
  },
  "language_info": {
   "codemirror_mode": {
    "name": "ipython",
    "version": 3
   },
   "file_extension": ".py",
   "mimetype": "text/x-python",
   "name": "python",
   "nbconvert_exporter": "python",
   "pygments_lexer": "ipython3",
   "version": "3.10.15"
  }
 },
 "nbformat": 4,
 "nbformat_minor": 2
}
