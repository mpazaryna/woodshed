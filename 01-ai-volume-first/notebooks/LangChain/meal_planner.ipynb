{
 "cells": [
  {
   "cell_type": "markdown",
   "metadata": {},
   "source": [
    "Building a meal planner using langchain\n",
    "https://youtu.be/RvRGtuGCAMY?si=ycEplEUhL_hHN1sL\n"
   ]
  },
  {
   "cell_type": "code",
   "execution_count": 1,
   "metadata": {},
   "outputs": [
    {
     "data": {
      "text/plain": [
       "'Chicken and Pepper Stir-Fry with Steamed Rice\\n\\nIngredients:\\n- 1 cup of rice\\n- 2 chicken breasts\\n- 1 red bell pepper\\n- 1 green bell pepper\\n- Salt and pepper to taste\\n- 2 tablespoons of oil\\n- 2 cloves of garlic, minced\\n- 1 onion, sliced\\n- 2 tablespoons of soy sauce\\n\\nInstructions:\\n1. Cook the rice according to package instructions and set aside.\\n2. Cut the chicken breasts into thin strips and season with salt and pepper.\\n3. Heat the oil in a large pan or wok over medium heat. \\n4. Add the chicken to the pan and cook until it is no longer pink in the center.\\n5. Remove the chicken from the pan and set it aside.\\n6. In the same pan, add a bit more oil if needed, then add the minced garlic and sliced onion, cooking until they become fragrant and the onions are translucent.\\n7. Cut the bell peppers into thin strips and add them to the pan. Cook until they are tender.\\n8. Add the cooked chicken back into the pan with the vegetables, tossing everything together.\\n9. Pour the soy sauce over the mixture and stir well to combine.\\n10. Serve the chicken and pepper stir-fry over the cooked rice. Enjoy!'"
      ]
     },
     "execution_count": 1,
     "metadata": {},
     "output_type": "execute_result"
    }
   ],
   "source": [
    "from langchain_core.output_parsers import StrOutputParser\n",
    "from langchain_core.prompts import ChatPromptTemplate\n",
    "from langchain_openai import ChatOpenAI\n",
    "\n",
    "prompt = ChatPromptTemplate.from_template(\"Give me an example of a meal that can be made using {ingredients}\")\n",
    "model = ChatOpenAI(model=\"gpt-4\")\n",
    "output_parser = StrOutputParser()\n",
    "\n",
    "chain = prompt | model | output_parser\n",
    "chain.invoke({\"ingredients\": \"rice,chicken,peppers\"})"
   ]
  }
 ],
 "metadata": {
  "kernelspec": {
   "display_name": "Python 3",
   "language": "python",
   "name": "python3"
  },
  "language_info": {
   "codemirror_mode": {
    "name": "ipython",
    "version": 3
   },
   "file_extension": ".py",
   "mimetype": "text/x-python",
   "name": "python",
   "nbconvert_exporter": "python",
   "pygments_lexer": "ipython3",
   "version": "3.10.15"
  },
  "orig_nbformat": 4
 },
 "nbformat": 4,
 "nbformat_minor": 2
}
