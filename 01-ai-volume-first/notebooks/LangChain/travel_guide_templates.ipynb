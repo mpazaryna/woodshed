{
 "cells": [
  {
   "cell_type": "markdown",
   "metadata": {},
   "source": [
    "# Langchain Templates"
   ]
  },
  {
   "cell_type": "code",
   "execution_count": 2,
   "metadata": {},
   "outputs": [],
   "source": [
    "from langchain.prompts import ChatPromptTemplate\n",
    "from langchain.chat_models import ChatOpenAI\n",
    "\n",
    "# Initialize the ChatOpenAI model\n",
    "chat = ChatOpenAI()\n",
    "\n",
    "travel_variables = [\n",
    "    {\"city_name\": \"Paris\", \"interest\": \"Renaissance art and museums\", \"stay_duration\": \"4 days\", \"budget\": \"3000\"},\n",
    "    {\"city_name\": \"Tokyo\", \"interest\": \"modern technology and gadget shopping\", \"stay_duration\": \"1 week\", \"budget\": \"1500\"},\n",
    "    {\"city_name\": \"Cairo\", \"interest\": \"ancient pyramids and Egyptian history\", \"stay_duration\": \"3 days\", \"budget\": \"500\"},\n",
    "    {\"city_name\": \"Sydney\", \"interest\": \"coastal hikes and famous landmarks\", \"stay_duration\": \"5 days\", \"budget\": \"2500\"},\n",
    "    {\"city_name\": \"Rio de Janeiro\", \"interest\": \"vibrant street festivals and samba dancing\", \"stay_duration\": \"2 days\", \"budget\": \"800\"},\n",
    "    {\"city_name\": \"New York City\", \"interest\": \"Broadway shows and urban exploration\", \"stay_duration\": \"1 week\", \"budget\": \"2000\"},\n",
    "    {\"city_name\": \"Bangkok\", \"interest\": \"street food markets and Thai culinary experiences\", \"stay_duration\": \"3 days\", \"budget\": \"1200\"},\n",
    "    {\"city_name\": \"Venice\", \"interest\": \"gondola rides and historic architecture\", \"stay_duration\": \"4 days\", \"budget\": \"1800\"},\n",
    "    {\"city_name\": \"Cape Town\", \"interest\": \"mountain hiking and scenic coastal views\", \"stay_duration\": \"1 week\", \"budget\": \"900\"},\n",
    "    {\"city_name\": \"Beijing\", \"interest\": \"Imperial history and traditional Chinese culture\", \"stay_duration\": \"6 days\", \"budget\": \"2200\"},\n",
    "    {\"city_name\": \"Annapolis\", \"interest\": \"Sailing and casual dining\", \"stay_duration\": \"3 days\", \"budget\": \"900\"},\n",
    "    {\"city_name\": \"Knoxville, TN\", \"interest\": \"Hiking, casual dining, vintage antiques\", \"stay_duration\": \"3 days\", \"budget\": \"500\"},\n",
    "     \n",
    "]\n",
    "\n",
    "def create_tourist_guide_template():\n",
    "    tourist_guide_string = \"\"\"Create a travel plan for {city_name} \\\n",
    "    for someone interested in {interest}, \\\n",
    "    staying for {stay_duration}, \\\n",
    "    and having a {budget} budget.\"\"\"\n",
    "    \n",
    "    return ChatPromptTemplate.from_template(tourist_guide_string)\n",
    "\n",
    "def get_travel_data_by_city(city_name, travel_data):\n",
    "    for item in travel_data:\n",
    "        if item[\"city_name\"].lower() == city_name.lower():\n",
    "            return item\n",
    "    return None\n",
    "\n",
    "def generate_travel_plan(city_name, travel_data, chat_model):\n",
    "    template = create_tourist_guide_template()\n",
    "    city_data = get_travel_data_by_city(city_name, travel_data)\n",
    "    \n",
    "    if city_data is None:\n",
    "        return f\"No travel data found for {city_name}\"\n",
    "    \n",
    "    tourist_guide_messages = template.format_messages(\n",
    "        city_name=city_data[\"city_name\"],\n",
    "        interest=city_data[\"interest\"],\n",
    "        stay_duration=city_data[\"stay_duration\"],\n",
    "        budget=city_data[\"budget\"]\n",
    "    )\n",
    "    \n",
    "    response = chat_model(tourist_guide_messages)\n",
    "    return response.content\n",
    "\n"
   ]
  },
  {
   "cell_type": "code",
   "execution_count": 3,
   "metadata": {},
   "outputs": [
    {
     "name": "stderr",
     "output_type": "stream",
     "text": [
      "/var/folders/0n/m62rpbbj60b2p0xcy2j637800000gn/T/ipykernel_59648/285914107.py:51: LangChainDeprecationWarning: The method `BaseChatModel.__call__` was deprecated in langchain-core 0.1.7 and will be removed in 1.0. Use :meth:`~invoke` instead.\n",
      "  response = chat_model(tourist_guide_messages)\n"
     ]
    },
    {
     "name": "stdout",
     "output_type": "stream",
     "text": [
      "Travel Plan for Annapolis:\n",
      "Day 1:\n",
      "- Arrive in Annapolis and check into a cozy bed and breakfast or boutique hotel in the historic downtown area. (Approximate cost: $300 for 2 nights)\n",
      "- Head to the Annapolis Maritime Museum to learn about the city's sailing history and culture. (Cost: $10)\n",
      "- Enjoy a casual dinner at a waterfront restaurant such as Boatyard Bar & Grill or Carrol's Creek Cafe. (Cost: $50)\n",
      "- Take a leisurely evening stroll along the waterfront and admire the sailboats in the harbor.\n",
      "\n",
      "Day 2:\n",
      "- Start the day with a sailing lesson or charter from one of the many sailing companies in Annapolis. (Cost: $200)\n",
      "- Have lunch at a local seafood restaurant like Middleton Tavern or McGarvey's Saloon & Oyster Bar. (Cost: $40)\n",
      "- Explore the historic streets of downtown Annapolis, including the Maryland State House and the United States Naval Academy. (Cost: Free)\n",
      "- Enjoy a sunset cruise on the Chesapeake Bay aboard a classic sailboat. (Cost: $100)\n",
      "\n",
      "Day 3:\n",
      "- Spend the morning shopping for nautical souvenirs and unique gifts at the Annapolis Market House and local boutiques. (Cost: $50)\n",
      "- Have a brunch at a charming cafe like Miss Shirley's Cafe or Iron Rooster. (Cost: $30)\n",
      "- Visit the Annapolis Maritime Museum & Park for a deeper dive into the city's maritime history. (Cost: $10)\n",
      "- Take a relaxing stroll through Quiet Waters Park or visit the William Paca House & Garden for some outdoor sightseeing. (Cost: Free)\n",
      "- Enjoy a farewell dinner at a top-rated restaurant like Osteria 177 or Vin 909 Winecafe. (Cost: $60)\n",
      "\n",
      "Total estimated cost: $800 (excluding airfare and transportation)\n",
      "This travel plan allows for a mix of sailing adventures, casual dining experiences, and cultural exploration in Annapolis while staying within a $900 budget for 3 days.\n"
     ]
    }
   ],
   "source": [
    "# Example usage\n",
    "chosen_city = \"Annapolis\"  # You can change this to any city in the travel_variables list\n",
    "travel_plan = generate_travel_plan(chosen_city, travel_variables, chat)\n",
    "print(f\"Travel Plan for {chosen_city}:\")\n",
    "print(travel_plan)"
   ]
  },
  {
   "cell_type": "code",
   "execution_count": 4,
   "metadata": {},
   "outputs": [
    {
     "name": "stdout",
     "output_type": "stream",
     "text": [
      "Travel Plan for Knoxville, TN:\n",
      "Day 1:\n",
      "- Arrive in Knoxville and check into a budget-friendly hotel or Airbnb\n",
      "- Head to Ijams Nature Center for a morning hike on their scenic trails\n",
      "- Enjoy a casual lunch at The Plaid Apron, a cozy cafe known for their fresh, locally sourced dishes\n",
      "- Spend the afternoon exploring the vintage antique shops in the Old City district\n",
      "- For dinner, head to Sweet P's Barbeque & Soul House for some delicious southern BBQ\n",
      "- Total cost: $150\n",
      "\n",
      "Day 2:\n",
      "- Start the day with a hike at House Mountain State Natural Area, offering stunning views of the surrounding area\n",
      "- Grab lunch at OliBea, a charming breakfast and brunch spot known for their creative menu\n",
      "- Spend the afternoon exploring the Knoxville Botanical Garden and Arboretum\n",
      "- For dinner, try out Tupelo Honey Cafe for some southern comfort food with a modern twist\n",
      "- Total cost: $175\n",
      "\n",
      "Day 3:\n",
      "- Visit Seven Islands State Birding Park for a morning hike and bird watching\n",
      "- Enjoy a leisurely brunch at Cafe 4, a local favorite known for their diverse menu\n",
      "- Spend the afternoon exploring Market Square, a bustling area with shops, restaurants, and live music\n",
      "- Wrap up your trip with dinner at The Tomato Head, a popular spot for fresh, vegetarian-friendly fare\n",
      "- Total cost: $175\n",
      "\n",
      "Total estimated cost for 3 days: $500\n",
      "\n",
      "Note: Prices may vary depending on individual preferences and additional activities chosen. It's always a good idea to check ahead for any entrance fees or reservations required for hiking trails or attractions.\n"
     ]
    }
   ],
   "source": [
    "# Example usage\n",
    "chosen_city = \"Knoxville, TN\"  # You can change this to any city in the travel_variables list\n",
    "travel_plan = generate_travel_plan(chosen_city, travel_variables, chat)\n",
    "print(f\"Travel Plan for {chosen_city}:\")\n",
    "print(travel_plan)"
   ]
  }
 ],
 "metadata": {
  "kernelspec": {
   "display_name": "autogen",
   "language": "python",
   "name": "python3"
  },
  "language_info": {
   "codemirror_mode": {
    "name": "ipython",
    "version": 3
   },
   "file_extension": ".py",
   "mimetype": "text/x-python",
   "name": "python",
   "nbconvert_exporter": "python",
   "pygments_lexer": "ipython3",
   "version": "3.10.15"
  }
 },
 "nbformat": 4,
 "nbformat_minor": 2
}
