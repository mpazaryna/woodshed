{
 "cells": [
  {
   "cell_type": "code",
   "execution_count": 6,
   "metadata": {},
   "outputs": [
    {
     "data": {
      "text/plain": [
       "True"
      ]
     },
     "execution_count": 6,
     "metadata": {},
     "output_type": "execute_result"
    }
   ],
   "source": [
    "from dotenv import load_dotenv, find_dotenv\n",
    "load_dotenv(find_dotenv())"
   ]
  },
  {
   "cell_type": "code",
   "execution_count": 7,
   "metadata": {},
   "outputs": [],
   "source": [
    "import os\n",
    "from supabase import create_client, Client\n",
    "\n",
    "url: str = os.environ.get(\"SUPABASE_URL\")\n",
    "key: str = os.environ.get(\"SUPABASE_KEY\")\n",
    "supabase: Client = create_client(url, key)"
   ]
  },
  {
   "cell_type": "markdown",
   "metadata": {},
   "source": [
    "## Retrieve\n",
    "\n",
    "Fetch all data from a given table.  The supabase python client is making use of the supabase api and calling it, it is not connecting directly to the database."
   ]
  },
  {
   "cell_type": "code",
   "execution_count": 8,
   "metadata": {},
   "outputs": [
    {
     "name": "stderr",
     "output_type": "stream",
     "text": [
      "2024-01-16 07:23:01,818:INFO - HTTP Request: GET https://vyrldwqayekeitkhfsor.supabase.co/rest/v1/address?select=%2A \"HTTP/1.1 200 OK\"\n"
     ]
    },
    {
     "name": "stdout",
     "output_type": "stream",
     "text": [
      "data=[{'id': 1, 'created_at': '2024-01-06T15:55:28.529102+00:00', 'address': '10 Kent Drive', 'first_name': 'Matthew', 'last_name': 'Pazaryna', 'email': 'mpazaryna@gmail.com', 'phone': '732-555-9090', 'opt_in': True}, {'id': 2, 'created_at': '2024-01-06T16:36:14.636693+00:00', 'address': '10 Kent Drive', 'first_name': 'Henry', 'last_name': 'Pazaryna', 'email': 'hpaz@gmail.com', 'phone': '733-555-9090', 'opt_in': True}, {'id': 3, 'created_at': '2024-01-06T16:46:45.072282+00:00', 'address': '10 Kent Drive', 'first_name': 'Henry', 'last_name': 'Pazaryna', 'email': 'hpaz@gmail.com', 'phone': '733-555-9090', 'opt_in': True}, {'id': 4, 'created_at': '2024-01-11T14:50:48.072125+00:00', 'address': '10 Kent Drive', 'first_name': 'Henry', 'last_name': 'Pazaryna', 'email': 'hpaz@gmail.com', 'phone': '733-555-9090', 'opt_in': True}, {'id': 5, 'created_at': '2024-01-11T14:51:04.187055+00:00', 'address': '11 Kent Drive', 'first_name': 'Henry', 'last_name': 'Pazaryna', 'email': 'hpaz@gmail.com', 'phone': '733-555-9090', 'opt_in': True}, {'id': 6, 'created_at': '2024-01-11T14:52:00.675619+00:00', 'address': '11 Kent Drive', 'first_name': 'Robert', 'last_name': 'Singer', 'email': 'hpaz@gmail.com', 'phone': '733-555-9090', 'opt_in': True}, {'id': 7, 'created_at': '2024-01-11T14:54:17.35595+00:00', 'address': '11 Kent Drive', 'first_name': 'Robert', 'last_name': 'Singer', 'email': 'hpaz@gmail.com', 'phone': '733-555-9090', 'opt_in': True}, {'id': 8, 'created_at': '2024-01-11T14:54:23.92053+00:00', 'address': '11 Kent Drive', 'first_name': 'Robert', 'last_name': 'Singer', 'email': 'hpaz@gmail.com', 'phone': '733-555-9090', 'opt_in': True}, {'id': 9, 'created_at': '2024-01-11T14:55:53.998436+00:00', 'address': '11 Kent Drive', 'first_name': 'Robert', 'last_name': 'Singer', 'email': 'hpaz@gmail.com', 'phone': '733-555-9090', 'opt_in': True}, {'id': 10, 'created_at': '2024-01-11T14:56:11.220114+00:00', 'address': '10 Kent Drive', 'first_name': 'Henry', 'last_name': 'Pazaryna', 'email': 'hpaz@gmail.com', 'phone': '733-555-9090', 'opt_in': True}, {'id': 11, 'created_at': '2024-01-11T14:56:52.295039+00:00', 'address': '11 Kent Drive', 'first_name': 'Robert', 'last_name': 'Singer', 'email': 'hpaz@gmail.com', 'phone': '733-555-9090', 'opt_in': True}, {'id': 12, 'created_at': '2024-01-11T15:08:25.712071+00:00', 'address': '11 Kent Drive', 'first_name': 'Robert', 'last_name': 'Singer', 'email': 'hpaz@gmail.com', 'phone': '733-555-9090', 'opt_in': True}, {'id': 13, 'created_at': '2024-01-11T17:52:58.37003+00:00', 'address': '11 Kent Drive', 'first_name': 'Robert', 'last_name': 'Singer', 'email': 'hpaz@gmail.com', 'phone': '733-555-9090', 'opt_in': True}, {'id': 14, 'created_at': '2024-01-11T17:53:19.128908+00:00', 'address': '11 Kent Drive', 'first_name': 'Robert', 'last_name': 'Singer', 'email': 'hpaz@gmail.com', 'phone': '733-555-9090', 'opt_in': True}, {'id': 15, 'created_at': '2024-01-11T17:53:27.248821+00:00', 'address': '12 Kent Drive', 'first_name': 'Robert', 'last_name': 'Singer', 'email': 'hpaz@gmail.com', 'phone': '733-555-9090', 'opt_in': True}, {'id': 16, 'created_at': '2024-01-11T17:54:21.626225+00:00', 'address': '12 Jupiter Street', 'first_name': 'Robert', 'last_name': 'Singer', 'email': 'hpaz@gmail.com', 'phone': '733-555-9090', 'opt_in': True}, {'id': 17, 'created_at': '2024-01-11T17:54:50.979835+00:00', 'address': '12 Jupiter Street', 'first_name': 'Robert', 'last_name': 'Singer', 'email': 'hpaz@gmail.com', 'phone': '733-555-9090', 'opt_in': True}] count=None\n"
     ]
    }
   ],
   "source": [
    "\n",
    "response = supabase.table('address').select(\"*\").execute()\n",
    "print(response)"
   ]
  }
 ],
 "metadata": {
  "kernelspec": {
   "display_name": "supabase",
   "language": "python",
   "name": "python3"
  },
  "language_info": {
   "codemirror_mode": {
    "name": "ipython",
    "version": 3
   },
   "file_extension": ".py",
   "mimetype": "text/x-python",
   "name": "python",
   "nbconvert_exporter": "python",
   "pygments_lexer": "ipython3",
   "version": "3.10.10"
  }
 },
 "nbformat": 4,
 "nbformat_minor": 2
}
